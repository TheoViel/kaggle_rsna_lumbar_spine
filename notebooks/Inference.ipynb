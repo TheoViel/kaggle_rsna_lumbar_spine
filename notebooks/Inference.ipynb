{
 "cells": [
  {
   "cell_type": "markdown",
   "metadata": {},
   "source": [
    "**About** : This notebook is used to infer models."
   ]
  },
  {
   "cell_type": "code",
   "execution_count": 1,
   "metadata": {},
   "outputs": [],
   "source": [
    "%load_ext autoreload\n",
    "%autoreload 2"
   ]
  },
  {
   "cell_type": "code",
   "execution_count": 2,
   "metadata": {},
   "outputs": [
    {
     "name": "stdout",
     "output_type": "stream",
     "text": [
      "/home/tviel/work/kaggle_rsna_lumbar_spine/src\n"
     ]
    },
    {
     "name": "stderr",
     "output_type": "stream",
     "text": [
      "/home/tviel/.local/lib/python3.10/site-packages/IPython/core/magics/osm.py:417: UserWarning: using dhist requires you to install the `pickleshare` library.\n",
      "  self.shell.db['dhist'] = compress_dhist(dhist)[-100:]\n"
     ]
    }
   ],
   "source": [
    "cd ../src/"
   ]
  },
  {
   "cell_type": "markdown",
   "metadata": {},
   "source": [
    "### Imports"
   ]
  },
  {
   "cell_type": "code",
   "execution_count": 3,
   "metadata": {},
   "outputs": [],
   "source": [
    "import os\n",
    "import gc\n",
    "import re\n",
    "import sys\n",
    "import cv2\n",
    "import glob\n",
    "import json\n",
    "import torch\n",
    "import warnings\n",
    "import numpy as np\n",
    "import pandas as pd\n",
    "import torch.nn.functional as F\n",
    "import matplotlib.pyplot as plt\n",
    "\n",
    "from tqdm.notebook import tqdm"
   ]
  },
  {
   "cell_type": "code",
   "execution_count": 4,
   "metadata": {},
   "outputs": [],
   "source": [
    "from inference.lvl1 import Config\n",
    "from inference.crop import get_crops\n",
    "\n",
    "from util.torch import load_model_weights\n",
    "from util.plots import plot_mask, add_rect\n",
    "\n",
    "from data.transforms import get_transfos\n",
    "from data.dataset import CropDataset\n",
    "\n",
    "from inference.seg import get_crops\n",
    "from inference.processing import process\n",
    "from inference.lvl1 import predict, ImageInfDataset\n",
    "\n",
    "\n",
    "from model_zoo.models import define_model\n",
    "from model_zoo.models_lvl2 import define_model as define_model_2\n",
    "from model_zoo.models_seg import define_model as define_model_seg\n",
    "from model_zoo.models_seg import convert_3d\n",
    "\n",
    "\n",
    "from params import CLASSES_SEG, MODES, LEVELS_"
   ]
  },
  {
   "cell_type": "markdown",
   "metadata": {},
   "source": [
    "### Params"
   ]
  },
  {
   "cell_type": "code",
   "execution_count": 5,
   "metadata": {},
   "outputs": [],
   "source": [
    "EVAL = False\n",
    "DEBUG = True"
   ]
  },
  {
   "cell_type": "code",
   "execution_count": 6,
   "metadata": {},
   "outputs": [],
   "source": [
    "DATA_PATH = \"../input/test_images/\"\n",
    "\n",
    "if DEBUG:\n",
    "    if EVAL:\n",
    "        DATA_PATH = \"../input/train_images/\"\n",
    "    else:\n",
    "        DATA_PATH = \"../input/debug_images/\"\n",
    "\n",
    "SAVE_FOLDER = \"../output/tmp/\""
   ]
  },
  {
   "cell_type": "code",
   "execution_count": 7,
   "metadata": {},
   "outputs": [],
   "source": [
    "BATCH_SIZE = 32\n",
    "BATCH_SIZE_2 = 512\n",
    "USE_FP16 = True\n",
    "NUM_WORKERS = 2\n",
    "\n",
    "\n",
    "FOLD = 0 if DEBUG else \"fullfit_0\"\n",
    "PLOT = DEBUG"
   ]
  },
  {
   "cell_type": "code",
   "execution_count": 8,
   "metadata": {},
   "outputs": [],
   "source": [
    "exp_folders = {\n",
    "    \"nfn\": \"../logs/2024-08-05/27/\",\n",
    "    \"scs\": \"../logs/2024-08-04/33/\",\n",
    "    \"ss\": \"../logs/2024-08-06/17/\",  # NEEDS IMPROVEMENT\n",
    "    \"ss_aux\": \"../logs/2024-08-06/17/\",\n",
    "    \"scs_crop\": \"../logs/2024-08-07/19/\",\n",
    "    \"nfn_crop\": \"../logs/2024-08-07/32/\",\n",
    "}"
   ]
  },
  {
   "cell_type": "code",
   "execution_count": 9,
   "metadata": {},
   "outputs": [
    {
     "name": "stdout",
     "output_type": "stream",
     "text": [
      "../logs/2024-08-08/1/\n",
      "{'nfn': '../logs/2024-08-05/27/', 'scs': '../logs/2024-08-04/33/', 'ss': '../logs/2024-08-06/17/', 'ss_aux': '../logs/2024-08-06/17/', 'scs_crop': '../logs/2024-08-07/19/', 'nfn_crop': '../logs/2024-08-07/32/'}\n",
      "\n"
     ]
    }
   ],
   "source": [
    "EXP_FOLDERS = {\n",
    "    \"scs\": (\"../logs/2024-08-04/33/\", [FOLD]),\n",
    "    \"nfn\": (\"../logs/2024-08-05/27/\", [FOLD]),\n",
    "    \"ss\": (\"../logs/2024-08-06/17/\", [FOLD]),\n",
    "}\n",
    "\n",
    "CROP_EXP_FOLDERS = {\n",
    "    \"scs_crop\": (\"../logs/2024-08-07/19/\", [FOLD]),\n",
    "    \"nfn_crop\": (\"../logs/2024-08-07/32/\", [FOLD]),\n",
    "}\n",
    "\n",
    "EXP_FOLDERS_2 = [\n",
    "    \"../logs/2024-08-08/1/\",\n",
    "]\n",
    "\n",
    "EXP_FOLDER_3D = \"../logs/2024-07-31/25/\"\n",
    "\n",
    "FOLDS_2 = [0, 1, 2, 3]\n",
    "if \"fullfit\" not in str(FOLD):\n",
    "    FOLDS_2 = [FOLD]\n",
    "    \n",
    "    \n",
    "for f in EXP_FOLDERS_2:\n",
    "    folders = Config(json.load(open(f + \"config.json\", 'r'))).exp_folders\n",
    "    print(f)\n",
    "    print(folders)\n",
    "    print()"
   ]
  },
  {
   "cell_type": "markdown",
   "metadata": {},
   "source": [
    "## Seg & Level 1"
   ]
  },
  {
   "cell_type": "code",
   "execution_count": 10,
   "metadata": {},
   "outputs": [
    {
     "name": "stdout",
     "output_type": "stream",
     "text": [
      "\n",
      " -> Loading encoder weights from ../logs/2024-07-31/25/resnet34d_0.pt\n",
      "\n"
     ]
    }
   ],
   "source": [
    "config_seg = Config(json.load(open(EXP_FOLDER_3D + \"config.json\", \"r\")))\n",
    "\n",
    "model_seg = define_model_seg(\n",
    "    config_seg.decoder_name,\n",
    "    config_seg.name,\n",
    "    num_classes=config_seg.num_classes,\n",
    "    num_classes_aux=config_seg.num_classes_aux,\n",
    "    increase_stride=config_seg.increase_stride,\n",
    "    use_cls=config_seg.use_cls,\n",
    "    n_channels=config_seg.n_channels,\n",
    "    use_3d=config_seg.use_3d,\n",
    "    pretrained=False,\n",
    ")\n",
    "\n",
    "model_seg = load_model_weights(model_seg, EXP_FOLDER_3D + f\"{config_seg.name}_{FOLD}.pt\")\n",
    "model_seg = model_seg.cuda()\n",
    "# model_seg = model_seg.eval()  # Hurts results ??"
   ]
  },
  {
   "cell_type": "code",
   "execution_count": 11,
   "metadata": {},
   "outputs": [
    {
     "name": "stdout",
     "output_type": "stream",
     "text": [
      "- Mode: scs\n",
      "\n",
      " -> Loading encoder weights from ../logs/2024-08-04/33/coat_lite_medium_384_0.pt\n",
      "\n",
      "- Mode: nfn\n",
      "\n",
      " -> Loading encoder weights from ../logs/2024-08-05/27/coatnet_rmlp_2_rw_384_0.pt\n",
      "\n",
      "- Mode: ss\n",
      "\n",
      " -> Loading encoder weights from ../logs/2024-08-06/17/coat_lite_medium_0.pt\n",
      "\n"
     ]
    }
   ],
   "source": [
    "models = {}\n",
    "for mode in EXP_FOLDERS:\n",
    "    exp_folder, folds = EXP_FOLDERS[mode]\n",
    "    print(f'- Mode: {mode}')\n",
    "    config = Config(json.load(open(exp_folder + \"config.json\", \"r\")))\n",
    "\n",
    "    models_ = []\n",
    "    for fold in folds:\n",
    "        model = define_model(\n",
    "            config.name,\n",
    "            drop_rate=config.drop_rate,\n",
    "            drop_path_rate=config.drop_path_rate,\n",
    "            use_gem=config.use_gem,\n",
    "            num_classes=config.num_classes,\n",
    "            num_classes_aux=config.num_classes_aux,\n",
    "            n_channels=config.n_channels,\n",
    "            reduce_stride=config.reduce_stride,\n",
    "            increase_stride=config.increase_stride if hasattr(config, \"increase_stride\") else False,\n",
    "            pretrained=False,\n",
    "        )\n",
    "        model = model.cuda().eval()\n",
    "\n",
    "        weights = exp_folder + f\"{config.name}_{fold}.pt\"\n",
    "        model = load_model_weights(model, weights, verbose=config.local_rank == 0)\n",
    "        models_.append(model)\n",
    "        \n",
    "    models[mode] = models_"
   ]
  },
  {
   "cell_type": "code",
   "execution_count": 12,
   "metadata": {},
   "outputs": [],
   "source": [
    "PLOT = False"
   ]
  },
  {
   "cell_type": "code",
   "execution_count": 13,
   "metadata": {},
   "outputs": [
    {
     "data": {
      "application/vnd.jupyter.widget-view+json": {
       "model_id": "52621f26f09b40309f4128dfdf502985",
       "version_major": 2,
       "version_minor": 0
      },
      "text/plain": [
       "  0%|          | 0/1 [00:00<?, ?it/s]"
      ]
     },
     "metadata": {},
     "output_type": "display_data"
    },
    {
     "name": "stdout",
     "output_type": "stream",
     "text": [
      "\n",
      "-> study 4003253 - Series 1054713880\n",
      "- Orient Sagittal - Weighting T1\n",
      "Mask delta: 0.0\n",
      "Img delta: 0.0\n",
      "\n",
      "-> study 4003253 - Series 2448190387\n",
      "- Orient Axial - Weighting T2\n",
      "\n",
      "-> study 4003253 - Series 702807833\n",
      "- Orient Sagittal - Weighting T2\n",
      "Mask delta: 0.0\n",
      "Img delta: 0.0\n"
     ]
    }
   ],
   "source": [
    "# %%time\n",
    "\n",
    "dfs = []\n",
    "for study in tqdm(sorted(os.listdir(DATA_PATH))):\n",
    "    for series in sorted(os.listdir(DATA_PATH + study)):\n",
    "        print(\"\\n-> study\", study, '- Series', series)\n",
    "\n",
    "        imgs, orient, weighting = process(\n",
    "            study,\n",
    "            series,\n",
    "            data_path=DATA_PATH,\n",
    "            on_gpu=False,\n",
    "        )\n",
    "\n",
    "        dfs.append({\n",
    "            \"study_id\": study,\n",
    "            \"series_id\": series,\n",
    "            \"orient\": orient,\n",
    "            \"weighting\": weighting,\n",
    "        })\n",
    "\n",
    "        print(f'- Orient {orient} - Weighting {weighting}')\n",
    "        \n",
    "        # Segmentation\n",
    "        if orient == \"Sagittal\":\n",
    "            x = imgs[:, ::-1].copy().astype(np.float32)\n",
    "\n",
    "            with torch.inference_mode():\n",
    "                x = torch.from_numpy(x).cuda()\n",
    "                x = F.interpolate(\n",
    "                    x.unsqueeze(0).unsqueeze(0),\n",
    "                    config_seg.img_size,\n",
    "                    mode=\"trilinear\",\n",
    "                )\n",
    "                x = (x - x.min()) / (x.max() - x.min())\n",
    "\n",
    "                mask, _ = model_seg(x)\n",
    "                mask = F.interpolate(\n",
    "                    mask,\n",
    "                    imgs.shape,\n",
    "                    mode=\"trilinear\",\n",
    "                )[0].argmax(0)\n",
    "            mask = mask.cpu().numpy()[:, ::-1].astype(np.uint8)\n",
    "\n",
    "            if DEBUG:\n",
    "                img_ref = np.load(f\"../input/npy/{study}_{series}.npy\")\n",
    "                mask_ref = np.load(f\"../input/train_segs/{study}_{series}.npy\")\n",
    "                delta = (np.abs(mask - mask_ref) > 0).mean()\n",
    "                print('Mask delta:', delta)\n",
    "                delta = (np.abs(imgs - img_ref) > 0).mean()\n",
    "                print('Img delta:', delta)\n",
    "\n",
    "            if PLOT:\n",
    "                f = len(imgs) // 2\n",
    "                plt.figure(figsize=(4, 4))\n",
    "                plot_mask(imgs[f], mask[f])\n",
    "                plt.show()\n",
    "\n",
    "            # Cropping\n",
    "            disk_crops = {}        \n",
    "            for disk in CLASSES_SEG[5:]:\n",
    "                x0, x1, y0, y1, z0, z1 = get_crops(mask, disk=disk)\n",
    "                disk_crops[disk] = (x0, x1, y0, y1, z0, z1)\n",
    "                \n",
    "                img_crop = imgs[x0: x1, y0:y1, z0:z1]\n",
    "                # mask_crop = mask[x0: x1, y0:y1, z0:z1]\n",
    "                \n",
    "                d = re.sub('/', '_', disk.lower())\n",
    "                np.save(SAVE_FOLDER + f'{study}_{series}_{d}.npy', img_crop.copy())\n",
    "\n",
    "\n",
    "            if PLOT:\n",
    "                plt.figure(figsize=(8, 8))\n",
    "                plot_mask(imgs[f], mask[f])\n",
    "\n",
    "                for d, disk in enumerate(disk_crops):\n",
    "                    x0, x1, y0, y1, z0, z1 = disk_crops[disk]\n",
    "                    add_rect(x0, x1, y0, y1, z0, z1, f, col=\"skyblue\")\n",
    "                    plt.text(10, (d + 1) * 20, f'{disk} disk center frame: {int((x1 + x0) / 2)}', color=\"skyblue\")\n",
    "                plt.show()\n",
    "\n",
    "        # Cls\n",
    "        mode = MODES[weighting + \"_\" + orient]\n",
    "        exp_folder, models_list = EXP_FOLDERS[mode][0], models[mode]\n",
    "        \n",
    "        config = Config(json.load(open(exp_folder + \"config.json\", \"r\")))\n",
    "\n",
    "        imgs = (imgs - imgs.min()) / (imgs.max() - imgs.min()) * 255\n",
    "        imgs = imgs.astype(np.uint8)\n",
    "\n",
    "        transforms = get_transfos(augment=False, resize=config.resize, crop=config.crop)\n",
    "        dataset = ImageInfDataset(\n",
    "            imgs,\n",
    "            transforms=transforms,\n",
    "            frames_chanel=config.frames_chanel if hasattr(config, \"frames_chanel\") else 0,\n",
    "            n_frames=config.n_frames if hasattr(config, \"n_frames\") else 1,\n",
    "            stride=config.stride if hasattr(config, \"stride\") else 1,\n",
    "        )\n",
    "\n",
    "        preds = []\n",
    "        for model in models_list:\n",
    "            pred, pred_aux = predict(\n",
    "                model,\n",
    "                dataset,\n",
    "                config.loss_config,\n",
    "                batch_size=BATCH_SIZE,\n",
    "                use_fp16=USE_FP16,\n",
    "                num_workers=NUM_WORKERS,\n",
    "            )\n",
    "            preds.append(pred)\n",
    "        preds = np.mean(preds, 0)\n",
    "\n",
    "        if PLOT:\n",
    "            plt.figure(figsize=(8, 5))\n",
    "            plt.plot(preds[:, :, 0])\n",
    "            plt.show()\n",
    "\n",
    "        np.save(SAVE_FOLDER + f\"{study}_{series}_{mode}.npy\", preds)\n",
    "\n",
    "        # break\n",
    "    break\n",
    "\n",
    "# df = pd.concat(dfs, ignore_index=True)\n",
    "# df = df.groupby(['study', 'series']).max().reset_index()\n",
    "\n",
    "# del model_seg, models, imgs, x, pred, seg, dataset\n",
    "# torch.cuda.empty_cache()\n",
    "# gc.collect()"
   ]
  },
  {
   "cell_type": "code",
   "execution_count": 14,
   "metadata": {},
   "outputs": [
    {
     "name": "stdout",
     "output_type": "stream",
     "text": [
      "-> study 4003253 - Series 1054713880\n",
      "nfn delta : 0.0\n",
      "-> study 4003253 - Series 2448190387\n",
      "ss delta : 0.0\n",
      "-> study 4003253 - Series 702807833\n",
      "scs delta : 0.0\n"
     ]
    }
   ],
   "source": [
    "if DEBUG:\n",
    "    for study in sorted(os.listdir(DATA_PATH)):\n",
    "        for series in sorted(os.listdir(DATA_PATH + study)):\n",
    "            print(\"-> study\", study, '- Series', series)\n",
    "            for mode in EXP_FOLDERS:\n",
    "                exp_folder, folds = EXP_FOLDERS[mode]\n",
    "                try:\n",
    "                    preds_ref = np.load(exp_folder + f'preds/{study}_{series}.npy')\n",
    "                except:\n",
    "                    continue\n",
    "            \n",
    "                preds = np.load(SAVE_FOLDER + f'{study}_{series}_{mode}.npy')\n",
    "\n",
    "                assert preds.shape == preds_ref.shape\n",
    "\n",
    "                delta = ((preds - preds_ref) ** 2).max()\n",
    "                print(f\"{mode} delta :\", delta)"
   ]
  },
  {
   "cell_type": "markdown",
   "metadata": {},
   "source": [
    "## Crop models"
   ]
  },
  {
   "cell_type": "code",
   "execution_count": 21,
   "metadata": {},
   "outputs": [],
   "source": [
    "df = pd.DataFrame(dfs)\n",
    "\n",
    "df['mode'] = (df[\"weighting\"] + \"_\" + df[\"orient\"]).map(MODES) + \"_crop\"\n",
    "df['target'] = 0\n",
    "df['coords']= 0\n",
    "\n",
    "df['level'] = [LEVELS_ for _ in range(len(df))]\n",
    "df = df.explode('level').reset_index(drop=True)\n",
    "df['img_path'] = SAVE_FOLDER + df['study_id'] + \"_\" + df['series_id'] + \"_\" + df['level'] + \".npy\""
   ]
  },
  {
   "cell_type": "code",
   "execution_count": 22,
   "metadata": {},
   "outputs": [
    {
     "name": "stdout",
     "output_type": "stream",
     "text": [
      "Crop 4003253_1054713880_l1_l2 delta:\t 0.0\n",
      "Crop 4003253_1054713880_l2_l3 delta:\t 0.0\n",
      "Crop 4003253_1054713880_l3_l4 delta:\t 0.0\n",
      "Crop 4003253_1054713880_l4_l5 delta:\t 0.0\n",
      "Crop 4003253_1054713880_l5_s1 delta:\t 0.0\n",
      "Crop 4003253_702807833_l1_l2 delta:\t 0.0\n",
      "Crop 4003253_702807833_l2_l3 delta:\t 0.0\n",
      "Crop 4003253_702807833_l3_l4 delta:\t 0.0\n",
      "Crop 4003253_702807833_l4_l5 delta:\t 0.0\n",
      "Crop 4003253_702807833_l5_s1 delta:\t 0.0\n"
     ]
    }
   ],
   "source": [
    "if DEBUG:\n",
    "    df['img_path_ref'] = \"../input/crops_fix/\" + df['study_id'] + \"_\" + df['series_id'] + \"_\" + df['level'] + \".npy\"\n",
    "\n",
    "    for i in range(len(df)):\n",
    "        path_ref = df['img_path_ref'][i]\n",
    "        path = df['img_path'][i]\n",
    "\n",
    "        if os.path.exists(path_ref):\n",
    "            crop_ref = np.load(path_ref)\n",
    "            crop = np.load(path)\n",
    "\n",
    "            print(f\"Crop {path.split('/')[-1][:-4]} delta:\\t\", ((crop_ref - crop) ** 2).max())\n",
    "\n",
    "    # df['img_path'] = df['img_path_ref']"
   ]
  },
  {
   "cell_type": "code",
   "execution_count": 33,
   "metadata": {},
   "outputs": [
    {
     "data": {
      "text/plain": [
       "{'4003253_1054713880_Left_l1_l2': array([0.995   , 0.00347 , 0.001312], dtype=float16),\n",
       " '4003253_1054713880_Left_l2_l3': array([0.995   , 0.003983, 0.001121], dtype=float16),\n",
       " '4003253_1054713880_Left_l3_l4': array([0.99    , 0.008736, 0.001153], dtype=float16),\n",
       " '4003253_1054713880_Left_l4_l5': array([0.4443, 0.522 , 0.0335], dtype=float16),\n",
       " '4003253_1054713880_Left_l5_s1': array([0.9204  , 0.075   , 0.004616], dtype=float16),\n",
       " '4003253_1054713880_Right_l1_l2': array([0.9946  , 0.004375, 0.001008], dtype=float16),\n",
       " '4003253_1054713880_Right_l2_l3': array([0.9946  , 0.004295, 0.001   ], dtype=float16),\n",
       " '4003253_1054713880_Right_l3_l4': array([9.888e-01, 1.025e-02, 8.998e-04], dtype=float16),\n",
       " '4003253_1054713880_Right_l4_l5': array([0.908   , 0.0893  , 0.002333], dtype=float16),\n",
       " '4003253_1054713880_Right_l5_s1': array([0.943  , 0.05453, 0.00242], dtype=float16)}"
      ]
     },
     "execution_count": 33,
     "metadata": {},
     "output_type": "execute_result"
    }
   ],
   "source": []
  },
  {
   "cell_type": "code",
   "execution_count": 136,
   "metadata": {},
   "outputs": [
    {
     "name": "stdout",
     "output_type": "stream",
     "text": [
      "\n",
      " -> Loading encoder weights from ../logs/2024-08-07/19/coatnet_1_rw_224_0.pt\n",
      "\n"
     ]
    },
    {
     "data": {
      "image/png": "[encoded data removed]",
      "text/plain": [
       "<Figure size 800x400 with 2 Axes>"
      ]
     },
     "metadata": {},
     "output_type": "display_data"
    },
    {
     "name": "stdout",
     "output_type": "stream",
     "text": [
      "(5, 3) (5, 3)\n",
      "scs_crop delta: 0.0\n",
      "\n",
      " -> Loading encoder weights from ../logs/2024-08-07/32/coatnet_1_rw_224_0.pt\n",
      "\n"
     ]
    },
    {
     "data": {
      "image/png": "[encoded data removed]",
      "text/plain": [
       "<Figure size 800x400 with 2 Axes>"
      ]
     },
     "metadata": {},
     "output_type": "display_data"
    },
    {
     "name": "stdout",
     "output_type": "stream",
     "text": [
      "(10, 3) (10, 3)\n",
      "nfn_crop delta: 0.0002441\n"
     ]
    }
   ],
   "source": [
    "crop_fts = {}\n",
    "for mode in CROP_EXP_FOLDERS:\n",
    "    exp_folder, folds = CROP_EXP_FOLDERS[mode]\n",
    "    \n",
    "    config = Config(json.load(open(exp_folder + \"config.json\", \"r\")))\n",
    "\n",
    "    df_mode = df[df['mode'] == mode].reset_index(drop=True)\n",
    "    df_mode['side'] = \"Center\"\n",
    "\n",
    "    if \"scs\" not in mode:\n",
    "        df_mode['side'] = \"Right\"\n",
    "        df_mode_left = df_mode.copy()\n",
    "        df_mode_left['side'] = \"Left\"\n",
    "        df_mode = pd.concat([df_mode, df_mode_left]).reset_index(drop=True)\n",
    "        df_mode = df_mode.sort_values(['study_id', 'series_id', 'side', 'level'], ignore_index=True)\n",
    "\n",
    "    transfos = get_transfos(augment=False, resize=config.resize, crop=config.crop)\n",
    "    dataset = CropDataset(\n",
    "        df_mode,\n",
    "        targets=\"target\",\n",
    "        transforms=transfos,\n",
    "        frames_chanel=config.frames_chanel,\n",
    "        n_frames=config.n_frames,\n",
    "        stride=config.stride,\n",
    "        train=False,\n",
    "        load_in_ram=False,\n",
    "    )\n",
    "\n",
    "    model = define_model(\n",
    "        config.name,\n",
    "        drop_rate=config.drop_rate,\n",
    "        drop_path_rate=config.drop_path_rate,\n",
    "        use_gem=config.use_gem,\n",
    "        head_3d=config.head_3d,\n",
    "        n_frames=config.n_frames,\n",
    "        num_classes=config.num_classes,\n",
    "        num_classes_aux=config.num_classes_aux,\n",
    "        n_channels=config.n_channels,\n",
    "        reduce_stride=config.reduce_stride,\n",
    "        pretrained=False\n",
    "    )\n",
    "    model = model.cuda().eval()\n",
    "    \n",
    "    preds = []\n",
    "    for fold in folds:\n",
    "        weights = exp_folder + f\"{config.name}_{fold}.pt\"\n",
    "        model = load_model_weights(model, weights, verbose=1)\n",
    "\n",
    "        pred, _ = predict(\n",
    "            model,\n",
    "            dataset,\n",
    "            config.loss_config,\n",
    "            batch_size=BATCH_SIZE,\n",
    "            use_fp16=USE_FP16,\n",
    "            num_workers=NUM_WORKERS,\n",
    "        )\n",
    "        preds.append(pred)\n",
    "\n",
    "    preds = np.mean(preds, 0)\n",
    "\n",
    "    if DEBUG:        \n",
    "        df_ref = pd.read_csv(exp_folder + \"df_val_0.csv\").head(len(preds))\n",
    "        order_ref = df_ref.sort_values(['side', 'level']).index.values\n",
    "        preds_ref = np.load(exp_folder + \"pred_inf_0.npy\")[:len(preds)][order_ref]\n",
    "\n",
    "        # print(df_ref.iloc[order_ref]['img_path'].values)\n",
    "        # print(df_mode['img_path'].values)\n",
    "\n",
    "        plt.figure(figsize=(8, 4))\n",
    "        plt.subplot(1, 2, 1)\n",
    "        plt.plot(preds)\n",
    "        plt.subplot(1, 2, 2)\n",
    "        plt.plot(preds_ref)\n",
    "        plt.show()\n",
    "\n",
    "        delta = (np.abs(preds - preds_ref)).max()\n",
    "        print(preds.shape, preds_ref.shape)\n",
    "        print(f\"{mode} delta:\", delta)\n",
    "\n",
    "    idx = df_mode[['study_id', 'series_id', 'level', 'side']].values.tolist()\n",
    "    idx = ['_'.join(i) for i in idx]\n",
    "    crop_fts[mode] = dict(zip(idx, preds))\n",
    "    \n",
    "# crop_fts = np.array(crop_fts) # n_models x 3*n_studies x n_classes\n",
    "# np.save(SAVE_FOLDER + \"crop_fts.npy\", crop_fts)"
   ]
  },
  {
   "cell_type": "markdown",
   "metadata": {},
   "source": [
    "## Level 2"
   ]
  },
  {
   "cell_type": "code",
   "execution_count": 137,
   "metadata": {},
   "outputs": [],
   "source": [
    "from inference.lvl2 import predict as predict_2\n",
    "from inference.lvl2 import FeatureInfDataset, to_sub_format"
   ]
  },
  {
   "cell_type": "code",
   "execution_count": 225,
   "metadata": {},
   "outputs": [],
   "source": [
    "class FeatureInfDataset(Dataset):\n",
    "    \"\"\"\n",
    "    Dataset for training RNN models.\n",
    "    \"\"\"\n",
    "    def __init__(\n",
    "        self,\n",
    "        df,\n",
    "        exp_folders,\n",
    "        crop_fts,\n",
    "        resize=None,\n",
    "        save_folder=\"../output/tmp\",\n",
    "    ):\n",
    "        self.df = df.drop_duplicates(keep=\"first\", subset=\"study_id\", ignore_index=True)\n",
    "        self.resize = resize\n",
    "        self.exp_folders = exp_folders\n",
    "        self.save_folder = save_folder\n",
    "\n",
    "        self.series_dict = self.get_series_dict(df)\n",
    "\n",
    "        self.sizes = {\n",
    "            \"nfn\": resize,\n",
    "            \"scs\": resize,\n",
    "            \"ss\": resize * 2,\n",
    "            \"ss_aux\": resize * 2,\n",
    "        }\n",
    "\n",
    "        self.dummies = {}\n",
    "        self.fts = crop_fts\n",
    "\n",
    "        # study = self.df[\"study_id\"][0]\n",
    "        # series = self.series_dict[study]\n",
    "        # for k in self.exp_folders:\n",
    "        #     else:\n",
    "        #         self.dummies[k] = 0.33 + np.zeros_like(\n",
    "        #             np.load(self.exp_folders[k] + f'preds/{study}_{series[k.split(\"_\")[0]]}.npy')\n",
    "        #         )\n",
    "\n",
    "    @staticmethod\n",
    "    def get_series_dict(df):\n",
    "        series_dict = defaultdict(dict)\n",
    "        for study, df_study in df.groupby(\"study_id\"):\n",
    "            series = df_study.set_index(\"series_description\")[\"series_id\"]\n",
    "            for k in [\"scs\", \"nfn\", \"ss\"]:\n",
    "                try:\n",
    "                    series_dict[study][k] = int(series[k])\n",
    "                except KeyError:\n",
    "                    series_dict[study][k] = 0\n",
    "\n",
    "            for k in series_dict[study]:\n",
    "                if not isinstance(series_dict[study][k], int):\n",
    "                    series_dict[study][k] = series_dict[study][k].values[0]\n",
    "\n",
    "        return series_dict\n",
    "\n",
    "    def __len__(self):\n",
    "        return len(self.df)\n",
    "\n",
    "    @staticmethod\n",
    "    def resize_fts(fts, size):\n",
    "        if len(fts.shape) == 2:  # Add chanel\n",
    "            fts = fts[:, None]\n",
    "\n",
    "        fts = fts.transpose(1, 2, 0)  # n x 3 x t -> t x n x 3\n",
    "        fts = F.interpolate(\n",
    "            torch.from_numpy(fts).float(), size=size, mode=\"linear\"\n",
    "        ).numpy()\n",
    "        fts = fts.transpose(2, 0, 1)\n",
    "        return fts\n",
    "\n",
    "    def __getitem__(self, idx):\n",
    "        study = self.df[\"study_id\"][idx]\n",
    "        series = self.series_dict[study]\n",
    "\n",
    "        fts = {}\n",
    "        for k in self.exp_folders:\n",
    "            k_ = k.split(\"_\")[0]\n",
    "            # print(k_)\n",
    "            if \"crop\" in k:\n",
    "                sides = ['Center'] if \"scs\" in k else [\"Left\", \"Right\"]\n",
    "                ft = []\n",
    "                for lvl in LEVELS_:\n",
    "                    for side in sides:\n",
    "                        # print(f'{study}_{series[k_]}_{lvl}_{side}')\n",
    "                        ft.append(\n",
    "                            self.fts[k].get(f'{study}_{series[k_]}_{lvl}_{side}', np.zeros(3))\n",
    "                        )\n",
    "                ft = np.vstack(ft)\n",
    "\n",
    "            else:\n",
    "                try:\n",
    "                    ft = np.load(self.save_folder + f'{study}_{series[k_]}_{k_}.npy')\n",
    "                    # print(k, ft.shape)\n",
    "                except FileNotFoundError:\n",
    "                    ft = self.dummies[k]\n",
    "\n",
    "            # print(k, ft.shape)\n",
    "            if k in self.sizes:\n",
    "                ft = self.resize_fts(ft, self.sizes[k])\n",
    "                ft = ft.reshape(self.sizes[k], -1)\n",
    "            else:\n",
    "                ft = ft.flatten()\n",
    "            fts[k] = torch.from_numpy(ft).float().contiguous()\n",
    "\n",
    "        return fts, 0, 0\n"
   ]
  },
  {
   "cell_type": "code",
   "execution_count": 226,
   "metadata": {},
   "outputs": [],
   "source": [
    "from torch.utils.data import Dataset\n",
    "from collections import defaultdict\n"
   ]
  },
  {
   "cell_type": "code",
   "execution_count": 227,
   "metadata": {},
   "outputs": [],
   "source": [
    "df['series_description'] = (df['weighting'] + \"_\" + df['orient']).map(MODES)\n",
    "df_2 = pd.DataFrame(df[[\"study_id\", \"series_id\", \"series_description\"]].drop_duplicates(keep=\"first\")).reset_index(drop=True)\n",
    "df_2 = df_2.sort_values([\"study_id\", \"series_id\"], ignore_index=True)"
   ]
  },
  {
   "cell_type": "code",
   "execution_count": 228,
   "metadata": {},
   "outputs": [
    {
     "data": {
      "text/html": [
       "<div>\n",
       "<style scoped>\n",
       "    .dataframe tbody tr th:only-of-type {\n",
       "        vertical-align: middle;\n",
       "    }\n",
       "\n",
       "    .dataframe tbody tr th {\n",
       "        vertical-align: top;\n",
       "    }\n",
       "\n",
       "    .dataframe thead th {\n",
       "        text-align: right;\n",
       "    }\n",
       "</style>\n",
       "<table border=\"1\" class=\"dataframe\">\n",
       "  <thead>\n",
       "    <tr style=\"text-align: right;\">\n",
       "      <th></th>\n",
       "      <th>study_id</th>\n",
       "      <th>series_id</th>\n",
       "      <th>series_description</th>\n",
       "    </tr>\n",
       "  </thead>\n",
       "  <tbody>\n",
       "    <tr>\n",
       "      <th>0</th>\n",
       "      <td>4003253</td>\n",
       "      <td>1054713880</td>\n",
       "      <td>nfn</td>\n",
       "    </tr>\n",
       "    <tr>\n",
       "      <th>1</th>\n",
       "      <td>4003253</td>\n",
       "      <td>2448190387</td>\n",
       "      <td>ss</td>\n",
       "    </tr>\n",
       "    <tr>\n",
       "      <th>2</th>\n",
       "      <td>4003253</td>\n",
       "      <td>702807833</td>\n",
       "      <td>scs</td>\n",
       "    </tr>\n",
       "  </tbody>\n",
       "</table>\n",
       "</div>"
      ],
      "text/plain": [
       "  study_id   series_id series_description\n",
       "0  4003253  1054713880                nfn\n",
       "1  4003253  2448190387                 ss\n",
       "2  4003253   702807833                scs"
      ]
     },
     "execution_count": 228,
     "metadata": {},
     "output_type": "execute_result"
    }
   ],
   "source": [
    "df_2"
   ]
  },
  {
   "cell_type": "code",
   "execution_count": 237,
   "metadata": {},
   "outputs": [
    {
     "name": "stdout",
     "output_type": "stream",
     "text": [
      "\n",
      " -> Loading encoder weights from ../logs/2024-08-08/1/baseline_0.pt\n",
      "\n",
      "Model ../logs/2024-08-08/1/ delta: 0.0004883\n"
     ]
    }
   ],
   "source": [
    "all_preds = []\n",
    "\n",
    "for exp_folder in EXP_FOLDERS_2:\n",
    "    config_2 = Config(json.load(open(exp_folder + \"config.json\", \"r\")))\n",
    "\n",
    "    dataset = FeatureInfDataset(\n",
    "        df_2,\n",
    "        config_2.exp_folders,\n",
    "        crop_fts,\n",
    "        resize=config_2.resize,\n",
    "        save_folder=SAVE_FOLDER,\n",
    "    )\n",
    "    \n",
    "    model = define_model_2(\n",
    "        config_2.name,\n",
    "        ft_dim=config_2.ft_dim,\n",
    "        layer_dim=config_2.layer_dim,\n",
    "        dense_dim=config_2.dense_dim,\n",
    "        p=config_2.p,\n",
    "        resize=config_2.resize,\n",
    "        num_classes=config_2.num_classes,\n",
    "        num_classes_aux=config_2.num_classes_aux,\n",
    "    )\n",
    "    model = model.eval().cuda()\n",
    "\n",
    "    for fold in FOLDS_2:\n",
    "        weights = exp_folder + f\"{config_2.name}_{fold}.pt\"\n",
    "        model = load_model_weights(model, weights, verbose=config.local_rank == 0)\n",
    "    \n",
    "        preds, _ = predict(\n",
    "            model,\n",
    "            dataset,\n",
    "            config_2.loss_config,\n",
    "            batch_size=BATCH_SIZE_2,\n",
    "            use_fp16=USE_FP16,\n",
    "            num_workers=NUM_WORKERS,\n",
    "        )\n",
    "\n",
    "        if DEBUG:\n",
    "            preds_ref = np.load(EXP_FOLDERS_2[0] + f\"pred_val_{fold}.npy\")[:1]\n",
    "            delta = np.abs(preds - preds_ref).max()\n",
    "            print(f\"Model {exp_folder} delta:\", delta)\n",
    "\n",
    "        all_preds.append(preds)"
   ]
  },
  {
   "cell_type": "code",
   "execution_count": 230,
   "metadata": {},
   "outputs": [],
   "source": [
    "preds = np.mean(all_preds, 0).astype(np.float64)"
   ]
  },
  {
   "cell_type": "code",
   "execution_count": null,
   "metadata": {},
   "outputs": [],
   "source": [
    "preds = np.mean(all_preds, 0).astype(np.float64)\n",
    "\n",
    "for i in range(preds.shape[1]):\n",
    "    df[f'pred_{i}'] = preds[:, i]\n",
    "\n",
    "dfg = df.drop(['series', 'path', 'frame', 'patient_id'], axis=1).groupby('patient').mean().reset_index()\n",
    "sub = to_sub_format(dfg)\n",
    "\n",
    "sub"
   ]
  },
  {
   "cell_type": "code",
   "execution_count": null,
   "metadata": {},
   "outputs": [],
   "source": [
    "# sub.to_csv(SAVE_FOLDER + \"submission.csv\", index=False)\n",
    "# sub"
   ]
  },
  {
   "cell_type": "markdown",
   "metadata": {},
   "source": [
    "Done ! "
   ]
  }
 ],
 "metadata": {
  "kernelspec": {
   "display_name": "Python 3 (ipykernel)",
   "language": "python",
   "name": "python3"
  },
  "language_info": {
   "codemirror_mode": {
    "name": "ipython",
    "version": 3
   },
   "file_extension": ".py",
   "mimetype": "text/x-python",
   "name": "python",
   "nbconvert_exporter": "python",
   "pygments_lexer": "ipython3",
   "version": "3.10.12"
  },
  "vscode": {
   "interpreter": {
    "hash": "f7241b2af102f7e024509099765066b36197b195077f7bfac6e5bc041ba17c8c"
   }
  }
 },
 "nbformat": 4,
 "nbformat_minor": 4
}
