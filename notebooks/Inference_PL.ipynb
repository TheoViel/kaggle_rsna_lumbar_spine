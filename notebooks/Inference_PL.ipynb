{
 "cells": [
  {
   "cell_type": "markdown",
   "metadata": {},
   "source": [
    "**About** : This notebook is used to infer models."
   ]
  },
  {
   "cell_type": "code",
   "execution_count": null,
   "metadata": {},
   "outputs": [],
   "source": [
    "%load_ext autoreload\n",
    "%autoreload 2"
   ]
  },
  {
   "cell_type": "code",
   "execution_count": null,
   "metadata": {},
   "outputs": [],
   "source": [
    "cd ../src"
   ]
  },
  {
   "cell_type": "markdown",
   "metadata": {},
   "source": [
    "### Imports"
   ]
  },
  {
   "cell_type": "code",
   "execution_count": null,
   "metadata": {},
   "outputs": [],
   "source": [
    "import os\n",
    "import gc\n",
    "import re\n",
    "import sys\n",
    "import cv2\n",
    "import glob\n",
    "import json\n",
    "import torch\n",
    "import shutil\n",
    "import warnings\n",
    "import numpy as np\n",
    "import pandas as pd\n",
    "import torch.nn.functional as F\n",
    "import matplotlib.pyplot as plt\n",
    "\n",
    "from collections import Counter\n",
    "from tqdm.notebook import tqdm\n",
    "from joblib import Parallel, delayed\n",
    "from scipy.special import softmax"
   ]
  },
  {
   "cell_type": "code",
   "execution_count": null,
   "metadata": {},
   "outputs": [],
   "source": [
    "from util.torch import load_model_weights\n",
    "from util.plots import plot_mask, add_rect\n",
    "from util.metrics import rsna_loss\n",
    "\n",
    "from data.processing import process_and_save\n",
    "from data.transforms import get_transfos\n",
    "from data.dataset import CropDataset, CoordsDataset\n",
    "from data.preparation import prepare_data_crop\n",
    "\n",
    "from inference.seg import get_crops\n",
    "from inference.dataset import ImageInfDataset, FeatureInfDataset, SafeDataset\n",
    "from inference.lvl1 import predict, Config\n",
    "\n",
    "from model_zoo.models import define_model\n",
    "from model_zoo.models_lvl2 import define_model as define_model_2\n",
    "from model_zoo.models_seg import define_model as define_model_seg\n",
    "from model_zoo.models_seg import convert_3d\n",
    "\n",
    "from params import CLASSES_SEG, MODES, LEVELS_, SEVERITIES, LEVELS, CLASSES_CROP"
   ]
  },
  {
   "cell_type": "markdown",
   "metadata": {},
   "source": [
    "### Params"
   ]
  },
  {
   "cell_type": "code",
   "execution_count": null,
   "metadata": {},
   "outputs": [],
   "source": [
    "DEBUG = False\n",
    "FOLD = 0\n",
    "\n",
    "ROOT_DATA_DIR = \"../input/seg_npy/imgs/\"\n",
    "SAVE_FOLDER = \"../output/spider_pl/\"\n",
    "\n",
    "# ROOT_DATA_DIR = \"../input/npy2/\"\n",
    "# SAVE_FOLDER = \"../output/comp_pl/\"\n",
    "\n",
    "\n",
    "os.makedirs(SAVE_FOLDER, exist_ok=True)\n",
    "\n",
    "os.makedirs(SAVE_FOLDER, exist_ok=True)\n",
    "os.makedirs(SAVE_FOLDER + \"npy/\", exist_ok=True)\n",
    "os.makedirs(SAVE_FOLDER + \"mid/\", exist_ok=True)\n",
    "os.makedirs(SAVE_FOLDER + \"csv/\", exist_ok=True)"
   ]
  },
  {
   "cell_type": "code",
   "execution_count": null,
   "metadata": {},
   "outputs": [],
   "source": [
    "df_meta = pd.DataFrame({'img_path': glob.glob(ROOT_DATA_DIR + \"*.npy\")})\n",
    "df_meta['orient'] = \"Sagittal\"\n",
    "df_meta['study_series'] = df_meta[\"img_path\"].apply(lambda x: x.split('/')[-1][:-4])\n",
    "\n",
    "if DEBUG:\n",
    "    df_meta = df_meta.head(3)\n",
    "\n",
    "if ROOT_DATA_DIR == \"../input/npy2/\":  # comp data, filtering needed\n",
    "    dfm = pd.read_csv('../input/train_series_descriptions.csv')\n",
    "    dfm['study_series'] = dfm['study_id'].astype(str) + \"_\" + dfm['series_id'].astype(str)\n",
    "    df_meta = df_meta[[\"study_series\", \"img_path\"]].merge(dfm, how=\"left\", on=\"study_series\")\n",
    "    df_meta['orient'] = df_meta['series_description'].apply(lambda x: x.split(' ')[0])\n",
    "\n",
    "    folds = pd.read_csv('../input/train_folded_v1.csv')\n",
    "    df_meta = df_meta.merge(folds)\n",
    "\n",
    "    df_meta = df_meta[df_meta['fold'] != FOLD]\n",
    "    df_meta = df_meta[df_meta['orient'] == \"Sagittal\"]\n",
    "    df_meta.drop(['study_id', 'series_id', 'series_description', 'fold'], axis=1, inplace=True)\n",
    "\n",
    "    df_meta = df_meta.reset_index(drop=True)\n",
    "\n",
    "print(f'-> Pseudo labeling {len(df_meta)} series with fold {FOLD}')"
   ]
  },
  {
   "cell_type": "code",
   "execution_count": null,
   "metadata": {},
   "outputs": [],
   "source": [
    "BATCH_SIZE = 32\n",
    "BATCH_SIZE_2 = 512\n",
    "USE_FP16 = True\n",
    "\n",
    "NUM_WORKERS = os.cpu_count()"
   ]
  },
  {
   "cell_type": "code",
   "execution_count": null,
   "metadata": {},
   "outputs": [],
   "source": [
    "COORDS_FOLDERS = {\n",
    "    \"sag\": (\"../logs/2024-08-29/0/\", \"fullfit_0\"),  # fullfit for simplicity\n",
    "}\n",
    "\n",
    "CROP_EXP_FOLDERS = {\n",
    "    \"crop\": (\"../output/2024-09-13_7/\", [FOLD], \"crops_0.1\"),\n",
    "}\n",
    "\n",
    "for k in CROP_EXP_FOLDERS:\n",
    "    assert os.path.exists(CROP_EXP_FOLDERS[k][0]), f\"Crop model not found: {k}\"\n",
    "for k in COORDS_FOLDERS:\n",
    "    assert os.path.exists(COORDS_FOLDERS[k][0]), f\"Coords model not found: {k}\""
   ]
  },
  {
   "cell_type": "markdown",
   "metadata": {},
   "source": [
    "## Preparation"
   ]
  },
  {
   "cell_type": "code",
   "execution_count": null,
   "metadata": {},
   "outputs": [],
   "source": [
    "save_folder = SAVE_FOLDER\n",
    "save_middle_frame = True"
   ]
  },
  {
   "cell_type": "code",
   "execution_count": null,
   "metadata": {},
   "outputs": [],
   "source": [
    "for i in tqdm(range(len(df_meta))):\n",
    "    imgs = np.load(df_meta['img_path'][i])\n",
    "    study_series = df_meta['study_series'][i]\n",
    "\n",
    "    imgs = imgs[:, ::-1].copy()\n",
    "\n",
    "    np.save(save_folder + f\"npy/{study_series}.npy\", imgs)\n",
    "\n",
    "    if save_middle_frame:\n",
    "        img = imgs[len(imgs) // 2]\n",
    "        img = np.clip(\n",
    "            img, np.percentile(img.flatten(), 0), np.percentile(img.flatten(), 98)\n",
    "        )\n",
    "        max_, min_ = img.max(), img.min()\n",
    "        if max_ != min_:\n",
    "            img = (img - min_) / (max_ - min_)\n",
    "        else:\n",
    "            img = img - min_\n",
    "        img = (img * 255).astype(np.uint8)\n",
    "        cv2.imwrite(save_folder + f\"mid/{study_series}.png\", img)\n",
    "\n",
    "        if DEBUG:\n",
    "            plt.imshow(img, cmap=\"gray\")\n",
    "            plt.title(study_series)\n",
    "            plt.axis(False)\n",
    "            plt.show()\n"
   ]
  },
  {
   "cell_type": "markdown",
   "metadata": {},
   "source": [
    "## Sagittal Coords"
   ]
  },
  {
   "cell_type": "code",
   "execution_count": null,
   "metadata": {},
   "outputs": [],
   "source": [
    "df_sag = df_meta[df_meta[\"orient\"] == \"Sagittal\"].reset_index(drop=True)\n",
    "df_sag = df_sag[df_sag.columns[:6]]\n",
    "\n",
    "df_sag['img_path'] = SAVE_FOLDER + \"mid/\" + df_sag[\"study_series\"] + \".png\"\n",
    "df_sag['target'] = [np.ones((5, 2)) for _ in range(len(df_sag))]\n",
    "\n",
    "df_sag.head(3)"
   ]
  },
  {
   "cell_type": "code",
   "execution_count": null,
   "metadata": {},
   "outputs": [],
   "source": [
    "config_sag = Config(json.load(open(COORDS_FOLDERS['sag'][0] + \"config.json\", \"r\")))\n",
    "\n",
    "model_sag = define_model(\n",
    "    config_sag.name,\n",
    "    drop_rate=config_sag.drop_rate,\n",
    "    drop_path_rate=config_sag.drop_path_rate,\n",
    "    pooling=config_sag.pooling,\n",
    "    num_classes=config_sag.num_classes,\n",
    "    num_classes_aux=config_sag.num_classes_aux,\n",
    "    n_channels=config_sag.n_channels,\n",
    "    reduce_stride=config_sag.reduce_stride,\n",
    "    pretrained=False,\n",
    ")\n",
    "model_sag = model_sag.cuda().eval()\n",
    "\n",
    "weights = COORDS_FOLDERS['sag'][0] + f\"{config_sag.name}_{COORDS_FOLDERS['sag'][1]}.pt\"\n",
    "model_sag = load_model_weights(model_sag, weights, verbose=1)"
   ]
  },
  {
   "cell_type": "code",
   "execution_count": null,
   "metadata": {},
   "outputs": [],
   "source": [
    "%%time\n",
    "transfos = get_transfos(augment=False, resize=config_sag.resize, use_keypoints=True)\n",
    "dataset = CoordsDataset(df_sag, transforms=transfos)\n",
    "dataset = SafeDataset(dataset)\n",
    "\n",
    "preds_sag, _ = predict(model_sag, dataset, config_sag.loss_config, batch_size=32, use_fp16=True)"
   ]
  },
  {
   "cell_type": "code",
   "execution_count": null,
   "metadata": {},
   "outputs": [],
   "source": [
    "DELTAS = [0.1]  #, 0.15]\n",
    "\n",
    "for delta in DELTAS:\n",
    "    os.makedirs(SAVE_FOLDER + f\"crops_{delta}\", exist_ok=True)"
   ]
  },
  {
   "cell_type": "code",
   "execution_count": null,
   "metadata": {},
   "outputs": [],
   "source": [
    "for idx in tqdm(range(len(df_sag))):\n",
    "    study_series = df_sag[\"study_series\"][idx]\n",
    "    imgs_path = SAVE_FOLDER + \"npy/\" + study_series + \".npy\"\n",
    "\n",
    "    imgs = np.load(imgs_path)\n",
    "\n",
    "    preds = preds_sag[idx].reshape(-1, 2).copy()\n",
    "\n",
    "    for delta in DELTAS:  # , 0.15\n",
    "        crops = np.concatenate([preds, preds], -1)\n",
    "        crops[:, [0, 1]] -= delta\n",
    "        crops[:, [2, 3]] += delta\n",
    "        crops = crops.clip(0, 1)\n",
    "\n",
    "        crops[:, [0, 2]] *= imgs.shape[2]\n",
    "        crops[:, [1, 3]] *= imgs.shape[1]\n",
    "        crops = crops.astype(int)\n",
    "\n",
    "        img_crops = []\n",
    "        for i, (x0, y0, x1, y1) in enumerate(crops):\n",
    "\n",
    "            crop = imgs[:, y0: y1, x0: x1].copy()\n",
    "            # crop = np.zeros((3, 1, 1))\n",
    "            try:\n",
    "                assert crop.shape[2] >= 1 and crop.shape[1] >= 1\n",
    "            except AssertionError:\n",
    "                # print('!!')\n",
    "                # pass\n",
    "                crop = imgs.copy()\n",
    "\n",
    "            np.save(SAVE_FOLDER + f\"crops_{delta}/{study_series}_{LEVELS_[i]}.npy\", crop)\n",
    "            img_crops.append(crop[len(crop) // 2])\n",
    "\n",
    "        if DEBUG:\n",
    "            preds[:, 0] *= imgs.shape[2]\n",
    "            preds[:, 1] *= imgs.shape[1]\n",
    "\n",
    "            plt.figure(figsize=(8, 8))\n",
    "            plt.imshow(imgs[len(imgs) // 2], cmap=\"gray\")\n",
    "            plt.scatter(preds[:, 0], preds[:, 1], marker=\"x\", label=\"center\")\n",
    "            plt.title(study_series)\n",
    "            plt.axis(False)\n",
    "            plt.legend()\n",
    "            plt.show()\n",
    "\n",
    "            plt.figure(figsize=(20, 4))\n",
    "            for i in range(5):\n",
    "                plt.subplot(1, 5, i + 1)\n",
    "                plt.imshow(img_crops[i], cmap=\"gray\")\n",
    "                plt.axis(False)\n",
    "                plt.title(LEVELS[i])\n",
    "            plt.show()"
   ]
  },
  {
   "cell_type": "code",
   "execution_count": null,
   "metadata": {},
   "outputs": [],
   "source": [
    "if DEBUG and not EVAL:\n",
    "    ref_folder = DEBUG_DATA_DIR + \"coords_crops_0.1/\"\n",
    "    df_ref = prepare_data_crop(ROOT_DATA_DIR, ref_folder).head(10)\n",
    "\n",
    "    df_ref['img_path_2'] = df_ref['img_path'].apply(\n",
    "        lambda x: re.sub(ref_folder, SAVE_FOLDER + f\"crops_0.1/\", x)\n",
    "    )\n",
    "\n",
    "    for i in range(len(df_ref)):\n",
    "        cref = np.load(df_ref['img_path'][i])\n",
    "        c = np.load(df_ref['img_path_2'][i])\n",
    "        assert (cref == c).all()\n",
    "        # plt.subplot(1, 2, 1)\n",
    "        # plt.imshow(c[len(c) // 2], cmap=\"gray\")\n",
    "        # plt.subplot(1, 2, 2)\n",
    "        # plt.imshow(cref[len(cref) // 2], cmap=\"gray\")\n",
    "        # plt.show()\n",
    "        # break"
   ]
  },
  {
   "cell_type": "markdown",
   "metadata": {},
   "source": [
    "## Crop models"
   ]
  },
  {
   "cell_type": "code",
   "execution_count": null,
   "metadata": {},
   "outputs": [],
   "source": [
    "df = df_meta.copy()\n",
    "\n",
    "df[\"target\"] = 0\n",
    "df[\"coords\"] = 0\n",
    "\n",
    "df[\"level\"] = [LEVELS for _ in range(len(df))]\n",
    "df[\"level_\"] = [LEVELS_ for _ in range(len(df))]\n",
    "df = df.explode([\"level\", \"level_\"]).reset_index(drop=True)\n",
    "df[\"img_path_\"] = df[\"study_series\"] + \"_\" + df[\"level_\"] + \".npy\""
   ]
  },
  {
   "cell_type": "code",
   "execution_count": null,
   "metadata": {},
   "outputs": [],
   "source": [
    "crop_fts = {}\n",
    "for mode in tqdm(CROP_EXP_FOLDERS, total=len(CROP_EXP_FOLDERS)):\n",
    "    exp_folder, folds, crop_folder = CROP_EXP_FOLDERS[mode]\n",
    "    print(f\"- Model {mode} - {exp_folder}\")\n",
    "\n",
    "    config = Config(json.load(open(exp_folder + \"config.json\", \"r\")))\n",
    "\n",
    "    if mode == \"crop\":\n",
    "        df_mode = df[df['orient'] == \"Sagittal\"].reset_index(drop=True)\n",
    "        df_mode[\"side\"] = \"Center\"\n",
    "    elif \"scs\" in mode:\n",
    "        df_mode = df[df['orient'] == \"Sagittal\"]\n",
    "        df_mode = df_mode[df_mode[\"weighting\"] == \"T2\"].reset_index(drop=True)\n",
    "        df_mode[\"side\"] = \"Center\"\n",
    "    elif \"nfn\" in mode:\n",
    "        df_mode = df[df['orient'] == \"Sagittal\"]\n",
    "        df_mode[\"side\"] = [\"Right\", \"Left\"]\n",
    "        df_mode = df_mode.explode(\"side\").reset_index(drop=True)\n",
    "        df_mode = df_mode.sort_values(\n",
    "            [\"study_id\", \"series_id\", \"side\", \"level\"],\n",
    "            ascending=[True, True, False, True],\n",
    "            ignore_index=True\n",
    "        )\n",
    "    elif \"ss\" in mode:\n",
    "        df_mode = df[df['orient'] == \"Axial\"]\n",
    "        df_mode[\"side\"] = [\"Right\", \"Left\"]\n",
    "        df_mode = df_mode.explode(\"side\").reset_index(drop=True)\n",
    "        df_mode = df_mode.sort_values(\n",
    "            [\"study_id\", \"series_id\", \"side\", \"level\"],\n",
    "            ascending=[True, True, False, True],\n",
    "            ignore_index=True\n",
    "        )\n",
    "\n",
    "    df_mode['img_path'] = SAVE_FOLDER + crop_folder + \"/\" + df_mode[\"img_path_\"]\n",
    "\n",
    "    transfos = get_transfos(augment=False, resize=config.resize, crop=config.crop)\n",
    "    dataset = CropDataset(\n",
    "        df_mode,\n",
    "        targets=\"target\",\n",
    "        transforms=transfos,\n",
    "        frames_chanel=config.frames_chanel,\n",
    "        n_frames=config.n_frames,\n",
    "        stride=config.stride,\n",
    "        train=False,\n",
    "        load_in_ram=False,\n",
    "    )\n",
    "    dataset = SafeDataset(dataset)\n",
    "\n",
    "    model = define_model(\n",
    "        config.name,\n",
    "        drop_rate=config.drop_rate,\n",
    "        drop_path_rate=config.drop_path_rate,\n",
    "        pooling=config.pooling,\n",
    "        head_3d=config.head_3d,\n",
    "        n_frames=config.n_frames,\n",
    "        num_classes=config.num_classes,\n",
    "        num_classes_aux=config.num_classes_aux,\n",
    "        n_channels=config.n_channels,\n",
    "        reduce_stride=config.reduce_stride,\n",
    "        pretrained=False,\n",
    "    )\n",
    "    model = model.cuda().eval()\n",
    "\n",
    "    preds = []\n",
    "    for fold in folds:\n",
    "        weights = exp_folder + f\"{config.name}_{fold}.pt\"\n",
    "        model = load_model_weights(model, weights, verbose=1)\n",
    "\n",
    "        pred, _ = predict(\n",
    "            model,\n",
    "            dataset,\n",
    "            config.loss_config,\n",
    "            batch_size=BATCH_SIZE,\n",
    "            use_fp16=USE_FP16,\n",
    "            num_workers=NUM_WORKERS,\n",
    "        )\n",
    "        pred = softmax(pred, -1)\n",
    "        preds.append(pred)\n",
    "\n",
    "    preds = np.mean(preds, 0)\n",
    "\n",
    "    for i, tgt in enumerate(CLASSES_CROP):\n",
    "        for j in range(3):\n",
    "            df_mode[f'pred_{tgt}_{j}'] = preds[:, i, j]"
   ]
  },
  {
   "cell_type": "code",
   "execution_count": null,
   "metadata": {},
   "outputs": [],
   "source": [
    "df_mode.to_csv(SAVE_FOLDER + f\"preds_crop_{FOLD}.csv\", index=False)\n",
    "print(\"-> Saved PL preds to\", SAVE_FOLDER + f\"preds_crop_{FOLD}.csv\")\n",
    "df_mode.head(10)"
   ]
  },
  {
   "cell_type": "code",
   "execution_count": null,
   "metadata": {},
   "outputs": [],
   "source": [
    "df_gt = prepare_data_crop(\"../input/\")\n",
    "df_gt['study_series'] = df_gt['study_id'].astype(str) + \"_\" + df_gt['series_id'].astype(str)\n",
    "\n",
    "folds = pd.read_csv('../input/train_folded_v1.csv')\n",
    "df_gt = df_gt.merge(folds)\n",
    "df_gt = df_gt[df_gt['fold'] != FOLD]"
   ]
  },
  {
   "cell_type": "code",
   "execution_count": null,
   "metadata": {},
   "outputs": [],
   "source": [
    "df_mode['pred'] = df_mode.apply(\n",
    "    lambda r: r[df_mode.columns[-16:-1]].values.reshape(-1, 3), axis=1\n",
    ")\n",
    "df_gt = df_gt.merge(df_mode[['study_series', 'pred', 'level']], on=[\"study_series\", \"level\"], how=\"left\")"
   ]
  },
  {
   "cell_type": "code",
   "execution_count": null,
   "metadata": {},
   "outputs": [],
   "source": [
    "# for i, row in df_gt.iterrows():\n",
    "#     print(row.target)\n",
    "#     print(row.pred)\n",
    "#     print(\n",
    "#         log_loss(row.target, row.pred, labels=[0, 1, 2])\n",
    "#     )\n",
    "#     break"
   ]
  },
  {
   "cell_type": "code",
   "execution_count": null,
   "metadata": {},
   "outputs": [],
   "source": [
    "from sklearn.metrics import log_loss\n",
    "df_gt['error'] = df_gt.apply(lambda row: log_loss(row.target, row.pred, labels=[0, 1, 2]), axis=1)"
   ]
  },
  {
   "cell_type": "code",
   "execution_count": null,
   "metadata": {},
   "outputs": [],
   "source": [
    "import seaborn as sns\n",
    "sns.histplot(df_gt['error'])"
   ]
  },
  {
   "cell_type": "code",
   "execution_count": null,
   "metadata": {},
   "outputs": [],
   "source": [
    "(df_gt['target'].apply(lambda x : x[0])).value_counts()"
   ]
  },
  {
   "cell_type": "code",
   "execution_count": null,
   "metadata": {},
   "outputs": [],
   "source": [
    "df_gt[df_gt['study_id'] == 1879696087].sort_values('error', ascending=False)"
   ]
  },
  {
   "cell_type": "code",
   "execution_count": null,
   "metadata": {},
   "outputs": [],
   "source": [
    "df_gt.sort_values('error', ascending=False)"
   ]
  },
  {
   "cell_type": "code",
   "execution_count": null,
   "metadata": {},
   "outputs": [],
   "source": [
    "(df_gt['error'] > 2).mean()"
   ]
  },
  {
   "cell_type": "markdown",
   "metadata": {},
   "source": [
    "Done ! "
   ]
  }
 ],
 "metadata": {
  "kernelspec": {
   "display_name": "Python 3 (ipykernel)",
   "language": "python",
   "name": "python3"
  },
  "language_info": {
   "codemirror_mode": {
    "name": "ipython",
    "version": 3
   },
   "file_extension": ".py",
   "mimetype": "text/x-python",
   "name": "python",
   "nbconvert_exporter": "python",
   "pygments_lexer": "ipython3",
   "version": "3.10.12"
  },
  "vscode": {
   "interpreter": {
    "hash": "f7241b2af102f7e024509099765066b36197b195077f7bfac6e5bc041ba17c8c"
   }
  }
 },
 "nbformat": 4,
 "nbformat_minor": 4
}
