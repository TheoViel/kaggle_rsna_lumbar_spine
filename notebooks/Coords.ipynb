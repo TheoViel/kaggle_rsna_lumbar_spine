{
 "cells": [
  {
   "cell_type": "code",
   "execution_count": null,
   "id": "04fefbb9",
   "metadata": {},
   "outputs": [],
   "source": [
    "%load_ext autoreload\n",
    "%autoreload 2"
   ]
  },
  {
   "cell_type": "code",
   "execution_count": null,
   "id": "fe5d4f48",
   "metadata": {},
   "outputs": [],
   "source": [
    "cd ../src"
   ]
  },
  {
   "cell_type": "code",
   "execution_count": null,
   "id": "68e6ad4e",
   "metadata": {
    "_cell_guid": "b1076dfc-b9ad-4769-8c92-a6c4dae69d19",
    "_uuid": "8f2839f25d086af736a60e9eeb907d3b93b6e0e5",
    "execution": {
     "iopub.execute_input": "2023-08-12T16:03:00.516834Z",
     "iopub.status.busy": "2023-08-12T16:03:00.516342Z",
     "iopub.status.idle": "2023-08-12T16:03:02.824246Z",
     "shell.execute_reply": "2023-08-12T16:03:02.823119Z"
    },
    "papermill": {
     "duration": 2.317669,
     "end_time": "2023-08-12T16:03:02.827155",
     "exception": false,
     "start_time": "2023-08-12T16:03:00.509486",
     "status": "completed"
    },
    "tags": []
   },
   "outputs": [],
   "source": [
    "import os\n",
    "import cv2\n",
    "import json\n",
    "import glob\n",
    "import torch\n",
    "import pydicom\n",
    "import numpy as np\n",
    "import pandas as pd\n",
    "import seaborn as sns\n",
    "import matplotlib.pyplot as plt\n",
    "import torch.nn.functional as F\n",
    "\n",
    "from collections import Counter\n",
    "from tqdm.notebook import tqdm\n",
    "\n",
    "\n",
    "pd.set_option('display.width', 500)\n",
    "pd.set_option('max_colwidth', 100)"
   ]
  },
  {
   "cell_type": "code",
   "execution_count": null,
   "id": "0d620e82",
   "metadata": {},
   "outputs": [],
   "source": [
    "from params import *\n",
    "\n",
    "from data.preparation import *\n",
    "\n",
    "from data.dataset import *\n",
    "from data.transforms import *"
   ]
  },
  {
   "cell_type": "markdown",
   "id": "f43051d8",
   "metadata": {},
   "source": [
    "### External data\n",
    "\n",
    "- https://www.kaggle.com/datasets/brendanartley/lumbar-coordinate-pretraining-dataset"
   ]
  },
  {
   "cell_type": "code",
   "execution_count": null,
   "id": "89aca514",
   "metadata": {},
   "outputs": [],
   "source": [
    "df = pd.read_csv(DATA_PATH + \"coords/coords_pretrain.csv\")\n",
    "\n",
    "df[\"img_path\"] = (\n",
    "    DATA_PATH + \"coords/data/processed_\" + df[\"source\"] + \"_jpgs/\" + df[\"filename\"]\n",
    ")\n",
    "df = df.sort_values([\"source\", \"filename\", \"level\"])\n",
    "df = df.groupby([\"source\", \"filename\", \"img_path\"]).agg(list).reset_index()"
   ]
  },
  {
   "cell_type": "code",
   "execution_count": null,
   "id": "60a93b1b",
   "metadata": {},
   "outputs": [],
   "source": [
    "idx = 0\n",
    "img = cv2.imread(df['img_path'][idx], 0)\n",
    "\n",
    "plt.figure(figsize=(8, 8))\n",
    "plt.imshow(img, cmap=\"gray\")\n",
    "for x, y, l in zip(df['x'][idx], df['y'][idx], df['level'][idx]):\n",
    "    # print(x, y, l)\n",
    "    plt.text(x, y, f\"x   {l}\", c=\"r\", horizontalalignment=\"left\", size=12)\n",
    "plt.axis(False)\n",
    "plt.show()"
   ]
  },
  {
   "cell_type": "markdown",
   "id": "d63659ad",
   "metadata": {},
   "source": [
    "### Comp data"
   ]
  },
  {
   "cell_type": "code",
   "execution_count": null,
   "id": "6fe05f15",
   "metadata": {},
   "outputs": [],
   "source": [
    "SAVE = False\n",
    "PLOT = False\n",
    "\n",
    "SAVE_FOLDER = \"../input/coords/comp_data/\"\n",
    "os.makedirs(SAVE_FOLDER, exist_ok=True)"
   ]
  },
  {
   "cell_type": "code",
   "execution_count": null,
   "id": "b8395dab",
   "metadata": {},
   "outputs": [],
   "source": [
    "df = prepare_data()\n",
    "df = df.dropna(axis=0).reset_index(drop=True)"
   ]
  },
  {
   "cell_type": "code",
   "execution_count": null,
   "id": "6642c15b",
   "metadata": {},
   "outputs": [],
   "source": [
    "dfs = []\n",
    "for idx in tqdm(range(len(df))):\n",
    "    if df['orient'][idx] == \"Axial\":\n",
    "        continue\n",
    "    # if not df['series_id'][idx] == 4089185953:\n",
    "    #     continue\n",
    "\n",
    "    img = np.load(df['img_path'][idx])\n",
    "\n",
    "    img = img[len(img) // 2]\n",
    "    # img = np.concatenate([\n",
    "    #     img[len(img) // 4][..., None],\n",
    "    #     img[len(img) // 2][..., None],\n",
    "    #     img[3 * len(img) // 4][..., None],\n",
    "    # ], -1)\n",
    "\n",
    "    img = np.clip(img, np.percentile(img.flatten(), 0), np.percentile(img.flatten(), 98))  # DO NOT FORGET\n",
    "    img = (img - img.min()) / (img.max() - img.min()) \n",
    "    img = (img * 255).astype(np.uint8)\n",
    "\n",
    "    df_coords = pd.DataFrame(\n",
    "        df['coords'][idx], df['level'][idx], columns=['z', 'x', 'y']\n",
    "    ).reset_index()\n",
    "    df_coords = df_coords.groupby('index').mean().reset_index()\n",
    "    df_coords = df_coords.rename(columns={\"index\": \"level\"}).sort_values('level', ignore_index=True)\n",
    "\n",
    "    df_coords['relative_x'] = df_coords['x'] / img.shape[1]\n",
    "    df_coords['relative_y'] = df_coords['y'] / img.shape[0]\n",
    "\n",
    "    cols = [\"study_id\", \"series_id\", \"orient\", \"weighting\"]\n",
    "    for col in cols:\n",
    "        df_coords[col] = df[col][idx]\n",
    "\n",
    "    df_coords['img_path'] = SAVE_FOLDER + f'{df[\"study_id\"][idx]}_{df[\"series_id\"][idx]}.png'\n",
    "    dfs.append(df_coords)\n",
    "\n",
    "    # if len(df_coords) == 5:\n",
    "    #     continue\n",
    "    # print(df['series_id'][idx])\n",
    "\n",
    "    if SAVE:\n",
    "        cv2.imwrite(df_coords[\"img_path\"][0], img)\n",
    "\n",
    "    if PLOT:\n",
    "        plt.figure(figsize=(8, 8))\n",
    "        plt.imshow(img, cmap=\"gray\")\n",
    "        for x, y, l in zip(df_coords['x'], df_coords['y'], df_coords['level']):\n",
    "            # print(x, y, l)\n",
    "            plt.text(x, y, f\"x   {l}\", c=\"r\", horizontalalignment=\"left\", size=12)\n",
    "        # plt.axis(False)\n",
    "        plt.show()\n",
    "    \n",
    "        # if idx > 5:\n",
    "        break"
   ]
  },
  {
   "cell_type": "code",
   "execution_count": null,
   "id": "1b288f5f",
   "metadata": {},
   "outputs": [],
   "source": [
    "df_ = pd.concat(dfs)\n",
    "df_ = df_[\n",
    "    [\"study_id\", \"series_id\", \"img_path\", \"level\", \"x\", \"y\", \"relative_x\", \"relative_y\"]\n",
    "]\n",
    "df_.to_csv(\"../input/coords/coords_comp.csv\", index=False)\n",
    "df_.head(1)"
   ]
  },
  {
   "cell_type": "code",
   "execution_count": null,
   "id": "316ed1b2",
   "metadata": {},
   "outputs": [],
   "source": [
    "# len(df_.series_id.unique()), len(os.listdir(SAVE_FOLDER))"
   ]
  },
  {
   "cell_type": "code",
   "execution_count": null,
   "id": "15b75329",
   "metadata": {},
   "outputs": [],
   "source": [
    "df_coords.target[0].shape"
   ]
  },
  {
   "cell_type": "code",
   "execution_count": null,
   "id": "49f6e949",
   "metadata": {},
   "outputs": [],
   "source": [
    "from data.dataset import CoordsDataset\n",
    "from data.preparation import prepare_coords_data\n",
    "\n",
    "df_coords = prepare_coords_data()\n",
    "\n",
    "dataset = CoordsDataset(df_coords, transforms=get_transfos(resize=(384, 384), strength=0, use_keypoints=True))"
   ]
  },
  {
   "cell_type": "code",
   "execution_count": null,
   "id": "a63c5d0f",
   "metadata": {},
   "outputs": [],
   "source": [
    "df_coords.head(1)"
   ]
  },
  {
   "cell_type": "code",
   "execution_count": null,
   "id": "fe26bdce",
   "metadata": {},
   "outputs": [],
   "source": [
    "# idx = np.random.choice(len(dataset))\n",
    "x, y, _  = dataset[idx]"
   ]
  },
  {
   "cell_type": "code",
   "execution_count": null,
   "id": "85f0618d",
   "metadata": {},
   "outputs": [],
   "source": [
    "y"
   ]
  },
  {
   "cell_type": "code",
   "execution_count": null,
   "id": "b60434b0",
   "metadata": {},
   "outputs": [],
   "source": [
    "df_coords[\"target_rel\"].values.shape"
   ]
  },
  {
   "cell_type": "code",
   "execution_count": null,
   "id": "a89820e1",
   "metadata": {},
   "outputs": [],
   "source": [
    "dataset.targets_rel.max()"
   ]
  },
  {
   "cell_type": "code",
   "execution_count": null,
   "id": "59d4915c",
   "metadata": {},
   "outputs": [],
   "source": [
    "for idx in tqdm(range(len(dataset))):\n",
    "    x, y, _  = dataset[idx]\n",
    "    assert y.size() == torch.Size([5, 2])\n",
    "    break"
   ]
  },
  {
   "cell_type": "code",
   "execution_count": null,
   "id": "7bb0bec6",
   "metadata": {},
   "outputs": [],
   "source": [
    "\n",
    "y = y[y.sum(-1) > 0]\n",
    "img = x[0]\n",
    "img = (img - img.min()) / (img.max() - img.min())\n",
    "y *= img.shape[0]\n",
    "\n",
    "plt.figure(figsize=(10, 10))\n",
    "plt.imshow(img, cmap=\"gray\")\n",
    "plt.scatter(y[:, 0], y[:, 1])\n",
    "plt.show()"
   ]
  },
  {
   "cell_type": "markdown",
   "id": "e00a62ac",
   "metadata": {},
   "source": [
    "### Axial Coords"
   ]
  },
  {
   "cell_type": "code",
   "execution_count": null,
   "id": "63e8accf",
   "metadata": {},
   "outputs": [],
   "source": [
    "from data.sagital_to_axial import read_series_metadata"
   ]
  },
  {
   "cell_type": "code",
   "execution_count": null,
   "id": "c20a6b25",
   "metadata": {},
   "outputs": [],
   "source": [
    "df_ = prepare_data()\n",
    "df_coords = pd.read_csv(DATA_PATH + \"train_label_coordinates.csv\")"
   ]
  },
  {
   "cell_type": "code",
   "execution_count": null,
   "id": "ec7fa5d5",
   "metadata": {},
   "outputs": [],
   "source": [
    "SAVE = True\n",
    "PLOT = False\n",
    "\n",
    "SAVE_FOLDER = \"../input/coords/axial/\"\n",
    "os.makedirs(SAVE_FOLDER, exist_ok=True)"
   ]
  },
  {
   "cell_type": "code",
   "execution_count": null,
   "id": "ef2d9d1e",
   "metadata": {},
   "outputs": [],
   "source": [
    "dfs = []\n",
    "for idx in tqdm(range(len(df))):\n",
    "    if df['orient'][idx] != \"Axial\":\n",
    "        continue\n",
    "\n",
    "    # if idx not in [977, 1940, 5298]:\n",
    "    #     continue\n",
    "\n",
    "    df_axial = read_series_metadata(\n",
    "        df[\"study_id\"][idx],\n",
    "        df[\"series_id\"][idx],\n",
    "        \"axial\",\n",
    "        data_path=DATA_PATH + \"train_images/\",\n",
    "    )\n",
    "\n",
    "    coords_series = df_coords[df_coords['series_id'] == df[\"series_id\"][idx]]\n",
    "\n",
    "    folder = DATA_PATH + f'train_images/{df[\"study_id\"][idx]}/{df[\"series_id\"][idx]}/'\n",
    "\n",
    "    if PLOT:\n",
    "        plt.figure(figsize=(25, 5))\n",
    "    \n",
    "    for i, lvl in enumerate(LEVELS):\n",
    "        coords = coords_series[coords_series['level'] == lvl].reset_index(drop=True)\n",
    "        if len(coords) != 2:\n",
    "            continue\n",
    "        coords['condition'] = coords['condition'].apply(lambda x: x.split()[0])\n",
    "        coords = coords.rename(columns={\"condition\": \"side\", \"instance_number\": \"z\"})\n",
    "\n",
    "        try:\n",
    "            frame = int(np.round(coords['z'].mean()))\n",
    "            img = pydicom.dcmread(folder + f'{frame}.dcm').pixel_array\n",
    "        except:\n",
    "            frame = coords['z'][0]\n",
    "            img = pydicom.dcmread(folder + f'{frame}.dcm').pixel_array\n",
    "\n",
    "        # img = np.clip(img, np.percentile(img.flatten(), 0), np.percentile(img.flatten(), 98))  # DO NOT FORGET\n",
    "        img = (img - img.min()) / (img.max() - img.min()) \n",
    "        img = (img * 255).astype(np.uint8)\n",
    "\n",
    "        coords['relative_x'] = coords['x'] / img.shape[1]\n",
    "        coords['relative_y'] = coords['y'] / img.shape[0]\n",
    "\n",
    "        dy = np.abs(coords['relative_y'][0] - coords['relative_y'][1])\n",
    "        dx = np.abs(coords['relative_x'][0] - coords['relative_x'][1])\n",
    "        if dy > 0.1 or dx > 0.2:  # 977, 1940, 5298\n",
    "            # print(idx, dy, dx)\n",
    "            continue  # Skip\n",
    "\n",
    "        coords['img_path'] = SAVE_FOLDER + f'{df[\"study_id\"][idx]}_{df[\"series_id\"][idx]}_{LEVELS_[i]}.png'\n",
    "        dfs.append(coords)\n",
    "\n",
    "        if SAVE:\n",
    "            cv2.imwrite(coords[\"img_path\"][0], img)\n",
    "        \n",
    "        if PLOT:\n",
    "            plt.subplot(1, 5, i + 1)\n",
    "            plt.imshow(img, cmap=\"gray\")\n",
    "            plt.scatter(coords[\"x\"], coords[\"y\"], c=\"orange\")\n",
    "            plt.title(lvl)\n",
    "    \n",
    "    if PLOT:\n",
    "        plt.show()\n",
    "    \n",
    "        # if idx > 10:\n",
    "        #     break"
   ]
  },
  {
   "cell_type": "code",
   "execution_count": null,
   "id": "4eca43d2",
   "metadata": {},
   "outputs": [],
   "source": [
    "df_ = pd.concat(dfs, ignore_index=True)\n",
    "df_ = df_[\n",
    "    [\"study_id\", \"series_id\", \"img_path\", \"side\", \"x\", \"y\", \"relative_x\", \"relative_y\"]\n",
    "]\n",
    "df_.to_csv(\"../input/coords/coords_ax.csv\", index=False)\n",
    "\n",
    "df_.head(10)"
   ]
  },
  {
   "cell_type": "code",
   "execution_count": null,
   "id": "dea85c2e",
   "metadata": {},
   "outputs": [],
   "source": [
    "d = (df_[df_[\"side\"] == \"Left\"]['x'].values <= df_[df_[\"side\"] == \"Right\"]['x'].values)\n",
    "\n",
    "Counter(d)"
   ]
  },
  {
   "cell_type": "markdown",
   "id": "b86f6204",
   "metadata": {},
   "source": [
    "### Dataset"
   ]
  },
  {
   "cell_type": "code",
   "execution_count": null,
   "id": "4d67690f",
   "metadata": {},
   "outputs": [],
   "source": [
    "df = prepare_coords_data()\n",
    "\n",
    "df.head(1)"
   ]
  },
  {
   "cell_type": "code",
   "execution_count": null,
   "id": "e29649a1",
   "metadata": {},
   "outputs": [],
   "source": [
    "transforms = get_transfos(augment=False, resize=(384, 384))"
   ]
  },
  {
   "cell_type": "code",
   "execution_count": null,
   "id": "a66f29fb",
   "metadata": {},
   "outputs": [],
   "source": [
    "dataset = CoordsDataset(df, transforms=transforms)"
   ]
  },
  {
   "cell_type": "code",
   "execution_count": null,
   "id": "078a121e",
   "metadata": {},
   "outputs": [],
   "source": [
    "idx = 3\n",
    "img, y, _ = dataset[idx]"
   ]
  },
  {
   "cell_type": "code",
   "execution_count": null,
   "id": "a93cdba4",
   "metadata": {},
   "outputs": [],
   "source": [
    "for idx in tqdm(range(len(dataset))):\n",
    "    img, y, _ = dataset[idx]\n",
    "    break"
   ]
  },
  {
   "cell_type": "code",
   "execution_count": null,
   "id": "8f4fa4a7",
   "metadata": {},
   "outputs": [],
   "source": [
    "plt.imshow(img.cpu().numpy().transpose(1, 2, 0))\n",
    "plt.scatter(y[:, 0] * img.size(2), y[:, 1] * img.size(1), marker=\"x\")\n",
    "plt.axis(False)\n",
    "plt.show()"
   ]
  },
  {
   "cell_type": "markdown",
   "id": "16bd75ce",
   "metadata": {},
   "source": [
    "Done ! "
   ]
  }
 ],
 "metadata": {
  "kernelspec": {
   "display_name": "Python 3",
   "language": "python",
   "name": "python3"
  },
  "language_info": {
   "codemirror_mode": {
    "name": "ipython",
    "version": 3
   },
   "file_extension": ".py",
   "mimetype": "text/x-python",
   "name": "python",
   "nbconvert_exporter": "python",
   "pygments_lexer": "ipython3",
   "version": "3.10.12"
  },
  "papermill": {
   "default_parameters": {},
   "duration": 6677.910014,
   "end_time": "2023-08-12T17:53:47.148086",
   "environment_variables": {},
   "exception": null,
   "input_path": "__notebook__.ipynb",
   "output_path": "__notebook__.ipynb",
   "parameters": {},
   "start_time": "2023-08-12T16:02:29.238072",
   "version": "2.4.0"
  }
 },
 "nbformat": 4,
 "nbformat_minor": 5
}
