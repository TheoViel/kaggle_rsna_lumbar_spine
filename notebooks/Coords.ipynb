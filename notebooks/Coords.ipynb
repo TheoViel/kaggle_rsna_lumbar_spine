{
 "cells": [
  {
   "cell_type": "code",
   "execution_count": null,
   "id": "04fefbb9",
   "metadata": {},
   "outputs": [],
   "source": [
    "%load_ext autoreload\n",
    "%autoreload 2"
   ]
  },
  {
   "cell_type": "code",
   "execution_count": null,
   "id": "fe5d4f48",
   "metadata": {},
   "outputs": [],
   "source": [
    "cd ../src"
   ]
  },
  {
   "cell_type": "code",
   "execution_count": null,
   "id": "68e6ad4e",
   "metadata": {
    "_cell_guid": "b1076dfc-b9ad-4769-8c92-a6c4dae69d19",
    "_uuid": "8f2839f25d086af736a60e9eeb907d3b93b6e0e5",
    "papermill": {
     "duration": 2.317669,
     "end_time": "2023-08-12T16:03:02.827155",
     "exception": false,
     "start_time": "2023-08-12T16:03:00.509486",
     "status": "completed"
    },
    "tags": []
   },
   "outputs": [],
   "source": [
    "import os\n",
    "import cv2\n",
    "import json\n",
    "import glob\n",
    "import torch\n",
    "import pydicom\n",
    "import numpy as np\n",
    "import pandas as pd\n",
    "import seaborn as sns\n",
    "import matplotlib.pyplot as plt\n",
    "import torch.nn.functional as F\n",
    "\n",
    "from collections import Counter\n",
    "from tqdm.notebook import tqdm\n",
    "\n",
    "\n",
    "pd.set_option('display.width', 500)\n",
    "pd.set_option('max_colwidth', 100)"
   ]
  },
  {
   "cell_type": "code",
   "execution_count": null,
   "id": "0d620e82",
   "metadata": {},
   "outputs": [],
   "source": [
    "from params import *\n",
    "from data.preparation import *\n",
    "from data.dataset import *\n",
    "from data.transforms import *"
   ]
  },
  {
   "cell_type": "markdown",
   "id": "f43051d8",
   "metadata": {},
   "source": [
    "### External data\n",
    "\n",
    "- https://www.kaggle.com/datasets/brendanartley/lumbar-coordinate-pretraining-dataset"
   ]
  },
  {
   "cell_type": "code",
   "execution_count": null,
   "id": "89aca514",
   "metadata": {},
   "outputs": [],
   "source": [
    "df = pd.read_csv(DATA_PATH + \"coords/coords_pretrain.csv\")\n",
    "\n",
    "df[\"img_path\"] = (\n",
    "    DATA_PATH + \"coords/data/processed_\" + df[\"source\"] + \"_jpgs/\" + df[\"filename\"]\n",
    ")\n",
    "df = df.sort_values([\"source\", \"filename\", \"level\"])\n",
    "df = df.groupby([\"source\", \"filename\", \"img_path\"]).agg(list).reset_index()"
   ]
  },
  {
   "cell_type": "code",
   "execution_count": null,
   "id": "60a93b1b",
   "metadata": {},
   "outputs": [],
   "source": [
    "idx = 0\n",
    "img = cv2.imread(df['img_path'][idx], 0)\n",
    "\n",
    "plt.figure(figsize=(8, 8))\n",
    "plt.imshow(img, cmap=\"gray\")\n",
    "for x, y, l in zip(df['x'][idx], df['y'][idx], df['level'][idx]):\n",
    "    # print(x, y, l)\n",
    "    plt.text(x, y, f\"x   {l}\", c=\"r\", horizontalalignment=\"left\", size=12)\n",
    "plt.axis(False)\n",
    "plt.show()"
   ]
  },
  {
   "cell_type": "markdown",
   "id": "d63659ad",
   "metadata": {},
   "source": [
    "### Comp data"
   ]
  },
  {
   "cell_type": "code",
   "execution_count": null,
   "id": "6fe05f15",
   "metadata": {},
   "outputs": [],
   "source": [
    "SAVE = False\n",
    "PLOT = True\n",
    "\n",
    "SAVE_FOLDER = \"../input/coords/comp_data/\"\n",
    "os.makedirs(SAVE_FOLDER, exist_ok=True)"
   ]
  },
  {
   "cell_type": "code",
   "execution_count": null,
   "id": "b8395dab",
   "metadata": {},
   "outputs": [],
   "source": [
    "df = prepare_data()\n",
    "df = df.dropna(axis=0).reset_index(drop=True)"
   ]
  },
  {
   "cell_type": "code",
   "execution_count": null,
   "id": "6642c15b",
   "metadata": {},
   "outputs": [],
   "source": [
    "dfs = []\n",
    "for idx in tqdm(range(len(df))):\n",
    "    if df['orient'][idx] == \"Axial\":\n",
    "        continue\n",
    "    # if not df['series_id'][idx] == 4089185953:\n",
    "    #     continue\n",
    "\n",
    "    img = np.load(df['img_path'][idx])\n",
    "\n",
    "    img = img[len(img) // 2]\n",
    "    # img = np.concatenate([\n",
    "    #     img[len(img) // 4][..., None],\n",
    "    #     img[len(img) // 2][..., None],\n",
    "    #     img[3 * len(img) // 4][..., None],\n",
    "    # ], -1)\n",
    "\n",
    "    img = np.clip(img, np.percentile(img.flatten(), 0), np.percentile(img.flatten(), 98))  # DO NOT FORGET\n",
    "    img = (img - img.min()) / (img.max() - img.min()) \n",
    "    img = (img * 255).astype(np.uint8)\n",
    "\n",
    "    df_coords = pd.DataFrame(\n",
    "        df['coords'][idx], df['level'][idx], columns=['z', 'x', 'y']\n",
    "    ).reset_index()\n",
    "    df_coords = df_coords.groupby('index').mean().reset_index()\n",
    "    df_coords = df_coords.rename(columns={\"index\": \"level\"}).sort_values('level', ignore_index=True)\n",
    "\n",
    "    df_coords['relative_x'] = df_coords['x'] / img.shape[1]\n",
    "    df_coords['relative_y'] = df_coords['y'] / img.shape[0]\n",
    "\n",
    "    cols = [\"study_id\", \"series_id\", \"orient\", \"weighting\"]\n",
    "    for col in cols:\n",
    "        df_coords[col] = df[col][idx]\n",
    "\n",
    "    df_coords['img_path'] = SAVE_FOLDER + f'{df[\"study_id\"][idx]}_{df[\"series_id\"][idx]}.png'\n",
    "    dfs.append(df_coords)\n",
    "\n",
    "    # if len(df_coords) == 5:\n",
    "    #     continue\n",
    "    # print(df['series_id'][idx])\n",
    "\n",
    "    if SAVE:\n",
    "        cv2.imwrite(df_coords[\"img_path\"][0], img)\n",
    "\n",
    "    if PLOT:\n",
    "        plt.figure(figsize=(8, 8))\n",
    "        plt.imshow(img, cmap=\"gray\")\n",
    "        for x, y, l in zip(df_coords['x'], df_coords['y'], df_coords['level']):\n",
    "            # print(x, y, l)\n",
    "            plt.text(x, y, f\"x   {l}\", c=\"r\", horizontalalignment=\"left\", size=12)\n",
    "        # plt.axis(False)\n",
    "        plt.show()\n",
    "    \n",
    "        # if idx > 5:\n",
    "        break"
   ]
  },
  {
   "cell_type": "code",
   "execution_count": null,
   "id": "1b288f5f",
   "metadata": {},
   "outputs": [],
   "source": [
    "if SAVE:\n",
    "    df_ = pd.concat(dfs)\n",
    "    df_ = df_[\n",
    "        [\"study_id\", \"series_id\", \"img_path\", \"level\", \"x\", \"y\", \"relative_x\", \"relative_y\"]\n",
    "    ]\n",
    "    df_.to_csv(\"../input/coords/coords_comp.csv\", index=False)\n",
    "    display(df_.head(1))"
   ]
  },
  {
   "cell_type": "markdown",
   "id": "af9153be",
   "metadata": {},
   "source": [
    "### Dataset"
   ]
  },
  {
   "cell_type": "code",
   "execution_count": null,
   "id": "49f6e949",
   "metadata": {},
   "outputs": [],
   "source": [
    "from data.dataset import CoordsDataset\n",
    "from data.preparation import prepare_coords_data\n",
    "\n",
    "df_coords = prepare_coords_data()\n",
    "\n",
    "dataset = CoordsDataset(df_coords, transforms=get_transfos(resize=(384, 384), strength=0, use_keypoints=True))"
   ]
  },
  {
   "cell_type": "code",
   "execution_count": null,
   "id": "59d4915c",
   "metadata": {},
   "outputs": [],
   "source": [
    "for idx in tqdm(range(len(dataset))):\n",
    "    x, y, _  = dataset[idx]\n",
    "    assert y.size() == torch.Size([5, 2])\n",
    "    break"
   ]
  },
  {
   "cell_type": "code",
   "execution_count": null,
   "id": "16ed39c3",
   "metadata": {},
   "outputs": [],
   "source": [
    "idx = np.random.choice(len(dataset))\n",
    "\n",
    "x, y, _  = dataset[idx]"
   ]
  },
  {
   "cell_type": "code",
   "execution_count": null,
   "id": "7bb0bec6",
   "metadata": {},
   "outputs": [],
   "source": [
    "\n",
    "y = y[y.sum(-1) > 0]\n",
    "img = x[0]\n",
    "img = (img - img.min()) / (img.max() - img.min())\n",
    "y *= img.shape[0]\n",
    "\n",
    "plt.figure(figsize=(10, 10))\n",
    "plt.imshow(img, cmap=\"gray\")\n",
    "plt.scatter(y[:, 0], y[:, 1])\n",
    "plt.show()"
   ]
  },
  {
   "cell_type": "markdown",
   "id": "16bd75ce",
   "metadata": {},
   "source": [
    "Done ! "
   ]
  }
 ],
 "metadata": {
  "kernelspec": {
   "display_name": "Python 3 (ipykernel)",
   "language": "python",
   "name": "python3"
  },
  "language_info": {
   "codemirror_mode": {
    "name": "ipython",
    "version": 3
   },
   "file_extension": ".py",
   "mimetype": "text/x-python",
   "name": "python",
   "nbconvert_exporter": "python",
   "pygments_lexer": "ipython3",
   "version": "3.10.12"
  },
  "papermill": {
   "default_parameters": {},
   "duration": 6677.910014,
   "end_time": "2023-08-12T17:53:47.148086",
   "environment_variables": {},
   "exception": null,
   "input_path": "__notebook__.ipynb",
   "output_path": "__notebook__.ipynb",
   "parameters": {},
   "start_time": "2023-08-12T16:02:29.238072",
   "version": "2.4.0"
  }
 },
 "nbformat": 4,
 "nbformat_minor": 5
}
