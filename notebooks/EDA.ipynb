{
 "cells": [
  {
   "cell_type": "code",
   "execution_count": null,
   "id": "04fefbb9",
   "metadata": {},
   "outputs": [],
   "source": [
    "%load_ext autoreload\n",
    "%autoreload 2"
   ]
  },
  {
   "cell_type": "code",
   "execution_count": null,
   "id": "fe5d4f48",
   "metadata": {},
   "outputs": [],
   "source": [
    "cd ../src"
   ]
  },
  {
   "cell_type": "code",
   "execution_count": null,
   "id": "68e6ad4e",
   "metadata": {
    "_cell_guid": "b1076dfc-b9ad-4769-8c92-a6c4dae69d19",
    "_uuid": "8f2839f25d086af736a60e9eeb907d3b93b6e0e5",
    "papermill": {
     "duration": 2.317669,
     "end_time": "2023-08-12T16:03:02.827155",
     "exception": false,
     "start_time": "2023-08-12T16:03:00.509486",
     "status": "completed"
    },
    "tags": []
   },
   "outputs": [],
   "source": [
    "import os\n",
    "import cv2\n",
    "import json\n",
    "import glob\n",
    "import torch\n",
    "import numpy as np\n",
    "import pandas as pd\n",
    "import seaborn as sns\n",
    "import matplotlib.pyplot as plt\n",
    "import torch.nn.functional as F\n",
    "\n",
    "from collections import Counter\n",
    "from tqdm.notebook import tqdm\n",
    "\n",
    "\n",
    "pd.set_option('display.width', 500)\n",
    "pd.set_option('max_colwidth', 100)\n",
    "pd.set_option('display.max_columns', 100)"
   ]
  },
  {
   "cell_type": "code",
   "execution_count": null,
   "id": "0d620e82",
   "metadata": {},
   "outputs": [],
   "source": [
    "from params import *\n",
    "\n",
    "from data.preparation import *\n",
    "\n",
    "from util.plots import *\n",
    "from util.logger import Config\n",
    "from util.torch import load_model_weights\n",
    "\n",
    "from model_zoo.models_seg import define_model"
   ]
  },
  {
   "cell_type": "code",
   "execution_count": null,
   "id": "3bd949d3",
   "metadata": {},
   "outputs": [],
   "source": [
    "# from boto3.session import Session\n",
    "# import boto3\n",
    "# import os\n",
    "\n",
    "# BUCKET_NAME = 'kaggle-rsna24'\n",
    "# ACCESS_KEY = ''\n",
    "# SECRET_KEY = ''\n",
    "\n",
    "# session = Session(aws_access_key_id=ACCESS_KEY, aws_secret_access_key=SECRET_KEY)\n",
    "# s3 = session.resource('s3')\n",
    "# your_bucket = s3.Bucket(BUCKET_NAME)\n",
    "\n",
    "# fns = []\n",
    "# for s3_file in your_bucket.objects.all():\n",
    "#     fns += [s3_file.key]\n",
    "\n",
    "# # for fn in tqdm(fns):\n",
    "# #     if \"train_folded_v1\" in fn:\n",
    "# #         print(fn)\n",
    "# #         target_file = fn.split('/')[-1]\n",
    "# #         s3.Bucket(BUCKET_NAME).download_file(fn, target_file)"
   ]
  },
  {
   "cell_type": "code",
   "execution_count": null,
   "id": "89aca514",
   "metadata": {},
   "outputs": [],
   "source": [
    "df = prepare_data(DATA_PATH)"
   ]
  },
  {
   "cell_type": "code",
   "execution_count": null,
   "id": "b8395dab",
   "metadata": {},
   "outputs": [],
   "source": [
    "df_train = pd.read_csv(DATA_PATH + \"train.csv\")"
   ]
  },
  {
   "cell_type": "code",
   "execution_count": null,
   "id": "576d85c0",
   "metadata": {},
   "outputs": [],
   "source": [
    "df_train[df_train[df_train.columns[:6]].isna().sum(1) > 0]"
   ]
  },
  {
   "cell_type": "code",
   "execution_count": null,
   "id": "6b1f3a5b",
   "metadata": {},
   "outputs": [],
   "source": [
    "len(df_train), len(df.study_id.unique())"
   ]
  },
  {
   "cell_type": "code",
   "execution_count": null,
   "id": "1d12ebd5",
   "metadata": {},
   "outputs": [],
   "source": [
    "import re\n",
    "df['condition'] = df['condition'].apply(lambda d: d if isinstance(d, list) else [])\n",
    "\n",
    "df['condition'] = df['condition'].apply(lambda x: [re.sub('Neural Foraminal Narrowing', 'NFN', u) for u in x])\n",
    "df['condition'] = df['condition'].apply(lambda x: [re.sub('Spinal Canal Stenosis', 'SCS', u) for u in x])\n",
    "df['condition'] = df['condition'].apply(lambda x: [re.sub('Subarticular Stenosis', 'SS', u) for u in x])\n",
    "df['condition'] = df['condition'].apply(lambda x: [re.sub('Left', 'L', u) for u in x])\n",
    "df['condition'] = df['condition'].apply(lambda x: [re.sub('Right', 'R', u) for u in x])"
   ]
  },
  {
   "cell_type": "code",
   "execution_count": null,
   "id": "81c906b0",
   "metadata": {},
   "outputs": [],
   "source": [
    "df_ = pd.read_csv(DATA_PATH + \"train_label_coordinates.csv\")\n",
    "df_ = df_[df_['condition'].apply(lambda x: 'Neural Foraminal Narrowing' in x)].reset_index(drop=True)\n",
    "df_[\"side\"] = df_['condition'].apply(lambda x: x.split()[0])\n",
    "\n",
    "frames = pd.read_csv('../input/df_frames.csv')\n",
    "frames[\"frames\"] = frames[\"frames\"].apply(eval)\n",
    "df_ = df_.merge(frames, how=\"left\")\n",
    "df_['ordered'] = df_['frames'].apply(lambda x: x[0] < x[-1])\n",
    "\n",
    "dfg = df_[[\"study_id\", \"series_id\", \"side\", \"instance_number\", \"ordered\"]].groupby([\"study_id\", \"series_id\", \"side\"]).mean()\n",
    "dfg['ordered'] = dfg['ordered'] > 0.5\n",
    "dfg = dfg.reset_index().groupby([\"study_id\", \"series_id\"])"
   ]
  },
  {
   "cell_type": "code",
   "execution_count": null,
   "id": "e547c42a",
   "metadata": {},
   "outputs": [],
   "source": [
    "df['x'] = df['coords'].apply(lambda x: [int(u[0]) for u in x] if isinstance(x, np.ndarray) else -1)"
   ]
  },
  {
   "cell_type": "code",
   "execution_count": null,
   "id": "1f944d49",
   "metadata": {},
   "outputs": [],
   "source": [
    "df[df['study_id'] == 3637444890]"
   ]
  },
  {
   "cell_type": "code",
   "execution_count": null,
   "id": "7e61dde6",
   "metadata": {},
   "outputs": [],
   "source": [
    "dfs"
   ]
  },
  {
   "cell_type": "code",
   "execution_count": null,
   "id": "66e4e71f",
   "metadata": {},
   "outputs": [],
   "source": [
    "df_train = prepare_data_lvl2()\n",
    "df_train[df_train['study_id'] == 1395773918]"
   ]
  },
  {
   "cell_type": "code",
   "execution_count": null,
   "id": "b7e002e4",
   "metadata": {},
   "outputs": [],
   "source": [
    "noisy"
   ]
  },
  {
   "cell_type": "code",
   "execution_count": null,
   "id": "c17bbee0",
   "metadata": {},
   "outputs": [],
   "source": [
    "noisy = []\n",
    "for s in tqdm(df.series_id.unique()):\n",
    "    dfs = df[df['series_id'] == s]\n",
    "    study = dfs['study_id'].values[0]\n",
    "\n",
    "    if dfs[\"weighting\"].values[0] != \"T1\":\n",
    "        continue\n",
    "\n",
    "    xs = dfs['x'].values[0]\n",
    "    sides = [l[0] for l in dfs['condition'].values[0]]\n",
    "\n",
    "    dfc_ = pd.DataFrame({'x': xs, 's': sides})\n",
    "    dfc = dfc_.groupby(\"s\").mean()\n",
    "    \n",
    "    try:\n",
    "        if not dfc[\"x\"][\"R\"] < dfc[\"x\"][\"L\"]:\n",
    "            print(study, s)\n",
    "            print(len(os.listdir(f'../input/train_images/{study}/{s}/')))\n",
    "            display(dfc_)\n",
    "            noisy.append(s)\n",
    "    except KeyError:\n",
    "        pass\n",
    "    # display(dfc)\n",
    "    # break\n",
    "    "
   ]
  },
  {
   "cell_type": "code",
   "execution_count": null,
   "id": "59d65a69",
   "metadata": {},
   "outputs": [],
   "source": [
    "labels = pd.read_csv(DATA_PATH + \"train_label_coordinates.csv\")\n",
    "labels[labels['series_id'] == 1032434193]"
   ]
  },
  {
   "cell_type": "code",
   "execution_count": null,
   "id": "c741375e",
   "metadata": {},
   "outputs": [],
   "source": [
    "dfs = df[df['series_id'] == 1032434193]\n",
    "dfs"
   ]
  },
  {
   "cell_type": "code",
   "execution_count": null,
   "id": "f9852281",
   "metadata": {},
   "outputs": [],
   "source": [
    "sorted(os.listdir(DATA_PATH + f\"train_images/{dfs.study_id.values[0]}/{dfs.series_id.values[0]}\"), key=lambda x: int(x.split('.')[0]))"
   ]
  },
  {
   "cell_type": "code",
   "execution_count": null,
   "id": "a965b635",
   "metadata": {},
   "outputs": [],
   "source": [
    "df_train[df_train['study_id'] == 4003253].T"
   ]
  },
  {
   "cell_type": "code",
   "execution_count": null,
   "id": "32e042f7",
   "metadata": {},
   "outputs": [],
   "source": [
    "df_train"
   ]
  },
  {
   "cell_type": "markdown",
   "id": "16bd75ce",
   "metadata": {},
   "source": [
    "Done ! "
   ]
  }
 ],
 "metadata": {
  "kernelspec": {
   "display_name": "Python 3 (ipykernel)",
   "language": "python",
   "name": "python3"
  },
  "language_info": {
   "codemirror_mode": {
    "name": "ipython",
    "version": 3
   },
   "file_extension": ".py",
   "mimetype": "text/x-python",
   "name": "python",
   "nbconvert_exporter": "python",
   "pygments_lexer": "ipython3",
   "version": "3.10.12"
  },
  "papermill": {
   "default_parameters": {},
   "duration": 6677.910014,
   "end_time": "2023-08-12T17:53:47.148086",
   "environment_variables": {},
   "exception": null,
   "input_path": "__notebook__.ipynb",
   "output_path": "__notebook__.ipynb",
   "parameters": {},
   "start_time": "2023-08-12T16:02:29.238072",
   "version": "2.4.0"
  }
 },
 "nbformat": 4,
 "nbformat_minor": 5
}
