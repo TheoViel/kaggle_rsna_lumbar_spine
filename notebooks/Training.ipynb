{
 "cells": [
  {
   "cell_type": "code",
   "execution_count": 1,
   "id": "04fefbb9",
   "metadata": {},
   "outputs": [],
   "source": [
    "%load_ext autoreload\n",
    "%autoreload 2"
   ]
  },
  {
   "cell_type": "code",
   "execution_count": 2,
   "id": "fe5d4f48",
   "metadata": {},
   "outputs": [
    {
     "name": "stdout",
     "output_type": "stream",
     "text": [
      "/workspace/kaggle_rsna_lumbar_spine/src\n"
     ]
    }
   ],
   "source": [
    "cd ../src"
   ]
  },
  {
   "cell_type": "code",
   "execution_count": 3,
   "id": "68e6ad4e",
   "metadata": {
    "_cell_guid": "b1076dfc-b9ad-4769-8c92-a6c4dae69d19",
    "_uuid": "8f2839f25d086af736a60e9eeb907d3b93b6e0e5",
    "papermill": {
     "duration": 2.317669,
     "end_time": "2023-08-12T16:03:02.827155",
     "exception": false,
     "start_time": "2023-08-12T16:03:00.509486",
     "status": "completed"
    },
    "tags": []
   },
   "outputs": [],
   "source": [
    "import os\n",
    "import cv2\n",
    "import json\n",
    "import glob\n",
    "import torch\n",
    "import numpy as np\n",
    "import pandas as pd\n",
    "import seaborn as sns\n",
    "import matplotlib.pyplot as plt\n",
    "import torch.nn.functional as F\n",
    "\n",
    "from collections import Counter\n",
    "from tqdm.notebook import tqdm\n",
    "\n",
    "\n",
    "pd.set_option('display.width', 500)\n",
    "pd.set_option('max_colwidth', 100)\n",
    "pd.set_option('display.max_columns', 100)"
   ]
  },
  {
   "cell_type": "code",
   "execution_count": 4,
   "id": "0d620e82",
   "metadata": {},
   "outputs": [],
   "source": [
    "from params import *\n",
    "\n",
    "from data.preparation import *\n",
    "from data.dataset import *\n",
    "from data.transforms import get_transfos\n",
    "\n",
    "from util.plots import *\n",
    "from util.logger import Config\n",
    "from util.torch import load_model_weights\n",
    "\n",
    "from model_zoo.models_seg import define_model"
   ]
  },
  {
   "cell_type": "code",
   "execution_count": 5,
   "id": "62bcd93d",
   "metadata": {},
   "outputs": [],
   "source": [
    "# prepare_folds()"
   ]
  },
  {
   "cell_type": "code",
   "execution_count": 53,
   "id": "14003e00",
   "metadata": {},
   "outputs": [],
   "source": [
    "df = prepare_data_crop(DATA_PATH)  # , crop_folder=\"../input/crops_fix/\")"
   ]
  },
  {
   "cell_type": "code",
   "execution_count": 54,
   "id": "63ef8ef7",
   "metadata": {},
   "outputs": [],
   "source": [
    "df = prepare_data_nfn(DATA_PATH, explode=False)"
   ]
  },
  {
   "cell_type": "code",
   "execution_count": 93,
   "id": "0390d29b",
   "metadata": {},
   "outputs": [],
   "source": [
    "# df = prepare_data_ss_crop(crop_folder=\"../input/crops_fix/\")"
   ]
  },
  {
   "cell_type": "code",
   "execution_count": 94,
   "id": "c2ad4c66-f5df-4e62-a79b-a6cb9e5f94a3",
   "metadata": {},
   "outputs": [],
   "source": [
    "df = prepare_data_scs(DATA_PATH, crop_folder=\"../input/crops_fix/\")"
   ]
  },
  {
   "cell_type": "code",
   "execution_count": 101,
   "id": "328b06f6-e7c5-49e6-9009-b4aab04cfc33",
   "metadata": {},
   "outputs": [],
   "source": [
    "df_preds_coords = pd.read_csv('../output/seg_sag_coords.csv')\n",
    "df = df.merge(df_preds_coords, how=\"left\")\n",
    "df['coords_2'] = df.apply(\n",
    "    lambda x: [{\"Left\": x.left, \"Right\": x.right, \"Center\": x.center}[x.side]],\n",
    "    axis=1\n",
    ")"
   ]
  },
  {
   "cell_type": "code",
   "execution_count": 102,
   "id": "4de5b53c-5773-4316-9e78-a4a4e719075e",
   "metadata": {},
   "outputs": [],
   "source": [
    "err = df.apply(lambda x: x.coords_2[0] - x.coords[0], axis=1)"
   ]
  },
  {
   "cell_type": "code",
   "execution_count": 108,
   "id": "1f80cabf-46a0-465d-a608-5eff1c51fc55",
   "metadata": {},
   "outputs": [
    {
     "data": {
      "text/html": [
       "<div>\n",
       "<style scoped>\n",
       "    .dataframe tbody tr th:only-of-type {\n",
       "        vertical-align: middle;\n",
       "    }\n",
       "\n",
       "    .dataframe tbody tr th {\n",
       "        vertical-align: top;\n",
       "    }\n",
       "\n",
       "    .dataframe thead th {\n",
       "        text-align: right;\n",
       "    }\n",
       "</style>\n",
       "<table border=\"1\" class=\"dataframe\">\n",
       "  <thead>\n",
       "    <tr style=\"text-align: right;\">\n",
       "      <th></th>\n",
       "      <th>study_id</th>\n",
       "      <th>series_id</th>\n",
       "      <th>series_description</th>\n",
       "      <th>orient</th>\n",
       "      <th>weighting</th>\n",
       "      <th>img_path</th>\n",
       "      <th>condition</th>\n",
       "      <th>level</th>\n",
       "      <th>coords</th>\n",
       "      <th>target</th>\n",
       "      <th>side</th>\n",
       "      <th>left</th>\n",
       "      <th>center</th>\n",
       "      <th>right</th>\n",
       "      <th>mid</th>\n",
       "      <th>coords_2</th>\n",
       "    </tr>\n",
       "  </thead>\n",
       "  <tbody>\n",
       "    <tr>\n",
       "      <th>938</th>\n",
       "      <td>404602713</td>\n",
       "      <td>1230697721</td>\n",
       "      <td>Sagittal T2/STIR</td>\n",
       "      <td>Sagittal</td>\n",
       "      <td>T2/STIR</td>\n",
       "      <td>../input/crops_fix/404602713_1230697721_l5_s1.npy</td>\n",
       "      <td>Spinal Canal Stenosis</td>\n",
       "      <td>L5/S1</td>\n",
       "      <td>[6.0, 177.29936563351498, 230.9080301643392]</td>\n",
       "      <td>0</td>\n",
       "      <td>Center</td>\n",
       "      <td>13</td>\n",
       "      <td>11</td>\n",
       "      <td>7</td>\n",
       "      <td>10</td>\n",
       "      <td>[11]</td>\n",
       "    </tr>\n",
       "    <tr>\n",
       "      <th>1156</th>\n",
       "      <td>504362668</td>\n",
       "      <td>4031652250</td>\n",
       "      <td>Sagittal T2/STIR</td>\n",
       "      <td>Sagittal</td>\n",
       "      <td>T2/STIR</td>\n",
       "      <td>../input/crops_fix/504362668_4031652250_l4_l5.npy</td>\n",
       "      <td>Spinal Canal Stenosis</td>\n",
       "      <td>L4/L5</td>\n",
       "      <td>[15.0, 477.2274368231047, 489.01083032490976]</td>\n",
       "      <td>0</td>\n",
       "      <td>Center</td>\n",
       "      <td>13</td>\n",
       "      <td>9</td>\n",
       "      <td>6</td>\n",
       "      <td>11</td>\n",
       "      <td>[9]</td>\n",
       "    </tr>\n",
       "    <tr>\n",
       "      <th>1157</th>\n",
       "      <td>504362668</td>\n",
       "      <td>4031652250</td>\n",
       "      <td>Sagittal T2/STIR</td>\n",
       "      <td>Sagittal</td>\n",
       "      <td>T2/STIR</td>\n",
       "      <td>../input/crops_fix/504362668_4031652250_l5_s1.npy</td>\n",
       "      <td>Spinal Canal Stenosis</td>\n",
       "      <td>L5/S1</td>\n",
       "      <td>[15.0, 502.1805054151625, 541.6895306859207]</td>\n",
       "      <td>0</td>\n",
       "      <td>Center</td>\n",
       "      <td>13</td>\n",
       "      <td>9</td>\n",
       "      <td>6</td>\n",
       "      <td>11</td>\n",
       "      <td>[9]</td>\n",
       "    </tr>\n",
       "    <tr>\n",
       "      <th>3665</th>\n",
       "      <td>1647904243</td>\n",
       "      <td>429524619</td>\n",
       "      <td>Sagittal T2/STIR</td>\n",
       "      <td>Sagittal</td>\n",
       "      <td>T2/STIR</td>\n",
       "      <td>../input/crops_fix/1647904243_429524619_l5_s1.npy</td>\n",
       "      <td>Spinal Canal Stenosis</td>\n",
       "      <td>L5/S1</td>\n",
       "      <td>[8.0, 142.9517543859649, 168.8421052631579]</td>\n",
       "      <td>0</td>\n",
       "      <td>Center</td>\n",
       "      <td>12</td>\n",
       "      <td>13</td>\n",
       "      <td>15</td>\n",
       "      <td>13</td>\n",
       "      <td>[13]</td>\n",
       "    </tr>\n",
       "    <tr>\n",
       "      <th>6667</th>\n",
       "      <td>2937953357</td>\n",
       "      <td>2433869833</td>\n",
       "      <td>Sagittal T2/STIR</td>\n",
       "      <td>Sagittal</td>\n",
       "      <td>T2/STIR</td>\n",
       "      <td>../input/crops_fix/2937953357_2433869833_l1_l2.npy</td>\n",
       "      <td>Spinal Canal Stenosis</td>\n",
       "      <td>L1/L2</td>\n",
       "      <td>[1.0, 211.01769911504425, 129.15929203539824]</td>\n",
       "      <td>0</td>\n",
       "      <td>Center</td>\n",
       "      <td>13</td>\n",
       "      <td>10</td>\n",
       "      <td>7</td>\n",
       "      <td>10</td>\n",
       "      <td>[10]</td>\n",
       "    </tr>\n",
       "    <tr>\n",
       "      <th>7461</th>\n",
       "      <td>3294654272</td>\n",
       "      <td>4147986695</td>\n",
       "      <td>Sagittal T2/STIR</td>\n",
       "      <td>Sagittal</td>\n",
       "      <td>T2/STIR</td>\n",
       "      <td>../input/crops_fix/3294654272_4147986695_l1_l2.npy</td>\n",
       "      <td>Spinal Canal Stenosis</td>\n",
       "      <td>L1/L2</td>\n",
       "      <td>[0.0, 161.77150632022472, 270.5056179775281]</td>\n",
       "      <td>0</td>\n",
       "      <td>Center</td>\n",
       "      <td>14</td>\n",
       "      <td>9</td>\n",
       "      <td>7</td>\n",
       "      <td>10</td>\n",
       "      <td>[9]</td>\n",
       "    </tr>\n",
       "    <tr>\n",
       "      <th>7910</th>\n",
       "      <td>3480975258</td>\n",
       "      <td>571488072</td>\n",
       "      <td>Sagittal T2/STIR</td>\n",
       "      <td>Sagittal</td>\n",
       "      <td>T2/STIR</td>\n",
       "      <td>../input/crops_fix/3480975258_571488072_l5_s1.npy</td>\n",
       "      <td>Spinal Canal Stenosis</td>\n",
       "      <td>L5/S1</td>\n",
       "      <td>[14.0, 324.7485822306238, 461.9432892249527]</td>\n",
       "      <td>0</td>\n",
       "      <td>Center</td>\n",
       "      <td>13</td>\n",
       "      <td>9</td>\n",
       "      <td>6</td>\n",
       "      <td>11</td>\n",
       "      <td>[9]</td>\n",
       "    </tr>\n",
       "    <tr>\n",
       "      <th>9240</th>\n",
       "      <td>4072191052</td>\n",
       "      <td>2094081979</td>\n",
       "      <td>Sagittal T2/STIR</td>\n",
       "      <td>Sagittal</td>\n",
       "      <td>T2/STIR</td>\n",
       "      <td>../input/crops_fix/4072191052_2094081979_l5_s1.npy</td>\n",
       "      <td>Spinal Canal Stenosis</td>\n",
       "      <td>L5/S1</td>\n",
       "      <td>[11.0, 262.9829913147139, 277.11451060115803]</td>\n",
       "      <td>0</td>\n",
       "      <td>Center</td>\n",
       "      <td>9</td>\n",
       "      <td>6</td>\n",
       "      <td>4</td>\n",
       "      <td>9</td>\n",
       "      <td>[6]</td>\n",
       "    </tr>\n",
       "  </tbody>\n",
       "</table>\n",
       "</div>"
      ],
      "text/plain": [
       "        study_id   series_id series_description    orient weighting                                            img_path              condition  level                                         coords  target    side  left  center  right  mid coords_2\n",
       "938    404602713  1230697721   Sagittal T2/STIR  Sagittal   T2/STIR   ../input/crops_fix/404602713_1230697721_l5_s1.npy  Spinal Canal Stenosis  L5/S1   [6.0, 177.29936563351498, 230.9080301643392]       0  Center    13      11      7   10     [11]\n",
       "1156   504362668  4031652250   Sagittal T2/STIR  Sagittal   T2/STIR   ../input/crops_fix/504362668_4031652250_l4_l5.npy  Spinal Canal Stenosis  L4/L5  [15.0, 477.2274368231047, 489.01083032490976]       0  Center    13       9      6   11      [9]\n",
       "1157   504362668  4031652250   Sagittal T2/STIR  Sagittal   T2/STIR   ../input/crops_fix/504362668_4031652250_l5_s1.npy  Spinal Canal Stenosis  L5/S1   [15.0, 502.1805054151625, 541.6895306859207]       0  Center    13       9      6   11      [9]\n",
       "3665  1647904243   429524619   Sagittal T2/STIR  Sagittal   T2/STIR   ../input/crops_fix/1647904243_429524619_l5_s1.npy  Spinal Canal Stenosis  L5/S1    [8.0, 142.9517543859649, 168.8421052631579]       0  Center    12      13     15   13     [13]\n",
       "6667  2937953357  2433869833   Sagittal T2/STIR  Sagittal   T2/STIR  ../input/crops_fix/2937953357_2433869833_l1_l2.npy  Spinal Canal Stenosis  L1/L2  [1.0, 211.01769911504425, 129.15929203539824]       0  Center    13      10      7   10     [10]\n",
       "7461  3294654272  4147986695   Sagittal T2/STIR  Sagittal   T2/STIR  ../input/crops_fix/3294654272_4147986695_l1_l2.npy  Spinal Canal Stenosis  L1/L2   [0.0, 161.77150632022472, 270.5056179775281]       0  Center    14       9      7   10      [9]\n",
       "7910  3480975258   571488072   Sagittal T2/STIR  Sagittal   T2/STIR   ../input/crops_fix/3480975258_571488072_l5_s1.npy  Spinal Canal Stenosis  L5/S1   [14.0, 324.7485822306238, 461.9432892249527]       0  Center    13       9      6   11      [9]\n",
       "9240  4072191052  2094081979   Sagittal T2/STIR  Sagittal   T2/STIR  ../input/crops_fix/4072191052_2094081979_l5_s1.npy  Spinal Canal Stenosis  L5/S1  [11.0, 262.9829913147139, 277.11451060115803]       0  Center     9       6      4    9      [6]"
      ]
     },
     "execution_count": 108,
     "metadata": {},
     "output_type": "execute_result"
    }
   ],
   "source": [
    "df[err.abs() > 4]"
   ]
  },
  {
   "cell_type": "code",
   "execution_count": 103,
   "id": "bf64eb36-1ab6-49b9-ae5d-dc8a4709b541",
   "metadata": {},
   "outputs": [
    {
     "data": {
      "text/plain": [
       "0.44706606483381206"
      ]
     },
     "execution_count": 103,
     "metadata": {},
     "output_type": "execute_result"
    }
   ],
   "source": [
    "np.abs(err.values).mean()"
   ]
  },
  {
   "cell_type": "code",
   "execution_count": 104,
   "id": "0109dff7-5cf3-4c80-81df-8b94d17f77df",
   "metadata": {},
   "outputs": [
    {
     "data": {
      "text/plain": [
       "0.04103405826836274"
      ]
     },
     "execution_count": 104,
     "metadata": {},
     "output_type": "execute_result"
    }
   ],
   "source": [
    "((np.abs(err.values) > 5) * 100).mean()"
   ]
  },
  {
   "cell_type": "code",
   "execution_count": 105,
   "id": "35355e4c-8627-4fe3-9927-e2d5ef34e3cc",
   "metadata": {},
   "outputs": [
    {
     "data": {
      "text/plain": [
       "0.04103405826836274"
      ]
     },
     "execution_count": 105,
     "metadata": {},
     "output_type": "execute_result"
    }
   ],
   "source": [
    "((np.abs(err.values) > 5) * 100).mean()"
   ]
  },
  {
   "cell_type": "code",
   "execution_count": 100,
   "id": "5917de14-92fe-402a-b85b-05419a0a59fc",
   "metadata": {},
   "outputs": [
    {
     "data": {
      "image/png": "[encoded data removed]",
      "text/plain": [
       "<Figure size 640x480 with 1 Axes>"
      ]
     },
     "metadata": {},
     "output_type": "display_data"
    }
   ],
   "source": [
    "sns.histplot(x=err.values)\n",
    "plt.yscale('log')"
   ]
  },
  {
   "cell_type": "code",
   "execution_count": 106,
   "id": "61cee35d-8829-4b08-be9b-1fa5d770196e",
   "metadata": {},
   "outputs": [
    {
     "data": {
      "image/png": "[encoded data removed]",
      "text/plain": [
       "<Figure size 640x480 with 1 Axes>"
      ]
     },
     "metadata": {},
     "output_type": "display_data"
    }
   ],
   "source": [
    "sns.histplot(x=err.values)\n",
    "plt.yscale('log')"
   ]
  },
  {
   "cell_type": "code",
   "execution_count": null,
   "id": "89ad5880-2d3b-4185-80df-e5743f0883e8",
   "metadata": {},
   "outputs": [],
   "source": []
  },
  {
   "cell_type": "code",
   "execution_count": null,
   "id": "4a1fecca",
   "metadata": {},
   "outputs": [],
   "source": [
    "# df = prepare_data_ss(explode=True)"
   ]
  },
  {
   "cell_type": "code",
   "execution_count": null,
   "id": "c3b6a4b5",
   "metadata": {},
   "outputs": [],
   "source": [
    "# img = np.load(\"../input/npy/10728036_142859125.npy\")\n",
    "# img2 = np.load(\"../input/npy/10728036_2073726394.npy\")\n",
    "# for i in range(0, len(img), 10):\n",
    "#     plt.figure(figsize=(5, 5))\n",
    "#     plt.imshow(img[i], cmap=\"gray\")\n",
    "#     plt.axis(False)\n",
    "#     plt.show()"
   ]
  },
  {
   "cell_type": "code",
   "execution_count": null,
   "id": "7735b079",
   "metadata": {},
   "outputs": [],
   "source": [
    "# df[df[CLASSES_SS_NOLVL].sum(1) < 0]"
   ]
  },
  {
   "cell_type": "code",
   "execution_count": null,
   "id": "a851d8e8",
   "metadata": {},
   "outputs": [],
   "source": [
    "# df[df['target'].apply(len) != 2]"
   ]
  },
  {
   "cell_type": "code",
   "execution_count": null,
   "id": "98a87695",
   "metadata": {},
   "outputs": [],
   "source": [
    "# df = prepare_data_scs(DATA_PATH, explode=False)\n",
    "# plt.figure(figsize=(20, 5))\n",
    "# for i, c in enumerate(CLASSES_SCS):\n",
    "#     plt.subplot(1, len(CLASSES_SCS), i + 1)\n",
    "#     sns.countplot(x=df[c])\n",
    "# plt.show()"
   ]
  },
  {
   "cell_type": "code",
   "execution_count": null,
   "id": "c35f4410",
   "metadata": {},
   "outputs": [],
   "source": [
    "df = prepare_data_scs(DATA_PATH, \"../input/crops_2/\")\n",
    "\n",
    "df = prepare_data_nfn(DATA_PATH, \"../input/crops_2/\")"
   ]
  },
  {
   "cell_type": "code",
   "execution_count": null,
   "id": "d16ca84a",
   "metadata": {},
   "outputs": [],
   "source": [
    "df.head(1)"
   ]
  },
  {
   "cell_type": "code",
   "execution_count": null,
   "id": "e2cee0aa",
   "metadata": {},
   "outputs": [],
   "source": [
    "# df[df[\"coords_crop\"].apply(np.sum) < 0]"
   ]
  },
  {
   "cell_type": "code",
   "execution_count": null,
   "id": "009f5d55",
   "metadata": {},
   "outputs": [],
   "source": [
    "# df = prepare_data_scs(DATA_PATH, None, explode=False)\n",
    "df = prepare_data_nfn(DATA_PATH, None, explode=False, left_right=True)"
   ]
  },
  {
   "cell_type": "code",
   "execution_count": null,
   "id": "197d96e4",
   "metadata": {},
   "outputs": [],
   "source": [
    "df[df.isna().sum(1) > 0]"
   ]
  },
  {
   "cell_type": "markdown",
   "id": "04dc982d",
   "metadata": {},
   "source": [
    "### Dataset"
   ]
  },
  {
   "cell_type": "code",
   "execution_count": null,
   "id": "38889c1b",
   "metadata": {},
   "outputs": [],
   "source": [
    "# transfos = get_transfos(augment=False, resize=(384, 384), crop=False)\n",
    "transfos = get_transfos(augment=False, resize=(224, 224), crop=False)"
   ]
  },
  {
   "cell_type": "code",
   "execution_count": null,
   "id": "cd4bf0de",
   "metadata": {},
   "outputs": [],
   "source": [
    "# df = prepare_data_ss(explode=True)\n",
    "\n",
    "# dataset = ImageDataset(\n",
    "#     df,\n",
    "#     CLASSES_SS_NOLVL,\n",
    "#     transforms=transfos,\n",
    "#     frames_chanel=1,\n",
    "#     n_frames=1,\n",
    "#     stride=1,\n",
    "#     train=True,\n",
    "#     load_in_ram=False,\n",
    "# )"
   ]
  },
  {
   "cell_type": "code",
   "execution_count": null,
   "id": "11ab001d",
   "metadata": {},
   "outputs": [],
   "source": [
    "# df = prepare_data_nfn(DATA_PATH, None, explode=False, left_right=True)\n",
    "\n",
    "# dataset = ImageDataset(\n",
    "#     df,\n",
    "#     CLASSES_NFN_NOSIDE,\n",
    "#     transforms=transfos,\n",
    "#     frames_chanel=1,\n",
    "#     n_frames=1,\n",
    "#     stride=1,\n",
    "#     train=True,\n",
    "#     load_in_ram=False,\n",
    "# )"
   ]
  },
  {
   "cell_type": "code",
   "execution_count": null,
   "id": "928840ad",
   "metadata": {},
   "outputs": [],
   "source": [
    "df = prepare_data_nfn(DATA_PATH, \"../input/coords_crops_0.1_2/\")\n",
    "df[\"img_path_ax\"] = df[\"img_path\"].apply(lambda x: \"../input/crops_ax_0.15/\" + x.split('/')[-1])\n",
    "\n",
    "\n",
    "dataset = CropSagAxDataset(\n",
    "    df,\n",
    "    \"target\",\n",
    "    transforms=transfos,\n",
    "    frames_chanel=0,\n",
    "    n_frames=3,\n",
    "    stride=1,\n",
    "    train=True,\n",
    "    load_in_ram=False,\n",
    "    use_coords_crop=True\n",
    ")"
   ]
  },
  {
   "cell_type": "code",
   "execution_count": null,
   "id": "6ea366a5",
   "metadata": {},
   "outputs": [],
   "source": [
    "# # # df = prepare_data_scs(DATA_PATH, \"../input/crops_fix/\")\n",
    "# # df = prepare_data_crop(DATA_PATH, crop_folder=\"../input/crops_fix/\")\n",
    "# df = prepare_data_nfn(DATA_PATH, \"../input/crops_fix/\")\n",
    "# df = prepare_data_nfn(DATA_PATH, \"../input/coords_crops_0.15_2/\")\n",
    "\n",
    "# dataset = CropDataset(\n",
    "#     df,\n",
    "#     \"target\",\n",
    "#     transforms=transfos,\n",
    "#     frames_chanel=0,\n",
    "#     n_frames=3,\n",
    "#     stride=1,\n",
    "#     train=True,\n",
    "#     load_in_ram=False,\n",
    "#     use_coords_crop=True\n",
    "# )"
   ]
  },
  {
   "cell_type": "code",
   "execution_count": null,
   "id": "5d867fa5",
   "metadata": {},
   "outputs": [],
   "source": [
    "for i in tqdm(range(len(dataset))):\n",
    "    x, y, y_aux = dataset[i]\n",
    "    # break\n",
    "    # print(y_aux)\n",
    "\n",
    "    if i >= 10:\n",
    "        break"
   ]
  },
  {
   "cell_type": "code",
   "execution_count": null,
   "id": "37a143d7",
   "metadata": {},
   "outputs": [],
   "source": [
    "x, y, y_aux = dataset[1]\n",
    "# x = x['ax']\n",
    "\n",
    "try:\n",
    "    img = x.numpy().transpose(0, 2, 3, 1)\n",
    "\n",
    "    plt.figure(figsize=(15, 5))\n",
    "    for f in range(len(img)):\n",
    "        plt.subplot(1, len(img), f + 1)\n",
    "        plt.imshow(img[f])\n",
    "        plt.axis(False)\n",
    "    plt.show()\n",
    "\n",
    "except:\n",
    "    img = x.numpy().transpose(1, 2, 0)\n",
    "    plt.figure(figsize=(15, 5))\n",
    "    plt.imshow(img)\n",
    "    plt.axis(False)\n",
    "    plt.show()"
   ]
  },
  {
   "cell_type": "markdown",
   "id": "0316fdba",
   "metadata": {},
   "source": [
    "### Loss"
   ]
  },
  {
   "cell_type": "code",
   "execution_count": null,
   "id": "e75002e2",
   "metadata": {},
   "outputs": [],
   "source": [
    "from training.losses import SpineLoss"
   ]
  },
  {
   "cell_type": "code",
   "execution_count": null,
   "id": "ad94ae90",
   "metadata": {},
   "outputs": [],
   "source": [
    "loss_config = {\n",
    "    \"name\": \"series\",\n",
    "    \"weighted\": False,\n",
    "    \"use_any\": False,\n",
    "    \"smoothing\": 0.0,\n",
    "    \"activation\": \"series\",\n",
    "    \"aux_loss_weight\": 0.0,\n",
    "    \"name_aux\": \"study\",\n",
    "    \"smoothing_aux\": 0.0,\n",
    "    \"activation_aux\": \"\",\n",
    "}\n",
    "\n",
    "loss = SpineLoss(loss_config)"
   ]
  },
  {
   "cell_type": "code",
   "execution_count": null,
   "id": "8abc106f",
   "metadata": {},
   "outputs": [],
   "source": [
    "y = dataset[1][1].unsqueeze(0)\n",
    "y"
   ]
  },
  {
   "cell_type": "code",
   "execution_count": null,
   "id": "da4ca51d",
   "metadata": {},
   "outputs": [],
   "source": [
    "x = torch.randn(1, 15)"
   ]
  },
  {
   "cell_type": "code",
   "execution_count": null,
   "id": "646f5d88",
   "metadata": {},
   "outputs": [],
   "source": [
    "# loss(x, x, y, y)"
   ]
  },
  {
   "cell_type": "markdown",
   "id": "1787575b",
   "metadata": {},
   "source": [
    "### Model"
   ]
  },
  {
   "cell_type": "code",
   "execution_count": null,
   "id": "c08e3819",
   "metadata": {},
   "outputs": [],
   "source": [
    "from model_zoo.models import define_model\n",
    "from util.torch import count_parameters"
   ]
  },
  {
   "cell_type": "code",
   "execution_count": null,
   "id": "0423a9a8",
   "metadata": {},
   "outputs": [],
   "source": [
    "model = define_model(\n",
    "    \"coatnet_1_rw_224\",  # \"coatnet_rmlp_2_rw_384\",  # \"coatnet_1_rw_224\",\n",
    "    pooling=\"avg_h\",\n",
    "    head_3d=\"lstm\",\n",
    "    n_frames=3,\n",
    "    num_classes=3,\n",
    "    n_channels=3,\n",
    "    drop_rate=0.2,\n",
    "    reduce_stride=False,\n",
    ")"
   ]
  },
  {
   "cell_type": "code",
   "execution_count": null,
   "id": "a5a658c7",
   "metadata": {},
   "outputs": [],
   "source": [
    "count_parameters(model)"
   ]
  },
  {
   "cell_type": "code",
   "execution_count": null,
   "id": "430abbbf",
   "metadata": {},
   "outputs": [],
   "source": [
    "x, y, _ = dataset[0]\n",
    "x = x.unsqueeze(0)"
   ]
  },
  {
   "cell_type": "code",
   "execution_count": null,
   "id": "a8ec57e6",
   "metadata": {},
   "outputs": [],
   "source": [
    "x.size()"
   ]
  },
  {
   "cell_type": "code",
   "execution_count": null,
   "id": "d43df474",
   "metadata": {},
   "outputs": [],
   "source": [
    "pred, _ = model(x)"
   ]
  },
  {
   "cell_type": "code",
   "execution_count": null,
   "id": "7ae9f663",
   "metadata": {},
   "outputs": [],
   "source": [
    "pred.size()"
   ]
  },
  {
   "cell_type": "markdown",
   "id": "3dc845a3",
   "metadata": {},
   "source": [
    "### Inf"
   ]
  },
  {
   "cell_type": "code",
   "execution_count": null,
   "id": "894d780e",
   "metadata": {},
   "outputs": [],
   "source": [
    "from inference.lvl1 import *"
   ]
  },
  {
   "cell_type": "code",
   "execution_count": null,
   "id": "84d51663",
   "metadata": {},
   "outputs": [],
   "source": [
    "EXP_FOLDER = \"../logs/2024-08-04/33/\"\n"
   ]
  },
  {
   "cell_type": "code",
   "execution_count": null,
   "id": "c302e8f0",
   "metadata": {},
   "outputs": [],
   "source": [
    "df = prepare_data_scs(DATA_PATH, explode=False)"
   ]
  },
  {
   "cell_type": "code",
   "execution_count": null,
   "id": "cd8d0876",
   "metadata": {},
   "outputs": [],
   "source": [
    "# kfold_inference(df, EXP_FOLDER, batch_size=16, debug=True, save=True, use_fp16=True)"
   ]
  },
  {
   "cell_type": "code",
   "execution_count": null,
   "id": "bc2c6538",
   "metadata": {},
   "outputs": [],
   "source": [
    "EXP_FOLDER = \"../logs/2024-08-05/27/\""
   ]
  },
  {
   "cell_type": "code",
   "execution_count": null,
   "id": "7cb79813",
   "metadata": {},
   "outputs": [],
   "source": [
    "df = prepare_data_nfn(DATA_PATH, explode=False)"
   ]
  },
  {
   "cell_type": "code",
   "execution_count": null,
   "id": "737aac41",
   "metadata": {},
   "outputs": [],
   "source": [
    "# kfold_inference(df, EXP_FOLDER, batch_size=16, debug=True, save=False, use_fp16=True, left_right=True)"
   ]
  },
  {
   "cell_type": "code",
   "execution_count": null,
   "id": "2da5889a",
   "metadata": {},
   "outputs": [],
   "source": [
    "EXP_FOLDER = \"../logs/2024-08-06/15/\""
   ]
  },
  {
   "cell_type": "code",
   "execution_count": null,
   "id": "f916be10",
   "metadata": {},
   "outputs": [],
   "source": [
    "df = prepare_data_ss(DATA_PATH, explode=False)"
   ]
  },
  {
   "cell_type": "markdown",
   "id": "2ee90d7d",
   "metadata": {},
   "source": [
    "#### Crop models"
   ]
  },
  {
   "cell_type": "code",
   "execution_count": null,
   "id": "2384ba61",
   "metadata": {},
   "outputs": [],
   "source": [
    "# p = kfold_inference(df, EXP_FOLDER, batch_size=16, debug=True, save=True, use_fp16=True, use_aux=True)"
   ]
  },
  {
   "cell_type": "code",
   "execution_count": null,
   "id": "ddb9d00d",
   "metadata": {},
   "outputs": [],
   "source": [
    "# EXP_FOLDER = \"../logs/2024-08-07/19/\"\n",
    "# df = prepare_data_scs(DATA_PATH, \"../input/crops_fix/\")\n",
    "\n",
    "# EXP_FOLDER = \"../logs/2024-08-07/32/\"\n",
    "# df = prepare_data_nfn(DATA_PATH, \"../input/crops_fix/\")\n",
    "\n",
    "\n",
    "EXP_FOLDER = \"../logs/2024-08-21/8/\"\n",
    "df = prepare_data_crop(DATA_PATH, \"../input/crops_fix/\")\n",
    "\n",
    "if \"fold\" not in df.columns:\n",
    "    folds = pd.read_csv(\"../input/folds_4.csv\")\n",
    "    df = df.merge(folds, how=\"left\")\n",
    "    df_val = df[df['fold'] == 0].reset_index(drop=True)"
   ]
  },
  {
   "cell_type": "code",
   "execution_count": null,
   "id": "67190216",
   "metadata": {},
   "outputs": [],
   "source": [
    "p = kfold_inference_crop(df, EXP_FOLDER, batch_size=16, debug=True, save=True, use_fp16=True)"
   ]
  },
  {
   "cell_type": "code",
   "execution_count": null,
   "id": "bf44b073",
   "metadata": {},
   "outputs": [],
   "source": [
    "# from util.metrics import disk_auc\n",
    "\n",
    "# pred_inf = np.load(EXP_FOLDER + \"preds_inf_0.npy\")\n",
    "# pred_inf2 = np.load(EXP_FOLDER + \"pred_inf_0.npy\")\n",
    "# pred_val = np.load(EXP_FOLDER + \"pred_val_0.npy\")\n",
    "\n",
    "# print(\"DELTAS\")\n",
    "\n",
    "# print(np.abs(pred_inf - pred_val).max())\n",
    "# print(np.abs(pred_inf - pred_inf2).max())\n",
    "# print(np.abs(pred_val - pred_inf2).max())\n",
    "\n",
    "# print('AUCS')\n",
    "\n",
    "# print(\n",
    "#     disk_auc(df_val[\"target\"].values, pred_val)\n",
    "# )\n",
    "# print(\n",
    "#     disk_auc(df_val[\"target\"].values, pred_inf2)\n",
    "# )\n",
    "# print(\n",
    "#     disk_auc(df_val[\"target\"].values, pred_inf)\n",
    "# )"
   ]
  },
  {
   "cell_type": "markdown",
   "id": "200be194",
   "metadata": {},
   "source": [
    "### Eval"
   ]
  },
  {
   "cell_type": "code",
   "execution_count": null,
   "id": "9af60f64",
   "metadata": {},
   "outputs": [],
   "source": [
    "df = prepare_data()"
   ]
  },
  {
   "cell_type": "code",
   "execution_count": null,
   "id": "ac6108e2",
   "metadata": {},
   "outputs": [],
   "source": [
    "df_train = pd.read_csv(DATA_PATH + \"train.csv\")\n",
    "for c in df_train.columns[1:]:\n",
    "    df_train[c] = df_train[c].map(dict(zip(SEVERITIES, [0, 1, 2]))).fillna(-1)\n",
    "df_train = df_train.astype(int)\n",
    "df_train = df_train.set_index(\"study_id\")"
   ]
  },
  {
   "cell_type": "code",
   "execution_count": null,
   "id": "ae9e15ed",
   "metadata": {},
   "outputs": [],
   "source": [
    "for col in df_train.columns:\n",
    "    c = dict(Counter(df_train[col].values))\n",
    "    print(col, \"\\t\", c[0], c[1], c[2])"
   ]
  },
  {
   "cell_type": "code",
   "execution_count": null,
   "id": "a910b38e",
   "metadata": {},
   "outputs": [],
   "source": [
    "from sklearn.metrics import log_loss, roc_auc_score\n",
    "from tqdm.notebook import tqdm\n",
    "from sklearn.linear_model import LogisticRegression, LogisticRegressionCV"
   ]
  },
  {
   "cell_type": "code",
   "execution_count": null,
   "id": "7d0c6c71",
   "metadata": {},
   "outputs": [],
   "source": [
    "EXP_FOLDER_NFN = \"../logs/2024-08-05/27/\"\n",
    "\n",
    "EXP_FOLDER_SCS = \"../logs/2024-08-04/33/\"\n",
    "\n",
    "EXP_FOLDER_SS = \"../logs/2024-08-06/17/\""
   ]
  },
  {
   "cell_type": "code",
   "execution_count": null,
   "id": "7355d897",
   "metadata": {},
   "outputs": [],
   "source": [
    "all_preds, all_truths = [], []\n",
    "for study, df_study in tqdm(df.groupby('study_id')):\n",
    "    # Get study\n",
    "    try:\n",
    "        series_scs = df_study.set_index(\"series_description\")['series_id']['Sagittal T2/STIR']\n",
    "    except:\n",
    "        continue  # TODO: fix\n",
    "\n",
    "    try:\n",
    "        series_nfn = df_study.set_index(\"series_description\")['series_id']['Sagittal T1']\n",
    "    except:\n",
    "        continue  # TODO: fix\n",
    "\n",
    "    try:\n",
    "        series_ss = df_study.set_index(\"series_description\")['series_id']['Axial T2']\n",
    "    except:\n",
    "        continue  # TODO: fix\n",
    "\n",
    "    # Load\n",
    "    try:\n",
    "        preds_scs = np.load(EXP_FOLDER_SCS+ f'preds/{study}_{series_scs}.npy')\n",
    "    except:\n",
    "        preds_scs = np.mean(\n",
    "            [np.load(EXP_FOLDER_SCS + f'preds/{study}_{s}.npy') for s in series_scs.values], 0\n",
    "        )\n",
    "    try:\n",
    "        preds_nfn = np.load(EXP_FOLDER_NFN + f'preds/{study}_{series_nfn}.npy')\n",
    "    except:\n",
    "        preds_nfn = np.mean(\n",
    "            [np.load(EXP_FOLDER_NFN + f'preds/{study}_{s}.npy') for s in series_nfn.values], 0\n",
    "        )\n",
    "\n",
    "    try:\n",
    "        preds_ss = np.load(EXP_FOLDER_SS + f'preds/{study}_{series_ss}.npy')\n",
    "        preds_ss_aux = np.load(EXP_FOLDER_SS + f'preds_aux/{study}_{series_ss}.npy')\n",
    "    except:\n",
    "        preds_ss = np.mean(\n",
    "            [np.load(EXP_FOLDER_SS + f'preds/{study}_{s}.npy') for s in series_ss.values[:1]], 0\n",
    "        )\n",
    "        preds_ss_aux = np.mean(\n",
    "            [np.load(EXP_FOLDER_SS + f'preds_aux/{study}_{s}.npy') for s in series_ss.values[:1]], 0\n",
    "        )\n",
    "\n",
    "    assert preds_nfn.min() >= 0\n",
    "    assert preds_ss.min() >= 0\n",
    "    assert preds_scs.min() >= 0\n",
    "\n",
    "    # Aggregate preds\n",
    "    preds = {}\n",
    "    for i, c in enumerate(CLASSES_SCS):\n",
    "        p = preds_scs[:, i].max(0)\n",
    "        # p[0] = 1 - p[1] - p[2]\n",
    "        p = np.array(p) / np.sum(p)\n",
    "        preds[c] = p\n",
    "        \n",
    "        assert np.min(p) >= 0\n",
    "\n",
    "    for i, c in enumerate(CLASSES_NFN_NOSIDE):\n",
    "        p_right = preds_nfn[:len(preds_nfn) // 2, i].max(0)\n",
    "        # p_right[0] = 1 - p_right[1] - p_right[2]\n",
    "        p_right = np.array(p_right) / np.sum(p_right)\n",
    "\n",
    "        p_left = preds_nfn[len(preds_nfn) // 2:, i].max(0)\n",
    "        # p_left[0] = 1 - p_left[1] - p_left[2]\n",
    "        p_left = np.array(p_left) / np.sum(p_left)\n",
    "\n",
    "        preds[f\"right_{c}\"] = p_right\n",
    "        preds[f\"left_{c}\"] = p_left\n",
    "\n",
    "        assert np.min(p_left) >= 0\n",
    "        assert np.min(p_right) >= 0\n",
    "\n",
    "    for i, c in enumerate(CLASSES_SS_NOLVL):\n",
    "        for lv, lvl in enumerate(LEVELS_):\n",
    "            p = (preds_ss[:, i] * preds_ss_aux[:, lv][:, None]).max(0)\n",
    "            p = np.array(p) / np.sum(p)\n",
    "            p[0] = 1 - p[1] - p[2]\n",
    "            preds[c + \"_\" + lvl] = p\n",
    "\n",
    "    y = df_train.loc[study].to_dict()\n",
    "\n",
    "    all_preds.append(preds)\n",
    "    all_truths.append(y)\n",
    "    # break\n",
    "\n",
    "df_preds = pd.DataFrame(all_preds)\n",
    "df_gt = pd.DataFrame(all_truths)"
   ]
  },
  {
   "cell_type": "code",
   "execution_count": null,
   "id": "c8b7f867",
   "metadata": {},
   "outputs": [],
   "source": [
    "losses = {}\n",
    "for c in df_preds.columns:\n",
    "    aucs = []\n",
    "\n",
    "    preds = np.vstack(df_preds[c].values)\n",
    "    y = df_gt[c].values\n",
    "\n",
    "    preds = preds[y > -1]\n",
    "    y = y[y > -1]\n",
    "\n",
    "    # Rescale with loss weights\n",
    "    # model = LogisticRegression(C=100, class_weight={0: 1, 1:2, 2: 4}, fit_intercept=False, random_state=0)\n",
    "    model = LogisticRegressionCV(Cs=[1, 10, 100], class_weight={0: 1, 1:2, 2: 4}, fit_intercept=False, random_state=0)\n",
    "    preds = np.ones((len(y), 3))\n",
    "    model.fit(preds, y)\n",
    "    preds = model.predict_proba(preds)\n",
    "\n",
    "    for i in range(3):\n",
    "        auc = roc_auc_score(y == i, preds[:, i])\n",
    "        aucs.append(auc)\n",
    "\n",
    "    loss = log_loss(\n",
    "        y,\n",
    "        preds,\n",
    "        sample_weight=2 ** y,\n",
    "        labels=[0, 1, 2],\n",
    "    )\n",
    "    \n",
    "    print(f'-> {c} \\n - AUC:  {np.mean(aucs) :.3f} \\n - Loss: {loss:.3f}\\n')\n",
    "    losses[c] = loss"
   ]
  },
  {
   "cell_type": "code",
   "execution_count": null,
   "id": "10158dc6",
   "metadata": {},
   "outputs": [],
   "source": [
    "losses_agg = {}\n",
    "\n",
    "severe_spinal_preds, severe_spinal_gts = [], []\n",
    "for c in CLASSES_SCS:\n",
    "    severe_spinal_preds.append(np.vstack(df_preds[c].values)[:, 2])\n",
    "    severe_spinal_gts.append(df_gt[c].values)\n",
    "\n",
    "severe_spinal_preds = np.max(severe_spinal_preds, 0)\n",
    "severe_spinal_gts = np.max(severe_spinal_gts, 0).astype(int)\n",
    "auc = roc_auc_score(severe_spinal_gts == 2, severe_spinal_preds)\n",
    "\n",
    "loss = log_loss(\n",
    "    severe_spinal_gts == 2,\n",
    "    severe_spinal_preds,\n",
    "    sample_weight=2 ** severe_spinal_gts,\n",
    "    labels=[0, 1],\n",
    ")\n",
    "\n",
    "losses_agg[\"any_severe_spinal\"] = loss\n",
    "print(f'-> any_severe_spinal \\n - AUC:  {auc :.3f} \\n - Loss: {loss:.3f}\\n')"
   ]
  },
  {
   "cell_type": "code",
   "execution_count": null,
   "id": "79da6b2f",
   "metadata": {},
   "outputs": [],
   "source": [
    "for s in [\"spinal_canal_stenosis\", \"neural_foraminal_narrowing\", \"subarticular_stenosis\"]:\n",
    "    losses_agg[s] = np.mean([losses[k] for k in losses if s in k])\n",
    "\n",
    "    print(f'-> Loss - {s} \\t: {losses_agg[s] :.3f}\\n')"
   ]
  },
  {
   "cell_type": "code",
   "execution_count": null,
   "id": "9fbf6a59",
   "metadata": {},
   "outputs": [],
   "source": [
    "print(f'\\n-> CV loss: {np.mean(list(losses_agg.values())):.3f}')"
   ]
  },
  {
   "cell_type": "code",
   "execution_count": null,
   "id": "a6a80b01",
   "metadata": {},
   "outputs": [],
   "source": [
    "from util.metrics import rsna_loss\n",
    "\n",
    "preds = []\n",
    "for c in df_gt.columns:\n",
    "    p = np.vstack(df_preds[c].values)[:, None]\n",
    "    # print(c, p.min(), p.max())\n",
    "    preds.append(p)\n",
    "preds = np.concatenate(preds, 1)\n",
    "\n",
    "rsna_loss(df_gt.values, preds)"
   ]
  },
  {
   "cell_type": "markdown",
   "id": "16bd75ce",
   "metadata": {},
   "source": [
    "Done ! "
   ]
  }
 ],
 "metadata": {
  "kernelspec": {
   "display_name": "Python 3 (ipykernel)",
   "language": "python",
   "name": "python3"
  },
  "language_info": {
   "codemirror_mode": {
    "name": "ipython",
    "version": 3
   },
   "file_extension": ".py",
   "mimetype": "text/x-python",
   "name": "python",
   "nbconvert_exporter": "python",
   "pygments_lexer": "ipython3",
   "version": "3.10.12"
  },
  "papermill": {
   "default_parameters": {},
   "duration": 6677.910014,
   "end_time": "2023-08-12T17:53:47.148086",
   "environment_variables": {},
   "exception": null,
   "input_path": "__notebook__.ipynb",
   "output_path": "__notebook__.ipynb",
   "parameters": {},
   "start_time": "2023-08-12T16:02:29.238072",
   "version": "2.4.0"
  }
 },
 "nbformat": 4,
 "nbformat_minor": 5
}
