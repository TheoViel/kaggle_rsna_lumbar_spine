{
 "cells": [
  {
   "cell_type": "markdown",
   "metadata": {},
   "source": [
    "**About** : This notebook is used to train RNN models."
   ]
  },
  {
   "cell_type": "code",
   "execution_count": 1,
   "metadata": {},
   "outputs": [],
   "source": [
    "%load_ext autoreload\n",
    "%autoreload 2"
   ]
  },
  {
   "cell_type": "code",
   "execution_count": 2,
   "metadata": {},
   "outputs": [
    {
     "name": "stdout",
     "output_type": "stream",
     "text": [
      "/workspace/kaggle_rsna_lumbar_spine/src\n"
     ]
    }
   ],
   "source": [
    "cd ../src/"
   ]
  },
  {
   "cell_type": "markdown",
   "metadata": {},
   "source": [
    "### Imports"
   ]
  },
  {
   "cell_type": "code",
   "execution_count": 3,
   "metadata": {},
   "outputs": [],
   "source": [
    "import os\n",
    "import sys\n",
    "import glob\n",
    "import json\n",
    "import torch\n",
    "import operator\n",
    "import warnings\n",
    "import numpy as np\n",
    "import pandas as pd\n",
    "import seaborn as sns\n",
    "import matplotlib.pyplot as plt\n",
    "\n",
    "from tqdm.notebook import tqdm\n",
    "from sklearn.metrics import *\n",
    "from collections import Counter\n",
    "from scipy.stats import spearmanr\n",
    "\n",
    "warnings.simplefilter(action=\"ignore\", category=UserWarning)\n",
    "warnings.simplefilter(\"ignore\", FutureWarning)"
   ]
  },
  {
   "cell_type": "code",
   "execution_count": 4,
   "metadata": {},
   "outputs": [],
   "source": [
    "from util.logger import (\n",
    "    prepare_log_folder,\n",
    "    save_config,\n",
    "    create_logger,\n",
    ")\n",
    "\n",
    "from data.dataset import FeatureDataset\n",
    "from params import *\n",
    "from data.preparation import *\n",
    "from util.logger import Config as ConfigInf\n",
    "from training.main_lvl2 import k_fold\n",
    "from util.metrics import *"
   ]
  },
  {
   "cell_type": "code",
   "execution_count": 5,
   "metadata": {},
   "outputs": [],
   "source": [
    "from model_zoo.models_lvl2 import define_model\n",
    "from training.losses import StudyLoss\n",
    "from util.metrics import rsna_loss"
   ]
  },
  {
   "cell_type": "markdown",
   "metadata": {},
   "source": [
    "### Data"
   ]
  },
  {
   "cell_type": "code",
   "execution_count": 6,
   "metadata": {},
   "outputs": [],
   "source": [
    "df = prepare_data_lvl2()\n",
    "\n",
    "if \"fold\" not in df.columns:\n",
    "    folds = pd.read_csv(\"../input/train_folded_v1.csv\")\n",
    "    df = df.merge(folds, how=\"left\")"
   ]
  },
  {
   "cell_type": "code",
   "execution_count": 70,
   "metadata": {},
   "outputs": [],
   "source": [
    "EXP_FOLDERS = {\n",
    "    # \"scs_crop\": \"../logs/2024-08-29/15/\",  # 15\n",
    "    # \"nfn_crop\": \"../logs/2024-08-29/16/\",  # 30\n",
    "    # \"scs_crop_coords\":  \"../logs/2024-08-29/17/\",\n",
    "    # \"nfn_crop_coords\":  \"../logs/2024-08-29/18/\",\n",
    "\n",
    "    \"dh\": '../output/oof____cfg_dh_12s4c.pth',  # Darragh preds\n",
    "    \"dh_2\": '../output/oof____cfg_dh_12s4c_seed1.pth',  # Darragh preds\n",
    "    # \"ch\": '../output/oof_cfg_ch_35.pth',  # Dieter preds\n",
    "    \n",
    "    # \"crop_2\": \"../logs/2024-09-11/1/\",\n",
    "    # \"dh\": \"../output/oof____cfg_dh_19a.pth\",  # Darragh preds\n",
    "\n",
    "    \"crop\": \"../output/2024-08-29_5/\",  # 75\n",
    "    \"spinenet\": \"../output/spinenet_preds.csv\",  # 75\n",
    "}"
   ]
  },
  {
   "cell_type": "code",
   "execution_count": 71,
   "metadata": {},
   "outputs": [],
   "source": [
    "config = ConfigInf(json.load(open(EXP_FOLDERS[\"crop\"] + \"config.json\", \"r\")))"
   ]
  },
  {
   "cell_type": "code",
   "execution_count": 72,
   "metadata": {},
   "outputs": [
    {
     "data": {
      "text/html": [
       "<div>\n",
       "<style scoped>\n",
       "    .dataframe tbody tr th:only-of-type {\n",
       "        vertical-align: middle;\n",
       "    }\n",
       "\n",
       "    .dataframe tbody tr th {\n",
       "        vertical-align: top;\n",
       "    }\n",
       "\n",
       "    .dataframe thead th {\n",
       "        text-align: right;\n",
       "    }\n",
       "</style>\n",
       "<table border=\"1\" class=\"dataframe\">\n",
       "  <thead>\n",
       "    <tr style=\"text-align: right;\">\n",
       "      <th></th>\n",
       "      <th>study_id</th>\n",
       "      <th>series_id</th>\n",
       "      <th>series_description</th>\n",
       "      <th>spinal_canal_stenosis_l1_l2</th>\n",
       "      <th>spinal_canal_stenosis_l2_l3</th>\n",
       "      <th>spinal_canal_stenosis_l3_l4</th>\n",
       "      <th>spinal_canal_stenosis_l4_l5</th>\n",
       "      <th>spinal_canal_stenosis_l5_s1</th>\n",
       "      <th>left_neural_foraminal_narrowing_l1_l2</th>\n",
       "      <th>left_neural_foraminal_narrowing_l2_l3</th>\n",
       "      <th>...</th>\n",
       "      <th>left_subarticular_stenosis_l2_l3</th>\n",
       "      <th>left_subarticular_stenosis_l3_l4</th>\n",
       "      <th>left_subarticular_stenosis_l4_l5</th>\n",
       "      <th>left_subarticular_stenosis_l5_s1</th>\n",
       "      <th>right_subarticular_stenosis_l1_l2</th>\n",
       "      <th>right_subarticular_stenosis_l2_l3</th>\n",
       "      <th>right_subarticular_stenosis_l3_l4</th>\n",
       "      <th>right_subarticular_stenosis_l4_l5</th>\n",
       "      <th>right_subarticular_stenosis_l5_s1</th>\n",
       "      <th>fold</th>\n",
       "    </tr>\n",
       "  </thead>\n",
       "  <tbody>\n",
       "    <tr>\n",
       "      <th>0</th>\n",
       "      <td>4003253</td>\n",
       "      <td>[702807833, 1054713880, 2448190387]</td>\n",
       "      <td>[Sagittal T2/STIR, Sagittal T1, Axial T2]</td>\n",
       "      <td>0</td>\n",
       "      <td>0</td>\n",
       "      <td>0</td>\n",
       "      <td>0</td>\n",
       "      <td>0</td>\n",
       "      <td>0</td>\n",
       "      <td>0</td>\n",
       "      <td>...</td>\n",
       "      <td>0</td>\n",
       "      <td>0</td>\n",
       "      <td>1</td>\n",
       "      <td>0</td>\n",
       "      <td>0</td>\n",
       "      <td>0</td>\n",
       "      <td>0</td>\n",
       "      <td>0</td>\n",
       "      <td>0</td>\n",
       "      <td>1</td>\n",
       "    </tr>\n",
       "  </tbody>\n",
       "</table>\n",
       "<p>1 rows × 29 columns</p>\n",
       "</div>"
      ],
      "text/plain": [
       "   study_id                            series_id  \\\n",
       "0   4003253  [702807833, 1054713880, 2448190387]   \n",
       "\n",
       "                          series_description  spinal_canal_stenosis_l1_l2  \\\n",
       "0  [Sagittal T2/STIR, Sagittal T1, Axial T2]                            0   \n",
       "\n",
       "   spinal_canal_stenosis_l2_l3  spinal_canal_stenosis_l3_l4  \\\n",
       "0                            0                            0   \n",
       "\n",
       "   spinal_canal_stenosis_l4_l5  spinal_canal_stenosis_l5_s1  \\\n",
       "0                            0                            0   \n",
       "\n",
       "   left_neural_foraminal_narrowing_l1_l2  \\\n",
       "0                                      0   \n",
       "\n",
       "   left_neural_foraminal_narrowing_l2_l3  ...  \\\n",
       "0                                      0  ...   \n",
       "\n",
       "   left_subarticular_stenosis_l2_l3  left_subarticular_stenosis_l3_l4  \\\n",
       "0                                 0                                 0   \n",
       "\n",
       "   left_subarticular_stenosis_l4_l5  left_subarticular_stenosis_l5_s1  \\\n",
       "0                                 1                                 0   \n",
       "\n",
       "   right_subarticular_stenosis_l1_l2  right_subarticular_stenosis_l2_l3  \\\n",
       "0                                  0                                  0   \n",
       "\n",
       "   right_subarticular_stenosis_l3_l4  right_subarticular_stenosis_l4_l5  \\\n",
       "0                                  0                                  0   \n",
       "\n",
       "   right_subarticular_stenosis_l5_s1  fold  \n",
       "0                                  0     1  \n",
       "\n",
       "[1 rows x 29 columns]"
      ]
     },
     "execution_count": 72,
     "metadata": {},
     "output_type": "execute_result"
    }
   ],
   "source": [
    "df.head(1)"
   ]
  },
  {
   "cell_type": "code",
   "execution_count": 73,
   "metadata": {},
   "outputs": [],
   "source": [
    "dataset = FeatureDataset(df, EXP_FOLDERS, targets=CLASSES)"
   ]
  },
  {
   "cell_type": "code",
   "execution_count": 74,
   "metadata": {},
   "outputs": [],
   "source": [
    "# p = []\n",
    "# for i in tqdm(range(len(dataset))):\n",
    "#     p_ = dataset[i][0][\"nfn_crop_coords\"].view(-1, 3).numpy()\n",
    "#     # p_ = p_.reshape(5, 2, 3).transpose(1, 0, 2).reshape(10, 3)\n",
    "#     p.append(p_)\n",
    "# p = np.array(p)\n",
    "\n",
    "# y = df[df.columns[8:18]].values\n",
    "\n",
    "# aucs = []\n",
    "# for i, c in enumerate(CLASSES[5:15]):\n",
    "#     auc = disk_auc(y[:, i], p[:, i])\n",
    "#     print(f'{c} AUC: \\t {auc :.4f}')\n",
    "#     aucs.append(auc)\n",
    "# print(f'\\n-> Avg AUC: \\t {np.mean(aucs) :.4f}')"
   ]
  },
  {
   "cell_type": "code",
   "execution_count": 75,
   "metadata": {},
   "outputs": [
    {
     "data": {
      "application/vnd.jupyter.widget-view+json": {
       "model_id": "0aa981e3139f4a15814aea65f96df731",
       "version_major": 2,
       "version_minor": 0
      },
      "text/plain": [
       "  0%|          | 0/1975 [00:00<?, ?it/s]"
      ]
     },
     "metadata": {},
     "output_type": "display_data"
    }
   ],
   "source": [
    "for i in tqdm(range(len(dataset))):\n",
    "    fts, y, _ = dataset[i]\n",
    "    # for k in fts:\n",
    "    #     print(k, fts[k].size())\n",
    "    # break"
   ]
  },
  {
   "cell_type": "code",
   "execution_count": 76,
   "metadata": {},
   "outputs": [],
   "source": [
    "idx = 2\n",
    "fts, y, _ = dataset[idx]"
   ]
  },
  {
   "cell_type": "code",
   "execution_count": 77,
   "metadata": {},
   "outputs": [
    {
     "name": "stdout",
     "output_type": "stream",
     "text": [
      "dh torch.Size([25, 3])\n",
      "dh_2 torch.Size([25, 3])\n",
      "crop torch.Size([25, 6])\n",
      "spinenet torch.Size([5, 12])\n"
     ]
    }
   ],
   "source": [
    "for k in fts:\n",
    "    print(k, fts[k].size())"
   ]
  },
  {
   "cell_type": "code",
   "execution_count": 15,
   "metadata": {},
   "outputs": [],
   "source": [
    "# plt.figure(figsize=(20, 5))\n",
    "# plt.subplot(1, 3, 1)\n",
    "# for i in range(5):\n",
    "#     plt.plot(fts['ss_aux'].softmax(1)[:, i], label=LEVELS[i])\n",
    "# plt.legend()\n",
    "\n",
    "# plt.subplot(1, 3, 2)\n",
    "# for i in [1, 2]:\n",
    "#     plt.plot(fts['ss'][:, i], label=f'left_{i}')\n",
    "# for i in [4, 5]:\n",
    "#     plt.plot(fts['ss'][:, i], label=f'right_{i - 3}')\n",
    "# plt.legend()\n",
    "\n",
    "# # plt.subplot(1, 3, 3)\n",
    "# # for i in range(5):\n",
    "# #     plt.plot(fts['ss'][:, 1, i], label=LEVELS[i])\n",
    "# # plt.legend()\n",
    "\n",
    "# plt.show()"
   ]
  },
  {
   "cell_type": "code",
   "execution_count": 16,
   "metadata": {},
   "outputs": [],
   "source": [
    "# for k in fts:\n",
    "#     print(k, fts[k].shape)"
   ]
  },
  {
   "cell_type": "markdown",
   "metadata": {},
   "source": [
    "### Model"
   ]
  },
  {
   "cell_type": "code",
   "execution_count": 17,
   "metadata": {},
   "outputs": [],
   "source": [
    "# model = define_model(\n",
    "#     name=\"simple\",\n",
    "#     num_classes=len(CLASSES) * 3,\n",
    "#     layer_dim=0,\n",
    "#     ft_dim=64,\n",
    "#     n_fts=45 + 75,\n",
    "#     resize=10,\n",
    "# )"
   ]
  },
  {
   "cell_type": "code",
   "execution_count": 18,
   "metadata": {},
   "outputs": [],
   "source": [
    "x = {k: fts[k].unsqueeze(0) for k in fts}"
   ]
  },
  {
   "cell_type": "code",
   "execution_count": 19,
   "metadata": {},
   "outputs": [],
   "source": [
    "# pred, _ = model(x)\n",
    "# pred.size()"
   ]
  },
  {
   "cell_type": "code",
   "execution_count": 20,
   "metadata": {},
   "outputs": [],
   "source": [
    "# l = StudyLoss()\n",
    "# l(pred, y.unsqueeze(0))"
   ]
  },
  {
   "cell_type": "code",
   "execution_count": 21,
   "metadata": {},
   "outputs": [],
   "source": [
    "# rsna_loss(y.unsqueeze(0).numpy(), pred.softmax(2).detach().numpy())"
   ]
  },
  {
   "cell_type": "code",
   "execution_count": 22,
   "metadata": {},
   "outputs": [],
   "source": [
    "df_val = pd.read_csv('../logs/2024-09-11/1/df_val_0.csv')\n",
    "y1 = np.vstack(df_val[\"target\"].apply(eval).values)"
   ]
  },
  {
   "cell_type": "code",
   "execution_count": 23,
   "metadata": {},
   "outputs": [],
   "source": [
    "df_val = pd.read_csv('../output/2024-08-29_5/df_val_0.csv')\n",
    "y2 = np.vstack(df_val[\"target\"].apply(eval).values)"
   ]
  },
  {
   "cell_type": "code",
   "execution_count": 68,
   "metadata": {},
   "outputs": [
    {
     "data": {
      "text/plain": [
       "100"
      ]
     },
     "execution_count": 68,
     "metadata": {},
     "output_type": "execute_result"
    }
   ],
   "source": [
    "from params import NOISY_STUDIES\n",
    "len(NOISY_STUDIES)"
   ]
  },
  {
   "cell_type": "markdown",
   "metadata": {},
   "source": [
    "### Training\n"
   ]
  },
  {
   "cell_type": "code",
   "execution_count": 85,
   "metadata": {},
   "outputs": [],
   "source": [
    "class Config:\n",
    "    \"\"\"\n",
    "    Parameters used for training\n",
    "    \"\"\"\n",
    "    # General\n",
    "    seed = 42\n",
    "    verbose = 1\n",
    "    device = \"cuda\"\n",
    "    save_weights = True\n",
    "    targets = CLASSES\n",
    "\n",
    "    # Data\n",
    "    exp_folders = {\n",
    "        # \"scs_crop\": \"../logs/2024-08-29/15/\",  # 15\n",
    "        # \"nfn_crop\": \"../logs/2024-08-29/16/\",  # 30\n",
    "        # \"scs_crop_coords\":  \"../logs/2024-08-29/17/\",\n",
    "        \n",
    "        # \"nfn_crop_coords\":  \"../logs/2024-09-15/2/\",\n",
    "\n",
    "        # \"scs_crop_coords\": \"../logs/2024-09-12/1/\",  # 5f -0.005 scs\n",
    "        # \"scs_crop_coords_2\": \"../logs/2024-09-12/9/\",  # 3f -0.005 scs\n",
    "    \n",
    "        # \"dh\": '../output/oof____cfg_dh_12s4c.pth',  # Darragh preds\n",
    "        # \"dh_2\": \"../output/oof____cfg_dh_19a.pth\",  # Darragh preds\n",
    "        # # # \"dh\": \"../output/oof____cfg_dh_15c.pth\",  # Darragh preds\n",
    "        # # # \"dh\": \"../output/oof____cfg_dh_15c_2seed.pth\",  # Darragh preds\n",
    "        \n",
    "        # \"ch\": '../output/oof_cfg_ch_35.pth',  # Dieter preds\n",
    "\n",
    "        # \"crop\": \"../logs/2024-09-12/21/\",  # coatnet side\n",
    "        # \"crop\": \"../logs/2024-09-13/7/\",  # coatnet side\n",
    "        # \"crop_2\": \"../logs/2024-09-13/1/\",  # coatnet side\n",
    "        \"crop\": \"../logs/2024-09-14/5/\",   # coatnet side  <---- best\n",
    "\n",
    "        \"spinenet\": \"../output/spinenet_preds.csv\",\n",
    "\n",
    "        # \"crop\": \"../logs/2024-09-16/3/\", \n",
    "    }\n",
    "    n_fts = 0\n",
    "    resize = 0\n",
    "    remove_noisy = False\n",
    "\n",
    "    # k-fold\n",
    "    k = 4\n",
    "    folds_file = \"../input/train_folded_v1.csv\"  # f\"../input/folds_{k}.csv\"\n",
    "    selected_folds = [0]  # , 1, 2, 3]\n",
    "\n",
    "    # Model\n",
    "    name = \"simple\"\n",
    "    dense_dim = 4096\n",
    "    layer_dim = 0\n",
    "    ft = 6 + 3 * (\"dh\" in exp_folders) + 3 * (\"ch\" in exp_folders) \n",
    "    ft_dim = [\n",
    "        ft + 3 * len([k for k in exp_folders if \"scs\" in k]) + 0 * (\"spinenet\" in exp_folders),\n",
    "        ft + 3 * len([k for k in exp_folders if \"nfn\" in k]) + 8 * (\"spinenet\" in exp_folders),\n",
    "        ft + 3 * len([k for k in exp_folders if \"ss\" in k]) + 8 * (\"spinenet\" in exp_folders),\n",
    "    ]  # scs, nfn, ss\n",
    "\n",
    "    p = 0.\n",
    "    num_classes = len(CLASSES) * 3\n",
    "    num_classes_aux = 0\n",
    "\n",
    "    # Training    \n",
    "    loss_config = {\n",
    "        \"name\": \"study\",\n",
    "        \"weighted\": True,\n",
    "        \"use_any\": True,\n",
    "        \"smoothing\": 0,\n",
    "        \"activation\": \"study\",\n",
    "        \"aux_loss_weight\": 0,\n",
    "        \"name_aux\": \"\",\n",
    "        \"smoothing_aux\": 0,\n",
    "        \"activation_aux\": \"\",\n",
    "    }\n",
    "\n",
    "    data_config = {\n",
    "        \"batch_size\": 128,\n",
    "        \"val_bs\": 512,\n",
    "        \"mix\": \"mixup\",\n",
    "        \"mix_proba\": 0.,\n",
    "        \"sched\": False,\n",
    "        \"mix_alpha\": 4.,\n",
    "        \"additive_mix\": False,\n",
    "        \"num_classes\": num_classes,\n",
    "        \"num_classes_aux\": num_classes_aux,\n",
    "        \"num_workers\": 8,\n",
    "    }\n",
    "\n",
    "    optimizer_config = {\n",
    "        \"name\": \"AdamW\",\n",
    "        \"lr\": 7e-5,  # 5e-5\n",
    "        \"warmup_prop\": 0.,\n",
    "        \"betas\": (0.9, 0.999),\n",
    "        \"max_grad_norm\": 1.,\n",
    "        \"weight_decay\": 1,\n",
    "    }\n",
    "\n",
    "    epochs = 15\n",
    "\n",
    "    use_fp16 = True\n",
    "    verbose = 1\n",
    "    verbose_eval = 20\n",
    "\n",
    "    fullfit = False\n",
    "    n_fullfit = 1\n",
    "\n",
    "    local_rank = 0\n",
    "    distributed = False\n",
    "    world_size = 1"
   ]
  },
  {
   "cell_type": "code",
   "execution_count": 86,
   "metadata": {},
   "outputs": [],
   "source": [
    "DEBUG = True\n",
    "log_folder = None"
   ]
  },
  {
   "cell_type": "code",
   "execution_count": 87,
   "metadata": {},
   "outputs": [],
   "source": [
    "df = prepare_data_lvl2()\n",
    "\n",
    "if \"fold\" not in df.columns:\n",
    "    folds = pd.read_csv(Config.folds_file)\n",
    "    df = df.merge(folds, how=\"left\")\n",
    "\n",
    "# df = df[~df['study_id'].isin([1215498865, 1647904243, 2570933394, 2761048584, 3284652867, 3941522676])].reset_index(drop=True)"
   ]
  },
  {
   "cell_type": "code",
   "execution_count": 89,
   "metadata": {},
   "outputs": [
    {
     "name": "stdout",
     "output_type": "stream",
     "text": [
      "\n",
      "-------------   Fold 1 / 4  -------------\n",
      "\n",
      "    -> 1481 training studies\n",
      "    -> 494 validation studies\n",
      "    -> 188425 trainable parameters\n",
      "\n",
      "Epoch 02/15 (step 0020) \tlr=6.2e-05 \t t=1s \t loss=0.659    scs_loss=0.293    nfn_loss=0.561    ss_loss=0.596    any_loss=0.262\t val_loss=0.428\n",
      "Epoch 04/15 (step 0040) \tlr=5.3e-05 \t t=1s \t loss=0.417    scs_loss=0.257    nfn_loss=0.486    ss_loss=0.555    any_loss=0.251\t val_loss=0.387\n",
      "Epoch 06/15 (step 0060) \tlr=4.5e-05 \t t=1s \t loss=0.409    scs_loss=0.248    nfn_loss=0.480    ss_loss=0.555    any_loss=0.249\t val_loss=0.383\n",
      "Epoch 08/15 (step 0080) \tlr=3.6e-05 \t t=1s \t loss=0.403    scs_loss=0.247    nfn_loss=0.478    ss_loss=0.551    any_loss=0.248\t val_loss=0.381\n",
      "Epoch 09/15 (step 0100) \tlr=2.8e-05 \t t=1s \t loss=0.398    scs_loss=0.248    nfn_loss=0.477    ss_loss=0.552    any_loss=0.249\t val_loss=0.381\n",
      "Epoch 11/15 (step 0120) \tlr=2.0e-05 \t t=1s \t loss=0.401    scs_loss=0.247    nfn_loss=0.477    ss_loss=0.553    any_loss=0.248\t val_loss=0.381\n",
      "Epoch 13/15 (step 0140) \tlr=1.1e-05 \t t=1s \t loss=0.401    scs_loss=0.247    nfn_loss=0.477    ss_loss=0.552    any_loss=0.247\t val_loss=0.381\n",
      "Epoch 15/15 (step 0166) \tlr=0.0e+00 \t t=1s \t loss=0.394    scs_loss=0.246    nfn_loss=0.477    ss_loss=0.552    any_loss=0.247\t val_loss=0.380\n"
     ]
    }
   ],
   "source": [
    "if not DEBUG:\n",
    "    log_folder = prepare_log_folder(LOG_PATH)\n",
    "    print(f\"Logging results to {log_folder}\")\n",
    "    config_df = save_config(Config, log_folder + \"config.json\")\n",
    "    create_logger(directory=log_folder, name=\"logs.txt\")\n",
    "\n",
    "preds = k_fold(Config, df, log_folder=log_folder, run=None)"
   ]
  },
  {
   "cell_type": "markdown",
   "metadata": {},
   "source": [
    "- 12 cls : scs_loss=0.260    nfn_loss=0.477    ss_loss=0.552    any_loss=0.268\t val_loss=0.390\n",
    "- No spinenet : scs_loss=0.247    nfn_loss=0.475    ss_loss=0.549    any_loss=0.248\t val_loss=0.380"
   ]
  },
  {
   "cell_type": "markdown",
   "metadata": {
    "editable": true,
    "slideshow": {
     "slide_type": ""
    },
    "tags": []
   },
   "source": [
    "### Eval"
   ]
  },
  {
   "cell_type": "code",
   "execution_count": 84,
   "metadata": {},
   "outputs": [
    {
     "name": "stdout",
     "output_type": "stream",
     "text": [
      "- scs_loss\t: 0.262\n",
      "- nfn_loss\t: 0.476\n",
      "- ss_loss\t: 0.539\n",
      "- any_loss\t: 0.256\n",
      "\n",
      " -> CV Score : 0.3835\n"
     ]
    }
   ],
   "source": [
    "avg_loss, losses = rsna_loss(df[Config.targets].values, preds)\n",
    "\n",
    "for k, v in losses.items():\n",
    "    print(f\"- {k}_loss\\t: {v:.3f}\")\n",
    "\n",
    "print(f'\\n -> CV Score : {avg_loss :.4f}')"
   ]
  },
  {
   "cell_type": "code",
   "execution_count": 61,
   "metadata": {},
   "outputs": [
    {
     "name": "stdout",
     "output_type": "stream",
     "text": [
      "- scs_loss\t: 0.270\n",
      "- nfn_loss\t: 0.491\n",
      "- ss_loss\t: 0.564\n",
      "- any_loss\t: 0.266\n",
      "\n",
      " -> CV Score : 0.3978\n"
     ]
    }
   ],
   "source": [
    "avg_loss, losses = rsna_loss(df[Config.targets].values, preds)\n",
    "\n",
    "for k, v in losses.items():\n",
    "    print(f\"- {k}_loss\\t: {v:.3f}\")\n",
    "\n",
    "print(f'\\n -> CV Score : {avg_loss :.4f}')"
   ]
  },
  {
   "cell_type": "code",
   "execution_count": 59,
   "metadata": {},
   "outputs": [
    {
     "name": "stdout",
     "output_type": "stream",
     "text": [
      "- scs_loss\t: 0.274\n",
      "- nfn_loss\t: 0.491\n",
      "- ss_loss\t: 0.565\n",
      "- any_loss\t: 0.275\n",
      "\n",
      " -> CV Score : 0.4012\n"
     ]
    }
   ],
   "source": [
    "avg_loss, losses = rsna_loss(df[Config.targets].values, preds)\n",
    "\n",
    "for k, v in losses.items():\n",
    "    print(f\"- {k}_loss\\t: {v:.3f}\")\n",
    "\n",
    "print(f'\\n -> CV Score : {avg_loss :.4f}')"
   ]
  },
  {
   "cell_type": "code",
   "execution_count": 108,
   "metadata": {},
   "outputs": [
    {
     "name": "stdout",
     "output_type": "stream",
     "text": [
      "- scs_loss\t: 0.261\n",
      "- nfn_loss\t: 0.474\n",
      "- ss_loss\t: 0.539\n",
      "- any_loss\t: 0.257\n",
      "\n",
      " -> CV Score : 0.3829\n"
     ]
    }
   ],
   "source": [
    "avg_loss, losses = rsna_loss(df[Config.targets].values, preds)\n",
    "\n",
    "for k, v in losses.items():\n",
    "    print(f\"- {k}_loss\\t: {v:.3f}\")\n",
    "\n",
    "print(f'\\n -> CV Score : {avg_loss :.4f}')"
   ]
  },
  {
   "cell_type": "code",
   "execution_count": null,
   "metadata": {},
   "outputs": [],
   "source": []
  },
  {
   "cell_type": "code",
   "execution_count": 29,
   "metadata": {},
   "outputs": [],
   "source": [
    "# yy = pkl[\"target\"].contiguous()[order].cpu().numpy().clip(-1, 2)\n",
    "# for i in range(len(df)):\n",
    "#     if not (df[Config.targets].values[i] == yy[i]).all():\n",
    "#         print(i, yy[i].tolist(), df[Config.targets].values[i].tolist())\n",
    "#         display(df.iloc[[i]])\n",
    "#         # break"
   ]
  },
  {
   "cell_type": "code",
   "execution_count": 75,
   "metadata": {},
   "outputs": [],
   "source": [
    "# pkl = torch.load('../output/oof_cfg_ch_35.pth')\n",
    "# pkl = torch.load('../output/oof____cfg_dh_12s1.pth')\n",
    "\n",
    "# df = df[~df['study_id'].isin([1215498865, 1647904243, 2570933394, 2761048584, 3284652867, 3941522676])].reset_index(drop=True)\n",
    "\n",
    "# order = [pkl['study_id'].tolist().index(s) for s in df['study_id'].values]\n",
    "\n",
    "# avg_loss, losses = rsna_loss(df[Config.targets].values, pkl[\"logits\"].cpu().float().softmax(-1).numpy()[order])\n",
    "\n",
    "# for k, v in losses.items():\n",
    "#     print(f\"- {k}_loss\\t: {v:.3f}\")\n",
    "\n",
    "# print(f'\\n -> CV Score : {avg_loss :.4f}')"
   ]
  },
  {
   "cell_type": "code",
   "execution_count": 31,
   "metadata": {},
   "outputs": [],
   "source": [
    "# aucs = []\n",
    "# for i, c in enumerate(CLASSES):\n",
    "#     auc = disk_auc(df[Config.targets].values[:, i], preds[:, i])\n",
    "#     print(f'{c} AUC: \\t {auc :.4f}')\n",
    "#     aucs.append(auc)\n",
    "# print(f'\\n-> Avg AUC: \\t {np.mean(aucs) :.4f}')"
   ]
  },
  {
   "cell_type": "code",
   "execution_count": 32,
   "metadata": {},
   "outputs": [],
   "source": [
    "# aucs = []\n",
    "# for i, c in enumerate(CLASSES):\n",
    "#     auc = disk_auc(df[Config.targets].values[:, i], preds_dd[:, i])\n",
    "#     print(f'{c} AUC: \\t {auc :.4f}')\n",
    "#     aucs.append(auc)\n",
    "# print(f'\\n-> Avg AUC: \\t {np.mean(aucs) :.4f}')"
   ]
  },
  {
   "cell_type": "code",
   "execution_count": 33,
   "metadata": {},
   "outputs": [],
   "source": [
    "# preds = preds[df['fold'].values == 0]\n",
    "# df = df[df['fold'].values == 0]"
   ]
  },
  {
   "cell_type": "code",
   "execution_count": 124,
   "metadata": {},
   "outputs": [
    {
     "data": {
      "text/plain": [
       "((1975, 25), (1975, 25, 3))"
      ]
     },
     "execution_count": 124,
     "metadata": {},
     "output_type": "execute_result"
    }
   ],
   "source": [
    "y.shape, preds.shape"
   ]
  },
  {
   "cell_type": "code",
   "execution_count": 29,
   "metadata": {},
   "outputs": [
    {
     "name": "stdout",
     "output_type": "stream",
     "text": [
      "spinal_canal_stenosis_l1_l2 AUC: \t 0.9899\n",
      "spinal_canal_stenosis_l2_l3 AUC: \t 0.9730\n",
      "spinal_canal_stenosis_l3_l4 AUC: \t 0.9658\n",
      "spinal_canal_stenosis_l4_l5 AUC: \t 0.9553\n",
      "spinal_canal_stenosis_l5_s1 AUC: \t 0.9426\n",
      "left_neural_foraminal_narrowing_l1_l2 AUC: \t 0.9555\n",
      "left_neural_foraminal_narrowing_l2_l3 AUC: \t 0.9487\n",
      "left_neural_foraminal_narrowing_l3_l4 AUC: \t 0.8970\n",
      "left_neural_foraminal_narrowing_l4_l5 AUC: \t 0.8717\n",
      "left_neural_foraminal_narrowing_l5_s1 AUC: \t 0.8619\n",
      "right_neural_foraminal_narrowing_l1_l2 AUC: \t 0.9706\n",
      "right_neural_foraminal_narrowing_l2_l3 AUC: \t 0.9337\n",
      "right_neural_foraminal_narrowing_l3_l4 AUC: \t 0.9130\n",
      "right_neural_foraminal_narrowing_l4_l5 AUC: \t 0.8834\n",
      "right_neural_foraminal_narrowing_l5_s1 AUC: \t 0.8687\n",
      "left_subarticular_stenosis_l1_l2 AUC: \t 0.9626\n",
      "left_subarticular_stenosis_l2_l3 AUC: \t 0.9293\n",
      "left_subarticular_stenosis_l3_l4 AUC: \t 0.9117\n",
      "left_subarticular_stenosis_l4_l5 AUC: \t 0.8629\n",
      "left_subarticular_stenosis_l5_s1 AUC: \t 0.8716\n",
      "right_subarticular_stenosis_l1_l2 AUC: \t 0.9631\n",
      "right_subarticular_stenosis_l2_l3 AUC: \t 0.9352\n",
      "right_subarticular_stenosis_l3_l4 AUC: \t 0.8959\n",
      "right_subarticular_stenosis_l4_l5 AUC: \t 0.8516\n",
      "right_subarticular_stenosis_l5_s1 AUC: \t 0.8460\n",
      "\n",
      "-> Avg AUC: \t 0.9184\n"
     ]
    }
   ],
   "source": [
    "# EXP_FOLDER = \"../logs/2024-09-02/27/\"\n",
    "\n",
    "# p = np.load(EXP_FOLDER + \"pred_inf_0.npy\").reshape(-1, 10, 3)\n",
    "# df_val = pd.read_csv(EXP_FOLDER + \"df_val_0.csv\")\n",
    "\n",
    "y = dataset.targets\n",
    "\n",
    "errors = []\n",
    "aucs = []\n",
    "for i, c in enumerate(CLASSES):\n",
    "    auc = disk_auc(y[:, i], preds[:, i])\n",
    "\n",
    "    for j in range(3):\n",
    "        errors.append(np.abs((y[:, i]== j) - preds[:, i, j]))\n",
    "\n",
    "    \n",
    "    print(f'{c} AUC: \\t {auc :.4f}')\n",
    "    aucs.append(auc)\n",
    "print(f'\\n-> Avg AUC: \\t {np.mean(aucs) :.4f}')"
   ]
  },
  {
   "cell_type": "code",
   "execution_count": 30,
   "metadata": {},
   "outputs": [],
   "source": [
    "errors = np.array(errors).mean(0)\n",
    "df['error'] = errors"
   ]
  },
  {
   "cell_type": "code",
   "execution_count": 33,
   "metadata": {},
   "outputs": [
    {
     "data": {
      "text/plain": [
       "array([ 783154228,  520900899, 1217004843, 3828017267, 3369277408,\n",
       "       1743493727, 1301627154,  413910863, 4201106871, 1088270559,\n",
       "       3713534743, 3469376405,  105895264, 1289563234, 2638691430,\n",
       "        808294521, 3008676218, 1314603564, 4266523380, 1179643011,\n",
       "       1891482189, 2668759897,  757619082, 1666601651, 4072191052,\n",
       "        901299313,  704573554, 1548005561, 2966328820,  959290081,\n",
       "       2621581337, 1459964234, 3996069892, 2238966046, 1106510276,\n",
       "        189360935,  341051344,  305152236, 4172077685, 3968285352,\n",
       "       2046176090,   58813022, 2991382385, 3227154093, 3515641631,\n",
       "       1791596037, 3740680860, 4058604433, 1871675162, 3781188430,\n",
       "       3337564969, 3201694970,  325485990,  504362668, 1755159626,\n",
       "       3029953735, 1972129014,  264945797,  497870715, 3507369254,\n",
       "       4259049254, 3192842688, 1176604093, 1353517692, 3617361428,\n",
       "        677879566,  796739553,  885894528,  296083289,  618246392,\n",
       "       2797118205, 2059107661,  976356113, 1697944783, 4279881930,\n",
       "       1075863395, 3587452388, 1360027517, 1140449293, 1199116491,\n",
       "       1639920408, 2565951228, 1436167447, 2530679352, 2239199413,\n",
       "        480042730, 1647904243, 3847808992, 3496128487,  679759364,\n",
       "       1460690973, 1205664021, 1670838975, 1009905322, 3418118075,\n",
       "        215788128, 3646569986, 1009445512, 3328458132, 2258837013,\n",
       "        344297746, 3718047621, 3664020911,  245660566,  896290384,\n",
       "       1788181985,  859570985, 4227587668, 3335451812,  937772835,\n",
       "       4167991881, 1748705434,  358286753, 2661178959, 3457755755,\n",
       "        933831851,  159721286, 2444340715,  416521027, 3868064745,\n",
       "        100206310, 3707540731, 2280289646, 3341858614, 1644528034,\n",
       "       4074422985, 2607462358, 1902377008,  435973854, 3480260143,\n",
       "       4215063678, 3534804406, 1855454452,  185510290, 1406734395,\n",
       "       1892507886,   29931867,  532070032,   52695609, 2691903631,\n",
       "       3934148010, 1395246421, 2597449301, 3429409220,  808539750,\n",
       "       4000809387, 1096630192, 2752687885, 2493610993,  734370379,\n",
       "       1274237866, 3892114403, 2566719718, 1976417363, 3694053417,\n",
       "       3801228235, 2278286820, 4164326469,  777619397, 3808402167,\n",
       "       2584853409, 3600000620, 3139274536,  511857239,  603095830,\n",
       "        677152014,  570403175, 1038453736, 3685379620, 1354411109,\n",
       "       2108089280, 3560499468,  783021102, 3647150026, 1476653507,\n",
       "        228290246, 3945605592,  286903519, 3141331592, 3697763310,\n",
       "        810180368, 2229950158,  953639220, 1879317622, 2501638175,\n",
       "       3138807119, 1028909382, 2629939203,  409514453, 1212932624,\n",
       "        983365930, 1664215995, 1927301799,  938755807, 2003233877,\n",
       "        117720278,  215111925, 3532637184, 2651489801, 3587842489,\n",
       "        568440982, 1087298370,  462494704, 1586052047,  525034566,\n",
       "        789748240, 1977702758, 2780132468,  711877989, 3537214277,\n",
       "       2006700205, 3220085946,  404602713, 2139301976,  296284854,\n",
       "       2435837923,  492697281, 3836986623, 2966999234, 2732830741,\n",
       "       3951588890,  364930790, 3949892272,  490052995, 3711891194,\n",
       "       3329250043, 2221449368, 4177419629, 3687214038, 2888359875,\n",
       "       1261271580,   96439573, 2883762558, 1641631752, 3804922515,\n",
       "        267842058, 3187370039, 2363875605,  945809437, 2577361156,\n",
       "         38281420, 2713141511, 3721755136, 2465173537, 1510451897,\n",
       "        683183578, 3308442440,  115990621, 3068697362, 2958761272,\n",
       "       2590829526, 1671676307, 1440537582,  934686772, 3240929780,\n",
       "       3496208349, 2830065820,  998688940,  638284307, 1228406967,\n",
       "       1985516615,  984887785, 3397114375, 3479263503, 1002894806,\n",
       "       2232794498, 1722539301, 2046751992, 3856886497,  893004686,\n",
       "       2915817319, 1336036658, 1302724340,  449609770, 2368501770,\n",
       "       3755793029, 1874721938, 2323872325, 2034823515, 3065863143,\n",
       "       1557070495, 1670552101, 1833077159, 2427880799, 1703545013,\n",
       "       2988180557, 2572169004,  858422574,  123154253, 1767715297,\n",
       "        377653138, 3495818564, 1215498865, 2742959081, 2438880310,\n",
       "       2767664103, 4219508579,  309209456,   75336136, 1845195769,\n",
       "       2945946028, 2915096892, 1382379752, 2122024421, 2289821240,\n",
       "       3930841971, 2406108213, 2460381798, 2692415380, 3973705542,\n",
       "       3158185203, 2814554321, 1573051559, 1269700501, 4072455711,\n",
       "       3576859689, 2449094561,  802955254,    4646740,  799635887,\n",
       "       3163594538, 2167255594, 2540057310, 1078357909, 1375978793,\n",
       "       3275795862, 1461368679, 3362964060, 3168755174, 1093392148,\n",
       "       2513871828, 2370517350, 2944629826,  155064828, 3068678959,\n",
       "       1777680877, 1689123946, 1529405332, 3188843711, 2329896702,\n",
       "       2325650566, 2266719355, 2397271733, 4018516468, 4055006120,\n",
       "        414452265, 1082591956, 4137194670, 2732780676, 2351425784,\n",
       "       2053506490,   41477684, 2798212469, 2283923187,  169651375,\n",
       "       4095029738, 1538136131,  638168241, 3260381770, 2097856420,\n",
       "       2326232647, 2627142799, 2273432465, 1887375316,  597329259,\n",
       "       4224446605, 2536895766, 1334624436, 2490850085, 1934246813,\n",
       "       2586537623, 4232806580, 2637411510,  806480418, 1718295027,\n",
       "       1422523769, 3426183113, 2851207875,  765167979, 3837345060,\n",
       "        390498354, 1165361924, 2477309406, 2918963439, 2999856330,\n",
       "       2504110412, 2121891805, 2009902717, 3128795155,  391103067,\n",
       "       3798996852, 1418464479, 3477102602, 3239069834,  473465726,\n",
       "       1246624345, 2470505035, 2279142182,  911311690,  792614227,\n",
       "        641070736, 3563792362, 3922074884,  885579922,  947021330,\n",
       "       1557387235, 3559205221, 1130460319, 3012426601, 2739601944,\n",
       "       2775668188, 2985245387, 3489581041,  959820751, 3153975178,\n",
       "       3426816011, 1217477368, 3686953707, 1871874877, 1658344327,\n",
       "        624497208, 3525503074,  767443105, 2154383903,  305402206,\n",
       "       1348555135,  893250212, 3572317244, 2811192798, 4262145542,\n",
       "       2397650165, 2548543893, 3573227658, 3109648055, 2137189898,\n",
       "        377474930, 3428426893, 1121141304, 4066376844, 1901348744,\n",
       "       2755347468,  636068271,  478913051, 2427774074, 3952663938,\n",
       "       2399492744,  924259603, 1637355643,  596819592, 2336516775,\n",
       "       2615694902, 1880970480, 2720654121, 1020394063, 2782244888,\n",
       "       2690161683,  941431860,  293713262,  912108661, 1097875334,\n",
       "       2881985242, 2626276973,  987393114, 2297898402, 1084486898,\n",
       "       2761048584, 3493057494,  482624307, 2925530521, 3612685875,\n",
       "       3889130987,  886995462, 2547304850, 3674684193, 1452830936,\n",
       "       2624498059,  200852737,  869574520, 4126793119, 3637444890,\n",
       "       3323113372,  135073898, 2410802623, 1086363712, 1465060325,\n",
       "       2681235806,  428900736, 3039901962,  910809548, 1850731145,\n",
       "        684790345, 3438741348, 3478119785, 4231733118,  168833126,\n",
       "       2076247669, 3303624762,  916362094, 2839003053,   46494080])"
      ]
     },
     "execution_count": 33,
     "metadata": {},
     "output_type": "execute_result"
    }
   ],
   "source": [
    "df.sort_values('error', ascending=False).study_id.values[:500]"
   ]
  },
  {
   "cell_type": "code",
   "execution_count": null,
   "metadata": {},
   "outputs": [],
   "source": [
    "p = preds.reshape(preds.shape[0], 5, 5, 3)\n",
    "p = p.transpose(0, 2, 1, 3)\n",
    "p = p.reshape(-1, 5, 3)\n",
    "\n",
    "y = df[Config.targets].values\n",
    "y = y.reshape(preds.shape[0], 5, 5)\n",
    "y = y.transpose(0, 2, 1)\n",
    "y = y.reshape(-1, 5)\n",
    "\n",
    "aucs = []\n",
    "for i, c in enumerate(CLASSES_CROP):\n",
    "    auc = disk_auc(y[:, i], p[:, i])\n",
    "    print(f'{c} AUC: \\t {auc :.4f}')\n",
    "    aucs.append(auc)\n",
    "print(f'\\n-> Avg AUC: \\t {np.mean(aucs) :.4f}')"
   ]
  },
  {
   "cell_type": "code",
   "execution_count": null,
   "metadata": {},
   "outputs": [],
   "source": [
    "for i, c in enumerate(LEVELS_):\n",
    "    print(c, disk_auc(y[:, i], p[:, i]))"
   ]
  },
  {
   "cell_type": "code",
   "execution_count": null,
   "metadata": {},
   "outputs": [],
   "source": [
    "preds[:10]"
   ]
  },
  {
   "cell_type": "code",
   "execution_count": null,
   "metadata": {},
   "outputs": [],
   "source": []
  },
  {
   "cell_type": "code",
   "execution_count": null,
   "metadata": {},
   "outputs": [],
   "source": [
    "df_val.head(20)"
   ]
  },
  {
   "cell_type": "markdown",
   "metadata": {},
   "source": [
    "- scs_loss\t: 0.299\n",
    "- nfn_loss\t: 0.500\n",
    "- ss_loss\t: 0.593\n",
    "- any_loss\t: 0.291\n",
    "\n",
    " -> CV Score : 0.4206"
   ]
  },
  {
   "cell_type": "code",
   "execution_count": null,
   "metadata": {},
   "outputs": [],
   "source": [
    "for i in [5, 6, 7, 8, 9, 15, 16, 17, 18, 19]:\n",
    "    j = i + 5\n",
    "    c = CLASSES[i]\n",
    "    c2 = CLASSES[j]\n",
    "    \n",
    "    ref_auc = disk_auc(df[Config.targets].values[:, i], preds[:, i])\n",
    "    auc = disk_auc(df[Config.targets].values[:, i], preds[:, j])\n",
    "    r = (\n",
    "        spearmanr(preds[:, i][:, 1], preds[:, j][:, 1]).statistic + \n",
    "        spearmanr(preds[:, i][:, 2], preds[:, j][:, 2]).statistic\n",
    "    ) / 2\n",
    "    print(f'\\npred: {c2} \\t truth: {c}')\n",
    "    # print(r)\n",
    "    y1 = df[Config.targets].values[:, i]\n",
    "    y2 = df[Config.targets].values[:, j]\n",
    "    \n",
    "    eq = (y1[(y1 > 0) & (y2 > 0)] == y2[(y1 > 0) & (y2 > 0)]).mean()\n",
    "    print(f'Ref AUC          : {ref_auc :.4f}')\n",
    "    print(f'Swap AUC         : {auc :.4f}')\n",
    "    print(f'Equal proportion : {eq:.3f}')\n",
    "    print(f'Preds correlation: {r:.3f}')\n",
    "\n",
    "\n",
    "# for j in [5, 6, 7, 8, 9, 15, 16, 17, 18, 19]:\n",
    "#     i = j + 5\n",
    "#     c = CLASSES[i]\n",
    "#     c2 = CLASSES[j]\n",
    "    \n",
    "#     ref_auc = disk_auc(df[Config.targets].values[:, i], preds[:, i])\n",
    "#     auc = disk_auc(df[Config.targets].values[:, i], preds[:, j])\n",
    "#     r = (\n",
    "#         spearmanr(preds[:, i][:, 1], preds[:, j][:, 1]).statistic + \n",
    "#         spearmanr(preds[:, i][:, 2], preds[:, j][:, 2]).statistic\n",
    "#     ) / 2\n",
    "#     print(f'\\npred: {c2} \\t truth: {c}')\n",
    "#     # print(r)\n",
    "#     y1 = df[Config.targets].values[:, i]\n",
    "#     y2 = df[Config.targets].values[:, j]\n",
    "    \n",
    "#     eq = (y1[(y1 > 0) & (y2 > 0)] == y2[(y1 > 0) & (y2 > 0)]).mean()\n",
    "#     print(f'Ref AUC          : {ref_auc :.4f}')\n",
    "#     print(f'Swap AUC         : {auc :.4f}')\n",
    "#     print(f'Equal proportion : {eq:.3f}')\n",
    "#     print(f'Preds correlation: {r:.3f}')"
   ]
  },
  {
   "cell_type": "code",
   "execution_count": null,
   "metadata": {},
   "outputs": [],
   "source": [
    "losses = []\n",
    "y = df[Config.targets].values\n",
    "for i in tqdm(range(len(df))):\n",
    "    l = rsna_loss(y[i:i+1], preds[i:i+1])[1]\n",
    "    l.update({\"study\": df[\"study_id\"].values[i]})\n",
    "    losses.append(l)\n",
    "losses = pd.DataFrame(losses)"
   ]
  },
  {
   "cell_type": "code",
   "execution_count": null,
   "metadata": {},
   "outputs": [],
   "source": [
    "plt.figure(figsize=(20, 5))\n",
    "for i, c in enumerate(losses.columns[:-1]):\n",
    "    plt.subplot(1, 4, i + 1)\n",
    "    sns.histplot(losses[c].values)\n",
    "    plt.title(c)\n",
    "plt.show()"
   ]
  },
  {
   "cell_type": "code",
   "execution_count": null,
   "metadata": {},
   "outputs": [],
   "source": [
    "losses[losses[\"scs\"] > 2]"
   ]
  },
  {
   "cell_type": "code",
   "execution_count": null,
   "metadata": {},
   "outputs": [],
   "source": [
    "df[df[\"study_id\"] == 1972129014]"
   ]
  },
  {
   "cell_type": "code",
   "execution_count": null,
   "metadata": {},
   "outputs": [],
   "source": [
    "losses[losses[\"any\"] > 2]"
   ]
  },
  {
   "cell_type": "markdown",
   "metadata": {},
   "source": [
    "- scs_loss\t: 0.325\n",
    "- nfn_loss\t: 0.517\n",
    "- ss_loss\t: 0.634\n",
    "- any_loss\t: 0.297\n",
    "\n",
    " -> CV Score : 0.443"
   ]
  },
  {
   "cell_type": "markdown",
   "metadata": {},
   "source": [
    "Done ! "
   ]
  }
 ],
 "metadata": {
  "kernelspec": {
   "display_name": "Python 3 (ipykernel)",
   "language": "python",
   "name": "python3"
  },
  "language_info": {
   "codemirror_mode": {
    "name": "ipython",
    "version": 3
   },
   "file_extension": ".py",
   "mimetype": "text/x-python",
   "name": "python",
   "nbconvert_exporter": "python",
   "pygments_lexer": "ipython3",
   "version": "3.10.12"
  }
 },
 "nbformat": 4,
 "nbformat_minor": 4
}
