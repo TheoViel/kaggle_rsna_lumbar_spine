{
 "cells": [
  {
   "cell_type": "markdown",
   "metadata": {},
   "source": [
    "**About** : This notebook is used to train RNN models."
   ]
  },
  {
   "cell_type": "code",
   "execution_count": null,
   "metadata": {},
   "outputs": [],
   "source": [
    "%load_ext autoreload\n",
    "%autoreload 2"
   ]
  },
  {
   "cell_type": "code",
   "execution_count": null,
   "metadata": {},
   "outputs": [],
   "source": [
    "cd ../src/"
   ]
  },
  {
   "cell_type": "markdown",
   "metadata": {},
   "source": [
    "### Imports"
   ]
  },
  {
   "cell_type": "code",
   "execution_count": null,
   "metadata": {},
   "outputs": [],
   "source": [
    "import os\n",
    "import sys\n",
    "import glob\n",
    "import json\n",
    "import torch\n",
    "import operator\n",
    "import warnings\n",
    "import numpy as np\n",
    "import pandas as pd\n",
    "import seaborn as sns\n",
    "import matplotlib.pyplot as plt\n",
    "\n",
    "from tqdm.notebook import tqdm\n",
    "from sklearn.metrics import *\n",
    "from collections import Counter\n",
    "from scipy.stats import spearmanr\n",
    "\n",
    "warnings.simplefilter(action=\"ignore\", category=UserWarning)\n",
    "warnings.simplefilter(\"ignore\", FutureWarning)"
   ]
  },
  {
   "cell_type": "code",
   "execution_count": null,
   "metadata": {},
   "outputs": [],
   "source": [
    "from util.logger import (\n",
    "    prepare_log_folder,\n",
    "    save_config,\n",
    "    create_logger,\n",
    ")\n",
    "\n",
    "from data.dataset import FeatureDataset\n",
    "from params import *\n",
    "from data.preparation import *\n",
    "from util.logger import Config as ConfigInf\n",
    "from training.main_lvl2 import k_fold\n",
    "from util.metrics import *"
   ]
  },
  {
   "cell_type": "code",
   "execution_count": null,
   "metadata": {},
   "outputs": [],
   "source": [
    "from model_zoo.models_lvl2 import define_model\n",
    "from training.losses import StudyLoss\n",
    "from util.metrics import rsna_loss"
   ]
  },
  {
   "cell_type": "markdown",
   "metadata": {},
   "source": [
    "### Data"
   ]
  },
  {
   "cell_type": "code",
   "execution_count": null,
   "metadata": {},
   "outputs": [],
   "source": [
    "df = prepare_data_lvl2()\n",
    "\n",
    "if \"fold\" not in df.columns:\n",
    "    folds = pd.read_csv(\"../input/train_folded_v1.csv\")\n",
    "    df = df.merge(folds, how=\"left\")"
   ]
  },
  {
   "cell_type": "code",
   "execution_count": null,
   "metadata": {},
   "outputs": [],
   "source": [
    "# df = df[df['fold'] == 0].reset_index(drop=True)"
   ]
  },
  {
   "cell_type": "code",
   "execution_count": null,
   "metadata": {},
   "outputs": [],
   "source": [
    "exp_folders = {\n",
    "        # \"scs_crop_coords\": \"../logs/2024-09-12/1/\",  # 5f -0.005 scs\n",
    "        # \"scs_crop_coords_2\": \"../logs/2024-10-02/2/\",  # 3f -0.005 scs\n",
    "        \n",
    "        \"scs_crop_coords\": \"../logs/2024-10-04/34/\",  # 5f -0.005 scs\n",
    "        \"scs_crop_coords_2\": \"../logs/2024-10-04/37/\",  # 3f\n",
    "\n",
    "        # \"dh\": '../output/oof____cfg_dh_15c.pth',  # Darragh preds\n",
    "        \"dh\": '../output/oof____cfg_dh_12y8.pth',  # Darragh preds\n",
    "        \"dh_2\": \"../output/oof____cfg_dh_29a2.pth\",  # Darragh preds\n",
    "        \"dh_3\": \"../output/oof____cfg_dh_29g_seed1.pth\",  # Darragh preds ax scs\n",
    "        # \"dh_4\": \"../output/oof____cfg_dh_29k_seed0.pth\",  # Darragh preds ax nfn\n",
    "        \"ch\": '../output/oof_cfg_ch_35.pth',  # Dieter preds all\n",
    "\n",
    "        # \"crop_2\": \"../logs/2024-09-13/7/\",  # coatnet side\n",
    "        \"crop_2\": \"../logs/2024-10-04/9/\",   # coatnet frameflip  - 0.3842 tta / 0.3843\n",
    "\n",
    "        # \"crop\": \"../logs/2024-09-14/5/\",   # coatnet side  - 0.3848\n",
    "        \"crop\": \"../logs/2024-10-04/1/\",   # coatnet side fix  - 0.3836 <---- best\n",
    "        # \"crop\": \"../logs/2024-10-04/31/\",  # coatnet side fix frameflip - 0.3843\n",
    "        \n",
    "        # \"crop\": \"../logs/2024-10-04/10/\",   # coatnet vflip  - 0.3846 tta / 0.3849\n",
    "        # \"crop_ax\": \"../logs/2024-09-30/6/\", \n",
    "        # \"crop_2\": \"../logs/2024-09-30/1/\", \n",
    "    }"
   ]
  },
  {
   "cell_type": "code",
   "execution_count": null,
   "metadata": {},
   "outputs": [],
   "source": [
    "config = ConfigInf(json.load(open(exp_folders[\"crop\"] + \"config.json\", \"r\")))"
   ]
  },
  {
   "cell_type": "code",
   "execution_count": null,
   "metadata": {},
   "outputs": [],
   "source": [
    "df.head(1)"
   ]
  },
  {
   "cell_type": "code",
   "execution_count": null,
   "metadata": {},
   "outputs": [],
   "source": [
    "dataset = FeatureDataset(df, exp_folders, targets=CLASSES)"
   ]
  },
  {
   "cell_type": "code",
   "execution_count": null,
   "metadata": {},
   "outputs": [],
   "source": [
    "for i in tqdm(range(len(dataset))):\n",
    "    fts, y, _ = dataset[i]\n",
    "    # for k in fts:\n",
    "    #     print(k, fts[k].size())\n",
    "    break"
   ]
  },
  {
   "cell_type": "code",
   "execution_count": null,
   "metadata": {},
   "outputs": [],
   "source": [
    "for k in fts:\n",
    "    print(k, fts[k].size())"
   ]
  },
  {
   "cell_type": "code",
   "execution_count": null,
   "metadata": {},
   "outputs": [],
   "source": [
    "# plt.figure(figsize=(20, 5))\n",
    "# plt.subplot(1, 3, 1)\n",
    "# for i in range(5):\n",
    "#     plt.plot(fts['ss_aux'].softmax(1)[:, i], label=LEVELS[i])\n",
    "# plt.legend()\n",
    "\n",
    "# plt.subplot(1, 3, 2)\n",
    "# for i in [1, 2]:\n",
    "#     plt.plot(fts['ss'][:, i], label=f'left_{i}')\n",
    "# for i in [4, 5]:\n",
    "#     plt.plot(fts['ss'][:, i], label=f'right_{i - 3}')\n",
    "# plt.legend()\n",
    "\n",
    "# # plt.subplot(1, 3, 3)\n",
    "# # for i in range(5):\n",
    "# #     plt.plot(fts['ss'][:, 1, i], label=LEVELS[i])\n",
    "# # plt.legend()\n",
    "\n",
    "# plt.show()"
   ]
  },
  {
   "cell_type": "code",
   "execution_count": null,
   "metadata": {},
   "outputs": [],
   "source": [
    "# for k in fts:\n",
    "#     print(k, fts[k].shape)"
   ]
  },
  {
   "cell_type": "markdown",
   "metadata": {},
   "source": [
    "### Model"
   ]
  },
  {
   "cell_type": "code",
   "execution_count": null,
   "metadata": {},
   "outputs": [],
   "source": [
    "model = define_model(\n",
    "    name=\"simple\",\n",
    "    num_classes=len(CLASSES) * 3,\n",
    "    ft_dim=[18, 12, 12],\n",
    ")"
   ]
  },
  {
   "cell_type": "code",
   "execution_count": null,
   "metadata": {},
   "outputs": [],
   "source": [
    "x = {k: fts[k].unsqueeze(0) for k in fts}"
   ]
  },
  {
   "cell_type": "code",
   "execution_count": null,
   "metadata": {},
   "outputs": [],
   "source": [
    "pred, _ = model(x)\n",
    "pred.size()"
   ]
  },
  {
   "cell_type": "code",
   "execution_count": null,
   "metadata": {},
   "outputs": [],
   "source": [
    "# l = StudyLoss()\n",
    "# l(pred, y.unsqueeze(0))"
   ]
  },
  {
   "cell_type": "code",
   "execution_count": null,
   "metadata": {},
   "outputs": [],
   "source": [
    "# rsna_loss(y.unsqueeze(0).numpy(), pred.softmax(2).detach().numpy())"
   ]
  },
  {
   "cell_type": "markdown",
   "metadata": {},
   "source": [
    "### Training\n"
   ]
  },
  {
   "cell_type": "code",
   "execution_count": null,
   "metadata": {},
   "outputs": [],
   "source": [
    "class Config:\n",
    "    \"\"\"\n",
    "    Parameters used for training\n",
    "    \"\"\"\n",
    "    # General\n",
    "    seed = 42\n",
    "    verbose = 1\n",
    "    device = \"cuda\"\n",
    "    save_weights = True\n",
    "    targets = CLASSES\n",
    "\n",
    "    # Data\n",
    "    exp_folders = {\n",
    "        # \"scs_crop_coords\": \"../logs/2024-09-12/1/\",  # 5f -0.005 scs\n",
    "        # \"scs_crop_coords_2\": \"../logs/2024-10-02/2/\",  # 3f -0.005 scs\n",
    "        \n",
    "        \"scs_crop_coords\": \"../logs/2024-10-04/34/\",  # 5f -0.005 scs\n",
    "        \"scs_crop_coords_2\": \"../logs/2024-10-04/37/\",  # 3f\n",
    "\n",
    "        # \"dh\": '../output/oof____cfg_dh_15c.pth',  # Darragh preds\n",
    "        \"dh\": '../output/oof____cfg_dh_12y8.pth',  # Darragh preds\n",
    "        \"dh_2\": \"../output/oof____cfg_dh_29a2.pth\",  # Darragh preds\n",
    "        \"dh_3\": \"../output/oof____cfg_dh_29g_seed1.pth\",  # Darragh preds ax scs\n",
    "        # \"dh_4\": \"../output/oof____cfg_dh_29k_seed0.pth\",  # Darragh preds ax nfn\n",
    "        \"ch\": '../output/oof_cfg_ch_35.pth',  # Dieter preds all\n",
    "\n",
    "        # \"crop_2\": \"../logs/2024-09-13/7/\",  # coatnet side\n",
    "        \"crop_2\": \"../logs/2024-10-04/9/\",   # coatnet frameflip  - 0.3842 tta / 0.3843\n",
    "\n",
    "        # \"crop\": \"../logs/2024-09-14/5/\",   # coatnet side  - 0.3848\n",
    "        \"crop\": \"../logs/2024-10-04/1/\",   # coatnet side fix  - 0.3836 <---- best\n",
    "        # \"crop\": \"../logs/2024-10-04/31/\",  # coatnet side fix frameflip - 0.3843\n",
    "        \n",
    "        # \"crop\": \"../logs/2024-10-04/10/\",   # coatnet vflip  - 0.3846 tta / 0.3849\n",
    "        # \"crop_ax\": \"../logs/2024-09-30/6/\", \n",
    "        # \"crop_2\": \"../logs/2024-09-30/1/\", \n",
    "    }\n",
    "    n_fts = 0\n",
    "    resize = 0\n",
    "    remove_noisy = False\n",
    "\n",
    "    # k-fold\n",
    "    k = 4\n",
    "    folds_file = \"../input/train_folded_v1.csv\"  # f\"../input/folds_{k}.csv\"\n",
    "    selected_folds = [0, 1, 2, 3]\n",
    "\n",
    "    # Model\n",
    "    name = \"simple\"\n",
    "    dense_dim = 4096\n",
    "    layer_dim = 0\n",
    "    ft = 6 * (\"crop\" in exp_folders) + 3 * (\"dh\" in exp_folders) + 3 * (\"ch\" in exp_folders) # + 3\n",
    "    ft_dim = [\n",
    "        ft + 3 * len([k for k in exp_folders if \"scs\" in k]),\n",
    "        ft + 3 * len([k for k in exp_folders if \"nfn\" in k]),\n",
    "        ft + 3 * len([k for k in exp_folders if \"ss\" in k]),\n",
    "    ]  # scs, nfn, ss\n",
    "\n",
    "    p = 0.\n",
    "    num_classes = len(CLASSES) * 3\n",
    "    num_classes_aux = 0\n",
    "\n",
    "    # Training    \n",
    "    loss_config = {\n",
    "        \"name\": \"study\",\n",
    "        \"weighted\": True,\n",
    "        \"use_any\": True,\n",
    "        \"smoothing\": 0,\n",
    "        \"activation\": \"study\",\n",
    "        \"aux_loss_weight\": 0,\n",
    "        \"name_aux\": \"\",\n",
    "        \"smoothing_aux\": 0,\n",
    "        \"activation_aux\": \"\",\n",
    "    }\n",
    "\n",
    "    data_config = {\n",
    "        \"batch_size\": 128,\n",
    "        \"val_bs\": 512,\n",
    "        \"mix\": \"mixup\",\n",
    "        \"mix_proba\": 0.,\n",
    "        \"sched\": False,\n",
    "        \"mix_alpha\": 4.,\n",
    "        \"additive_mix\": False,\n",
    "        \"num_classes\": num_classes,\n",
    "        \"num_classes_aux\": num_classes_aux,\n",
    "        \"num_workers\": 8,\n",
    "    }\n",
    "\n",
    "    optimizer_config = {\n",
    "        \"name\": \"AdamW\",\n",
    "        \"lr\": 7e-5,  # 5e-5\n",
    "        \"warmup_prop\": 0.,\n",
    "        \"betas\": (0.9, 0.999),\n",
    "        \"max_grad_norm\": 1.,\n",
    "        \"weight_decay\": 1,\n",
    "    }\n",
    "\n",
    "    epochs = 15\n",
    "\n",
    "    use_fp16 = True\n",
    "    verbose = 1\n",
    "    verbose_eval = 20\n",
    "\n",
    "    fullfit = False\n",
    "    n_fullfit = 1\n",
    "\n",
    "    local_rank = 0\n",
    "    distributed = False\n",
    "    world_size = 1"
   ]
  },
  {
   "cell_type": "code",
   "execution_count": null,
   "metadata": {},
   "outputs": [],
   "source": [
    "DEBUG = True\n",
    "log_folder = None"
   ]
  },
  {
   "cell_type": "code",
   "execution_count": null,
   "metadata": {},
   "outputs": [],
   "source": [
    "df = prepare_data_lvl2()\n",
    "\n",
    "if \"fold\" not in df.columns:\n",
    "    folds = pd.read_csv(Config.folds_file)\n",
    "    df = df.merge(folds, how=\"left\")\n",
    "\n",
    "# df = df[~df['study_id'].isin([1215498865, 1647904243, 2570933394, 2761048584, 3284652867, 3941522676])].reset_index(drop=True)\n",
    "# df['any_severe'] = (df[df.columns[3:8]] == 2).max(1)\n",
    "# df = pd.concat([df, df[df['any_severe']]], ignore_index=True)"
   ]
  },
  {
   "cell_type": "code",
   "execution_count": null,
   "metadata": {},
   "outputs": [],
   "source": [
    "if not DEBUG:\n",
    "    log_folder = prepare_log_folder(LOG_PATH)\n",
    "    print(f\"Logging results to {log_folder}\")\n",
    "    config_df = save_config(Config, log_folder + \"config.json\")\n",
    "    create_logger(directory=log_folder, name=\"logs.txt\")\n",
    "\n",
    "    Config.fullfit = True\n",
    "\n",
    "preds = k_fold(Config, df, log_folder=log_folder, run=None)"
   ]
  },
  {
   "cell_type": "markdown",
   "metadata": {
    "editable": true,
    "slideshow": {
     "slide_type": ""
    },
    "tags": []
   },
   "source": [
    "### Eval"
   ]
  },
  {
   "cell_type": "code",
   "execution_count": null,
   "metadata": {},
   "outputs": [],
   "source": [
    "preds = np.load('../logs/2024-10-07/0/pred_oof.npy')\n",
    "# preds_2 = np.load('../logs/2024-10-08/1/pred_oof.npy')\n",
    "# preds = (preds + preds_2) / 2"
   ]
  },
  {
   "cell_type": "code",
   "execution_count": null,
   "metadata": {},
   "outputs": [],
   "source": [
    "avg_loss, losses = rsna_loss(df[Config.targets].values, preds, verbose=1)\n",
    "\n",
    "for k, v in losses.items():\n",
    "    print(f\"- {k}_loss\\t: {v:.3f}\")\n",
    "\n",
    "print(f'\\n -> CV Score : {avg_loss :.4f}')"
   ]
  },
  {
   "cell_type": "code",
   "execution_count": null,
   "metadata": {},
   "outputs": [],
   "source": [
    "preds_2 = np.load('../logs/2024-10-07/0/pred_oof.npy')\n",
    "\n",
    "avg_loss, losses = rsna_loss(df[Config.targets].values, preds_2, verbose=1)\n",
    "\n",
    "for k, v in losses.items():\n",
    "    print(f\"- {k}_loss\\t: {v:.3f}\")\n",
    "\n",
    "print(f'\\n -> CV Score : {avg_loss :.4f}')"
   ]
  },
  {
   "cell_type": "code",
   "execution_count": null,
   "metadata": {},
   "outputs": [],
   "source": [
    "df.head()"
   ]
  },
  {
   "cell_type": "code",
   "execution_count": null,
   "metadata": {},
   "outputs": [],
   "source": [
    "# for i in range(5):\n",
    "#     plt.figure(figsize=(14, 5))\n",
    "#     for tgt in [1, 2]:\n",
    "#         plt.subplot(1, 2, tgt)\n",
    "#         sns.histplot(np.round(preds[:, i, tgt], 1))\n",
    "#         plt.title(f'{LEVELS[i]} - {tgt} - {(df[Config.targets].values[:, i] == tgt).mean() :.3f}')\n",
    "#         plt.xlim(-0.01, 1.01)\n",
    "#     plt.show()"
   ]
  },
  {
   "cell_type": "code",
   "execution_count": null,
   "metadata": {},
   "outputs": [],
   "source": [
    "# df['any_severe'] = (df[df.columns[3:8]] == 2).max(1)\n",
    "# ids = df[df['any_severe']].index.values"
   ]
  },
  {
   "cell_type": "code",
   "execution_count": null,
   "metadata": {},
   "outputs": [],
   "source": [
    "# avg_loss, losses = rsna_loss(\n",
    "#     np.concatenate([df[Config.targets].values, df[Config.targets].values[ids]]),\n",
    "#     np.concatenate([preds, preds[ids]]),\n",
    "# )\n",
    "\n",
    "# for k, v in losses.items():\n",
    "#     print(f\"- {k}_loss\\t: {v:.3f}\")\n",
    "\n",
    "# print(f'\\n -> CV Score : {avg_loss :.4f}')"
   ]
  },
  {
   "cell_type": "markdown",
   "metadata": {},
   "source": [
    "Done ! "
   ]
  }
 ],
 "metadata": {
  "kernelspec": {
   "display_name": "Python 3 (ipykernel)",
   "language": "python",
   "name": "python3"
  },
  "language_info": {
   "codemirror_mode": {
    "name": "ipython",
    "version": 3
   },
   "file_extension": ".py",
   "mimetype": "text/x-python",
   "name": "python",
   "nbconvert_exporter": "python",
   "pygments_lexer": "ipython3",
   "version": "3.10.12"
  }
 },
 "nbformat": 4,
 "nbformat_minor": 4
}
