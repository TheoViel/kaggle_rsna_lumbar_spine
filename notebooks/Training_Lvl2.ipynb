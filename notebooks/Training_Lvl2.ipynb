{
 "cells": [
  {
   "cell_type": "markdown",
   "metadata": {},
   "source": [
    "**About** : This notebook is used to train RNN models."
   ]
  },
  {
   "cell_type": "code",
   "execution_count": 1,
   "metadata": {},
   "outputs": [],
   "source": [
    "%load_ext autoreload\n",
    "%autoreload 2"
   ]
  },
  {
   "cell_type": "code",
   "execution_count": 2,
   "metadata": {},
   "outputs": [
    {
     "name": "stdout",
     "output_type": "stream",
     "text": [
      "/workspace/kaggle_rsna_lumbar_spine/src\n"
     ]
    }
   ],
   "source": [
    "cd ../src/"
   ]
  },
  {
   "cell_type": "markdown",
   "metadata": {},
   "source": [
    "### Imports"
   ]
  },
  {
   "cell_type": "code",
   "execution_count": 3,
   "metadata": {},
   "outputs": [],
   "source": [
    "import os\n",
    "import sys\n",
    "import glob\n",
    "import json\n",
    "import torch\n",
    "import operator\n",
    "import warnings\n",
    "import numpy as np\n",
    "import pandas as pd\n",
    "# import seaborn as sns\n",
    "import matplotlib.pyplot as plt\n",
    "\n",
    "from tqdm.notebook import tqdm\n",
    "from sklearn.metrics import *\n",
    "from collections import Counter\n",
    "from scipy.stats import spearmanr\n",
    "\n",
    "warnings.simplefilter(action=\"ignore\", category=UserWarning)\n",
    "warnings.simplefilter(\"ignore\", FutureWarning)"
   ]
  },
  {
   "cell_type": "code",
   "execution_count": 4,
   "metadata": {},
   "outputs": [],
   "source": [
    "from util.logger import (\n",
    "    prepare_log_folder,\n",
    "    save_config,\n",
    "    create_logger,\n",
    ")\n",
    "\n",
    "from data.dataset import FeatureDataset\n",
    "from params import *\n",
    "from data.preparation import *\n",
    "from util.logger import Config as ConfigInf\n",
    "from training.main_lvl2 import k_fold\n",
    "from util.metrics import *"
   ]
  },
  {
   "cell_type": "code",
   "execution_count": 5,
   "metadata": {},
   "outputs": [],
   "source": [
    "from model_zoo.models_lvl2 import define_model\n",
    "from training.losses import StudyLoss\n",
    "from util.metrics import rsna_loss"
   ]
  },
  {
   "cell_type": "markdown",
   "metadata": {},
   "source": [
    "### Data"
   ]
  },
  {
   "cell_type": "code",
   "execution_count": 6,
   "metadata": {},
   "outputs": [],
   "source": [
    "df = prepare_data_lvl2()\n",
    "\n",
    "if \"fold\" not in df.columns:\n",
    "    folds = pd.read_csv(\"../input/train_folded_v1.csv\")\n",
    "    df = df.merge(folds, how=\"left\")"
   ]
  },
  {
   "cell_type": "code",
   "execution_count": 7,
   "metadata": {},
   "outputs": [],
   "source": [
    "# df = df[df['fold'] == 0].reset_index(drop=True)"
   ]
  },
  {
   "cell_type": "code",
   "execution_count": 8,
   "metadata": {},
   "outputs": [],
   "source": [
    "EXP_FOLDERS = {\n",
    "    # \"scs_crop\": \"../logs/2024-08-29/15/\",  # 15\n",
    "    # \"nfn_crop\": \"../logs/2024-08-29/16/\",  # 30\n",
    "    # \"scs_crop_coords\":  \"../logs/2024-08-29/17/\",\n",
    "    \n",
    "    # \"nfn_crop_coords\":  \"../logs/2024-09-15/2/\",\n",
    "\n",
    "    \"scs_crop_coords\": \"../logs/2024-09-12/1/\",  # 5f -0.005 scs\n",
    "    \"scs_crop_coords_2\": \"../logs/2024-10-02/2/\",  # 3f -0.005 scs\n",
    "\n",
    "    # \"dh\": '../output/oof____cfg_dh_12y8.pth',  # Darragh preds\n",
    "    # \"dh_2\": \"../output/oof____cfg_dh_29a2.pth\",  # Darragh preds\n",
    "    # \"ch\": '../output/oof_cfg_ch_35.pth',  # Dieter preds\n",
    "\n",
    "    \"crop_2\": \"../logs/2024-09-13/7/\",  # coatnet side\n",
    "    \"crop\": \"../logs/2024-09-14/5/\",   # coatnet side  <---- best\n",
    "    # \"crop\": \"../logs/2024-09-30/7/\",   # coatnet side more eps\n",
    "    \n",
    "    # \"crop_ax\": \"../logs/2024-09-30/6/\", \n",
    "    # \"crop_2\": \"../logs/2024-09-30/1/\", \n",
    "}"
   ]
  },
  {
   "cell_type": "code",
   "execution_count": 9,
   "metadata": {},
   "outputs": [],
   "source": [
    "config = ConfigInf(json.load(open(EXP_FOLDERS[\"crop\"] + \"config.json\", \"r\")))"
   ]
  },
  {
   "cell_type": "code",
   "execution_count": 10,
   "metadata": {},
   "outputs": [
    {
     "data": {
      "text/html": [
       "<div>\n",
       "<style scoped>\n",
       "    .dataframe tbody tr th:only-of-type {\n",
       "        vertical-align: middle;\n",
       "    }\n",
       "\n",
       "    .dataframe tbody tr th {\n",
       "        vertical-align: top;\n",
       "    }\n",
       "\n",
       "    .dataframe thead th {\n",
       "        text-align: right;\n",
       "    }\n",
       "</style>\n",
       "<table border=\"1\" class=\"dataframe\">\n",
       "  <thead>\n",
       "    <tr style=\"text-align: right;\">\n",
       "      <th></th>\n",
       "      <th>study_id</th>\n",
       "      <th>series_id</th>\n",
       "      <th>series_description</th>\n",
       "      <th>spinal_canal_stenosis_l1_l2</th>\n",
       "      <th>spinal_canal_stenosis_l2_l3</th>\n",
       "      <th>spinal_canal_stenosis_l3_l4</th>\n",
       "      <th>spinal_canal_stenosis_l4_l5</th>\n",
       "      <th>spinal_canal_stenosis_l5_s1</th>\n",
       "      <th>left_neural_foraminal_narrowing_l1_l2</th>\n",
       "      <th>left_neural_foraminal_narrowing_l2_l3</th>\n",
       "      <th>...</th>\n",
       "      <th>left_subarticular_stenosis_l2_l3</th>\n",
       "      <th>left_subarticular_stenosis_l3_l4</th>\n",
       "      <th>left_subarticular_stenosis_l4_l5</th>\n",
       "      <th>left_subarticular_stenosis_l5_s1</th>\n",
       "      <th>right_subarticular_stenosis_l1_l2</th>\n",
       "      <th>right_subarticular_stenosis_l2_l3</th>\n",
       "      <th>right_subarticular_stenosis_l3_l4</th>\n",
       "      <th>right_subarticular_stenosis_l4_l5</th>\n",
       "      <th>right_subarticular_stenosis_l5_s1</th>\n",
       "      <th>fold</th>\n",
       "    </tr>\n",
       "  </thead>\n",
       "  <tbody>\n",
       "    <tr>\n",
       "      <th>0</th>\n",
       "      <td>4003253</td>\n",
       "      <td>[702807833, 1054713880, 2448190387]</td>\n",
       "      <td>[Sagittal T2/STIR, Sagittal T1, Axial T2]</td>\n",
       "      <td>0</td>\n",
       "      <td>0</td>\n",
       "      <td>0</td>\n",
       "      <td>0</td>\n",
       "      <td>0</td>\n",
       "      <td>0</td>\n",
       "      <td>0</td>\n",
       "      <td>...</td>\n",
       "      <td>0</td>\n",
       "      <td>0</td>\n",
       "      <td>1</td>\n",
       "      <td>0</td>\n",
       "      <td>0</td>\n",
       "      <td>0</td>\n",
       "      <td>0</td>\n",
       "      <td>0</td>\n",
       "      <td>0</td>\n",
       "      <td>1</td>\n",
       "    </tr>\n",
       "  </tbody>\n",
       "</table>\n",
       "<p>1 rows × 29 columns</p>\n",
       "</div>"
      ],
      "text/plain": [
       "   study_id                            series_id  \\\n",
       "0   4003253  [702807833, 1054713880, 2448190387]   \n",
       "\n",
       "                          series_description  spinal_canal_stenosis_l1_l2  \\\n",
       "0  [Sagittal T2/STIR, Sagittal T1, Axial T2]                            0   \n",
       "\n",
       "   spinal_canal_stenosis_l2_l3  spinal_canal_stenosis_l3_l4  \\\n",
       "0                            0                            0   \n",
       "\n",
       "   spinal_canal_stenosis_l4_l5  spinal_canal_stenosis_l5_s1  \\\n",
       "0                            0                            0   \n",
       "\n",
       "   left_neural_foraminal_narrowing_l1_l2  \\\n",
       "0                                      0   \n",
       "\n",
       "   left_neural_foraminal_narrowing_l2_l3  ...  \\\n",
       "0                                      0  ...   \n",
       "\n",
       "   left_subarticular_stenosis_l2_l3  left_subarticular_stenosis_l3_l4  \\\n",
       "0                                 0                                 0   \n",
       "\n",
       "   left_subarticular_stenosis_l4_l5  left_subarticular_stenosis_l5_s1  \\\n",
       "0                                 1                                 0   \n",
       "\n",
       "   right_subarticular_stenosis_l1_l2  right_subarticular_stenosis_l2_l3  \\\n",
       "0                                  0                                  0   \n",
       "\n",
       "   right_subarticular_stenosis_l3_l4  right_subarticular_stenosis_l4_l5  \\\n",
       "0                                  0                                  0   \n",
       "\n",
       "   right_subarticular_stenosis_l5_s1  fold  \n",
       "0                                  0     1  \n",
       "\n",
       "[1 rows x 29 columns]"
      ]
     },
     "execution_count": 10,
     "metadata": {},
     "output_type": "execute_result"
    }
   ],
   "source": [
    "df.head(1)"
   ]
  },
  {
   "cell_type": "code",
   "execution_count": 11,
   "metadata": {},
   "outputs": [],
   "source": [
    "dataset = FeatureDataset(df, EXP_FOLDERS, targets=CLASSES)"
   ]
  },
  {
   "cell_type": "code",
   "execution_count": 12,
   "metadata": {},
   "outputs": [
    {
     "data": {
      "text/plain": [
       "({'scs_crop_coords': tensor([[ 5.0742, -2.6191, -3.7480],\n",
       "          [ 5.1602, -2.6445, -3.7617],\n",
       "          [ 5.0586, -2.5293, -3.7500],\n",
       "          [ 3.9863, -2.0371, -3.1738],\n",
       "          [ 5.2383, -2.7285, -3.8594]]),\n",
       "  'scs_crop_coords_2': tensor([[ 5.3789, -1.8828, -2.9570],\n",
       "          [ 5.4141, -1.8945, -2.9648],\n",
       "          [ 5.4258, -1.9072, -2.9941],\n",
       "          [ 5.4180, -1.8135, -3.0840],\n",
       "          [ 5.4180, -1.8496, -3.0312]]),\n",
       "  'crop_2': tensor([[ 4.9492, -2.1816, -3.0645,  4.7852, -2.1250, -2.9570],\n",
       "          [ 4.9961, -2.2402, -3.1016,  4.9922, -2.2617, -3.1035],\n",
       "          [ 4.9531, -2.1406, -3.0293,  4.8789, -2.1680, -2.9082],\n",
       "          [ 4.0078, -1.1123, -3.3867,  4.0391, -1.2676, -3.0117],\n",
       "          [ 4.5430, -2.0527, -2.6582,  4.4297, -2.0195, -2.5059],\n",
       "          [ 3.7539, -1.6240, -3.9922,  3.7344, -1.6533, -3.9707],\n",
       "          [ 3.8828, -1.6846, -4.1289,  3.8828, -1.6855, -4.1875],\n",
       "          [ 3.7207, -1.5234, -4.1562,  3.5000, -1.2744, -4.0938],\n",
       "          [ 1.0986,  1.0254, -2.9395,  1.0537,  1.0986, -2.9102],\n",
       "          [ 2.3262, -0.3186, -3.6680,  2.2637, -0.1969, -3.7207],\n",
       "          [ 3.7090, -1.5713, -3.9258,  3.7754, -1.5703, -3.9434],\n",
       "          [ 3.9199, -1.6621, -4.0664,  3.8574, -1.5762, -4.0391],\n",
       "          [ 3.7910, -1.2773, -4.2148,  3.6855, -1.3701, -3.9141],\n",
       "          [ 2.5117,  0.3120, -3.9844,  1.8760,  0.3193, -3.3730],\n",
       "          [ 2.9590, -0.6914, -3.6191,  2.9727, -0.7217, -3.6406],\n",
       "          [ 3.6855, -2.1074, -3.1562,  3.6953, -2.0918, -3.1016],\n",
       "          [ 3.7871, -2.0684, -3.1895,  3.8047, -2.0664, -3.1719],\n",
       "          [ 3.6523, -1.8311, -3.1582,  3.4980, -1.5186, -3.1641],\n",
       "          [-0.1453,  0.8320, -0.6372,  0.2230,  0.9004, -1.2246],\n",
       "          [ 2.8398, -0.3296, -2.9473,  3.0273, -0.6221, -3.0449],\n",
       "          [ 3.9512, -1.5537, -3.2461,  3.8652, -1.5361, -3.2012],\n",
       "          [ 4.0000, -1.5488, -3.3301,  4.0469, -1.6133, -3.2988],\n",
       "          [ 3.3086, -0.9263, -3.6055,  3.5469, -1.1807, -3.3652],\n",
       "          [ 1.1826,  0.3545, -2.6543,  1.6953,  0.1886, -2.6562],\n",
       "          [ 3.0293, -0.9561, -3.0469,  2.6699, -0.8589, -2.8965]]),\n",
       "  'crop': tensor([[ 4.9766, -2.3809, -3.3398,  4.9414, -2.4473, -3.2891],\n",
       "          [ 5.0625, -2.4727, -3.3906,  5.1289, -2.4844, -3.4004],\n",
       "          [ 5.0391, -2.3125, -3.3418,  5.0664, -2.1562, -3.1973],\n",
       "          [ 3.9082, -0.7798, -3.4902,  3.9980, -1.0664, -3.4961],\n",
       "          [ 4.5430, -1.9482, -2.9395,  4.4805, -2.1738, -2.8281],\n",
       "          [ 3.7617, -1.7529, -4.3086,  3.7852, -1.7617, -4.3203],\n",
       "          [ 3.7383, -1.8320, -4.2461,  3.7871, -1.8086, -4.2539],\n",
       "          [ 3.6055, -1.6279, -4.0938,  3.4180, -1.3662, -4.1133],\n",
       "          [ 1.8301,  0.8545, -3.1094,  1.5479,  0.8843, -2.9414],\n",
       "          [ 2.5059, -0.0941, -3.4922,  2.4863, -0.5649, -3.6953],\n",
       "          [ 3.7715, -1.3887, -3.9141,  3.7832, -1.3643, -3.9648],\n",
       "          [ 3.8730, -1.4639, -4.0234,  3.8691, -1.4434, -4.0586],\n",
       "          [ 3.7324, -1.3262, -4.2070,  3.5625, -1.3203, -3.9531],\n",
       "          [ 1.8750,  0.0953, -3.7480,  2.1348, -0.0054, -3.6953],\n",
       "          [ 2.8750, -0.7676, -3.4180,  2.9082, -0.7861, -3.3340],\n",
       "          [ 3.7422, -2.1465, -3.1641,  3.8203, -2.1797, -3.2695],\n",
       "          [ 3.7168, -2.1387, -3.1660,  3.7871, -2.0957, -3.2363],\n",
       "          [ 3.5547, -1.7783, -3.1914,  3.5293, -1.6094, -3.2051],\n",
       "          [ 0.2268,  0.8120, -1.2549,  0.8394,  0.7329, -2.0742],\n",
       "          [ 2.5664, -0.3389, -3.2402,  3.5547, -1.2158, -3.3516],\n",
       "          [ 3.5898, -1.7520, -3.3418,  3.5254, -1.7324, -3.3223],\n",
       "          [ 3.5820, -1.7441, -3.4375,  3.5977, -1.7246, -3.4453],\n",
       "          [ 3.3125, -1.2109, -3.6270,  3.2070, -1.2129, -3.5039],\n",
       "          [ 0.6626,  0.5425, -2.2383,  1.5625,  0.2678, -2.9434],\n",
       "          [ 2.8008, -0.9951, -3.0605,  2.6738, -1.0811, -3.0000]])},\n",
       " tensor([0, 0, 0, 0, 0, 0, 0, 0, 1, 0, 0, 0, 1, 1, 0, 0, 0, 0, 1, 0, 0, 0, 0, 0,\n",
       "         0]),\n",
       " 0)"
      ]
     },
     "execution_count": 12,
     "metadata": {},
     "output_type": "execute_result"
    }
   ],
   "source": [
    "dataset[0]"
   ]
  },
  {
   "cell_type": "code",
   "execution_count": 13,
   "metadata": {},
   "outputs": [],
   "source": [
    "# p = []\n",
    "# for i in tqdm(range(len(dataset))):\n",
    "#     p_ = dataset[i][0][\"nfn_crop_coords\"].view(-1, 3).numpy()\n",
    "#     # p_ = p_.reshape(5, 2, 3).transpose(1, 0, 2).reshape(10, 3)\n",
    "#     p.append(p_)\n",
    "# p = np.array(p)\n",
    "\n",
    "# y = df[df.columns[8:18]].values\n",
    "\n",
    "# aucs = []\n",
    "# for i, c in enumerate(CLASSES[5:15]):\n",
    "#     auc = disk_auc(y[:, i], p[:, i])\n",
    "#     print(f'{c} AUC: \\t {auc :.4f}')\n",
    "#     aucs.append(auc)\n",
    "# print(f'\\n-> Avg AUC: \\t {np.mean(aucs) :.4f}')"
   ]
  },
  {
   "cell_type": "code",
   "execution_count": 14,
   "metadata": {},
   "outputs": [
    {
     "data": {
      "application/vnd.jupyter.widget-view+json": {
       "model_id": "eec76895dddf44aba4b5eff633c12ff5",
       "version_major": 2,
       "version_minor": 0
      },
      "text/plain": [
       "  0%|          | 0/1975 [00:00<?, ?it/s]"
      ]
     },
     "metadata": {},
     "output_type": "display_data"
    }
   ],
   "source": [
    "for i in tqdm(range(len(dataset))):\n",
    "    fts, y, _ = dataset[i]\n",
    "    # for k in fts:\n",
    "    #     print(k, fts[k].size())\n",
    "    break"
   ]
  },
  {
   "cell_type": "code",
   "execution_count": 15,
   "metadata": {},
   "outputs": [],
   "source": [
    "idx = 2\n",
    "fts, y, _ = dataset[idx]"
   ]
  },
  {
   "cell_type": "code",
   "execution_count": 16,
   "metadata": {},
   "outputs": [
    {
     "name": "stdout",
     "output_type": "stream",
     "text": [
      "scs_crop_coords torch.Size([5, 3])\n",
      "scs_crop_coords_2 torch.Size([5, 3])\n",
      "crop_2 torch.Size([25, 6])\n",
      "crop torch.Size([25, 6])\n"
     ]
    }
   ],
   "source": [
    "for k in fts:\n",
    "    print(k, fts[k].size())"
   ]
  },
  {
   "cell_type": "code",
   "execution_count": 17,
   "metadata": {},
   "outputs": [],
   "source": [
    "# plt.figure(figsize=(20, 5))\n",
    "# plt.subplot(1, 3, 1)\n",
    "# for i in range(5):\n",
    "#     plt.plot(fts['ss_aux'].softmax(1)[:, i], label=LEVELS[i])\n",
    "# plt.legend()\n",
    "\n",
    "# plt.subplot(1, 3, 2)\n",
    "# for i in [1, 2]:\n",
    "#     plt.plot(fts['ss'][:, i], label=f'left_{i}')\n",
    "# for i in [4, 5]:\n",
    "#     plt.plot(fts['ss'][:, i], label=f'right_{i - 3}')\n",
    "# plt.legend()\n",
    "\n",
    "# # plt.subplot(1, 3, 3)\n",
    "# # for i in range(5):\n",
    "# #     plt.plot(fts['ss'][:, 1, i], label=LEVELS[i])\n",
    "# # plt.legend()\n",
    "\n",
    "# plt.show()"
   ]
  },
  {
   "cell_type": "code",
   "execution_count": 18,
   "metadata": {},
   "outputs": [],
   "source": [
    "# for k in fts:\n",
    "#     print(k, fts[k].shape)"
   ]
  },
  {
   "cell_type": "markdown",
   "metadata": {},
   "source": [
    "### Model"
   ]
  },
  {
   "cell_type": "code",
   "execution_count": 19,
   "metadata": {},
   "outputs": [],
   "source": [
    "model = define_model(\n",
    "    name=\"simple\",\n",
    "    num_classes=len(CLASSES) * 3,\n",
    "    ft_dim=[18, 18, 18],\n",
    ")"
   ]
  },
  {
   "cell_type": "code",
   "execution_count": 20,
   "metadata": {},
   "outputs": [],
   "source": [
    "x = {k: fts[k].unsqueeze(0) for k in fts}"
   ]
  },
  {
   "cell_type": "code",
   "execution_count": 21,
   "metadata": {},
   "outputs": [],
   "source": [
    "# pred, _ = model(x)\n",
    "# pred.size()"
   ]
  },
  {
   "cell_type": "code",
   "execution_count": 22,
   "metadata": {},
   "outputs": [],
   "source": [
    "# l = StudyLoss()\n",
    "# l(pred, y.unsqueeze(0))"
   ]
  },
  {
   "cell_type": "code",
   "execution_count": 23,
   "metadata": {},
   "outputs": [],
   "source": [
    "# rsna_loss(y.unsqueeze(0).numpy(), pred.softmax(2).detach().numpy())"
   ]
  },
  {
   "cell_type": "markdown",
   "metadata": {},
   "source": [
    "### Training\n"
   ]
  },
  {
   "cell_type": "code",
   "execution_count": 24,
   "metadata": {},
   "outputs": [],
   "source": [
    "class Config:\n",
    "    \"\"\"\n",
    "    Parameters used for training\n",
    "    \"\"\"\n",
    "    # General\n",
    "    seed = 42\n",
    "    verbose = 1\n",
    "    device = \"cuda\"\n",
    "    save_weights = True\n",
    "    targets = CLASSES\n",
    "\n",
    "    # Data\n",
    "    exp_folders = {\n",
    "        # \"scs_crop\": \"../logs/2024-08-29/15/\",  # 15\n",
    "        # \"nfn_crop\": \"../logs/2024-08-29/16/\",  # 30\n",
    "        # \"scs_crop_coords\":  \"../logs/2024-08-29/17/\",\n",
    "        \n",
    "        # \"nfn_crop_coords\":  \"../logs/2024-09-15/2/\",\n",
    "\n",
    "        \"scs_crop_coords\": \"../logs/2024-09-12/1/\",  # 5f -0.005 scs\n",
    "        \"scs_crop_coords_2\": \"../logs/2024-10-02/2/\",  # 3f -0.005 scs\n",
    "\n",
    "        # \"dh\": '../output/oof____cfg_dh_12y8.pth',  # Darragh preds\n",
    "        # \"dh_2\": \"../output/oof____cfg_dh_29a2.pth\",  # Darragh preds\n",
    "        # \"ch\": '../output/oof_cfg_ch_35.pth',  # Dieter preds\n",
    "\n",
    "        \"crop_2\": \"../logs/2024-09-13/7/\",  # coatnet side\n",
    "        \"crop\": \"../logs/2024-09-14/5/\",   # coatnet side  <---- best\n",
    "        # \"crop\": \"../logs/2024-09-30/7/\",   # coatnet side more eps\n",
    "        \n",
    "        # \"crop_ax\": \"../logs/2024-09-30/6/\", \n",
    "        # \"crop_2\": \"../logs/2024-09-30/1/\", \n",
    "    }\n",
    "    n_fts = 0\n",
    "    resize = 0\n",
    "    remove_noisy = False\n",
    "\n",
    "    # k-fold\n",
    "    k = 4\n",
    "    folds_file = \"../input/train_folded_v1.csv\"  # f\"../input/folds_{k}.csv\"\n",
    "    selected_folds = [0, 1, 2, 3]\n",
    "\n",
    "    # Model\n",
    "    name = \"simple\"\n",
    "    dense_dim = 4096\n",
    "    layer_dim = 0\n",
    "    ft = 6 * (\"crop\" in exp_folders) + 3 * (\"dh\" in exp_folders) + 3 * (\"ch\" in exp_folders)\n",
    "    ft_dim = [\n",
    "        ft + 3 * len([k for k in exp_folders if \"scs\" in k]),\n",
    "        ft + 3 * len([k for k in exp_folders if \"nfn\" in k]),\n",
    "        ft + 3 * len([k for k in exp_folders if \"ss\" in k]),\n",
    "    ]  # scs, nfn, ss\n",
    "\n",
    "    p = 0.\n",
    "    num_classes = len(CLASSES) * 3\n",
    "    num_classes_aux = 0\n",
    "\n",
    "    # Training    \n",
    "    loss_config = {\n",
    "        \"name\": \"study\",\n",
    "        \"weighted\": True,\n",
    "        \"use_any\": True,\n",
    "        \"smoothing\": 0,\n",
    "        \"activation\": \"study\",\n",
    "        \"aux_loss_weight\": 0,\n",
    "        \"name_aux\": \"\",\n",
    "        \"smoothing_aux\": 0,\n",
    "        \"activation_aux\": \"\",\n",
    "    }\n",
    "\n",
    "    data_config = {\n",
    "        \"batch_size\": 128,\n",
    "        \"val_bs\": 512,\n",
    "        \"mix\": \"mixup\",\n",
    "        \"mix_proba\": 0.,\n",
    "        \"sched\": False,\n",
    "        \"mix_alpha\": 4.,\n",
    "        \"additive_mix\": False,\n",
    "        \"num_classes\": num_classes,\n",
    "        \"num_classes_aux\": num_classes_aux,\n",
    "        \"num_workers\": 8,\n",
    "    }\n",
    "\n",
    "    optimizer_config = {\n",
    "        \"name\": \"AdamW\",\n",
    "        \"lr\": 7e-5,  # 5e-5\n",
    "        \"warmup_prop\": 0.,\n",
    "        \"betas\": (0.9, 0.999),\n",
    "        \"max_grad_norm\": 1.,\n",
    "        \"weight_decay\": 1,\n",
    "    }\n",
    "\n",
    "    epochs = 15\n",
    "\n",
    "    use_fp16 = True\n",
    "    verbose = 1\n",
    "    verbose_eval = 20\n",
    "\n",
    "    fullfit = True\n",
    "    n_fullfit = 1\n",
    "\n",
    "    local_rank = 0\n",
    "    distributed = False\n",
    "    world_size = 1"
   ]
  },
  {
   "cell_type": "code",
   "execution_count": 25,
   "metadata": {},
   "outputs": [],
   "source": [
    "DEBUG = False\n",
    "log_folder = None"
   ]
  },
  {
   "cell_type": "code",
   "execution_count": 26,
   "metadata": {},
   "outputs": [],
   "source": [
    "df = prepare_data_lvl2()\n",
    "\n",
    "if \"fold\" not in df.columns:\n",
    "    folds = pd.read_csv(Config.folds_file)\n",
    "    df = df.merge(folds, how=\"left\")\n",
    "\n",
    "# df = df[~df['study_id'].isin([1215498865, 1647904243, 2570933394, 2761048584, 3284652867, 3941522676])].reset_index(drop=True)"
   ]
  },
  {
   "cell_type": "code",
   "execution_count": 27,
   "metadata": {},
   "outputs": [
    {
     "name": "stdout",
     "output_type": "stream",
     "text": [
      "Logging results to ../logs/2024-10-03/2/\n",
      "\n",
      "-------------   Fold 1 / 4  -------------\n",
      "\n",
      "    -> 1481 training studies\n",
      "    -> 494 validation studies\n",
      "    -> 147465 trainable parameters\n",
      "\n",
      "Epoch 02/15 (step 0020) \tlr=6.2e-05 \t t=1s \t loss=0.592    scs_loss=0.282    nfn_loss=0.496    ss_loss=0.595    any_loss=0.238\t val_loss=0.403\n",
      "Epoch 04/15 (step 0040) \tlr=5.3e-05 \t t=1s \t loss=0.408    scs_loss=0.246    nfn_loss=0.474    ss_loss=0.551    any_loss=0.236\t val_loss=0.377\n",
      "Epoch 06/15 (step 0060) \tlr=4.5e-05 \t t=1s \t loss=0.397    scs_loss=0.241    nfn_loss=0.473    ss_loss=0.551    any_loss=0.235\t val_loss=0.375\n",
      "Epoch 08/15 (step 0080) \tlr=3.6e-05 \t t=1s \t loss=0.396    scs_loss=0.239    nfn_loss=0.473    ss_loss=0.549    any_loss=0.235\t val_loss=0.374\n",
      "Epoch 09/15 (step 0100) \tlr=2.8e-05 \t t=0s \t loss=0.395    scs_loss=0.238    nfn_loss=0.472    ss_loss=0.549    any_loss=0.234\t val_loss=0.373\n",
      "Epoch 11/15 (step 0120) \tlr=2.0e-05 \t t=1s \t loss=0.391    scs_loss=0.238    nfn_loss=0.472    ss_loss=0.548    any_loss=0.234\t val_loss=0.373\n",
      "Epoch 13/15 (step 0140) \tlr=1.1e-05 \t t=1s \t loss=0.394    scs_loss=0.238    nfn_loss=0.472    ss_loss=0.548    any_loss=0.234\t val_loss=0.373\n",
      "Epoch 15/15 (step 0166) \tlr=0.0e+00 \t t=1s \t loss=0.395    scs_loss=0.238    nfn_loss=0.472    ss_loss=0.548    any_loss=0.234\t val_loss=0.373\n",
      "\n",
      " -> Saving weights to ../logs/2024-10-03/2/simple_0.pt\n",
      "\n",
      "\n",
      "-------------   Fold 2 / 4  -------------\n",
      "\n",
      "    -> 1481 training studies\n",
      "    -> 494 validation studies\n",
      "    -> 147465 trainable parameters\n",
      "\n",
      "Epoch 02/15 (step 0020) \tlr=6.2e-05 \t t=1s \t loss=0.516    scs_loss=0.331    nfn_loss=0.506    ss_loss=0.573    any_loss=0.365\t val_loss=0.444\n",
      "Epoch 04/15 (step 0040) \tlr=5.3e-05 \t t=1s \t loss=0.388    scs_loss=0.322    nfn_loss=0.481    ss_loss=0.559    any_loss=0.383\t val_loss=0.436\n",
      "Epoch 06/15 (step 0060) \tlr=4.5e-05 \t t=1s \t loss=0.384    scs_loss=0.307    nfn_loss=0.480    ss_loss=0.556    any_loss=0.355\t val_loss=0.425\n",
      "Epoch 08/15 (step 0080) \tlr=3.6e-05 \t t=1s \t loss=0.377    scs_loss=0.308    nfn_loss=0.482    ss_loss=0.557    any_loss=0.360\t val_loss=0.427\n",
      "Epoch 09/15 (step 0100) \tlr=2.8e-05 \t t=0s \t loss=0.380    scs_loss=0.305    nfn_loss=0.482    ss_loss=0.555    any_loss=0.359\t val_loss=0.425\n",
      "Epoch 11/15 (step 0120) \tlr=2.0e-05 \t t=1s \t loss=0.380    scs_loss=0.307    nfn_loss=0.481    ss_loss=0.555    any_loss=0.361\t val_loss=0.426\n",
      "Epoch 13/15 (step 0140) \tlr=1.1e-05 \t t=1s \t loss=0.378    scs_loss=0.308    nfn_loss=0.481    ss_loss=0.557    any_loss=0.365\t val_loss=0.428\n",
      "Epoch 15/15 (step 0166) \tlr=0.0e+00 \t t=1s \t loss=0.375    scs_loss=0.307    nfn_loss=0.482    ss_loss=0.557    any_loss=0.364\t val_loss=0.427\n",
      "\n",
      " -> Saving weights to ../logs/2024-10-03/2/simple_1.pt\n",
      "\n",
      "\n",
      "-------------   Fold 3 / 4  -------------\n",
      "\n",
      "    -> 1481 training studies\n",
      "    -> 494 validation studies\n",
      "    -> 147465 trainable parameters\n",
      "\n",
      "Epoch 02/15 (step 0020) \tlr=6.2e-05 \t t=1s \t loss=0.702    scs_loss=0.273    nfn_loss=0.546    ss_loss=0.615    any_loss=0.216\t val_loss=0.412\n",
      "Epoch 04/15 (step 0040) \tlr=5.4e-05 \t t=1s \t loss=0.409    scs_loss=0.227    nfn_loss=0.512    ss_loss=0.581    any_loss=0.196\t val_loss=0.379\n",
      "Epoch 06/15 (step 0060) \tlr=4.5e-05 \t t=1s \t loss=0.394    scs_loss=0.228    nfn_loss=0.505    ss_loss=0.578    any_loss=0.200\t val_loss=0.378\n",
      "Epoch 08/15 (step 0080) \tlr=3.7e-05 \t t=1s \t loss=0.400    scs_loss=0.227    nfn_loss=0.502    ss_loss=0.578    any_loss=0.201\t val_loss=0.377\n",
      "Epoch 09/15 (step 0100) \tlr=2.8e-05 \t t=0s \t loss=0.396    scs_loss=0.225    nfn_loss=0.502    ss_loss=0.578    any_loss=0.199\t val_loss=0.376\n",
      "Epoch 11/15 (step 0120) \tlr=2.0e-05 \t t=1s \t loss=0.393    scs_loss=0.224    nfn_loss=0.502    ss_loss=0.578    any_loss=0.198\t val_loss=0.375\n",
      "Epoch 13/15 (step 0140) \tlr=1.1e-05 \t t=1s \t loss=0.394    scs_loss=0.226    nfn_loss=0.501    ss_loss=0.578    any_loss=0.200\t val_loss=0.376\n",
      "Epoch 15/15 (step 0166) \tlr=4.2e-07 \t t=1s \t loss=0.394    scs_loss=0.225    nfn_loss=0.501    ss_loss=0.578    any_loss=0.199\t val_loss=0.376\n",
      "\n",
      " -> Saving weights to ../logs/2024-10-03/2/simple_2.pt\n",
      "\n",
      "\n",
      "-------------   Fold 4 / 4  -------------\n",
      "\n",
      "    -> 1482 training studies\n",
      "    -> 493 validation studies\n",
      "    -> 147465 trainable parameters\n",
      "\n",
      "Epoch 02/15 (step 0020) \tlr=6.2e-05 \t t=1s \t loss=0.574    scs_loss=0.314    nfn_loss=0.521    ss_loss=0.588    any_loss=0.264\t val_loss=0.422\n",
      "Epoch 04/15 (step 0040) \tlr=5.3e-05 \t t=1s \t loss=0.401    scs_loss=0.294    nfn_loss=0.499    ss_loss=0.566    any_loss=0.249\t val_loss=0.402\n",
      "Epoch 06/15 (step 0060) \tlr=4.5e-05 \t t=1s \t loss=0.381    scs_loss=0.299    nfn_loss=0.499    ss_loss=0.565    any_loss=0.252\t val_loss=0.404\n",
      "Epoch 08/15 (step 0080) \tlr=3.6e-05 \t t=1s \t loss=0.390    scs_loss=0.300    nfn_loss=0.499    ss_loss=0.563    any_loss=0.250\t val_loss=0.403\n",
      "Epoch 09/15 (step 0100) \tlr=2.8e-05 \t t=1s \t loss=0.387    scs_loss=0.300    nfn_loss=0.496    ss_loss=0.563    any_loss=0.251\t val_loss=0.403\n",
      "Epoch 11/15 (step 0120) \tlr=2.0e-05 \t t=1s \t loss=0.386    scs_loss=0.300    nfn_loss=0.497    ss_loss=0.562    any_loss=0.252\t val_loss=0.403\n",
      "Epoch 13/15 (step 0140) \tlr=1.1e-05 \t t=1s \t loss=0.385    scs_loss=0.300    nfn_loss=0.496    ss_loss=0.562    any_loss=0.252\t val_loss=0.403\n",
      "Epoch 15/15 (step 0166) \tlr=0.0e+00 \t t=1s \t loss=0.385    scs_loss=0.300    nfn_loss=0.497    ss_loss=0.562    any_loss=0.251\t val_loss=0.402\n",
      "\n",
      " -> Saving weights to ../logs/2024-10-03/2/simple_3.pt\n",
      "\n",
      "\n",
      "-------------   Fullfit 1 / 1 -------------\n",
      "\n",
      "    -> 1975 training studies\n",
      "    -> 1975 validation studies\n",
      "    -> 147465 trainable parameters\n",
      "\n",
      "Epoch 02/15 (step 0020) \tlr=6.4e-05 \t t=1s \t loss=0.584    scs_loss=0.302    nfn_loss=0.508    ss_loss=0.601    any_loss=0.267\t val_loss=0.419\n",
      "Epoch 03/15 (step 0040) \tlr=5.8e-05 \t t=1s \t loss=0.407    scs_loss=0.266    nfn_loss=0.489    ss_loss=0.563    any_loss=0.255\t val_loss=0.393\n",
      "Epoch 04/15 (step 0060) \tlr=5.2e-05 \t t=1s \t loss=0.392    scs_loss=0.264    nfn_loss=0.486    ss_loss=0.561    any_loss=0.251\t val_loss=0.390\n",
      "Epoch 06/15 (step 0080) \tlr=4.5e-05 \t t=1s \t loss=0.388    scs_loss=0.261    nfn_loss=0.486    ss_loss=0.560    any_loss=0.251\t val_loss=0.389\n",
      "Epoch 07/15 (step 0100) \tlr=3.9e-05 \t t=1s \t loss=0.383    scs_loss=0.261    nfn_loss=0.485    ss_loss=0.559    any_loss=0.250\t val_loss=0.388\n",
      "Epoch 08/15 (step 0120) \tlr=3.3e-05 \t t=1s \t loss=0.396    scs_loss=0.260    nfn_loss=0.485    ss_loss=0.559    any_loss=0.251\t val_loss=0.388\n",
      "Epoch 10/15 (step 0140) \tlr=2.7e-05 \t t=1s \t loss=0.386    scs_loss=0.260    nfn_loss=0.485    ss_loss=0.559    any_loss=0.249\t val_loss=0.388\n",
      "Epoch 11/15 (step 0160) \tlr=2.1e-05 \t t=1s \t loss=0.386    scs_loss=0.260    nfn_loss=0.485    ss_loss=0.558    any_loss=0.249\t val_loss=0.388\n",
      "Epoch 12/15 (step 0180) \tlr=1.4e-05 \t t=1s \t loss=0.390    scs_loss=0.259    nfn_loss=0.484    ss_loss=0.558    any_loss=0.248\t val_loss=0.387\n",
      "Epoch 14/15 (step 0200) \tlr=8.1e-06 \t t=1s \t loss=0.387    scs_loss=0.259    nfn_loss=0.484    ss_loss=0.558    any_loss=0.248\t val_loss=0.387\n",
      "Epoch 15/15 (step 0226) \tlr=0.0e+00 \t t=1s \t loss=0.386    scs_loss=0.259    nfn_loss=0.484    ss_loss=0.558    any_loss=0.248\t val_loss=0.387\n",
      "\n",
      " -> Saving weights to ../logs/2024-10-03/2/simple_fullfit_0.pt\n",
      "\n",
      "\n",
      "- scs_loss\t: 0.268\n",
      "- nfn_loss\t: 0.488\n",
      "- ss_loss\t: 0.561\n",
      "- any_loss\t: 0.265\n",
      "\n",
      " -> CV Score : 0.3954\n"
     ]
    }
   ],
   "source": [
    "if not DEBUG:\n",
    "    log_folder = prepare_log_folder(LOG_PATH)\n",
    "    print(f\"Logging results to {log_folder}\")\n",
    "    config_df = save_config(Config, log_folder + \"config.json\")\n",
    "    create_logger(directory=log_folder, name=\"logs.txt\")\n",
    "\n",
    "preds = k_fold(Config, df, log_folder=log_folder, run=None)"
   ]
  },
  {
   "cell_type": "markdown",
   "metadata": {
    "editable": true,
    "slideshow": {
     "slide_type": ""
    },
    "tags": []
   },
   "source": [
    "### Eval"
   ]
  },
  {
   "cell_type": "code",
   "execution_count": 33,
   "metadata": {},
   "outputs": [],
   "source": [
    "# y = df[Config.targets].values * 0\n",
    "# y[:600] = 2\n",
    "# y[-550:] = 1\n",
    "\n",
    "# avg_loss, losses = rsna_loss(y, preds * 0 + 0.3333333)\n",
    "\n",
    "# for k, v in losses.items():\n",
    "#     print(f\"- {k}_loss\\t: {v:.3f}\")\n",
    "\n",
    "# print(f'\\n -> CV Score : {avg_loss :.4f}')"
   ]
  },
  {
   "cell_type": "code",
   "execution_count": 34,
   "metadata": {},
   "outputs": [
    {
     "name": "stdout",
     "output_type": "stream",
     "text": [
      "- scs_loss\t: 0.262\n",
      "- nfn_loss\t: 0.476\n",
      "- ss_loss\t: 0.538\n",
      "- any_loss\t: 0.261\n",
      "\n",
      " -> CV Score : 0.3843\n"
     ]
    }
   ],
   "source": [
    "avg_loss, losses = rsna_loss(df[Config.targets].values, preds)\n",
    "\n",
    "for k, v in losses.items():\n",
    "    print(f\"- {k}_loss\\t: {v:.3f}\")\n",
    "\n",
    "print(f'\\n -> CV Score : {avg_loss :.4f}')"
   ]
  },
  {
   "cell_type": "code",
   "execution_count": 28,
   "metadata": {},
   "outputs": [
    {
     "name": "stdout",
     "output_type": "stream",
     "text": [
      "- scs_loss\t: 0.264\n",
      "- nfn_loss\t: 0.477\n",
      "- ss_loss\t: 0.545\n",
      "- any_loss\t: 0.262\n",
      "\n",
      " -> CV Score : 0.3871\n"
     ]
    }
   ],
   "source": [
    "avg_loss, losses = rsna_loss(df[Config.targets].values, preds)\n",
    "\n",
    "for k, v in losses.items():\n",
    "    print(f\"- {k}_loss\\t: {v:.3f}\")\n",
    "\n",
    "print(f'\\n -> CV Score : {avg_loss :.4f}')"
   ]
  },
  {
   "cell_type": "code",
   "execution_count": 36,
   "metadata": {},
   "outputs": [
    {
     "ename": "TypeError",
     "evalue": "rsna_loss() got an unexpected keyword argument 'verbose'",
     "output_type": "error",
     "traceback": [
      "\u001b[0;31m---------------------------------------------------------------------------\u001b[0m",
      "\u001b[0;31mTypeError\u001b[0m                                 Traceback (most recent call last)",
      "Cell \u001b[0;32mIn[36], line 5\u001b[0m\n\u001b[1;32m      2\u001b[0m ids \u001b[38;5;241m=\u001b[39m df[df[\u001b[38;5;124m'\u001b[39m\u001b[38;5;124mfold\u001b[39m\u001b[38;5;124m'\u001b[39m] \u001b[38;5;241m==\u001b[39m fold]\u001b[38;5;241m.\u001b[39mindex\u001b[38;5;241m.\u001b[39mvalues\n\u001b[1;32m      4\u001b[0m p \u001b[38;5;241m=\u001b[39m preds[ids]\n\u001b[0;32m----> 5\u001b[0m avg_loss, losses \u001b[38;5;241m=\u001b[39m \u001b[43mrsna_loss\u001b[49m\u001b[43m(\u001b[49m\u001b[43mdf\u001b[49m\u001b[43m[\u001b[49m\u001b[43mConfig\u001b[49m\u001b[38;5;241;43m.\u001b[39;49m\u001b[43mtargets\u001b[49m\u001b[43m]\u001b[49m\u001b[38;5;241;43m.\u001b[39;49m\u001b[43mvalues\u001b[49m\u001b[43m[\u001b[49m\u001b[43mids\u001b[49m\u001b[43m]\u001b[49m\u001b[43m,\u001b[49m\u001b[43m \u001b[49m\u001b[43mp\u001b[49m\u001b[43m,\u001b[49m\u001b[43m \u001b[49m\u001b[43mverbose\u001b[49m\u001b[38;5;241;43m=\u001b[39;49m\u001b[38;5;241;43m1\u001b[39;49m\u001b[43m)\u001b[49m\n\u001b[1;32m      7\u001b[0m \u001b[38;5;28;01mfor\u001b[39;00m k, v \u001b[38;5;129;01min\u001b[39;00m losses\u001b[38;5;241m.\u001b[39mitems():\n\u001b[1;32m      8\u001b[0m     \u001b[38;5;28mprint\u001b[39m(\u001b[38;5;124mf\u001b[39m\u001b[38;5;124m\"\u001b[39m\u001b[38;5;124m- \u001b[39m\u001b[38;5;132;01m{\u001b[39;00mk\u001b[38;5;132;01m}\u001b[39;00m\u001b[38;5;124m_loss\u001b[39m\u001b[38;5;130;01m\\t\u001b[39;00m\u001b[38;5;124m: \u001b[39m\u001b[38;5;132;01m{\u001b[39;00mv\u001b[38;5;132;01m:\u001b[39;00m\u001b[38;5;124m.3f\u001b[39m\u001b[38;5;132;01m}\u001b[39;00m\u001b[38;5;124m\"\u001b[39m)\n",
      "\u001b[0;31mTypeError\u001b[0m: rsna_loss() got an unexpected keyword argument 'verbose'"
     ]
    }
   ],
   "source": [
    "for fold in range(4):\n",
    "    ids = df[df['fold'] == fold].index.values\n",
    "\n",
    "    p = preds[ids]\n",
    "    avg_loss, losses = rsna_loss(df[Config.targets].values[ids], p)\n",
    "    \n",
    "    for k, v in losses.items():\n",
    "        print(f\"- {k}_loss\\t: {v:.3f}\")\n",
    "    \n",
    "    print(f'\\n -> CV Score : {avg_loss :.4f}')"
   ]
  },
  {
   "cell_type": "code",
   "execution_count": 195,
   "metadata": {},
   "outputs": [
    {
     "data": {
      "text/plain": [
       "(493, 25, 3)"
      ]
     },
     "execution_count": 195,
     "metadata": {},
     "output_type": "execute_result"
    }
   ],
   "source": [
    "p.shape"
   ]
  },
  {
   "cell_type": "code",
   "execution_count": 199,
   "metadata": {},
   "outputs": [
    {
     "name": "stdout",
     "output_type": "stream",
     "text": [
      "tensor(0.1741) tensor(0.2965)\n",
      "\n",
      "- scs_loss\t: 0.322\n",
      "- nfn_loss\t: 0.475\n",
      "- ss_loss\t: 0.549\n",
      "- any_loss\t: 0.288\n",
      "\n",
      " -> CV Score : 0.4081\n",
      "\n",
      "tensor(0.2227) tensor(0.2889)\n",
      "\n",
      "- scs_loss\t: 0.369\n",
      "- nfn_loss\t: 0.484\n",
      "- ss_loss\t: 0.558\n",
      "- any_loss\t: 0.357\n",
      "\n",
      " -> CV Score : 0.4421\n",
      "\n",
      "tensor(0.1579) tensor(0.2929)\n",
      "\n",
      "- scs_loss\t: 0.316\n",
      "- nfn_loss\t: 0.502\n",
      "- ss_loss\t: 0.578\n",
      "- any_loss\t: 0.272\n",
      "\n",
      " -> CV Score : 0.4172\n",
      "\n",
      "tensor(0.1846) tensor(0.3124)\n",
      "\n",
      "- scs_loss\t: 0.366\n",
      "- nfn_loss\t: 0.500\n",
      "- ss_loss\t: 0.563\n",
      "- any_loss\t: 0.293\n",
      "\n",
      " -> CV Score : 0.4305\n",
      "\n"
     ]
    }
   ],
   "source": [
    "for fold in range(4):\n",
    "    ids = df[df['fold'] == fold].index.values\n",
    "\n",
    "    p = preds[ids].copy()\n",
    "\n",
    "    p[:, :5, 2] += 0.1\n",
    "    # p[:, :5, 1] -= 0.1\n",
    "    # p[:, :5, 0] -= 0.2\n",
    "    p[:, :5] /= p[:, :5].sum(-1, keepdims=True)\n",
    "\n",
    "    avg_loss, losses = rsna_loss(df[Config.targets].values[ids], p)\n",
    "    print()\n",
    "    for k, v in losses.items():\n",
    "        print(f\"- {k}_loss\\t: {v:.3f}\")\n",
    "    \n",
    "    print(f'\\n -> CV Score : {avg_loss :.4f}\\n')"
   ]
  },
  {
   "cell_type": "code",
   "execution_count": 51,
   "metadata": {},
   "outputs": [
    {
     "name": "stdout",
     "output_type": "stream",
     "text": [
      "- scs_loss\t: 0.262\n",
      "- nfn_loss\t: 0.477\n",
      "- ss_loss\t: 0.539\n",
      "- any_loss\t: 0.259\n",
      "\n",
      " -> CV Score : 0.3841\n"
     ]
    }
   ],
   "source": [
    "avg_loss, losses = rsna_loss(df[Config.targets].values, preds)\n",
    "\n",
    "for k, v in losses.items():\n",
    "    print(f\"- {k}_loss\\t: {v:.3f}\")\n",
    "\n",
    "print(f'\\n -> CV Score : {avg_loss :.4f}')"
   ]
  },
  {
   "cell_type": "code",
   "execution_count": 29,
   "metadata": {},
   "outputs": [],
   "source": [
    "# yy = pkl[\"target\"].contiguous()[order].cpu().numpy().clip(-1, 2)\n",
    "# for i in range(len(df)):\n",
    "#     if not (df[Config.targets].values[i] == yy[i]).all():\n",
    "#         print(i, yy[i].tolist(), df[Config.targets].values[i].tolist())\n",
    "#         display(df.iloc[[i]])\n",
    "#         # break"
   ]
  },
  {
   "cell_type": "code",
   "execution_count": 75,
   "metadata": {},
   "outputs": [],
   "source": [
    "# pkl = torch.load('../output/oof_cfg_ch_35.pth')\n",
    "# pkl = torch.load('../output/oof____cfg_dh_12s1.pth')\n",
    "\n",
    "# df = df[~df['study_id'].isin([1215498865, 1647904243, 2570933394, 2761048584, 3284652867, 3941522676])].reset_index(drop=True)\n",
    "\n",
    "# order = [pkl['study_id'].tolist().index(s) for s in df['study_id'].values]\n",
    "\n",
    "# avg_loss, losses = rsna_loss(df[Config.targets].values, pkl[\"logits\"].cpu().float().softmax(-1).numpy()[order])\n",
    "\n",
    "# for k, v in losses.items():\n",
    "#     print(f\"- {k}_loss\\t: {v:.3f}\")\n",
    "\n",
    "# print(f'\\n -> CV Score : {avg_loss :.4f}')"
   ]
  },
  {
   "cell_type": "code",
   "execution_count": 31,
   "metadata": {},
   "outputs": [],
   "source": [
    "# aucs = []\n",
    "# for i, c in enumerate(CLASSES):\n",
    "#     auc = disk_auc(df[Config.targets].values[:, i], preds[:, i])\n",
    "#     print(f'{c} AUC: \\t {auc :.4f}')\n",
    "#     aucs.append(auc)\n",
    "# print(f'\\n-> Avg AUC: \\t {np.mean(aucs) :.4f}')"
   ]
  },
  {
   "cell_type": "code",
   "execution_count": 32,
   "metadata": {},
   "outputs": [],
   "source": [
    "# aucs = []\n",
    "# for i, c in enumerate(CLASSES):\n",
    "#     auc = disk_auc(df[Config.targets].values[:, i], preds_dd[:, i])\n",
    "#     print(f'{c} AUC: \\t {auc :.4f}')\n",
    "#     aucs.append(auc)\n",
    "# print(f'\\n-> Avg AUC: \\t {np.mean(aucs) :.4f}')"
   ]
  },
  {
   "cell_type": "code",
   "execution_count": 33,
   "metadata": {},
   "outputs": [],
   "source": [
    "# preds = preds[df['fold'].values == 0]\n",
    "# df = df[df['fold'].values == 0]"
   ]
  },
  {
   "cell_type": "code",
   "execution_count": 34,
   "metadata": {},
   "outputs": [
    {
     "ename": "FileNotFoundError",
     "evalue": "[Errno 2] No such file or directory: '../logs/2024-09-02/27/pred_inf_0.npy'",
     "output_type": "error",
     "traceback": [
      "\u001b[0;31m---------------------------------------------------------------------------\u001b[0m",
      "\u001b[0;31mFileNotFoundError\u001b[0m                         Traceback (most recent call last)",
      "Cell \u001b[0;32mIn[34], line 3\u001b[0m\n\u001b[1;32m      1\u001b[0m EXP_FOLDER \u001b[38;5;241m=\u001b[39m \u001b[38;5;124m\"\u001b[39m\u001b[38;5;124m../logs/2024-09-02/27/\u001b[39m\u001b[38;5;124m\"\u001b[39m\n\u001b[0;32m----> 3\u001b[0m p \u001b[38;5;241m=\u001b[39m \u001b[43mnp\u001b[49m\u001b[38;5;241;43m.\u001b[39;49m\u001b[43mload\u001b[49m\u001b[43m(\u001b[49m\u001b[43mEXP_FOLDER\u001b[49m\u001b[43m \u001b[49m\u001b[38;5;241;43m+\u001b[39;49m\u001b[43m \u001b[49m\u001b[38;5;124;43m\"\u001b[39;49m\u001b[38;5;124;43mpred_inf_0.npy\u001b[39;49m\u001b[38;5;124;43m\"\u001b[39;49m\u001b[43m)\u001b[49m\u001b[38;5;241m.\u001b[39mreshape(\u001b[38;5;241m-\u001b[39m\u001b[38;5;241m1\u001b[39m, \u001b[38;5;241m10\u001b[39m, \u001b[38;5;241m3\u001b[39m)\n\u001b[1;32m      4\u001b[0m df_val \u001b[38;5;241m=\u001b[39m pd\u001b[38;5;241m.\u001b[39mread_csv(EXP_FOLDER \u001b[38;5;241m+\u001b[39m \u001b[38;5;124m\"\u001b[39m\u001b[38;5;124mdf_val_0.csv\u001b[39m\u001b[38;5;124m\"\u001b[39m)\n\u001b[1;32m      6\u001b[0m y \u001b[38;5;241m=\u001b[39m df_val[\u001b[38;5;124m'\u001b[39m\u001b[38;5;124mtarget\u001b[39m\u001b[38;5;124m'\u001b[39m]\u001b[38;5;241m.\u001b[39mvalues\u001b[38;5;241m.\u001b[39mreshape(\u001b[38;5;241m-\u001b[39m\u001b[38;5;241m1\u001b[39m, \u001b[38;5;241m10\u001b[39m)\n",
      "File \u001b[0;32m/usr/local/lib/python3.10/dist-packages/numpy/lib/npyio.py:405\u001b[0m, in \u001b[0;36mload\u001b[0;34m(file, mmap_mode, allow_pickle, fix_imports, encoding, max_header_size)\u001b[0m\n\u001b[1;32m    403\u001b[0m     own_fid \u001b[38;5;241m=\u001b[39m \u001b[38;5;28;01mFalse\u001b[39;00m\n\u001b[1;32m    404\u001b[0m \u001b[38;5;28;01melse\u001b[39;00m:\n\u001b[0;32m--> 405\u001b[0m     fid \u001b[38;5;241m=\u001b[39m stack\u001b[38;5;241m.\u001b[39menter_context(\u001b[38;5;28;43mopen\u001b[39;49m\u001b[43m(\u001b[49m\u001b[43mos_fspath\u001b[49m\u001b[43m(\u001b[49m\u001b[43mfile\u001b[49m\u001b[43m)\u001b[49m\u001b[43m,\u001b[49m\u001b[43m \u001b[49m\u001b[38;5;124;43m\"\u001b[39;49m\u001b[38;5;124;43mrb\u001b[39;49m\u001b[38;5;124;43m\"\u001b[39;49m\u001b[43m)\u001b[49m)\n\u001b[1;32m    406\u001b[0m     own_fid \u001b[38;5;241m=\u001b[39m \u001b[38;5;28;01mTrue\u001b[39;00m\n\u001b[1;32m    408\u001b[0m \u001b[38;5;66;03m# Code to distinguish from NumPy binary files and pickles.\u001b[39;00m\n",
      "\u001b[0;31mFileNotFoundError\u001b[0m: [Errno 2] No such file or directory: '../logs/2024-09-02/27/pred_inf_0.npy'"
     ]
    }
   ],
   "source": [
    "EXP_FOLDER = \"../logs/2024-09-02/27/\"\n",
    "\n",
    "p = np.load(EXP_FOLDER + \"pred_inf_0.npy\").reshape(-1, 10, 3)\n",
    "df_val = pd.read_csv(EXP_FOLDER + \"df_val_0.csv\")\n",
    "\n",
    "y = df_val['target'].values.reshape(-1, 10)\n",
    "\n",
    "aucs = []\n",
    "for i, c in enumerate(CLASSES[5:15]):\n",
    "    auc = disk_auc(y[:, i], p[:, i])\n",
    "    print(f'{c} AUC: \\t {auc :.4f}')\n",
    "    aucs.append(auc)\n",
    "print(f'\\n-> Avg AUC: \\t {np.mean(aucs) :.4f}')"
   ]
  },
  {
   "cell_type": "code",
   "execution_count": null,
   "metadata": {},
   "outputs": [],
   "source": [
    "p = preds.reshape(preds.shape[0], 5, 5, 3)\n",
    "p = p.transpose(0, 2, 1, 3)\n",
    "p = p.reshape(-1, 5, 3)\n",
    "\n",
    "y = df[Config.targets].values\n",
    "y = y.reshape(preds.shape[0], 5, 5)\n",
    "y = y.transpose(0, 2, 1)\n",
    "y = y.reshape(-1, 5)\n",
    "\n",
    "aucs = []\n",
    "for i, c in enumerate(CLASSES_CROP):\n",
    "    auc = disk_auc(y[:, i], p[:, i])\n",
    "    print(f'{c} AUC: \\t {auc :.4f}')\n",
    "    aucs.append(auc)\n",
    "print(f'\\n-> Avg AUC: \\t {np.mean(aucs) :.4f}')"
   ]
  },
  {
   "cell_type": "code",
   "execution_count": null,
   "metadata": {},
   "outputs": [],
   "source": [
    "for i, c in enumerate(LEVELS_):\n",
    "    print(c, disk_auc(y[:, i], p[:, i]))"
   ]
  },
  {
   "cell_type": "code",
   "execution_count": null,
   "metadata": {},
   "outputs": [],
   "source": [
    "preds[:10]"
   ]
  },
  {
   "cell_type": "code",
   "execution_count": null,
   "metadata": {},
   "outputs": [],
   "source": []
  },
  {
   "cell_type": "code",
   "execution_count": null,
   "metadata": {},
   "outputs": [],
   "source": [
    "df_val.head(20)"
   ]
  },
  {
   "cell_type": "markdown",
   "metadata": {},
   "source": [
    "- scs_loss\t: 0.299\n",
    "- nfn_loss\t: 0.500\n",
    "- ss_loss\t: 0.593\n",
    "- any_loss\t: 0.291\n",
    "\n",
    " -> CV Score : 0.4206"
   ]
  },
  {
   "cell_type": "code",
   "execution_count": null,
   "metadata": {},
   "outputs": [],
   "source": [
    "for i in [5, 6, 7, 8, 9, 15, 16, 17, 18, 19]:\n",
    "    j = i + 5\n",
    "    c = CLASSES[i]\n",
    "    c2 = CLASSES[j]\n",
    "    \n",
    "    ref_auc = disk_auc(df[Config.targets].values[:, i], preds[:, i])\n",
    "    auc = disk_auc(df[Config.targets].values[:, i], preds[:, j])\n",
    "    r = (\n",
    "        spearmanr(preds[:, i][:, 1], preds[:, j][:, 1]).statistic + \n",
    "        spearmanr(preds[:, i][:, 2], preds[:, j][:, 2]).statistic\n",
    "    ) / 2\n",
    "    print(f'\\npred: {c2} \\t truth: {c}')\n",
    "    # print(r)\n",
    "    y1 = df[Config.targets].values[:, i]\n",
    "    y2 = df[Config.targets].values[:, j]\n",
    "    \n",
    "    eq = (y1[(y1 > 0) & (y2 > 0)] == y2[(y1 > 0) & (y2 > 0)]).mean()\n",
    "    print(f'Ref AUC          : {ref_auc :.4f}')\n",
    "    print(f'Swap AUC         : {auc :.4f}')\n",
    "    print(f'Equal proportion : {eq:.3f}')\n",
    "    print(f'Preds correlation: {r:.3f}')\n",
    "\n",
    "\n",
    "# for j in [5, 6, 7, 8, 9, 15, 16, 17, 18, 19]:\n",
    "#     i = j + 5\n",
    "#     c = CLASSES[i]\n",
    "#     c2 = CLASSES[j]\n",
    "    \n",
    "#     ref_auc = disk_auc(df[Config.targets].values[:, i], preds[:, i])\n",
    "#     auc = disk_auc(df[Config.targets].values[:, i], preds[:, j])\n",
    "#     r = (\n",
    "#         spearmanr(preds[:, i][:, 1], preds[:, j][:, 1]).statistic + \n",
    "#         spearmanr(preds[:, i][:, 2], preds[:, j][:, 2]).statistic\n",
    "#     ) / 2\n",
    "#     print(f'\\npred: {c2} \\t truth: {c}')\n",
    "#     # print(r)\n",
    "#     y1 = df[Config.targets].values[:, i]\n",
    "#     y2 = df[Config.targets].values[:, j]\n",
    "    \n",
    "#     eq = (y1[(y1 > 0) & (y2 > 0)] == y2[(y1 > 0) & (y2 > 0)]).mean()\n",
    "#     print(f'Ref AUC          : {ref_auc :.4f}')\n",
    "#     print(f'Swap AUC         : {auc :.4f}')\n",
    "#     print(f'Equal proportion : {eq:.3f}')\n",
    "#     print(f'Preds correlation: {r:.3f}')"
   ]
  },
  {
   "cell_type": "code",
   "execution_count": null,
   "metadata": {},
   "outputs": [],
   "source": [
    "losses = []\n",
    "y = df[Config.targets].values\n",
    "for i in tqdm(range(len(df))):\n",
    "    l = rsna_loss(y[i:i+1], preds[i:i+1])[1]\n",
    "    l.update({\"study\": df[\"study_id\"].values[i]})\n",
    "    losses.append(l)\n",
    "losses = pd.DataFrame(losses)"
   ]
  },
  {
   "cell_type": "code",
   "execution_count": null,
   "metadata": {},
   "outputs": [],
   "source": [
    "plt.figure(figsize=(20, 5))\n",
    "for i, c in enumerate(losses.columns[:-1]):\n",
    "    plt.subplot(1, 4, i + 1)\n",
    "    sns.histplot(losses[c].values)\n",
    "    plt.title(c)\n",
    "plt.show()"
   ]
  },
  {
   "cell_type": "code",
   "execution_count": null,
   "metadata": {},
   "outputs": [],
   "source": [
    "losses[losses[\"scs\"] > 2]"
   ]
  },
  {
   "cell_type": "code",
   "execution_count": null,
   "metadata": {},
   "outputs": [],
   "source": [
    "df[df[\"study_id\"] == 1972129014]"
   ]
  },
  {
   "cell_type": "code",
   "execution_count": null,
   "metadata": {},
   "outputs": [],
   "source": [
    "losses[losses[\"any\"] > 2]"
   ]
  },
  {
   "cell_type": "markdown",
   "metadata": {},
   "source": [
    "- scs_loss\t: 0.325\n",
    "- nfn_loss\t: 0.517\n",
    "- ss_loss\t: 0.634\n",
    "- any_loss\t: 0.297\n",
    "\n",
    " -> CV Score : 0.443"
   ]
  },
  {
   "cell_type": "markdown",
   "metadata": {},
   "source": [
    "Done ! "
   ]
  }
 ],
 "metadata": {
  "kernelspec": {
   "display_name": "Python 3 (ipykernel)",
   "language": "python",
   "name": "python3"
  },
  "language_info": {
   "codemirror_mode": {
    "name": "ipython",
    "version": 3
   },
   "file_extension": ".py",
   "mimetype": "text/x-python",
   "name": "python",
   "nbconvert_exporter": "python",
   "pygments_lexer": "ipython3",
   "version": "3.10.12"
  }
 },
 "nbformat": 4,
 "nbformat_minor": 4
}
