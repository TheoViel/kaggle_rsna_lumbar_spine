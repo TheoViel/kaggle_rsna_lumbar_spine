{
 "cells": [
  {
   "cell_type": "markdown",
   "metadata": {},
   "source": [
    "**About** : This notebook is used to train RNN models."
   ]
  },
  {
   "cell_type": "code",
   "execution_count": 1,
   "metadata": {},
   "outputs": [],
   "source": [
    "%load_ext autoreload\n",
    "%autoreload 2"
   ]
  },
  {
   "cell_type": "code",
   "execution_count": 2,
   "metadata": {},
   "outputs": [
    {
     "name": "stdout",
     "output_type": "stream",
     "text": [
      "/home/tviel/work/kaggle_rsna_lumbar_spine/src\n"
     ]
    },
    {
     "name": "stderr",
     "output_type": "stream",
     "text": [
      "/home/tviel/.local/lib/python3.10/site-packages/IPython/core/magics/osm.py:417: UserWarning: using dhist requires you to install the `pickleshare` library.\n",
      "  self.shell.db['dhist'] = compress_dhist(dhist)[-100:]\n"
     ]
    }
   ],
   "source": [
    "cd ../src/"
   ]
  },
  {
   "cell_type": "markdown",
   "metadata": {},
   "source": [
    "### Imports"
   ]
  },
  {
   "cell_type": "code",
   "execution_count": 3,
   "metadata": {},
   "outputs": [],
   "source": [
    "import os\n",
    "import sys\n",
    "import glob\n",
    "import json\n",
    "import torch\n",
    "import operator\n",
    "import warnings\n",
    "import numpy as np\n",
    "import pandas as pd\n",
    "import seaborn as sns\n",
    "import matplotlib.pyplot as plt\n",
    "\n",
    "from tqdm.notebook import tqdm\n",
    "from sklearn.metrics import *\n",
    "from collections import Counter\n",
    "from scipy.stats import spearmanr\n",
    "\n",
    "warnings.simplefilter(action=\"ignore\", category=UserWarning)"
   ]
  },
  {
   "cell_type": "code",
   "execution_count": 4,
   "metadata": {},
   "outputs": [],
   "source": [
    "from util.logger import (\n",
    "    prepare_log_folder,\n",
    "    save_config,\n",
    "    create_logger,\n",
    ")\n",
    "\n",
    "from data.dataset import FeatureDataset\n",
    "from params import *\n",
    "from data.preparation import *\n",
    "from util.logger import Config as ConfigInf\n",
    "from training.main_lvl2 import k_fold\n",
    "from util.metrics import *"
   ]
  },
  {
   "cell_type": "code",
   "execution_count": 5,
   "metadata": {},
   "outputs": [],
   "source": [
    "from model_zoo.models_lvl2 import define_model\n",
    "from training.losses import StudyLoss\n",
    "from util.metrics import rsna_loss"
   ]
  },
  {
   "cell_type": "markdown",
   "metadata": {},
   "source": [
    "### Data"
   ]
  },
  {
   "cell_type": "code",
   "execution_count": 6,
   "metadata": {},
   "outputs": [],
   "source": [
    "df = prepare_data_lvl2()\n",
    "\n",
    "if \"fold\" not in df.columns:\n",
    "    folds = pd.read_csv(\"../input/train_folded_v1.csv\")\n",
    "    df = df.merge(folds, how=\"left\")"
   ]
  },
  {
   "cell_type": "code",
   "execution_count": 7,
   "metadata": {},
   "outputs": [],
   "source": [
    "df = df[df['fold'] == 0].reset_index(drop=True)"
   ]
  },
  {
   "cell_type": "code",
   "execution_count": 8,
   "metadata": {},
   "outputs": [],
   "source": [
    "EXP_FOLDERS = {\n",
    "    # \"scs_crop\": \"../logs/2024-08-29/15/\",  # 15\n",
    "    # \"nfn_crop\": \"../logs/2024-08-29/16/\",  # 30\n",
    "    \"scs_crop_coords\":  \"../logs/2024-08-29/17/\",\n",
    "    \"nfn_crop_coords\":  \"../logs/2024-08-29/18/\",\n",
    "\n",
    "    # \"dh\": '../output/oof____cfg_dh_12s4c.pth',  # Darragh preds\n",
    "    # \"ch\": '../output/oof_cfg_ch_35.pth',  # Dieter preds\n",
    "    \"crop\": \"../logs/2024-08-29/5/\",  # 75\n",
    "}"
   ]
  },
  {
   "cell_type": "code",
   "execution_count": 9,
   "metadata": {},
   "outputs": [],
   "source": [
    "config = ConfigInf(json.load(open(EXP_FOLDERS[\"crop\"] + \"config.json\", \"r\")))"
   ]
  },
  {
   "cell_type": "code",
   "execution_count": 10,
   "metadata": {},
   "outputs": [
    {
     "data": {
      "text/html": [
       "<div>\n",
       "<style scoped>\n",
       "    .dataframe tbody tr th:only-of-type {\n",
       "        vertical-align: middle;\n",
       "    }\n",
       "\n",
       "    .dataframe tbody tr th {\n",
       "        vertical-align: top;\n",
       "    }\n",
       "\n",
       "    .dataframe thead th {\n",
       "        text-align: right;\n",
       "    }\n",
       "</style>\n",
       "<table border=\"1\" class=\"dataframe\">\n",
       "  <thead>\n",
       "    <tr style=\"text-align: right;\">\n",
       "      <th></th>\n",
       "      <th>study_id</th>\n",
       "      <th>series_id</th>\n",
       "      <th>series_description</th>\n",
       "      <th>spinal_canal_stenosis_l1_l2</th>\n",
       "      <th>spinal_canal_stenosis_l2_l3</th>\n",
       "      <th>spinal_canal_stenosis_l3_l4</th>\n",
       "      <th>spinal_canal_stenosis_l4_l5</th>\n",
       "      <th>spinal_canal_stenosis_l5_s1</th>\n",
       "      <th>left_neural_foraminal_narrowing_l1_l2</th>\n",
       "      <th>left_neural_foraminal_narrowing_l2_l3</th>\n",
       "      <th>...</th>\n",
       "      <th>left_subarticular_stenosis_l2_l3</th>\n",
       "      <th>left_subarticular_stenosis_l3_l4</th>\n",
       "      <th>left_subarticular_stenosis_l4_l5</th>\n",
       "      <th>left_subarticular_stenosis_l5_s1</th>\n",
       "      <th>right_subarticular_stenosis_l1_l2</th>\n",
       "      <th>right_subarticular_stenosis_l2_l3</th>\n",
       "      <th>right_subarticular_stenosis_l3_l4</th>\n",
       "      <th>right_subarticular_stenosis_l4_l5</th>\n",
       "      <th>right_subarticular_stenosis_l5_s1</th>\n",
       "      <th>fold</th>\n",
       "    </tr>\n",
       "  </thead>\n",
       "  <tbody>\n",
       "    <tr>\n",
       "      <th>0</th>\n",
       "      <td>7143189</td>\n",
       "      <td>[132939515, 1951927562, 3219733239]</td>\n",
       "      <td>[Sagittal T2/STIR, Axial T2, Sagittal T1]</td>\n",
       "      <td>0</td>\n",
       "      <td>0</td>\n",
       "      <td>0</td>\n",
       "      <td>0</td>\n",
       "      <td>0</td>\n",
       "      <td>0</td>\n",
       "      <td>0</td>\n",
       "      <td>...</td>\n",
       "      <td>0</td>\n",
       "      <td>0</td>\n",
       "      <td>0</td>\n",
       "      <td>0</td>\n",
       "      <td>0</td>\n",
       "      <td>0</td>\n",
       "      <td>0</td>\n",
       "      <td>0</td>\n",
       "      <td>0</td>\n",
       "      <td>0</td>\n",
       "    </tr>\n",
       "  </tbody>\n",
       "</table>\n",
       "<p>1 rows × 29 columns</p>\n",
       "</div>"
      ],
      "text/plain": [
       "   study_id                            series_id  \\\n",
       "0   7143189  [132939515, 1951927562, 3219733239]   \n",
       "\n",
       "                          series_description  spinal_canal_stenosis_l1_l2  \\\n",
       "0  [Sagittal T2/STIR, Axial T2, Sagittal T1]                            0   \n",
       "\n",
       "   spinal_canal_stenosis_l2_l3  spinal_canal_stenosis_l3_l4  \\\n",
       "0                            0                            0   \n",
       "\n",
       "   spinal_canal_stenosis_l4_l5  spinal_canal_stenosis_l5_s1  \\\n",
       "0                            0                            0   \n",
       "\n",
       "   left_neural_foraminal_narrowing_l1_l2  \\\n",
       "0                                      0   \n",
       "\n",
       "   left_neural_foraminal_narrowing_l2_l3  ...  \\\n",
       "0                                      0  ...   \n",
       "\n",
       "   left_subarticular_stenosis_l2_l3  left_subarticular_stenosis_l3_l4  \\\n",
       "0                                 0                                 0   \n",
       "\n",
       "   left_subarticular_stenosis_l4_l5  left_subarticular_stenosis_l5_s1  \\\n",
       "0                                 0                                 0   \n",
       "\n",
       "   right_subarticular_stenosis_l1_l2  right_subarticular_stenosis_l2_l3  \\\n",
       "0                                  0                                  0   \n",
       "\n",
       "   right_subarticular_stenosis_l3_l4  right_subarticular_stenosis_l4_l5  \\\n",
       "0                                  0                                  0   \n",
       "\n",
       "   right_subarticular_stenosis_l5_s1  fold  \n",
       "0                                  0     0  \n",
       "\n",
       "[1 rows x 29 columns]"
      ]
     },
     "execution_count": 10,
     "metadata": {},
     "output_type": "execute_result"
    }
   ],
   "source": [
    "df.head(1)"
   ]
  },
  {
   "cell_type": "code",
   "execution_count": 11,
   "metadata": {},
   "outputs": [],
   "source": [
    "dataset = FeatureDataset(df, EXP_FOLDERS, targets=CLASSES)"
   ]
  },
  {
   "cell_type": "code",
   "execution_count": 12,
   "metadata": {},
   "outputs": [],
   "source": [
    "# p = []\n",
    "# for i in tqdm(range(len(dataset))):\n",
    "#     p_ = dataset[i][0][\"nfn_crop_coords\"].view(-1, 3).numpy()\n",
    "#     # p_ = p_.reshape(5, 2, 3).transpose(1, 0, 2).reshape(10, 3)\n",
    "#     p.append(p_)\n",
    "# p = np.array(p)\n",
    "\n",
    "# y = df[df.columns[8:18]].values\n",
    "\n",
    "# aucs = []\n",
    "# for i, c in enumerate(CLASSES[5:15]):\n",
    "#     auc = disk_auc(y[:, i], p[:, i])\n",
    "#     print(f'{c} AUC: \\t {auc :.4f}')\n",
    "#     aucs.append(auc)\n",
    "# print(f'\\n-> Avg AUC: \\t {np.mean(aucs) :.4f}')"
   ]
  },
  {
   "cell_type": "code",
   "execution_count": 13,
   "metadata": {},
   "outputs": [
    {
     "data": {
      "application/vnd.jupyter.widget-view+json": {
       "model_id": "55f2cda7b30f4222ae0f20c2077a714e",
       "version_major": 2,
       "version_minor": 0
      },
      "text/plain": [
       "  0%|          | 0/494 [00:00<?, ?it/s]"
      ]
     },
     "metadata": {},
     "output_type": "display_data"
    }
   ],
   "source": [
    "for i in tqdm(range(len(dataset))):\n",
    "    fts, y, _ = dataset[i]\n",
    "    # for k in fts:\n",
    "    #     print(k, fts[k].size())\n",
    "    # break"
   ]
  },
  {
   "cell_type": "code",
   "execution_count": 14,
   "metadata": {},
   "outputs": [],
   "source": [
    "idx = 2\n",
    "fts, y, _ = dataset[idx]"
   ]
  },
  {
   "cell_type": "code",
   "execution_count": 15,
   "metadata": {},
   "outputs": [
    {
     "name": "stdout",
     "output_type": "stream",
     "text": [
      "scs_crop_coords torch.Size([5, 3])\n",
      "nfn_crop_coords torch.Size([10, 3])\n",
      "crop torch.Size([25, 6])\n"
     ]
    }
   ],
   "source": [
    "for k in fts:\n",
    "    print(k, fts[k].size())"
   ]
  },
  {
   "cell_type": "code",
   "execution_count": 16,
   "metadata": {},
   "outputs": [],
   "source": [
    "# plt.figure(figsize=(20, 5))\n",
    "# plt.subplot(1, 3, 1)\n",
    "# for i in range(5):\n",
    "#     plt.plot(fts['ss_aux'].softmax(1)[:, i], label=LEVELS[i])\n",
    "# plt.legend()\n",
    "\n",
    "# plt.subplot(1, 3, 2)\n",
    "# for i in [1, 2]:\n",
    "#     plt.plot(fts['ss'][:, i], label=f'left_{i}')\n",
    "# for i in [4, 5]:\n",
    "#     plt.plot(fts['ss'][:, i], label=f'right_{i - 3}')\n",
    "# plt.legend()\n",
    "\n",
    "# # plt.subplot(1, 3, 3)\n",
    "# # for i in range(5):\n",
    "# #     plt.plot(fts['ss'][:, 1, i], label=LEVELS[i])\n",
    "# # plt.legend()\n",
    "\n",
    "# plt.show()"
   ]
  },
  {
   "cell_type": "code",
   "execution_count": 17,
   "metadata": {},
   "outputs": [],
   "source": [
    "# for k in fts:\n",
    "#     print(k, fts[k].shape)"
   ]
  },
  {
   "cell_type": "markdown",
   "metadata": {},
   "source": [
    "### Model"
   ]
  },
  {
   "cell_type": "code",
   "execution_count": 18,
   "metadata": {},
   "outputs": [],
   "source": [
    "# model = define_model(\n",
    "#     name=\"simple\",\n",
    "#     num_classes=len(CLASSES) * 3,\n",
    "#     layer_dim=0,\n",
    "#     ft_dim=64,\n",
    "#     n_fts=45 + 75,\n",
    "#     resize=10,\n",
    "# )"
   ]
  },
  {
   "cell_type": "code",
   "execution_count": 19,
   "metadata": {},
   "outputs": [],
   "source": [
    "x = {k: fts[k].unsqueeze(0) for k in fts}"
   ]
  },
  {
   "cell_type": "code",
   "execution_count": 20,
   "metadata": {},
   "outputs": [],
   "source": [
    "# pred, _ = model(x)\n",
    "# pred.size()"
   ]
  },
  {
   "cell_type": "code",
   "execution_count": 21,
   "metadata": {},
   "outputs": [],
   "source": [
    "# l = StudyLoss()\n",
    "# l(pred, y.unsqueeze(0))"
   ]
  },
  {
   "cell_type": "code",
   "execution_count": 22,
   "metadata": {},
   "outputs": [],
   "source": [
    "# rsna_loss(y.unsqueeze(0).numpy(), pred.softmax(2).detach().numpy())"
   ]
  },
  {
   "cell_type": "markdown",
   "metadata": {},
   "source": [
    "### Training"
   ]
  },
  {
   "cell_type": "code",
   "execution_count": 23,
   "metadata": {},
   "outputs": [],
   "source": [
    "class Config:\n",
    "    \"\"\"\n",
    "    Parameters used for training\n",
    "    \"\"\"\n",
    "    # General\n",
    "    seed = 42\n",
    "    verbose = 1\n",
    "    device = \"cuda\"\n",
    "    save_weights = True\n",
    "    targets = CLASSES\n",
    "\n",
    "    # Data\n",
    "    exp_folders = {\n",
    "        # \"scs_crop\": \"../logs/2024-08-29/15/\",  # 15\n",
    "        # \"nfn_crop\": \"../logs/2024-08-29/16/\",  # 30\n",
    "        # \"scs_crop_coords\":  \"../logs/2024-08-29/17/\",\n",
    "        # \"nfn_crop_coords\":  \"../logs/2024-08-29/18/\",\n",
    "\n",
    "        # \"dh\": '../output/oof____cfg_dh_12s4c.pth',  # Darragh preds\n",
    "        # \"ch\": '../output/oof_cfg_ch_35.pth',  # Dieter preds\n",
    "        \"crop\": \"../logs/2024-08-29/5/\",  # 75\n",
    "\n",
    "        # \"nfn_crop_coords\": \"../logs/2024-09-02/27/\",  # Fix coords crop coords\n",
    "        # \"nfn_crop_coordsax\": \"../logs/2024-09-03/2/\",   # Fix coords crop coords ax\n",
    "        # \"scs_crop_coords\": \"../logs/2024-08-30/6/\",  # spinenet - 15 \n",
    "        # \"nfn_crop_coords\": \"../logs/2024-08-30/7/\",  # spinenet - 30\n",
    "\n",
    "        \n",
    "    }\n",
    "    n_fts = 0\n",
    "    resize = 0\n",
    "    remove_noisy = False\n",
    "\n",
    "    # k-fold\n",
    "    k = 4\n",
    "    folds_file = \"../input/train_folded_v1.csv\"  # f\"../input/folds_{k}.csv\"\n",
    "    selected_folds = [0, 1, 2, 3]\n",
    "\n",
    "    # Model\n",
    "    name = \"simple\"\n",
    "    dense_dim = 4096\n",
    "    layer_dim = 0\n",
    "    ft_dim = [6, 6, 6]  # scs, nfn, ss\n",
    "\n",
    "    p = 0.\n",
    "    num_classes = len(CLASSES) * 3\n",
    "    num_classes_aux = 0\n",
    "\n",
    "    # Training    \n",
    "    loss_config = {\n",
    "        \"name\": \"study\",\n",
    "        \"weighted\": True,\n",
    "        \"use_any\": True,\n",
    "        \"smoothing\": 0,\n",
    "        \"activation\": \"study\",\n",
    "        \"aux_loss_weight\": 0,\n",
    "        \"name_aux\": \"\",\n",
    "        \"smoothing_aux\": 0,\n",
    "        \"activation_aux\": \"\",\n",
    "    }\n",
    "\n",
    "    data_config = {\n",
    "        \"batch_size\": 128,\n",
    "        \"val_bs\": 512,\n",
    "        \"mix\": \"mixup\",\n",
    "        \"mix_proba\": 0.,\n",
    "        \"sched\": False,\n",
    "        \"mix_alpha\": 4.,\n",
    "        \"additive_mix\": False,\n",
    "        \"num_classes\": num_classes,\n",
    "        \"num_classes_aux\": num_classes_aux,\n",
    "        \"num_workers\": 8,\n",
    "    }\n",
    "\n",
    "    optimizer_config = {\n",
    "        \"name\": \"AdamW\",\n",
    "        \"lr\": 5e-5,\n",
    "        \"warmup_prop\": 0.,\n",
    "        \"betas\": (0.9, 0.999),\n",
    "        \"max_grad_norm\": 1.,\n",
    "        \"weight_decay\": 1,\n",
    "    }\n",
    "\n",
    "    epochs = 15\n",
    "\n",
    "    use_fp16 = True\n",
    "    verbose = 1\n",
    "    verbose_eval = 20\n",
    "\n",
    "    fullfit = False\n",
    "    n_fullfit = 1\n",
    "\n",
    "    local_rank = 0\n",
    "    distributed = False\n",
    "    world_size = 1"
   ]
  },
  {
   "cell_type": "code",
   "execution_count": 24,
   "metadata": {},
   "outputs": [],
   "source": [
    "DEBUG = False\n",
    "log_folder = None"
   ]
  },
  {
   "cell_type": "code",
   "execution_count": 25,
   "metadata": {},
   "outputs": [],
   "source": [
    "df = prepare_data_lvl2()\n",
    "\n",
    "if \"fold\" not in df.columns:\n",
    "    folds = pd.read_csv(Config.folds_file)\n",
    "    df = df.merge(folds, how=\"left\")\n",
    "\n",
    "# df = df[~df['study_id'].isin([1215498865, 1647904243, 2570933394, 2761048584, 3284652867, 3941522676])].reset_index(drop=True)"
   ]
  },
  {
   "cell_type": "code",
   "execution_count": 26,
   "metadata": {},
   "outputs": [],
   "source": [
    "# if not DEBUG:\n",
    "#     log_folder = prepare_log_folder(LOG_PATH)\n",
    "#     print(f\"Logging results to {log_folder}\")\n",
    "#     config_df = save_config(Config, log_folder + \"config.json\")\n",
    "#     create_logger(directory=log_folder, name=\"logs.txt\")\n",
    "\n",
    "# preds = k_fold(Config, df, log_folder=log_folder, run=None)"
   ]
  },
  {
   "cell_type": "markdown",
   "metadata": {},
   "source": [
    "### Eval"
   ]
  },
  {
   "cell_type": "code",
   "execution_count": 27,
   "metadata": {},
   "outputs": [
    {
     "ename": "NameError",
     "evalue": "name 'preds' is not defined",
     "output_type": "error",
     "traceback": [
      "\u001b[0;31m---------------------------------------------------------------------------\u001b[0m",
      "\u001b[0;31mNameError\u001b[0m                                 Traceback (most recent call last)",
      "Cell \u001b[0;32mIn[27], line 1\u001b[0m\n\u001b[0;32m----> 1\u001b[0m avg_loss, losses \u001b[38;5;241m=\u001b[39m rsna_loss(df[Config\u001b[38;5;241m.\u001b[39mtargets]\u001b[38;5;241m.\u001b[39mvalues, \u001b[43mpreds\u001b[49m)\n\u001b[1;32m      3\u001b[0m \u001b[38;5;28;01mfor\u001b[39;00m k, v \u001b[38;5;129;01min\u001b[39;00m losses\u001b[38;5;241m.\u001b[39mitems():\n\u001b[1;32m      4\u001b[0m     \u001b[38;5;28mprint\u001b[39m(\u001b[38;5;124mf\u001b[39m\u001b[38;5;124m\"\u001b[39m\u001b[38;5;124m- \u001b[39m\u001b[38;5;132;01m{\u001b[39;00mk\u001b[38;5;132;01m}\u001b[39;00m\u001b[38;5;124m_loss\u001b[39m\u001b[38;5;130;01m\\t\u001b[39;00m\u001b[38;5;124m: \u001b[39m\u001b[38;5;132;01m{\u001b[39;00mv\u001b[38;5;132;01m:\u001b[39;00m\u001b[38;5;124m.3f\u001b[39m\u001b[38;5;132;01m}\u001b[39;00m\u001b[38;5;124m\"\u001b[39m)\n",
      "\u001b[0;31mNameError\u001b[0m: name 'preds' is not defined"
     ]
    }
   ],
   "source": [
    "avg_loss, losses = rsna_loss(df[Config.targets].values, preds)\n",
    "\n",
    "for k, v in losses.items():\n",
    "    print(f\"- {k}_loss\\t: {v:.3f}\")\n",
    "\n",
    "print(f'\\n -> CV Score : {avg_loss :.4f}')"
   ]
  },
  {
   "cell_type": "code",
   "execution_count": 28,
   "metadata": {},
   "outputs": [
    {
     "ename": "NameError",
     "evalue": "name 'preds' is not defined",
     "output_type": "error",
     "traceback": [
      "\u001b[0;31m---------------------------------------------------------------------------\u001b[0m",
      "\u001b[0;31mNameError\u001b[0m                                 Traceback (most recent call last)",
      "Cell \u001b[0;32mIn[28], line 1\u001b[0m\n\u001b[0;32m----> 1\u001b[0m avg_loss, losses \u001b[38;5;241m=\u001b[39m rsna_loss(df[Config\u001b[38;5;241m.\u001b[39mtargets]\u001b[38;5;241m.\u001b[39mvalues, \u001b[43mpreds\u001b[49m)\n\u001b[1;32m      3\u001b[0m \u001b[38;5;28;01mfor\u001b[39;00m k, v \u001b[38;5;129;01min\u001b[39;00m losses\u001b[38;5;241m.\u001b[39mitems():\n\u001b[1;32m      4\u001b[0m     \u001b[38;5;28mprint\u001b[39m(\u001b[38;5;124mf\u001b[39m\u001b[38;5;124m\"\u001b[39m\u001b[38;5;124m- \u001b[39m\u001b[38;5;132;01m{\u001b[39;00mk\u001b[38;5;132;01m}\u001b[39;00m\u001b[38;5;124m_loss\u001b[39m\u001b[38;5;130;01m\\t\u001b[39;00m\u001b[38;5;124m: \u001b[39m\u001b[38;5;132;01m{\u001b[39;00mv\u001b[38;5;132;01m:\u001b[39;00m\u001b[38;5;124m.3f\u001b[39m\u001b[38;5;132;01m}\u001b[39;00m\u001b[38;5;124m\"\u001b[39m)\n",
      "\u001b[0;31mNameError\u001b[0m: name 'preds' is not defined"
     ]
    }
   ],
   "source": [
    "avg_loss, losses = rsna_loss(df[Config.targets].values, preds)\n",
    "\n",
    "for k, v in losses.items():\n",
    "    print(f\"- {k}_loss\\t: {v:.3f}\")\n",
    "\n",
    "print(f'\\n -> CV Score : {avg_loss :.4f}')"
   ]
  },
  {
   "cell_type": "code",
   "execution_count": null,
   "metadata": {},
   "outputs": [
    {
     "name": "stdout",
     "output_type": "stream",
     "text": [
      "- scs_loss\t: 0.272\n",
      "- nfn_loss\t: 0.487\n",
      "- ss_loss\t: 0.586\n",
      "- any_loss\t: 0.268\n",
      "\n",
      " -> CV Score : 0.4032\n"
     ]
    }
   ],
   "source": [
    "avg_loss, losses = rsna_loss(df[Config.targets].values, preds)\n",
    "\n",
    "for k, v in losses.items():\n",
    "    print(f\"- {k}_loss\\t: {v:.3f}\")\n",
    "\n",
    "print(f'\\n -> CV Score : {avg_loss :.4f}')"
   ]
  },
  {
   "cell_type": "code",
   "execution_count": null,
   "metadata": {},
   "outputs": [
    {
     "name": "stdout",
     "output_type": "stream",
     "text": [
      "- scs_loss\t: 0.286\n",
      "- nfn_loss\t: 0.488\n",
      "- ss_loss\t: 0.585\n",
      "- any_loss\t: 0.284\n",
      "\n",
      " -> CV Score : 0.4107\n"
     ]
    }
   ],
   "source": [
    "avg_loss, losses = rsna_loss(df[Config.targets].values, preds)\n",
    "\n",
    "for k, v in losses.items():\n",
    "    print(f\"- {k}_loss\\t: {v:.3f}\")\n",
    "\n",
    "print(f'\\n -> CV Score : {avg_loss :.4f}')"
   ]
  },
  {
   "cell_type": "code",
   "execution_count": 208,
   "metadata": {},
   "outputs": [],
   "source": [
    "# yy = pkl[\"target\"].contiguous()[order].cpu().numpy().clip(-1, 2)\n",
    "# for i in range(len(df)):\n",
    "#     if not (df[Config.targets].values[i] == yy[i]).all():\n",
    "#         print(i, yy[i].tolist(), df[Config.targets].values[i].tolist())\n",
    "#         display(df.iloc[[i]])\n",
    "#         # break"
   ]
  },
  {
   "cell_type": "code",
   "execution_count": 33,
   "metadata": {},
   "outputs": [
    {
     "name": "stdout",
     "output_type": "stream",
     "text": [
      "- scs_loss\t: 0.319\n",
      "- nfn_loss\t: 0.504\n",
      "- ss_loss\t: 1.099\n",
      "- any_loss\t: 0.309\n",
      "\n",
      " -> CV Score : 0.5576\n"
     ]
    }
   ],
   "source": [
    "pkl = torch.load('../output/oof_cfg_ch_35.pth')\n",
    "pkl = torch.load('../output/oof____cfg_dh_12s1.pth')\n",
    "\n",
    "df = df[~df['study_id'].isin([1215498865, 1647904243, 2570933394, 2761048584, 3284652867, 3941522676])].reset_index(drop=True)\n",
    "\n",
    "order = [pkl['study_id'].tolist().index(s) for s in df['study_id'].values]\n",
    "\n",
    "avg_loss, losses = rsna_loss(df[Config.targets].values, pkl[\"logits\"].cpu().float().softmax(-1).numpy()[order])\n",
    "\n",
    "for k, v in losses.items():\n",
    "    print(f\"- {k}_loss\\t: {v:.3f}\")\n",
    "\n",
    "print(f'\\n -> CV Score : {avg_loss :.4f}')"
   ]
  },
  {
   "cell_type": "code",
   "execution_count": 34,
   "metadata": {},
   "outputs": [],
   "source": [
    "# aucs = []\n",
    "# for i, c in enumerate(CLASSES):\n",
    "#     auc = disk_auc(df[Config.targets].values[:, i], preds[:, i])\n",
    "#     print(f'{c} AUC: \\t {auc :.4f}')\n",
    "#     aucs.append(auc)\n",
    "# print(f'\\n-> Avg AUC: \\t {np.mean(aucs) :.4f}')"
   ]
  },
  {
   "cell_type": "code",
   "execution_count": 37,
   "metadata": {},
   "outputs": [],
   "source": [
    "# aucs = []\n",
    "# for i, c in enumerate(CLASSES):\n",
    "#     auc = disk_auc(df[Config.targets].values[:, i], preds_dd[:, i])\n",
    "#     print(f'{c} AUC: \\t {auc :.4f}')\n",
    "#     aucs.append(auc)\n",
    "# print(f'\\n-> Avg AUC: \\t {np.mean(aucs) :.4f}')"
   ]
  },
  {
   "cell_type": "code",
   "execution_count": 301,
   "metadata": {},
   "outputs": [],
   "source": [
    "# preds = preds[df['fold'].values == 0]\n",
    "# df = df[df['fold'].values == 0]"
   ]
  },
  {
   "cell_type": "code",
   "execution_count": 268,
   "metadata": {},
   "outputs": [
    {
     "name": "stdout",
     "output_type": "stream",
     "text": [
      "left_neural_foraminal_narrowing_l1_l2 AUC: \t 0.9613\n",
      "left_neural_foraminal_narrowing_l2_l3 AUC: \t 0.9558\n",
      "left_neural_foraminal_narrowing_l3_l4 AUC: \t 0.9164\n",
      "left_neural_foraminal_narrowing_l4_l5 AUC: \t 0.8718\n",
      "left_neural_foraminal_narrowing_l5_s1 AUC: \t 0.8831\n",
      "right_neural_foraminal_narrowing_l1_l2 AUC: \t 0.9699\n",
      "right_neural_foraminal_narrowing_l2_l3 AUC: \t 0.9284\n",
      "right_neural_foraminal_narrowing_l3_l4 AUC: \t 0.9227\n",
      "right_neural_foraminal_narrowing_l4_l5 AUC: \t 0.8932\n",
      "right_neural_foraminal_narrowing_l5_s1 AUC: \t 0.8843\n",
      "\n",
      "-> Avg AUC: \t 0.9187\n"
     ]
    }
   ],
   "source": [
    "EXP_FOLDER = \"../logs/2024-09-02/27/\"\n",
    "\n",
    "p = np.load(EXP_FOLDER + \"pred_inf_0.npy\").reshape(-1, 10, 3)\n",
    "df_val = pd.read_csv(EXP_FOLDER + \"df_val_0.csv\")\n",
    "\n",
    "y = df_val['target'].values.reshape(-1, 10)\n",
    "\n",
    "aucs = []\n",
    "for i, c in enumerate(CLASSES[5:15]):\n",
    "    auc = disk_auc(y[:, i], p[:, i])\n",
    "    print(f'{c} AUC: \\t {auc :.4f}')\n",
    "    aucs.append(auc)\n",
    "print(f'\\n-> Avg AUC: \\t {np.mean(aucs) :.4f}')"
   ]
  },
  {
   "cell_type": "code",
   "execution_count": 173,
   "metadata": {},
   "outputs": [
    {
     "name": "stdout",
     "output_type": "stream",
     "text": [
      "spinal_canal_stenosis AUC: \t 0.5000\n",
      "left_neural_foraminal_narrowing AUC: \t 0.8108\n",
      "right_neural_foraminal_narrowing AUC: \t 0.8104\n",
      "left_subarticular_stenosis AUC: \t 0.5000\n",
      "right_subarticular_stenosis AUC: \t 0.5000\n",
      "\n",
      "-> Avg AUC: \t 0.6243\n"
     ]
    }
   ],
   "source": [
    "p = preds.reshape(preds.shape[0], 5, 5, 3)\n",
    "p = p.transpose(0, 2, 1, 3)\n",
    "p = p.reshape(-1, 5, 3)\n",
    "\n",
    "y = df[Config.targets].values\n",
    "y = y.reshape(preds.shape[0], 5, 5)\n",
    "y = y.transpose(0, 2, 1)\n",
    "y = y.reshape(-1, 5)\n",
    "\n",
    "aucs = []\n",
    "for i, c in enumerate(CLASSES_CROP):\n",
    "    auc = disk_auc(y[:, i], p[:, i])\n",
    "    print(f'{c} AUC: \\t {auc :.4f}')\n",
    "    aucs.append(auc)\n",
    "print(f'\\n-> Avg AUC: \\t {np.mean(aucs) :.4f}')"
   ]
  },
  {
   "cell_type": "code",
   "execution_count": 35,
   "metadata": {},
   "outputs": [
    {
     "name": "stdout",
     "output_type": "stream",
     "text": [
      "l1_l2 0.8424656813282588\n",
      "l2_l3 0.9118449814640606\n",
      "l3_l4 0.9172478409959582\n",
      "l4_l5 0.8230807887811995\n",
      "l5_s1 0.8279761385800729\n"
     ]
    }
   ],
   "source": [
    "for i, c in enumerate(LEVELS_):\n",
    "    print(c, disk_auc(y[:, i], p[:, i]))"
   ]
  },
  {
   "cell_type": "code",
   "execution_count": 49,
   "metadata": {},
   "outputs": [
    {
     "data": {
      "text/plain": [
       "array([[9.966e-01, 3.572e-03, 2.110e-05],\n",
       "       [9.941e-01, 5.920e-03, 1.913e-05],\n",
       "       [9.526e-01, 4.715e-02, 3.810e-04],\n",
       "       [9.106e-01, 8.887e-02, 4.816e-04],\n",
       "       [9.756e-01, 2.380e-02, 5.293e-04],\n",
       "       [9.937e-01, 6.454e-03, 2.307e-05],\n",
       "       [9.761e-01, 2.408e-02, 8.440e-05],\n",
       "       [8.501e-01, 1.493e-01, 6.313e-04],\n",
       "       [8.105e-01, 1.884e-01, 1.161e-03],\n",
       "       [9.399e-01, 5.789e-02, 2.064e-03]], dtype=float16)"
      ]
     },
     "execution_count": 49,
     "metadata": {},
     "output_type": "execute_result"
    }
   ],
   "source": [
    "preds[:10]"
   ]
  },
  {
   "cell_type": "code",
   "execution_count": 51,
   "metadata": {},
   "outputs": [
    {
     "data": {
      "text/plain": [
       "array([[9.966e-01, 3.572e-03, 2.110e-05],\n",
       "       [9.937e-01, 6.454e-03, 2.307e-05]], dtype=float16)"
      ]
     },
     "execution_count": 51,
     "metadata": {},
     "output_type": "execute_result"
    }
   ],
   "source": []
  },
  {
   "cell_type": "code",
   "execution_count": 40,
   "metadata": {},
   "outputs": [
    {
     "data": {
      "text/html": [
       "<div>\n",
       "<style scoped>\n",
       "    .dataframe tbody tr th:only-of-type {\n",
       "        vertical-align: middle;\n",
       "    }\n",
       "\n",
       "    .dataframe tbody tr th {\n",
       "        vertical-align: top;\n",
       "    }\n",
       "\n",
       "    .dataframe thead th {\n",
       "        text-align: right;\n",
       "    }\n",
       "</style>\n",
       "<table border=\"1\" class=\"dataframe\">\n",
       "  <thead>\n",
       "    <tr style=\"text-align: right;\">\n",
       "      <th></th>\n",
       "      <th>study_id</th>\n",
       "      <th>series_id</th>\n",
       "      <th>series_description</th>\n",
       "      <th>orient</th>\n",
       "      <th>weighting</th>\n",
       "      <th>img_path</th>\n",
       "      <th>condition</th>\n",
       "      <th>level</th>\n",
       "      <th>coords</th>\n",
       "      <th>side</th>\n",
       "      <th>target</th>\n",
       "      <th>fold</th>\n",
       "    </tr>\n",
       "  </thead>\n",
       "  <tbody>\n",
       "    <tr>\n",
       "      <th>0</th>\n",
       "      <td>7143189</td>\n",
       "      <td>3219733239</td>\n",
       "      <td>Sagittal T1</td>\n",
       "      <td>Sagittal</td>\n",
       "      <td>T1</td>\n",
       "      <td>../input/coords_crops_0.1_f/7143189_3219733239...</td>\n",
       "      <td>Left Neural Foraminal Narrowing</td>\n",
       "      <td>L1/L2</td>\n",
       "      <td>[ 11.         210.30305116 104.76639614]</td>\n",
       "      <td>Left</td>\n",
       "      <td>0</td>\n",
       "      <td>0</td>\n",
       "    </tr>\n",
       "    <tr>\n",
       "      <th>1</th>\n",
       "      <td>7143189</td>\n",
       "      <td>3219733239</td>\n",
       "      <td>Sagittal T1</td>\n",
       "      <td>Sagittal</td>\n",
       "      <td>T1</td>\n",
       "      <td>../input/coords_crops_0.1_f/7143189_3219733239...</td>\n",
       "      <td>Left Neural Foraminal Narrowing</td>\n",
       "      <td>L2/L3</td>\n",
       "      <td>[ 11.         205.97976234 147.42098804]</td>\n",
       "      <td>Left</td>\n",
       "      <td>0</td>\n",
       "      <td>0</td>\n",
       "    </tr>\n",
       "    <tr>\n",
       "      <th>2</th>\n",
       "      <td>7143189</td>\n",
       "      <td>3219733239</td>\n",
       "      <td>Sagittal T1</td>\n",
       "      <td>Sagittal</td>\n",
       "      <td>T1</td>\n",
       "      <td>../input/coords_crops_0.1_f/7143189_3219733239...</td>\n",
       "      <td>Left Neural Foraminal Narrowing</td>\n",
       "      <td>L3/L4</td>\n",
       "      <td>[ 12.         197.02351562 195.78472031]</td>\n",
       "      <td>Left</td>\n",
       "      <td>0</td>\n",
       "      <td>0</td>\n",
       "    </tr>\n",
       "    <tr>\n",
       "      <th>3</th>\n",
       "      <td>7143189</td>\n",
       "      <td>3219733239</td>\n",
       "      <td>Sagittal T1</td>\n",
       "      <td>Sagittal</td>\n",
       "      <td>T1</td>\n",
       "      <td>../input/coords_crops_0.1_f/7143189_3219733239...</td>\n",
       "      <td>Left Neural Foraminal Narrowing</td>\n",
       "      <td>L4/L5</td>\n",
       "      <td>[ 11.         193.91273442 233.74949645]</td>\n",
       "      <td>Left</td>\n",
       "      <td>0</td>\n",
       "      <td>0</td>\n",
       "    </tr>\n",
       "    <tr>\n",
       "      <th>4</th>\n",
       "      <td>7143189</td>\n",
       "      <td>3219733239</td>\n",
       "      <td>Sagittal T1</td>\n",
       "      <td>Sagittal</td>\n",
       "      <td>T1</td>\n",
       "      <td>../input/coords_crops_0.1_f/7143189_3219733239...</td>\n",
       "      <td>Left Neural Foraminal Narrowing</td>\n",
       "      <td>L5/S1</td>\n",
       "      <td>[ 11.         199.49312761 272.41812149]</td>\n",
       "      <td>Left</td>\n",
       "      <td>0</td>\n",
       "      <td>0</td>\n",
       "    </tr>\n",
       "    <tr>\n",
       "      <th>5</th>\n",
       "      <td>7143189</td>\n",
       "      <td>3219733239</td>\n",
       "      <td>Sagittal T1</td>\n",
       "      <td>Sagittal</td>\n",
       "      <td>T1</td>\n",
       "      <td>../input/coords_crops_0.1_f/7143189_3219733239...</td>\n",
       "      <td>Right Neural Foraminal Narrowing</td>\n",
       "      <td>L1/L2</td>\n",
       "      <td>[  4.         214.34299517 105.73913043]</td>\n",
       "      <td>Right</td>\n",
       "      <td>0</td>\n",
       "      <td>0</td>\n",
       "    </tr>\n",
       "    <tr>\n",
       "      <th>6</th>\n",
       "      <td>7143189</td>\n",
       "      <td>3219733239</td>\n",
       "      <td>Sagittal T1</td>\n",
       "      <td>Sagittal</td>\n",
       "      <td>T1</td>\n",
       "      <td>../input/coords_crops_0.1_f/7143189_3219733239...</td>\n",
       "      <td>Right Neural Foraminal Narrowing</td>\n",
       "      <td>L2/L3</td>\n",
       "      <td>[  4.         202.5942029  142.84057971]</td>\n",
       "      <td>Right</td>\n",
       "      <td>0</td>\n",
       "      <td>0</td>\n",
       "    </tr>\n",
       "    <tr>\n",
       "      <th>7</th>\n",
       "      <td>7143189</td>\n",
       "      <td>3219733239</td>\n",
       "      <td>Sagittal T1</td>\n",
       "      <td>Sagittal</td>\n",
       "      <td>T1</td>\n",
       "      <td>../input/coords_crops_0.1_f/7143189_3219733239...</td>\n",
       "      <td>Right Neural Foraminal Narrowing</td>\n",
       "      <td>L3/L4</td>\n",
       "      <td>[  4.         200.73913043 187.98067633]</td>\n",
       "      <td>Right</td>\n",
       "      <td>0</td>\n",
       "      <td>0</td>\n",
       "    </tr>\n",
       "    <tr>\n",
       "      <th>8</th>\n",
       "      <td>7143189</td>\n",
       "      <td>3219733239</td>\n",
       "      <td>Sagittal T1</td>\n",
       "      <td>Sagittal</td>\n",
       "      <td>T1</td>\n",
       "      <td>../input/coords_crops_0.1_f/7143189_3219733239...</td>\n",
       "      <td>Right Neural Foraminal Narrowing</td>\n",
       "      <td>L4/L5</td>\n",
       "      <td>[  4.         197.02898551 224.46376812]</td>\n",
       "      <td>Right</td>\n",
       "      <td>0</td>\n",
       "      <td>0</td>\n",
       "    </tr>\n",
       "    <tr>\n",
       "      <th>9</th>\n",
       "      <td>7143189</td>\n",
       "      <td>3219733239</td>\n",
       "      <td>Sagittal T1</td>\n",
       "      <td>Sagittal</td>\n",
       "      <td>T1</td>\n",
       "      <td>../input/coords_crops_0.1_f/7143189_3219733239...</td>\n",
       "      <td>Right Neural Foraminal Narrowing</td>\n",
       "      <td>L5/S1</td>\n",
       "      <td>[  3.         198.26570048 268.98550725]</td>\n",
       "      <td>Right</td>\n",
       "      <td>0</td>\n",
       "      <td>0</td>\n",
       "    </tr>\n",
       "    <tr>\n",
       "      <th>10</th>\n",
       "      <td>52397721</td>\n",
       "      <td>2770638094</td>\n",
       "      <td>Sagittal T1</td>\n",
       "      <td>Sagittal</td>\n",
       "      <td>T1</td>\n",
       "      <td>../input/coords_crops_0.1_f/52397721_277063809...</td>\n",
       "      <td>Left Neural Foraminal Narrowing</td>\n",
       "      <td>L1/L2</td>\n",
       "      <td>[ 12.         296.70671378 127.32155477]</td>\n",
       "      <td>Left</td>\n",
       "      <td>0</td>\n",
       "      <td>0</td>\n",
       "    </tr>\n",
       "    <tr>\n",
       "      <th>11</th>\n",
       "      <td>52397721</td>\n",
       "      <td>2770638094</td>\n",
       "      <td>Sagittal T1</td>\n",
       "      <td>Sagittal</td>\n",
       "      <td>T1</td>\n",
       "      <td>../input/coords_crops_0.1_f/52397721_277063809...</td>\n",
       "      <td>Left Neural Foraminal Narrowing</td>\n",
       "      <td>L2/L3</td>\n",
       "      <td>[ 12.         278.8980322  171.50626118]</td>\n",
       "      <td>Left</td>\n",
       "      <td>0</td>\n",
       "      <td>0</td>\n",
       "    </tr>\n",
       "    <tr>\n",
       "      <th>12</th>\n",
       "      <td>52397721</td>\n",
       "      <td>2770638094</td>\n",
       "      <td>Sagittal T1</td>\n",
       "      <td>Sagittal</td>\n",
       "      <td>T1</td>\n",
       "      <td>../input/coords_crops_0.1_f/52397721_277063809...</td>\n",
       "      <td>Left Neural Foraminal Narrowing</td>\n",
       "      <td>L3/L4</td>\n",
       "      <td>[ 12.         261.82922201 223.69639469]</td>\n",
       "      <td>Left</td>\n",
       "      <td>0</td>\n",
       "      <td>0</td>\n",
       "    </tr>\n",
       "    <tr>\n",
       "      <th>13</th>\n",
       "      <td>52397721</td>\n",
       "      <td>2770638094</td>\n",
       "      <td>Sagittal T1</td>\n",
       "      <td>Sagittal</td>\n",
       "      <td>T1</td>\n",
       "      <td>../input/coords_crops_0.1_f/52397721_277063809...</td>\n",
       "      <td>Left Neural Foraminal Narrowing</td>\n",
       "      <td>L4/L5</td>\n",
       "      <td>[ 11.         247.85865724 266.62897527]</td>\n",
       "      <td>Left</td>\n",
       "      <td>1</td>\n",
       "      <td>0</td>\n",
       "    </tr>\n",
       "    <tr>\n",
       "      <th>14</th>\n",
       "      <td>52397721</td>\n",
       "      <td>2770638094</td>\n",
       "      <td>Sagittal T1</td>\n",
       "      <td>Sagittal</td>\n",
       "      <td>T1</td>\n",
       "      <td>../input/coords_crops_0.1_f/52397721_277063809...</td>\n",
       "      <td>Left Neural Foraminal Narrowing</td>\n",
       "      <td>L5/S1</td>\n",
       "      <td>[ 11.         251.42039356 315.3059034 ]</td>\n",
       "      <td>Left</td>\n",
       "      <td>0</td>\n",
       "      <td>0</td>\n",
       "    </tr>\n",
       "    <tr>\n",
       "      <th>15</th>\n",
       "      <td>52397721</td>\n",
       "      <td>2770638094</td>\n",
       "      <td>Sagittal T1</td>\n",
       "      <td>Sagittal</td>\n",
       "      <td>T1</td>\n",
       "      <td>../input/coords_crops_0.1_f/52397721_277063809...</td>\n",
       "      <td>Right Neural Foraminal Narrowing</td>\n",
       "      <td>L1/L2</td>\n",
       "      <td>[  4.         293.09480122 127.02140673]</td>\n",
       "      <td>Right</td>\n",
       "      <td>0</td>\n",
       "      <td>0</td>\n",
       "    </tr>\n",
       "    <tr>\n",
       "      <th>16</th>\n",
       "      <td>52397721</td>\n",
       "      <td>2770638094</td>\n",
       "      <td>Sagittal T1</td>\n",
       "      <td>Sagittal</td>\n",
       "      <td>T1</td>\n",
       "      <td>../input/coords_crops_0.1_f/52397721_277063809...</td>\n",
       "      <td>Right Neural Foraminal Narrowing</td>\n",
       "      <td>L2/L3</td>\n",
       "      <td>[  4.        274.3058104 170.0795107]</td>\n",
       "      <td>Right</td>\n",
       "      <td>0</td>\n",
       "      <td>0</td>\n",
       "    </tr>\n",
       "    <tr>\n",
       "      <th>17</th>\n",
       "      <td>52397721</td>\n",
       "      <td>2770638094</td>\n",
       "      <td>Sagittal T1</td>\n",
       "      <td>Sagittal</td>\n",
       "      <td>T1</td>\n",
       "      <td>../input/coords_crops_0.1_f/52397721_277063809...</td>\n",
       "      <td>Right Neural Foraminal Narrowing</td>\n",
       "      <td>L3/L4</td>\n",
       "      <td>[  4.      258.70625 215.4    ]</td>\n",
       "      <td>Right</td>\n",
       "      <td>0</td>\n",
       "      <td>0</td>\n",
       "    </tr>\n",
       "    <tr>\n",
       "      <th>18</th>\n",
       "      <td>52397721</td>\n",
       "      <td>2770638094</td>\n",
       "      <td>Sagittal T1</td>\n",
       "      <td>Sagittal</td>\n",
       "      <td>T1</td>\n",
       "      <td>../input/coords_crops_0.1_f/52397721_277063809...</td>\n",
       "      <td>Right Neural Foraminal Narrowing</td>\n",
       "      <td>L4/L5</td>\n",
       "      <td>[  3.         247.68807339 264.80733945]</td>\n",
       "      <td>Right</td>\n",
       "      <td>0</td>\n",
       "      <td>0</td>\n",
       "    </tr>\n",
       "    <tr>\n",
       "      <th>19</th>\n",
       "      <td>52397721</td>\n",
       "      <td>2770638094</td>\n",
       "      <td>Sagittal T1</td>\n",
       "      <td>Sagittal</td>\n",
       "      <td>T1</td>\n",
       "      <td>../input/coords_crops_0.1_f/52397721_277063809...</td>\n",
       "      <td>Right Neural Foraminal Narrowing</td>\n",
       "      <td>L5/S1</td>\n",
       "      <td>[  2.         250.81957187 315.6941896 ]</td>\n",
       "      <td>Right</td>\n",
       "      <td>0</td>\n",
       "      <td>0</td>\n",
       "    </tr>\n",
       "  </tbody>\n",
       "</table>\n",
       "</div>"
      ],
      "text/plain": [
       "    study_id   series_id series_description    orient weighting  \\\n",
       "0    7143189  3219733239        Sagittal T1  Sagittal        T1   \n",
       "1    7143189  3219733239        Sagittal T1  Sagittal        T1   \n",
       "2    7143189  3219733239        Sagittal T1  Sagittal        T1   \n",
       "3    7143189  3219733239        Sagittal T1  Sagittal        T1   \n",
       "4    7143189  3219733239        Sagittal T1  Sagittal        T1   \n",
       "5    7143189  3219733239        Sagittal T1  Sagittal        T1   \n",
       "6    7143189  3219733239        Sagittal T1  Sagittal        T1   \n",
       "7    7143189  3219733239        Sagittal T1  Sagittal        T1   \n",
       "8    7143189  3219733239        Sagittal T1  Sagittal        T1   \n",
       "9    7143189  3219733239        Sagittal T1  Sagittal        T1   \n",
       "10  52397721  2770638094        Sagittal T1  Sagittal        T1   \n",
       "11  52397721  2770638094        Sagittal T1  Sagittal        T1   \n",
       "12  52397721  2770638094        Sagittal T1  Sagittal        T1   \n",
       "13  52397721  2770638094        Sagittal T1  Sagittal        T1   \n",
       "14  52397721  2770638094        Sagittal T1  Sagittal        T1   \n",
       "15  52397721  2770638094        Sagittal T1  Sagittal        T1   \n",
       "16  52397721  2770638094        Sagittal T1  Sagittal        T1   \n",
       "17  52397721  2770638094        Sagittal T1  Sagittal        T1   \n",
       "18  52397721  2770638094        Sagittal T1  Sagittal        T1   \n",
       "19  52397721  2770638094        Sagittal T1  Sagittal        T1   \n",
       "\n",
       "                                             img_path  \\\n",
       "0   ../input/coords_crops_0.1_f/7143189_3219733239...   \n",
       "1   ../input/coords_crops_0.1_f/7143189_3219733239...   \n",
       "2   ../input/coords_crops_0.1_f/7143189_3219733239...   \n",
       "3   ../input/coords_crops_0.1_f/7143189_3219733239...   \n",
       "4   ../input/coords_crops_0.1_f/7143189_3219733239...   \n",
       "5   ../input/coords_crops_0.1_f/7143189_3219733239...   \n",
       "6   ../input/coords_crops_0.1_f/7143189_3219733239...   \n",
       "7   ../input/coords_crops_0.1_f/7143189_3219733239...   \n",
       "8   ../input/coords_crops_0.1_f/7143189_3219733239...   \n",
       "9   ../input/coords_crops_0.1_f/7143189_3219733239...   \n",
       "10  ../input/coords_crops_0.1_f/52397721_277063809...   \n",
       "11  ../input/coords_crops_0.1_f/52397721_277063809...   \n",
       "12  ../input/coords_crops_0.1_f/52397721_277063809...   \n",
       "13  ../input/coords_crops_0.1_f/52397721_277063809...   \n",
       "14  ../input/coords_crops_0.1_f/52397721_277063809...   \n",
       "15  ../input/coords_crops_0.1_f/52397721_277063809...   \n",
       "16  ../input/coords_crops_0.1_f/52397721_277063809...   \n",
       "17  ../input/coords_crops_0.1_f/52397721_277063809...   \n",
       "18  ../input/coords_crops_0.1_f/52397721_277063809...   \n",
       "19  ../input/coords_crops_0.1_f/52397721_277063809...   \n",
       "\n",
       "                           condition  level  \\\n",
       "0    Left Neural Foraminal Narrowing  L1/L2   \n",
       "1    Left Neural Foraminal Narrowing  L2/L3   \n",
       "2    Left Neural Foraminal Narrowing  L3/L4   \n",
       "3    Left Neural Foraminal Narrowing  L4/L5   \n",
       "4    Left Neural Foraminal Narrowing  L5/S1   \n",
       "5   Right Neural Foraminal Narrowing  L1/L2   \n",
       "6   Right Neural Foraminal Narrowing  L2/L3   \n",
       "7   Right Neural Foraminal Narrowing  L3/L4   \n",
       "8   Right Neural Foraminal Narrowing  L4/L5   \n",
       "9   Right Neural Foraminal Narrowing  L5/S1   \n",
       "10   Left Neural Foraminal Narrowing  L1/L2   \n",
       "11   Left Neural Foraminal Narrowing  L2/L3   \n",
       "12   Left Neural Foraminal Narrowing  L3/L4   \n",
       "13   Left Neural Foraminal Narrowing  L4/L5   \n",
       "14   Left Neural Foraminal Narrowing  L5/S1   \n",
       "15  Right Neural Foraminal Narrowing  L1/L2   \n",
       "16  Right Neural Foraminal Narrowing  L2/L3   \n",
       "17  Right Neural Foraminal Narrowing  L3/L4   \n",
       "18  Right Neural Foraminal Narrowing  L4/L5   \n",
       "19  Right Neural Foraminal Narrowing  L5/S1   \n",
       "\n",
       "                                      coords   side  target  fold  \n",
       "0   [ 11.         210.30305116 104.76639614]   Left       0     0  \n",
       "1   [ 11.         205.97976234 147.42098804]   Left       0     0  \n",
       "2   [ 12.         197.02351562 195.78472031]   Left       0     0  \n",
       "3   [ 11.         193.91273442 233.74949645]   Left       0     0  \n",
       "4   [ 11.         199.49312761 272.41812149]   Left       0     0  \n",
       "5   [  4.         214.34299517 105.73913043]  Right       0     0  \n",
       "6   [  4.         202.5942029  142.84057971]  Right       0     0  \n",
       "7   [  4.         200.73913043 187.98067633]  Right       0     0  \n",
       "8   [  4.         197.02898551 224.46376812]  Right       0     0  \n",
       "9   [  3.         198.26570048 268.98550725]  Right       0     0  \n",
       "10  [ 12.         296.70671378 127.32155477]   Left       0     0  \n",
       "11  [ 12.         278.8980322  171.50626118]   Left       0     0  \n",
       "12  [ 12.         261.82922201 223.69639469]   Left       0     0  \n",
       "13  [ 11.         247.85865724 266.62897527]   Left       1     0  \n",
       "14  [ 11.         251.42039356 315.3059034 ]   Left       0     0  \n",
       "15  [  4.         293.09480122 127.02140673]  Right       0     0  \n",
       "16     [  4.        274.3058104 170.0795107]  Right       0     0  \n",
       "17           [  4.      258.70625 215.4    ]  Right       0     0  \n",
       "18  [  3.         247.68807339 264.80733945]  Right       0     0  \n",
       "19  [  2.         250.81957187 315.6941896 ]  Right       0     0  "
      ]
     },
     "execution_count": 40,
     "metadata": {},
     "output_type": "execute_result"
    }
   ],
   "source": [
    "df_val.head(20)"
   ]
  },
  {
   "cell_type": "markdown",
   "metadata": {},
   "source": [
    "- scs_loss\t: 0.299\n",
    "- nfn_loss\t: 0.500\n",
    "- ss_loss\t: 0.593\n",
    "- any_loss\t: 0.291\n",
    "\n",
    " -> CV Score : 0.4206"
   ]
  },
  {
   "cell_type": "code",
   "execution_count": 108,
   "metadata": {},
   "outputs": [
    {
     "name": "stdout",
     "output_type": "stream",
     "text": [
      "\n",
      "pred: right_neural_foraminal_narrowing_l1_l2 \t truth: left_neural_foraminal_narrowing_l1_l2\n",
      "Ref AUC          : 0.8969\n",
      "Swap AUC         : 0.8969\n",
      "Equal proportion : 0.750\n",
      "Preds correlation: 1.000\n",
      "\n",
      "pred: right_neural_foraminal_narrowing_l2_l3 \t truth: left_neural_foraminal_narrowing_l2_l3\n",
      "Ref AUC          : 0.9309\n",
      "Swap AUC         : 0.8918\n",
      "Equal proportion : 0.852\n",
      "Preds correlation: 0.825\n",
      "\n",
      "pred: right_neural_foraminal_narrowing_l3_l4 \t truth: left_neural_foraminal_narrowing_l3_l4\n",
      "Ref AUC          : 0.8844\n",
      "Swap AUC         : 0.8447\n",
      "Equal proportion : 0.832\n",
      "Preds correlation: 0.863\n",
      "\n",
      "pred: right_neural_foraminal_narrowing_l4_l5 \t truth: left_neural_foraminal_narrowing_l4_l5\n",
      "Ref AUC          : 0.8647\n",
      "Swap AUC         : 0.7751\n",
      "Equal proportion : 0.712\n",
      "Preds correlation: 0.734\n",
      "\n",
      "pred: right_neural_foraminal_narrowing_l5_s1 \t truth: left_neural_foraminal_narrowing_l5_s1\n",
      "Ref AUC          : 0.8633\n",
      "Swap AUC         : 0.7891\n",
      "Equal proportion : 0.636\n",
      "Preds correlation: 0.760\n",
      "\n",
      "pred: right_subarticular_stenosis_l1_l2 \t truth: left_subarticular_stenosis_l1_l2\n",
      "Ref AUC          : 0.8754\n",
      "Swap AUC         : 0.8604\n",
      "Equal proportion : 0.644\n",
      "Preds correlation: 0.841\n",
      "\n",
      "pred: right_subarticular_stenosis_l2_l3 \t truth: left_subarticular_stenosis_l2_l3\n",
      "Ref AUC          : 0.8502\n",
      "Swap AUC         : 0.8322\n",
      "Equal proportion : 0.645\n",
      "Preds correlation: 0.918\n",
      "\n",
      "pred: right_subarticular_stenosis_l3_l4 \t truth: left_subarticular_stenosis_l3_l4\n",
      "Ref AUC          : 0.8186\n",
      "Swap AUC         : 0.8006\n",
      "Equal proportion : 0.690\n",
      "Preds correlation: 0.916\n",
      "\n",
      "pred: right_subarticular_stenosis_l4_l5 \t truth: left_subarticular_stenosis_l4_l5\n",
      "Ref AUC          : 0.7181\n",
      "Swap AUC         : 0.7153\n",
      "Equal proportion : 0.657\n",
      "Preds correlation: 0.814\n",
      "\n",
      "pred: right_subarticular_stenosis_l5_s1 \t truth: left_subarticular_stenosis_l5_s1\n",
      "Ref AUC          : 0.7084\n",
      "Swap AUC         : 0.6890\n",
      "Equal proportion : 0.634\n",
      "Preds correlation: 0.791\n"
     ]
    }
   ],
   "source": [
    "for i in [5, 6, 7, 8, 9, 15, 16, 17, 18, 19]:\n",
    "    j = i + 5\n",
    "    c = CLASSES[i]\n",
    "    c2 = CLASSES[j]\n",
    "    \n",
    "    ref_auc = disk_auc(df[Config.targets].values[:, i], preds[:, i])\n",
    "    auc = disk_auc(df[Config.targets].values[:, i], preds[:, j])\n",
    "    r = (\n",
    "        spearmanr(preds[:, i][:, 1], preds[:, j][:, 1]).statistic + \n",
    "        spearmanr(preds[:, i][:, 2], preds[:, j][:, 2]).statistic\n",
    "    ) / 2\n",
    "    print(f'\\npred: {c2} \\t truth: {c}')\n",
    "    # print(r)\n",
    "    y1 = df[Config.targets].values[:, i]\n",
    "    y2 = df[Config.targets].values[:, j]\n",
    "    \n",
    "    eq = (y1[(y1 > 0) & (y2 > 0)] == y2[(y1 > 0) & (y2 > 0)]).mean()\n",
    "    print(f'Ref AUC          : {ref_auc :.4f}')\n",
    "    print(f'Swap AUC         : {auc :.4f}')\n",
    "    print(f'Equal proportion : {eq:.3f}')\n",
    "    print(f'Preds correlation: {r:.3f}')\n",
    "\n",
    "\n",
    "# for j in [5, 6, 7, 8, 9, 15, 16, 17, 18, 19]:\n",
    "#     i = j + 5\n",
    "#     c = CLASSES[i]\n",
    "#     c2 = CLASSES[j]\n",
    "    \n",
    "#     ref_auc = disk_auc(df[Config.targets].values[:, i], preds[:, i])\n",
    "#     auc = disk_auc(df[Config.targets].values[:, i], preds[:, j])\n",
    "#     r = (\n",
    "#         spearmanr(preds[:, i][:, 1], preds[:, j][:, 1]).statistic + \n",
    "#         spearmanr(preds[:, i][:, 2], preds[:, j][:, 2]).statistic\n",
    "#     ) / 2\n",
    "#     print(f'\\npred: {c2} \\t truth: {c}')\n",
    "#     # print(r)\n",
    "#     y1 = df[Config.targets].values[:, i]\n",
    "#     y2 = df[Config.targets].values[:, j]\n",
    "    \n",
    "#     eq = (y1[(y1 > 0) & (y2 > 0)] == y2[(y1 > 0) & (y2 > 0)]).mean()\n",
    "#     print(f'Ref AUC          : {ref_auc :.4f}')\n",
    "#     print(f'Swap AUC         : {auc :.4f}')\n",
    "#     print(f'Equal proportion : {eq:.3f}')\n",
    "#     print(f'Preds correlation: {r:.3f}')"
   ]
  },
  {
   "cell_type": "code",
   "execution_count": null,
   "metadata": {},
   "outputs": [],
   "source": [
    "losses = []\n",
    "y = df[Config.targets].values\n",
    "for i in tqdm(range(len(df))):\n",
    "    l = rsna_loss(y[i:i+1], preds[i:i+1])[1]\n",
    "    l.update({\"study\": df[\"study_id\"].values[i]})\n",
    "    losses.append(l)\n",
    "losses = pd.DataFrame(losses)"
   ]
  },
  {
   "cell_type": "code",
   "execution_count": null,
   "metadata": {},
   "outputs": [],
   "source": [
    "plt.figure(figsize=(20, 5))\n",
    "for i, c in enumerate(losses.columns[:-1]):\n",
    "    plt.subplot(1, 4, i + 1)\n",
    "    sns.histplot(losses[c].values)\n",
    "    plt.title(c)\n",
    "plt.show()"
   ]
  },
  {
   "cell_type": "code",
   "execution_count": null,
   "metadata": {},
   "outputs": [],
   "source": [
    "losses[losses[\"scs\"] > 2]"
   ]
  },
  {
   "cell_type": "code",
   "execution_count": null,
   "metadata": {},
   "outputs": [],
   "source": [
    "df[df[\"study_id\"] == 1972129014]"
   ]
  },
  {
   "cell_type": "code",
   "execution_count": null,
   "metadata": {},
   "outputs": [],
   "source": [
    "losses[losses[\"any\"] > 2]"
   ]
  },
  {
   "cell_type": "markdown",
   "metadata": {},
   "source": [
    "- scs_loss\t: 0.325\n",
    "- nfn_loss\t: 0.517\n",
    "- ss_loss\t: 0.634\n",
    "- any_loss\t: 0.297\n",
    "\n",
    " -> CV Score : 0.443"
   ]
  },
  {
   "cell_type": "markdown",
   "metadata": {},
   "source": [
    "Done ! "
   ]
  }
 ],
 "metadata": {
  "kernelspec": {
   "display_name": "Python 3 (ipykernel)",
   "language": "python",
   "name": "python3"
  },
  "language_info": {
   "codemirror_mode": {
    "name": "ipython",
    "version": 3
   },
   "file_extension": ".py",
   "mimetype": "text/x-python",
   "name": "python",
   "nbconvert_exporter": "python",
   "pygments_lexer": "ipython3",
   "version": "3.10.12"
  }
 },
 "nbformat": 4,
 "nbformat_minor": 4
}
