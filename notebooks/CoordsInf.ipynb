{
 "cells": [
  {
   "cell_type": "code",
   "execution_count": null,
   "id": "04fefbb9",
   "metadata": {},
   "outputs": [],
   "source": [
    "%load_ext autoreload\n",
    "%autoreload 2"
   ]
  },
  {
   "cell_type": "code",
   "execution_count": null,
   "id": "fe5d4f48",
   "metadata": {},
   "outputs": [],
   "source": [
    "cd ../src"
   ]
  },
  {
   "cell_type": "code",
   "execution_count": null,
   "id": "68e6ad4e",
   "metadata": {
    "_cell_guid": "b1076dfc-b9ad-4769-8c92-a6c4dae69d19",
    "_uuid": "8f2839f25d086af736a60e9eeb907d3b93b6e0e5",
    "papermill": {
     "duration": 2.317669,
     "end_time": "2023-08-12T16:03:02.827155",
     "exception": false,
     "start_time": "2023-08-12T16:03:00.509486",
     "status": "completed"
    },
    "tags": []
   },
   "outputs": [],
   "source": [
    "import os\n",
    "import cv2\n",
    "import json\n",
    "import glob\n",
    "import torch\n",
    "import pydicom\n",
    "import numpy as np\n",
    "import pandas as pd\n",
    "import seaborn as sns\n",
    "import matplotlib.pyplot as plt\n",
    "import torch.nn.functional as F\n",
    "\n",
    "from collections import Counter\n",
    "from tqdm import tqdm\n",
    "\n",
    "\n",
    "pd.set_option('display.width', 5000)\n",
    "pd.set_option('max_colwidth', 100)\n",
    "pd.set_option('display.max_columns', 100)"
   ]
  },
  {
   "cell_type": "code",
   "execution_count": null,
   "id": "0d620e82",
   "metadata": {},
   "outputs": [],
   "source": [
    "from params import *\n",
    "from data.dataset import *\n",
    "from data.transforms import *\n",
    "from data.preparation import *\n",
    "from model_zoo.models import define_model\n",
    "from util.torch import load_model_weights\n",
    "from inference.lvl1 import Config, predict"
   ]
  },
  {
   "cell_type": "markdown",
   "id": "b5eccccf",
   "metadata": {},
   "source": [
    "### Inference"
   ]
  },
  {
   "cell_type": "code",
   "execution_count": null,
   "id": "5acf7851",
   "metadata": {},
   "outputs": [],
   "source": [
    "EXP_FOLDER = \"../logs/2024-08-29/0/\"  # coatnet_rmlp_2_rw_384 aug 50 ep new folds\n",
    "# EXP_FOLDER = \"../output/2024-08-29_0/\"  # coatnet_rmlp_2_rw_384 aug 50 ep new folds\n",
    "\n",
    "FOLD = 0"
   ]
  },
  {
   "cell_type": "code",
   "execution_count": null,
   "id": "617fcdb6",
   "metadata": {},
   "outputs": [],
   "source": [
    "config = Config(json.load(open(EXP_FOLDER + \"config.json\", \"r\")))\n",
    "\n",
    "df = prepare_coords_data(config.coords_folder, use_ext=config.use_ext)\n",
    "\n",
    "folds = pd.read_csv(config.folds_file)\n",
    "df = df.merge(folds, how=\"left\")\n",
    "df['fold'] = df['fold'].fillna(-1)"
   ]
  },
  {
   "cell_type": "code",
   "execution_count": null,
   "id": "903f63b3",
   "metadata": {},
   "outputs": [],
   "source": [
    "for fold in range(4):\n",
    "\n",
    "    model_fct = define_model\n",
    "    if hasattr(config, \"use_decoder\"):\n",
    "        if config.use_decoder:\n",
    "            model_fct = define_model_dec\n",
    "\n",
    "    model = model_fct(\n",
    "        config.name,\n",
    "        drop_rate=config.drop_rate,\n",
    "        drop_path_rate=config.drop_path_rate,\n",
    "        pooling=config.pooling if hasattr(config, \"pooling\") else \"avg\",\n",
    "        head_3d=config.head_3d,\n",
    "        n_frames=config.n_frames,\n",
    "        num_classes=config.num_classes,\n",
    "        num_classes_aux=config.num_classes_aux,\n",
    "        n_channels=config.n_channels,\n",
    "        reduce_stride=config.reduce_stride,\n",
    "        pretrained=False,\n",
    "    )\n",
    "    model = model.cuda().eval()\n",
    "\n",
    "    weights = EXP_FOLDER + f\"{config.name}_{fold}.pt\"\n",
    "    try:\n",
    "        model = load_model_weights(model, weights, verbose=config.local_rank == 0)\n",
    "    except FileNotFoundError:\n",
    "        continue\n",
    "\n",
    "    df_val = df[df['fold'] == fold].reset_index(drop=True)\n",
    "    dataset = CoordsDataset(df_val, transforms=get_transfos(augment=False, resize=config.resize, use_keypoints=True))\n",
    "\n",
    "    preds, _ = predict(model, dataset, config.loss_config, batch_size=32, use_fp16=True)\n",
    "\n",
    "    np.save(EXP_FOLDER + f\"pred_inf_{fold}.npy\", preds)"
   ]
  },
  {
   "cell_type": "markdown",
   "id": "ce921ddc",
   "metadata": {},
   "source": [
    "### Eval"
   ]
  },
  {
   "cell_type": "code",
   "execution_count": null,
   "id": "29e1507d",
   "metadata": {},
   "outputs": [],
   "source": [
    "PLOT = False"
   ]
  },
  {
   "cell_type": "code",
   "execution_count": null,
   "id": "2db78c36",
   "metadata": {},
   "outputs": [],
   "source": [
    "df_gt = prepare_data()\n",
    "df_sev = prepare_data_crop(DATA_PATH)"
   ]
  },
  {
   "cell_type": "code",
   "execution_count": null,
   "id": "7bbea599",
   "metadata": {},
   "outputs": [],
   "source": [
    "ds = []\n",
    "df_ = prepare_data()\n",
    "\n",
    "for fold in range(4):\n",
    "    preds = np.load(EXP_FOLDER + f\"pred_inf_{fold}.npy\")\n",
    "    df_val = df[df['fold'] == fold].reset_index(drop=True)\n",
    "    \n",
    "    dataset = CoordsDataset(df_val, transforms=get_transfos(augment=False, use_keypoints=True))\n",
    "\n",
    "    for idx in tqdm(range(len(dataset))):\n",
    "        study = df_val['study_id'][idx]\n",
    "        series = df_val['series_id'][idx]\n",
    "\n",
    "        img, y, _ = dataset[idx]\n",
    "        labels = np.vstack(df_sev[df_sev['series_id'] == series].sort_values('level')['target'].values)\n",
    "\n",
    "        gt = df_gt[df_gt['series_id'] == series]\n",
    "        imgs = np.load(f'../input/npy2/{study}_{series}.npy')\n",
    "\n",
    "        frame = len(imgs) // 2\n",
    "        img = imgs[frame]\n",
    "        img = (img - img.min()) / (img.max() - img.min())\n",
    "\n",
    "        spinenet_coords = None\n",
    "        p_ = preds[idx].reshape(-1, 2)\n",
    "        p = preds[idx].reshape(-1, 2)\n",
    "\n",
    "        # p = fix_predictions(p, y.numpy())\n",
    "        p_ = p.copy()\n",
    "\n",
    "        d = np.abs(p - y.numpy()) * 100\n",
    "        d = d[y.sum(-1) > 0].mean()\n",
    "        ds.append(d)\n",
    "\n",
    "        if PLOT:\n",
    "            if d > 3:\n",
    "                y = y[y.sum(-1) > 0]\n",
    "                # if len(y) == 5:\n",
    "                #     continue\n",
    "\n",
    "                print(study, series)\n",
    "                print('SCS / L-NFN / R-NFN / L-SS / R-SS')\n",
    "                print(labels)\n",
    "\n",
    "                # cv2.imwrite(f'../output/fix/{study}_{series}.png', (img * 255).astype(np.uint8))\n",
    "\n",
    "                plt.figure(figsize=(8, 8))\n",
    "                plt.imshow(img, cmap=\"gray\")\n",
    "                plt.scatter(y[:, 0] * img.shape[1], y[:, 1] * img.shape[0], marker=\"x\", label=\"truth\")\n",
    "                plt.scatter(p_[:, 0] * img.shape[1], p_[:, 1] * img.shape[0], marker=\"x\", label=\"pred\")\n",
    "                if spinenet_coords is not None:\n",
    "                    plt.scatter(spinenet_coords[:, 0], spinenet_coords[:, 1], marker=\"x\", label=\"spinenet\")\n",
    "                plt.title(f'Dist = {d:.2f} - study {study} - series {series}')\n",
    "                plt.axis(False)\n",
    "                plt.legend()\n",
    "                plt.show()\n",
    "\n",
    "                print(p_[:, 0] * img.shape[1], p_[:, 1] * img.shape[0])\n",
    "\n",
    "            if idx > 50:\n",
    "                break\n",
    "    if PLOT:\n",
    "        break\n"
   ]
  },
  {
   "cell_type": "code",
   "execution_count": null,
   "id": "409e2b28",
   "metadata": {},
   "outputs": [],
   "source": [
    "print('Images with error > 5%:', (np.array(ds) > 5).sum())\n",
    "print('Images with error > 4%:', (np.array(ds) > 4).sum())\n",
    "print('Images with error > 3%:', (np.array(ds) > 3).sum())\n",
    "print('Images with error > 3%:', (np.array(ds) > 3).sum())"
   ]
  },
  {
   "cell_type": "markdown",
   "id": "c64045e0",
   "metadata": {},
   "source": [
    "### Crop\n",
    "- The following cells need to be run with `FIX = True` and `FIX = False`"
   ]
  },
  {
   "cell_type": "code",
   "execution_count": null,
   "id": "46f88900",
   "metadata": {},
   "outputs": [],
   "source": [
    "DELTA = 0.1\n",
    "\n",
    "SAVE = True\n",
    "PLOT = False\n",
    "\n",
    "FIX = True\n",
    "\n",
    "if FIX:\n",
    "    SAVE_FOLDER = f\"../input/coords_crops_{DELTA}_f/\"\n",
    "else:\n",
    "    SAVE_FOLDER = f\"../input/coords_crops_{DELTA}_2/\"\n",
    "\n",
    "os.makedirs(SAVE_FOLDER, exist_ok=True)"
   ]
  },
  {
   "cell_type": "code",
   "execution_count": null,
   "id": "186b668b-26d4-4a28-8a56-7ee622b091c3",
   "metadata": {},
   "outputs": [],
   "source": [
    "def fix_predictions(preds, y, verbose=0):\n",
    "    for i in range(len(preds)):\n",
    "        if y[i].min() < 0:\n",
    "            continue\n",
    "        elif np.abs(y[i] - preds[i]).sum() > 0.03:\n",
    "            preds[i] = y[i]\n",
    "            if verbose:\n",
    "                print(f'Fix level {LEVELS[i]}')\n",
    "    return preds"
   ]
  },
  {
   "cell_type": "code",
   "execution_count": null,
   "id": "1c0ead0a-5ffe-42ba-a198-3995a51af826",
   "metadata": {},
   "outputs": [],
   "source": [
    "config = Config(json.load(open(EXP_FOLDER + \"config.json\", \"r\")))\n",
    "\n",
    "df = prepare_coords_data(config.coords_folder, use_ext=config.use_ext)\n",
    "\n",
    "folds = pd.read_csv(config.folds_file)\n",
    "df = df.merge(folds, how=\"left\")\n",
    "df['fold'] = df['fold'].fillna(-1)"
   ]
  },
  {
   "cell_type": "code",
   "execution_count": null,
   "id": "020f0bf8",
   "metadata": {},
   "outputs": [],
   "source": [
    "for fold in range(4):\n",
    "    pred_val = np.load(EXP_FOLDER + f\"pred_inf_{fold}.npy\")\n",
    "    df_val = df[df['fold'] == fold].reset_index(drop=True)\n",
    "\n",
    "    for idx in tqdm(range(len(df_val))):\n",
    "        study_series = df_val[\"img_path\"][idx].split('/')[-1][:-4]\n",
    "        imgs_path = DATA_PATH + \"npy2/\" + study_series + \".npy\"      ###### NPY2 ??\n",
    "        imgs = np.load(imgs_path)\n",
    "        img = imgs[0]\n",
    "\n",
    "        y = df_val[\"target_rel\"][idx].copy()\n",
    "\n",
    "        preds = pred_val[idx].reshape(-1, 2).copy()\n",
    "\n",
    "        if FIX:\n",
    "            preds = fix_predictions(preds, y, verbose=0)\n",
    "\n",
    "        assert preds.min() >= 0, preds\n",
    "        assert preds.max() <= 1, preds\n",
    "\n",
    "        crops = np.concatenate([preds, preds], -1)\n",
    "        crops[:, [0, 1]] -= DELTA\n",
    "        crops[:, [2, 3]] += DELTA\n",
    "        crops = crops.clip(0, 1)\n",
    "        crops[:, [0, 2]] *= imgs.shape[2]\n",
    "        crops[:, [1, 3]] *= imgs.shape[1]\n",
    "        crops = crops.astype(int)\n",
    "\n",
    "        # print(df_val[\"series_id\"][idx])\n",
    "\n",
    "        if SAVE:\n",
    "            for i, (x0, y0, x1, y1) in enumerate(crops):\n",
    "                crop = imgs[:, y0: y1, x0: x1].copy()\n",
    "                assert crop.shape[2] > 1 and crop.shape[1] > 1\n",
    "                np.save(SAVE_FOLDER + f'{study_series}_{LEVELS_[i]}.npy', crop)\n",
    "\n",
    "        if PLOT:\n",
    "            preds[:, 0] *= imgs.shape[2]\n",
    "            preds[:, 1] *= imgs.shape[1]\n",
    "\n",
    "            y[:, 0] *= imgs.shape[2]\n",
    "            y[:, 1] *= imgs.shape[1]\n",
    "\n",
    "            plt.figure(figsize=(8, 8))\n",
    "            plt.imshow(imgs[len(imgs) // 2], cmap=\"gray\")\n",
    "            plt.scatter(preds[:, 0], preds[:, 1], marker=\"x\", label=\"center\")\n",
    "            plt.scatter(y[:, 0], y[:, 1], marker=\"x\", label=\"center gt\")\n",
    "            plt.title(study_series)\n",
    "            plt.axis(False)\n",
    "            plt.legend()\n",
    "            plt.show()\n",
    "\n",
    "\n",
    "            break"
   ]
  },
  {
   "cell_type": "markdown",
   "id": "a41ca4c4",
   "metadata": {},
   "source": [
    "Done"
   ]
  }
 ],
 "metadata": {
  "kernelspec": {
   "display_name": "Python 3 (ipykernel)",
   "language": "python",
   "name": "python3"
  },
  "language_info": {
   "codemirror_mode": {
    "name": "ipython",
    "version": 3
   },
   "file_extension": ".py",
   "mimetype": "text/x-python",
   "name": "python",
   "nbconvert_exporter": "python",
   "pygments_lexer": "ipython3",
   "version": "3.10.12"
  },
  "papermill": {
   "default_parameters": {},
   "duration": 6677.910014,
   "end_time": "2023-08-12T17:53:47.148086",
   "environment_variables": {},
   "exception": null,
   "input_path": "__notebook__.ipynb",
   "output_path": "__notebook__.ipynb",
   "parameters": {},
   "start_time": "2023-08-12T16:02:29.238072",
   "version": "2.4.0"
  }
 },
 "nbformat": 4,
 "nbformat_minor": 5
}
