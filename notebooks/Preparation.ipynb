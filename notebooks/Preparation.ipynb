{
 "cells": [
  {
   "cell_type": "code",
   "execution_count": null,
   "id": "bcdba2f6",
   "metadata": {},
   "outputs": [],
   "source": [
    "%load_ext autoreload\n",
    "%autoreload 2"
   ]
  },
  {
   "cell_type": "code",
   "execution_count": null,
   "id": "778ee744",
   "metadata": {},
   "outputs": [],
   "source": [
    "cd ../src/"
   ]
  },
  {
   "cell_type": "code",
   "execution_count": null,
   "id": "67252469",
   "metadata": {
    "papermill": {
     "duration": 18.507433,
     "end_time": "2023-08-12T16:03:00.504694",
     "exception": false,
     "start_time": "2023-08-12T16:02:41.997261",
     "status": "completed"
    },
    "tags": []
   },
   "outputs": [],
   "source": [
    "# !pip install -qU python-gdcm pydicom pylibjpeg"
   ]
  },
  {
   "cell_type": "code",
   "execution_count": null,
   "id": "9c233023",
   "metadata": {
    "_cell_guid": "b1076dfc-b9ad-4769-8c92-a6c4dae69d19",
    "_uuid": "8f2839f25d086af736a60e9eeb907d3b93b6e0e5",
    "papermill": {
     "duration": 2.317669,
     "end_time": "2023-08-12T16:03:02.827155",
     "exception": false,
     "start_time": "2023-08-12T16:03:00.509486",
     "status": "completed"
    },
    "tags": []
   },
   "outputs": [],
   "source": [
    "import os\n",
    "import cv2\n",
    "import glob\n",
    "import gdcm\n",
    "import pydicom\n",
    "import zipfile\n",
    "import numpy as np\n",
    "import pandas as pd\n",
    "import seaborn as sns\n",
    "import matplotlib.pyplot as plt\n",
    "\n",
    "from collections import Counter\n",
    "from tqdm.notebook import tqdm\n",
    "from joblib import Parallel, delayed"
   ]
  },
  {
   "cell_type": "code",
   "execution_count": null,
   "id": "c35ff015",
   "metadata": {
    "papermill": {
     "duration": 0.201959,
     "end_time": "2023-08-12T16:03:03.057357",
     "exception": false,
     "start_time": "2023-08-12T16:03:02.855398",
     "status": "completed"
    },
    "tags": []
   },
   "outputs": [],
   "source": [
    "DATA_PATH = \"../input/train_images/\"\n",
    "\n",
    "print('Number of training patients :', len(os.listdir(DATA_PATH)))"
   ]
  },
  {
   "cell_type": "code",
   "execution_count": null,
   "id": "ef62801d",
   "metadata": {},
   "outputs": [],
   "source": [
    "df = pd.read_csv('../input/train_series_descriptions.csv')\n",
    "df[\"orient\"] = df[\"series_description\"].apply(lambda x: x.split()[0])\n",
    "df[\"weighting\"] = df[\"series_description\"].apply(lambda x: x.split()[1])"
   ]
  },
  {
   "cell_type": "code",
   "execution_count": null,
   "id": "79a2cd4a",
   "metadata": {},
   "outputs": [],
   "source": [
    "SAVE_FOLDER = \"../input/npy2/\"\n",
    "os.makedirs(SAVE_FOLDER, exist_ok=True)"
   ]
  },
  {
   "cell_type": "code",
   "execution_count": null,
   "id": "a5501c11",
   "metadata": {},
   "outputs": [],
   "source": [
    "from inference.processing import process_2\n",
    "\n",
    "def process_and_save(study, series, orient, data_path, save_folder=\"\"):\n",
    "    imgs, df_series = process_2(int(study), int(series), orient, data_path=data_path)\n",
    "    \n",
    "    if save_folder:\n",
    "        np.save(save_folder + f\"{study}_{series}.npy\", imgs)\n",
    "\n",
    "    return {\n",
    "        \"study_id\": study,\n",
    "        \"series_id\": series,\n",
    "        \"frames\": df_series.instance_number.values.tolist(),\n",
    "    }"
   ]
  },
  {
   "cell_type": "code",
   "execution_count": null,
   "id": "5dda3186",
   "metadata": {},
   "outputs": [],
   "source": [
    "offsets = Parallel(n_jobs=16)(\n",
    "    delayed(process_and_save)(\n",
    "        df['study_id'][i],\n",
    "        df['series_id'][i],\n",
    "        df['orient'][i],\n",
    "        DATA_PATH,\n",
    "        SAVE_FOLDER\n",
    "    ) for i in tqdm(range(len(df)))\n",
    ")"
   ]
  },
  {
   "cell_type": "code",
   "execution_count": null,
   "id": "6e803c98",
   "metadata": {},
   "outputs": [],
   "source": [
    "df_frames = pd.DataFrame(offsets)\n",
    "df_frames.to_csv('../input/df_frames.csv', index=False)"
   ]
  },
  {
   "cell_type": "code",
   "execution_count": null,
   "id": "7fa2f486",
   "metadata": {},
   "outputs": [],
   "source": [
    "for i in range(3):\n",
    "    study = df['study_id'][i]\n",
    "    series = df['series_id'][i]\n",
    "\n",
    "    imgs = np.load(SAVE_FOLDER + f\"{study}_{series}.npy\")\n",
    "\n",
    "    for i in range(len(imgs)):\n",
    "        img = imgs[i]\n",
    "        if not (i % (len(imgs) // 5 + 1)):\n",
    "        # if i > 40:\n",
    "            plt.figure(figsize=(5, 5))\n",
    "            plt.imshow(img, cmap=\"gray\")\n",
    "            plt.title(\n",
    "                f\"Study {study} - Series {series} - Frame {i}/{len(imgs)} - Shape {img.shape}\"\n",
    "            )\n",
    "            plt.show()\n",
    "\n",
    "    # break\n",
    "\n",
    "    break"
   ]
  },
  {
   "cell_type": "markdown",
   "id": "ef1bf707",
   "metadata": {
    "papermill": {
     "duration": 0.041661,
     "end_time": "2023-08-12T17:53:44.042540",
     "exception": false,
     "start_time": "2023-08-12T17:53:44.000879",
     "status": "completed"
    },
    "tags": []
   },
   "source": [
    "Done ! "
   ]
  }
 ],
 "metadata": {
  "kernelspec": {
   "display_name": "Python 3 (ipykernel)",
   "language": "python",
   "name": "python3"
  },
  "language_info": {
   "codemirror_mode": {
    "name": "ipython",
    "version": 3
   },
   "file_extension": ".py",
   "mimetype": "text/x-python",
   "name": "python",
   "nbconvert_exporter": "python",
   "pygments_lexer": "ipython3",
   "version": "3.10.12"
  },
  "papermill": {
   "default_parameters": {},
   "duration": 6677.910014,
   "end_time": "2023-08-12T17:53:47.148086",
   "environment_variables": {},
   "exception": null,
   "input_path": "__notebook__.ipynb",
   "output_path": "__notebook__.ipynb",
   "parameters": {},
   "start_time": "2023-08-12T16:02:29.238072",
   "version": "2.4.0"
  }
 },
 "nbformat": 4,
 "nbformat_minor": 5
}
