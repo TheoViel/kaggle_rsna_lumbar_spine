{
 "cells": [
  {
   "cell_type": "code",
   "execution_count": null,
   "id": "6c7f35ea",
   "metadata": {
    "execution": {
     "iopub.execute_input": "2023-08-12T16:02:42.004572Z",
     "iopub.status.busy": "2023-08-12T16:02:42.004079Z",
     "iopub.status.idle": "2023-08-12T16:03:00.501413Z",
     "shell.execute_reply": "2023-08-12T16:03:00.499902Z"
    },
    "papermill": {
     "duration": 18.507433,
     "end_time": "2023-08-12T16:03:00.504694",
     "exception": false,
     "start_time": "2023-08-12T16:02:41.997261",
     "status": "completed"
    },
    "tags": []
   },
   "outputs": [],
   "source": [
    "# !pip install -qU python-gdcm pydicom pylibjpeg"
   ]
  },
  {
   "cell_type": "code",
   "execution_count": null,
   "id": "68e6ad4e",
   "metadata": {
    "_cell_guid": "b1076dfc-b9ad-4769-8c92-a6c4dae69d19",
    "_uuid": "8f2839f25d086af736a60e9eeb907d3b93b6e0e5",
    "execution": {
     "iopub.execute_input": "2023-08-12T16:03:00.516834Z",
     "iopub.status.busy": "2023-08-12T16:03:00.516342Z",
     "iopub.status.idle": "2023-08-12T16:03:02.824246Z",
     "shell.execute_reply": "2023-08-12T16:03:02.823119Z"
    },
    "papermill": {
     "duration": 2.317669,
     "end_time": "2023-08-12T16:03:02.827155",
     "exception": false,
     "start_time": "2023-08-12T16:03:00.509486",
     "status": "completed"
    },
    "tags": []
   },
   "outputs": [],
   "source": [
    "import os\n",
    "import cv2\n",
    "import glob\n",
    "import gdcm\n",
    "import pydicom\n",
    "import zipfile\n",
    "import numpy as np\n",
    "import pandas as pd\n",
    "import seaborn as sns\n",
    "import matplotlib.pyplot as plt\n",
    "\n",
    "from collections import Counter\n",
    "from tqdm.notebook import tqdm\n",
    "from joblib import Parallel, delayed\n",
    "# from pydicom.pixel_data_handlers.util import apply_voi_lut"
   ]
  },
  {
   "cell_type": "code",
   "execution_count": null,
   "id": "d93dded5",
   "metadata": {
    "execution": {
     "iopub.execute_input": "2023-08-12T16:03:02.862193Z",
     "iopub.status.busy": "2023-08-12T16:03:02.861705Z",
     "iopub.status.idle": "2023-08-12T16:03:03.054671Z",
     "shell.execute_reply": "2023-08-12T16:03:03.053577Z"
    },
    "papermill": {
     "duration": 0.201959,
     "end_time": "2023-08-12T16:03:03.057357",
     "exception": false,
     "start_time": "2023-08-12T16:03:02.855398",
     "status": "completed"
    },
    "tags": []
   },
   "outputs": [],
   "source": [
    "TRAIN_PATH = \"../input/train_images/\"\n",
    "\n",
    "print('Number of training patients :', len(os.listdir(TRAIN_PATH)))"
   ]
  },
  {
   "cell_type": "code",
   "execution_count": null,
   "id": "afe834c7",
   "metadata": {},
   "outputs": [],
   "source": [
    "def auto_windowing(img):\n",
    "    \"\"\"\n",
    "    Applies automated windowing to the 1st and 99th percentiles.\n",
    "\n",
    "    Args:\n",
    "        img (np array): Image.\n",
    "\n",
    "    Returns:\n",
    "        np uint8 array: Windowed image.\n",
    "    \"\"\"\n",
    "    pixels = img.flatten()\n",
    "    pixels = pixels[pixels > 0]\n",
    "    pixels = pixels[pixels < pixels.max()]\n",
    "\n",
    "    start = np.percentile(pixels, 2)\n",
    "    end = np.percentile(pixels, 99.8)\n",
    "\n",
    "    img = np.clip(img, start, end)\n",
    "    img = img.astype(float)\n",
    "\n",
    "    img = img - np.min(img)\n",
    "    img = img / np.max(img)\n",
    "    img = (img * 255).astype(np.uint8)\n",
    "\n",
    "    return img, (start, end)"
   ]
  },
  {
   "cell_type": "code",
   "execution_count": null,
   "id": "38ff78a7",
   "metadata": {},
   "outputs": [],
   "source": [
    "df = pd.read_csv('../input/train_series_descriptions.csv')\n",
    "\n",
    "df[\"orient\"] = df[\"series_description\"].apply(lambda x: x.split()[0])\n",
    "df[\"weighting\"] = df[\"series_description\"].apply(lambda x: x.split()[1])"
   ]
  },
  {
   "cell_type": "code",
   "execution_count": null,
   "id": "097078a7",
   "metadata": {},
   "outputs": [],
   "source": [
    "# dfg = df[[\"study_id\", \"orient\", \"weighting\"]].groupby('study_id').agg(list)\n",
    "# dfg"
   ]
  },
  {
   "cell_type": "code",
   "execution_count": null,
   "id": "54b3c673",
   "metadata": {},
   "outputs": [],
   "source": [
    "# (dfg['weighting'].apply(lambda x: len(x))).all()\n",
    "# (dfg['orient'].apply(lambda x: len(x))).value_counts()"
   ]
  },
  {
   "cell_type": "code",
   "execution_count": null,
   "id": "88c40487",
   "metadata": {},
   "outputs": [],
   "source": [
    "SAVE_FOLDER = \"../input/npy/\"\n",
    "os.makedirs(SAVE_FOLDER, exist_ok=True)\n",
    "\n",
    "SAVE = True\n",
    "PLOT = False"
   ]
  },
  {
   "cell_type": "code",
   "execution_count": null,
   "id": "c06084c9",
   "metadata": {
    "execution": {
     "iopub.execute_input": "2023-08-12T16:03:03.070691Z",
     "iopub.status.busy": "2023-08-12T16:03:03.069503Z",
     "iopub.status.idle": "2023-08-12T16:03:07.478242Z",
     "shell.execute_reply": "2023-08-12T16:03:07.476925Z"
    },
    "papermill": {
     "duration": 4.420138,
     "end_time": "2023-08-12T16:03:07.482746",
     "exception": false,
     "start_time": "2023-08-12T16:03:03.062608",
     "status": "completed"
    },
    "tags": []
   },
   "outputs": [],
   "source": [
    "offsets = []\n",
    "for study in tqdm(sorted(os.listdir(TRAIN_PATH))):\n",
    "    df_study = df[df[\"study_id\"] == int(study)]\n",
    "    for series in os.listdir(TRAIN_PATH + study):\n",
    "        # if os.path.exists(SAVE_FOLDER + f\"{study}_{series}.npy\"):\n",
    "        #     continue\n",
    "        # if series != \"813259065\":\n",
    "        #     continue\n",
    "\n",
    "        df_series = df_study[df_study[\"series_id\"] == int(series)]\n",
    "        orient, t = df_series[\"series_description\"].values[0].split(\" \")\n",
    "\n",
    "        folder = TRAIN_PATH + f\"{study}/{series}/\"\n",
    "        files = os.listdir(folder)\n",
    "        files.sort(key=lambda x: int(x[:-4]))\n",
    "\n",
    "        imgs = {}\n",
    "        for frame, file in enumerate(files):\n",
    "            dicom = pydicom.dcmread(folder + file)\n",
    "\n",
    "            # Retrieve frame order\n",
    "            pos = int(file.split(\"/\")[-1][:-4])\n",
    "            # print(dicom[(0x20, 0x32)])\n",
    "            if orient == \"Axial\":\n",
    "                pos = -dicom[(0x20, 0x32)].value[-1]  \n",
    "            else:  # Sagittal\n",
    "                pos = dicom[(0x20, 0x32)].value[0]\n",
    "\n",
    "            img = dicom.pixel_array\n",
    "\n",
    "            if dicom.PhotometricInterpretation == \"MONOCHROME1\":\n",
    "                print(\"inv\")\n",
    "                img = 1 - img\n",
    "\n",
    "            try:\n",
    "                _ = imgs[pos]\n",
    "                print(f\"Pos {pos} is already in keys\")\n",
    "                imgs[pos + 0.1] = img  # pos is the same, offset by 0.1\n",
    "            except KeyError:\n",
    "                imgs[pos] = img\n",
    "\n",
    "        assert len(imgs) == len(files), \"Missing frames!\"\n",
    "\n",
    "        order = np.argsort(list(imgs.keys()))\n",
    "        offsets.append(\n",
    "            {\n",
    "                \"study_id\": study,\n",
    "                \"series_id\": series,\n",
    "                \"frames\": [int(f[:-4]) for f in np.array(files)[order]],\n",
    "            }\n",
    "        )\n",
    "\n",
    "        try:\n",
    "            imgs = np.array([img for k, img in sorted(imgs.items())])\n",
    "        except:\n",
    "            imgs = [img for k, img in sorted(imgs.items())]\n",
    "\n",
    "            shapes = Counter([img.shape for img in imgs])\n",
    "            shape = shapes.most_common()[0][0]\n",
    "            print(\"Different shapes:\", shapes, f\"resize to {shape}\")\n",
    "\n",
    "            imgs = np.array(\n",
    "                [cv2.resize(img, shape) if img.shape != shape else img for img in imgs]\n",
    "            )\n",
    "\n",
    "        if SAVE:\n",
    "            np.save(SAVE_FOLDER + f\"{study}_{series}.npy\", imgs)\n",
    "\n",
    "        if PLOT:\n",
    "            for i in range(len(imgs)):\n",
    "                img = imgs[i]\n",
    "                # if not (i % (len(imgs) // 5 + 1)):\n",
    "\n",
    "                if i > 40:\n",
    "                    plt.figure(figsize=(5, 5))\n",
    "                    plt.imshow(img, cmap=\"gray\")\n",
    "                    plt.title(\n",
    "                        f\"Study {study} - Series {series} - Frame {i}/{len(imgs)} - Shape {img.shape}\"\n",
    "                    )\n",
    "                    plt.show()\n",
    "\n",
    "            # break\n",
    "\n",
    "    if PLOT:\n",
    "        break"
   ]
  },
  {
   "cell_type": "code",
   "execution_count": null,
   "id": "93bdb527",
   "metadata": {},
   "outputs": [],
   "source": [
    "df_frames = pd.DataFrame(offsets)\n",
    "df_frames.to_csv('../input/df_frames.csv', index=False)"
   ]
  },
  {
   "cell_type": "code",
   "execution_count": null,
   "id": "8f78211c",
   "metadata": {},
   "outputs": [],
   "source": [
    "# folder = \"../input/train_images/1644528034/2456924377/\"\n",
    "# folder = \"../input/train_images/2794192602/2916494105/\"\n",
    "# folder = \"../input/train_images/2794192602/1829533928/\"\n",
    "# folder = \"../input/train_images/2794192602/1843512620/\"\n",
    "# folder = \"../input/train_images/3303545110/304087230/\"\n",
    "# folder = \"../input/train_images/642715533/3541751675/\"\n",
    "\n",
    "# files = os.listdir(folder)\n",
    "# files.sort(key=lambda x:int(x[:-4]))\n",
    "# files"
   ]
  },
  {
   "cell_type": "markdown",
   "id": "69fba74b",
   "metadata": {
    "papermill": {
     "duration": 0.041661,
     "end_time": "2023-08-12T17:53:44.042540",
     "exception": false,
     "start_time": "2023-08-12T17:53:44.000879",
     "status": "completed"
    },
    "tags": []
   },
   "source": [
    "Done ! "
   ]
  }
 ],
 "metadata": {
  "kernelspec": {
   "display_name": "Python 3",
   "language": "python",
   "name": "python3"
  },
  "language_info": {
   "codemirror_mode": {
    "name": "ipython",
    "version": 3
   },
   "file_extension": ".py",
   "mimetype": "text/x-python",
   "name": "python",
   "nbconvert_exporter": "python",
   "pygments_lexer": "ipython3",
   "version": "3.10.12"
  },
  "papermill": {
   "default_parameters": {},
   "duration": 6677.910014,
   "end_time": "2023-08-12T17:53:47.148086",
   "environment_variables": {},
   "exception": null,
   "input_path": "__notebook__.ipynb",
   "output_path": "__notebook__.ipynb",
   "parameters": {},
   "start_time": "2023-08-12T16:02:29.238072",
   "version": "2.4.0"
  }
 },
 "nbformat": 4,
 "nbformat_minor": 5
}
