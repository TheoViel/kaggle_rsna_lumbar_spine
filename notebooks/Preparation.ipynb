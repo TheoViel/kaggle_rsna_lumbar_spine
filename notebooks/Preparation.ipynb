{
 "cells": [
  {
   "cell_type": "code",
   "execution_count": 1,
   "id": "bcdba2f6",
   "metadata": {},
   "outputs": [],
   "source": [
    "%load_ext autoreload\n",
    "%autoreload 2"
   ]
  },
  {
   "cell_type": "code",
   "execution_count": 2,
   "id": "778ee744",
   "metadata": {},
   "outputs": [
    {
     "name": "stdout",
     "output_type": "stream",
     "text": [
      "/workspace/kaggle_rsna_lumbar_spine/src\n"
     ]
    }
   ],
   "source": [
    "cd ../src/"
   ]
  },
  {
   "cell_type": "code",
   "execution_count": 3,
   "id": "67252469",
   "metadata": {
    "papermill": {
     "duration": 18.507433,
     "end_time": "2023-08-12T16:03:00.504694",
     "exception": false,
     "start_time": "2023-08-12T16:02:41.997261",
     "status": "completed"
    },
    "tags": []
   },
   "outputs": [],
   "source": [
    "# !pip install -qU python-gdcm pydicom pylibjpeg"
   ]
  },
  {
   "cell_type": "code",
   "execution_count": 19,
   "id": "9c233023",
   "metadata": {
    "_cell_guid": "b1076dfc-b9ad-4769-8c92-a6c4dae69d19",
    "_uuid": "8f2839f25d086af736a60e9eeb907d3b93b6e0e5",
    "papermill": {
     "duration": 2.317669,
     "end_time": "2023-08-12T16:03:02.827155",
     "exception": false,
     "start_time": "2023-08-12T16:03:00.509486",
     "status": "completed"
    },
    "tags": []
   },
   "outputs": [],
   "source": [
    "import os\n",
    "import cv2\n",
    "import glob\n",
    "import gdcm\n",
    "import pydicom\n",
    "import zipfile\n",
    "import numpy as np\n",
    "import pandas as pd\n",
    "import seaborn as sns\n",
    "import matplotlib.pyplot as plt\n",
    "\n",
    "from collections import Counter\n",
    "from tqdm import tqdm\n",
    "from joblib import Parallel, delayed\n",
    "# from pydicom.pixel_data_handlers.util import apply_voi_lut"
   ]
  },
  {
   "cell_type": "code",
   "execution_count": 20,
   "id": "c35ff015",
   "metadata": {
    "papermill": {
     "duration": 0.201959,
     "end_time": "2023-08-12T16:03:03.057357",
     "exception": false,
     "start_time": "2023-08-12T16:03:02.855398",
     "status": "completed"
    },
    "tags": []
   },
   "outputs": [
    {
     "name": "stdout",
     "output_type": "stream",
     "text": [
      "Number of training patients : 1975\n"
     ]
    }
   ],
   "source": [
    "DATA_PATH = \"../input/train_images/\"\n",
    "\n",
    "print('Number of training patients :', len(os.listdir(DATA_PATH)))"
   ]
  },
  {
   "cell_type": "code",
   "execution_count": 21,
   "id": "ef62801d",
   "metadata": {},
   "outputs": [],
   "source": [
    "df = pd.read_csv('../input/train_series_descriptions.csv')\n",
    "\n",
    "df[\"orient\"] = df[\"series_description\"].apply(lambda x: x.split()[0])\n",
    "df[\"weighting\"] = df[\"series_description\"].apply(lambda x: x.split()[1])"
   ]
  },
  {
   "cell_type": "code",
   "execution_count": 22,
   "id": "5c129ea1",
   "metadata": {},
   "outputs": [],
   "source": [
    "# dfg = df[[\"study_id\", \"orient\", \"weighting\"]].groupby('study_id').agg(list)\n",
    "# dfg"
   ]
  },
  {
   "cell_type": "code",
   "execution_count": 23,
   "id": "71496796",
   "metadata": {},
   "outputs": [],
   "source": [
    "# (dfg['weighting'].apply(lambda x: len(x))).all()\n",
    "# (dfg['orient'].apply(lambda x: len(x))).value_counts()"
   ]
  },
  {
   "cell_type": "code",
   "execution_count": 24,
   "id": "79a2cd4a",
   "metadata": {},
   "outputs": [],
   "source": [
    "SAVE_FOLDER = \"../input/npy2/\"\n",
    "os.makedirs(SAVE_FOLDER, exist_ok=True)\n",
    "\n",
    "SAVE = True\n",
    "PLOT = False"
   ]
  },
  {
   "cell_type": "code",
   "execution_count": 25,
   "id": "a5501c11",
   "metadata": {},
   "outputs": [],
   "source": [
    "from inference.processing import process_2"
   ]
  },
  {
   "cell_type": "code",
   "execution_count": 26,
   "id": "5dda3186",
   "metadata": {},
   "outputs": [
    {
     "name": "stderr",
     "output_type": "stream",
     "text": [
      "  4%|▍         | 86/1975 [01:32<37:58,  1.21s/it]  "
     ]
    },
    {
     "name": "stdout",
     "output_type": "stream",
     "text": [
      "Different shapes: Counter({(640, 640): 26, (608, 608): 24}) resize to (640, 640) - Axial\n"
     ]
    },
    {
     "name": "stderr",
     "output_type": "stream",
     "text": [
      "  7%|▋         | 130/1975 [02:22<31:12,  1.01s/it]"
     ]
    },
    {
     "name": "stdout",
     "output_type": "stream",
     "text": [
      "Different shapes: Counter({(640, 640): 26, (608, 608): 23}) resize to (640, 640) - Axial\n"
     ]
    },
    {
     "name": "stderr",
     "output_type": "stream",
     "text": [
      "  7%|▋         | 140/1975 [02:32<30:13,  1.01it/s]"
     ]
    },
    {
     "name": "stdout",
     "output_type": "stream",
     "text": [
      "Different shapes: Counter({(640, 640): 23, (608, 608): 22}) resize to (640, 640) - Axial\n"
     ]
    },
    {
     "name": "stderr",
     "output_type": "stream",
     "text": [
      " 14%|█▎        | 268/1975 [04:37<27:23,  1.04it/s]"
     ]
    },
    {
     "name": "stdout",
     "output_type": "stream",
     "text": [
      "Different shapes: Counter({(640, 640): 29, (608, 608): 21}) resize to (640, 640) - Axial\n"
     ]
    },
    {
     "name": "stderr",
     "output_type": "stream",
     "text": [
      " 14%|█▎        | 270/1975 [04:41<41:54,  1.47s/it]"
     ]
    },
    {
     "name": "stdout",
     "output_type": "stream",
     "text": [
      "Different shapes: Counter({(640, 640): 24, (608, 608): 23}) resize to (640, 640) - Axial\n"
     ]
    },
    {
     "name": "stderr",
     "output_type": "stream",
     "text": [
      " 15%|█▌        | 301/1975 [05:09<23:11,  1.20it/s]"
     ]
    },
    {
     "name": "stdout",
     "output_type": "stream",
     "text": [
      "Different shapes: Counter({(608, 608): 28, (640, 640): 24}) resize to (608, 608) - Axial\n"
     ]
    },
    {
     "name": "stderr",
     "output_type": "stream",
     "text": [
      " 24%|██▍       | 482/1975 [08:21<27:36,  1.11s/it]"
     ]
    },
    {
     "name": "stdout",
     "output_type": "stream",
     "text": [
      "Different shapes: Counter({(640, 640): 26, (608, 608): 25}) resize to (640, 640) - Axial\n"
     ]
    },
    {
     "name": "stderr",
     "output_type": "stream",
     "text": [
      " 25%|██▍       | 491/1975 [08:34<38:35,  1.56s/it]"
     ]
    },
    {
     "name": "stdout",
     "output_type": "stream",
     "text": [
      "Different shapes: Counter({(640, 640): 22, (608, 608): 21}) resize to (640, 640) - Axial\n"
     ]
    },
    {
     "name": "stderr",
     "output_type": "stream",
     "text": [
      " 25%|██▍       | 493/1975 [08:39<47:17,  1.91s/it]"
     ]
    },
    {
     "name": "stdout",
     "output_type": "stream",
     "text": [
      "Different shapes: Counter({(608, 608): 16, (640, 640): 16}) resize to (608, 608) - Axial\n"
     ]
    },
    {
     "name": "stderr",
     "output_type": "stream",
     "text": [
      " 27%|██▋       | 539/1975 [09:28<26:50,  1.12s/it]"
     ]
    },
    {
     "name": "stdout",
     "output_type": "stream",
     "text": [
      "Different shapes: Counter({(640, 640): 26, (608, 608): 21}) resize to (640, 640) - Axial\n"
     ]
    },
    {
     "name": "stderr",
     "output_type": "stream",
     "text": [
      " 34%|███▍      | 667/1975 [11:41<30:59,  1.42s/it]"
     ]
    },
    {
     "name": "stdout",
     "output_type": "stream",
     "text": [
      "Different shapes: Counter({(608, 608): 27, (640, 640): 27}) resize to (608, 608) - Axial\n"
     ]
    },
    {
     "name": "stderr",
     "output_type": "stream",
     "text": [
      " 37%|███▋      | 734/1975 [12:52<18:29,  1.12it/s]"
     ]
    },
    {
     "name": "stdout",
     "output_type": "stream",
     "text": [
      "Different shapes: Counter({(640, 640): 26, (608, 608): 25}) resize to (640, 640) - Axial\n"
     ]
    },
    {
     "name": "stderr",
     "output_type": "stream",
     "text": [
      " 40%|████      | 790/1975 [13:51<19:20,  1.02it/s]"
     ]
    },
    {
     "name": "stdout",
     "output_type": "stream",
     "text": [
      "Different shapes: Counter({(640, 640): 27, (608, 608): 24}) resize to (640, 640) - Axial\n"
     ]
    },
    {
     "name": "stderr",
     "output_type": "stream",
     "text": [
      " 45%|████▌     | 893/1975 [15:25<14:53,  1.21it/s]"
     ]
    },
    {
     "name": "stdout",
     "output_type": "stream",
     "text": [
      "Different shapes: Counter({(608, 608): 24, (640, 640): 23}) resize to (608, 608) - Axial\n"
     ]
    },
    {
     "name": "stderr",
     "output_type": "stream",
     "text": [
      " 46%|████▌     | 907/1975 [15:39<15:58,  1.11it/s]"
     ]
    },
    {
     "name": "stdout",
     "output_type": "stream",
     "text": [
      "Different shapes: Counter({(640, 640): 25, (608, 608): 20}) resize to (640, 640) - Axial\n"
     ]
    },
    {
     "name": "stderr",
     "output_type": "stream",
     "text": [
      " 46%|████▋     | 916/1975 [15:46<12:51,  1.37it/s]"
     ]
    },
    {
     "name": "stdout",
     "output_type": "stream",
     "text": [
      "Different shapes: Counter({(640, 640): 26, (608, 608): 25}) resize to (640, 640) - Axial\n"
     ]
    },
    {
     "name": "stderr",
     "output_type": "stream",
     "text": [
      " 61%|██████    | 1209/1975 [20:50<21:26,  1.68s/it]"
     ]
    },
    {
     "name": "stdout",
     "output_type": "stream",
     "text": [
      "Different shapes: Counter({(640, 640): 25, (608, 608): 24}) resize to (640, 640) - Axial\n"
     ]
    },
    {
     "name": "stderr",
     "output_type": "stream",
     "text": [
      " 61%|██████▏   | 1213/1975 [20:54<13:35,  1.07s/it]"
     ]
    },
    {
     "name": "stdout",
     "output_type": "stream",
     "text": [
      "Different shapes: Counter({(640, 640): 28, (608, 608): 25}) resize to (640, 640) - Axial\n"
     ]
    },
    {
     "name": "stderr",
     "output_type": "stream",
     "text": [
      " 66%|██████▋   | 1309/1975 [22:32<13:54,  1.25s/it]"
     ]
    },
    {
     "name": "stdout",
     "output_type": "stream",
     "text": [
      "Different shapes: Counter({(640, 640): 20, (608, 608): 19}) resize to (640, 640) - Axial\n"
     ]
    },
    {
     "name": "stderr",
     "output_type": "stream",
     "text": [
      " 69%|██████▊   | 1357/1975 [23:19<10:29,  1.02s/it]"
     ]
    },
    {
     "name": "stdout",
     "output_type": "stream",
     "text": [
      "Different shapes: Counter({(640, 640): 26, (608, 608): 20}) resize to (640, 640) - Axial\n"
     ]
    },
    {
     "name": "stderr",
     "output_type": "stream",
     "text": [
      " 70%|███████   | 1385/1975 [23:48<09:08,  1.08it/s]"
     ]
    },
    {
     "name": "stdout",
     "output_type": "stream",
     "text": [
      "Different shapes: Counter({(640, 640): 28, (608, 608): 27}) resize to (640, 640) - Axial\n"
     ]
    },
    {
     "name": "stderr",
     "output_type": "stream",
     "text": [
      " 75%|███████▌  | 1483/1975 [25:24<09:13,  1.13s/it]"
     ]
    },
    {
     "name": "stdout",
     "output_type": "stream",
     "text": [
      "Different shapes: Counter({(640, 640): 27, (608, 608): 24}) resize to (640, 640) - Axial\n"
     ]
    },
    {
     "name": "stderr",
     "output_type": "stream",
     "text": [
      " 75%|███████▌  | 1485/1975 [25:28<12:58,  1.59s/it]"
     ]
    },
    {
     "name": "stdout",
     "output_type": "stream",
     "text": [
      "Different shapes: Counter({(640, 640): 26, (608, 608): 20}) resize to (640, 640) - Axial\n"
     ]
    },
    {
     "name": "stderr",
     "output_type": "stream",
     "text": [
      " 76%|███████▌  | 1505/1975 [25:51<09:35,  1.23s/it]"
     ]
    },
    {
     "name": "stdout",
     "output_type": "stream",
     "text": [
      "Different shapes: Counter({(640, 640): 29, (608, 608): 26}) resize to (640, 640) - Axial\n"
     ]
    },
    {
     "name": "stderr",
     "output_type": "stream",
     "text": [
      " 77%|███████▋  | 1521/1975 [26:08<10:46,  1.42s/it]"
     ]
    },
    {
     "name": "stdout",
     "output_type": "stream",
     "text": [
      "Different shapes: Counter({(608, 608): 26, (640, 640): 26}) resize to (608, 608) - Axial\n"
     ]
    },
    {
     "name": "stderr",
     "output_type": "stream",
     "text": [
      " 78%|███████▊  | 1550/1975 [26:38<08:03,  1.14s/it]"
     ]
    },
    {
     "name": "stdout",
     "output_type": "stream",
     "text": [
      "Different shapes: Counter({(640, 640): 22, (608, 608): 20}) resize to (640, 640) - Axial\n"
     ]
    },
    {
     "name": "stderr",
     "output_type": "stream",
     "text": [
      " 82%|████████▏ | 1626/1975 [27:52<06:22,  1.10s/it]"
     ]
    },
    {
     "name": "stdout",
     "output_type": "stream",
     "text": [
      "Different shapes: Counter({(608, 608): 19, (640, 640): 19}) resize to (608, 608) - Axial\n"
     ]
    },
    {
     "name": "stderr",
     "output_type": "stream",
     "text": [
      " 82%|████████▏ | 1627/1975 [27:54<08:59,  1.55s/it]"
     ]
    },
    {
     "name": "stdout",
     "output_type": "stream",
     "text": [
      "Different shapes: Counter({(608, 608): 17, (640, 640): 16}) resize to (608, 608) - Axial\n"
     ]
    },
    {
     "name": "stderr",
     "output_type": "stream",
     "text": [
      " 83%|████████▎ | 1640/1975 [28:08<05:59,  1.07s/it]"
     ]
    },
    {
     "name": "stdout",
     "output_type": "stream",
     "text": [
      "Different shapes: Counter({(640, 640): 24, (608, 608): 20}) resize to (640, 640) - Axial\n"
     ]
    },
    {
     "name": "stderr",
     "output_type": "stream",
     "text": [
      " 89%|████████▊ | 1751/1975 [29:57<03:35,  1.04it/s]"
     ]
    },
    {
     "name": "stdout",
     "output_type": "stream",
     "text": [
      "Different shapes: Counter({(640, 640): 27, (608, 608): 26}) resize to (640, 640) - Axial\n"
     ]
    },
    {
     "name": "stderr",
     "output_type": "stream",
     "text": [
      " 89%|████████▉ | 1755/1975 [30:02<04:48,  1.31s/it]"
     ]
    },
    {
     "name": "stdout",
     "output_type": "stream",
     "text": [
      "Different shapes: Counter({(640, 640): 26, (608, 608): 21}) resize to (640, 640) - Axial\n"
     ]
    },
    {
     "name": "stderr",
     "output_type": "stream",
     "text": [
      " 93%|█████████▎| 1837/1975 [31:24<01:55,  1.20it/s]"
     ]
    },
    {
     "name": "stdout",
     "output_type": "stream",
     "text": [
      "Different shapes: Counter({(640, 640): 22, (608, 608): 20}) resize to (640, 640) - Axial\n"
     ]
    },
    {
     "name": "stderr",
     "output_type": "stream",
     "text": [
      " 94%|█████████▎| 1849/1975 [31:34<01:37,  1.29it/s]"
     ]
    },
    {
     "name": "stdout",
     "output_type": "stream",
     "text": [
      "Different shapes: Counter({(640, 640): 28, (608, 608): 23}) resize to (640, 640) - Axial\n"
     ]
    },
    {
     "name": "stderr",
     "output_type": "stream",
     "text": [
      " 95%|█████████▍| 1874/1975 [32:01<02:18,  1.37s/it]"
     ]
    },
    {
     "name": "stdout",
     "output_type": "stream",
     "text": [
      "Different shapes: Counter({(640, 640): 26, (608, 608): 20}) resize to (640, 640) - Axial\n"
     ]
    },
    {
     "name": "stderr",
     "output_type": "stream",
     "text": [
      " 99%|█████████▉| 1965/1975 [33:36<00:08,  1.24it/s]"
     ]
    },
    {
     "name": "stdout",
     "output_type": "stream",
     "text": [
      "Different shapes: Counter({(640, 640): 20, (608, 608): 18}) resize to (640, 640) - Axial\n"
     ]
    },
    {
     "name": "stderr",
     "output_type": "stream",
     "text": [
      "100%|██████████| 1975/1975 [33:44<00:00,  1.03s/it]\n"
     ]
    }
   ],
   "source": [
    "offsets = []\n",
    "for study in tqdm(sorted(os.listdir(DATA_PATH))):\n",
    "    df_study = df[df[\"study_id\"] == int(study)]\n",
    "    for series in os.listdir(DATA_PATH + study):\n",
    "        # if os.path.exists(SAVE_FOLDER + f\"{study}_{series}.npy\"):\n",
    "        #     continue\n",
    "        # if series != \"813259065\":\n",
    "        #     continue\n",
    "\n",
    "        df_series = df_study[df_study[\"series_id\"] == int(series)]\n",
    "        orient, t = df_series[\"series_description\"].values[0].split(\" \")\n",
    "\n",
    "        imgs, df_series = process_2(int(study), int(series), orient, data_path=DATA_PATH, on_gpu=False)\n",
    "        \n",
    "#         break\n",
    "#     break\n",
    "        offsets.append(\n",
    "            {\n",
    "                \"study_id\": study,\n",
    "                \"series_id\": series,\n",
    "                \"frames\": df_series.instance_number.values,\n",
    "            }\n",
    "        )\n",
    "            \n",
    "\n",
    "        if SAVE:\n",
    "            np.save(SAVE_FOLDER + f\"{study}_{series}.npy\", imgs)\n",
    "\n",
    "        if PLOT:\n",
    "            for i in range(len(imgs)):\n",
    "                img = imgs[i]\n",
    "                if not (i % (len(imgs) // 5 + 1)):\n",
    "                # if i > 40:\n",
    "                    plt.figure(figsize=(5, 5))\n",
    "                    plt.imshow(img, cmap=\"gray\")\n",
    "                    plt.title(\n",
    "                        f\"Study {study} - Series {series} - Frame {i}/{len(imgs)} - Shape {img.shape}\"\n",
    "                    )\n",
    "                    plt.show()\n",
    "\n",
    "            # break\n",
    "\n",
    "#     if PLOT:\n",
    "#     break"
   ]
  },
  {
   "cell_type": "code",
   "execution_count": null,
   "id": "7fa2f486",
   "metadata": {},
   "outputs": [],
   "source": [
    "df_frames = pd.DataFrame(offsets)\n",
    "df_frames.to_csv('../input/df_frames.csv', index=False)"
   ]
  },
  {
   "cell_type": "code",
   "execution_count": null,
   "id": "bfe6eae6",
   "metadata": {
    "execution": {
     "iopub.execute_input": "2023-08-12T16:03:03.070691Z",
     "iopub.status.busy": "2023-08-12T16:03:03.069503Z",
     "iopub.status.idle": "2023-08-12T16:03:07.478242Z",
     "shell.execute_reply": "2023-08-12T16:03:07.476925Z"
    },
    "papermill": {
     "duration": 4.420138,
     "end_time": "2023-08-12T16:03:07.482746",
     "exception": false,
     "start_time": "2023-08-12T16:03:03.062608",
     "status": "completed"
    },
    "tags": []
   },
   "outputs": [],
   "source": [
    "offsets = []\n",
    "for study in tqdm(sorted(os.listdir(TRAIN_PATH))):\n",
    "    df_study = df[df[\"study_id\"] == int(study)]\n",
    "    for series in os.listdir(TRAIN_PATH + study):\n",
    "        # if os.path.exists(SAVE_FOLDER + f\"{study}_{series}.npy\"):\n",
    "        #     continue\n",
    "        # if series != \"813259065\":\n",
    "        #     continue\n",
    "\n",
    "        df_series = df_study[df_study[\"series_id\"] == int(series)]\n",
    "        orient, t = df_series[\"series_description\"].values[0].split(\" \")\n",
    "\n",
    "        folder = TRAIN_PATH + f\"{study}/{series}/\"\n",
    "        files = os.listdir(folder)\n",
    "        files.sort(key=lambda x: int(x[:-4]))\n",
    "\n",
    "        imgs = {}\n",
    "        for frame, file in enumerate(files):\n",
    "            dicom = pydicom.dcmread(folder + file)\n",
    "\n",
    "            # Retrieve frame order\n",
    "            pos = int(file.split(\"/\")[-1][:-4])\n",
    "            # print(dicom[(0x20, 0x32)])\n",
    "            if orient == \"Axial\":\n",
    "                pos = -dicom[(0x20, 0x32)].value[-1]  \n",
    "            else:  # Sagittal\n",
    "                pos = dicom[(0x20, 0x32)].value[0]\n",
    "\n",
    "            img = dicom.pixel_array\n",
    "\n",
    "            if dicom.PhotometricInterpretation == \"MONOCHROME1\":\n",
    "                print(\"inv\")\n",
    "                img = 1 - img\n",
    "\n",
    "            try:\n",
    "                _ = imgs[pos]\n",
    "                print(f\"Pos {pos} is already in keys\")\n",
    "                imgs[pos + 0.1] = img  # pos is the same, offset by 0.1\n",
    "            except KeyError:\n",
    "                imgs[pos] = img\n",
    "\n",
    "        assert len(imgs) == len(files), \"Missing frames!\"\n",
    "\n",
    "        order = np.argsort(list(imgs.keys()))\n",
    "        offsets.append(\n",
    "            {\n",
    "                \"study_id\": study,\n",
    "                \"series_id\": series,\n",
    "                \"frames\": [int(f[:-4]) for f in np.array(files)[order]],\n",
    "            }\n",
    "        )\n",
    "\n",
    "        try:\n",
    "            imgs = np.array([img for k, img in sorted(imgs.items())])\n",
    "        except:\n",
    "            imgs = [img for k, img in sorted(imgs.items())]\n",
    "\n",
    "            shapes = Counter([img.shape for img in imgs])\n",
    "            shape = shapes.most_common()[0][0]\n",
    "            print(\"Different shapes:\", shapes, f\"resize to {shape}\")\n",
    "\n",
    "            imgs = np.array(\n",
    "                [cv2.resize(img, shape) if img.shape != shape else img for img in imgs]\n",
    "            )\n",
    "\n",
    "        if SAVE:\n",
    "            np.save(SAVE_FOLDER + f\"{study}_{series}.npy\", imgs)\n",
    "\n",
    "        if PLOT:\n",
    "            for i in range(len(imgs)):\n",
    "                img = imgs[i]\n",
    "                # if not (i % (len(imgs) // 5 + 1)):\n",
    "\n",
    "                if i > 40:\n",
    "                    plt.figure(figsize=(5, 5))\n",
    "                    plt.imshow(img, cmap=\"gray\")\n",
    "                    plt.title(\n",
    "                        f\"Study {study} - Series {series} - Frame {i}/{len(imgs)} - Shape {img.shape}\"\n",
    "                    )\n",
    "                    plt.show()\n",
    "\n",
    "            # break\n",
    "\n",
    "    if PLOT:\n",
    "        break"
   ]
  },
  {
   "cell_type": "code",
   "execution_count": 14,
   "id": "02100d9b",
   "metadata": {},
   "outputs": [],
   "source": [
    "df_frames = pd.DataFrame(offsets)\n",
    "df_frames.to_csv('../input/df_frames.csv', index=False)"
   ]
  },
  {
   "cell_type": "code",
   "execution_count": null,
   "id": "6887ba74",
   "metadata": {},
   "outputs": [],
   "source": [
    "# folder = \"../input/train_images/1644528034/2456924377/\"\n",
    "# folder = \"../input/train_images/2794192602/2916494105/\"\n",
    "# folder = \"../input/train_images/2794192602/1829533928/\"\n",
    "# folder = \"../input/train_images/2794192602/1843512620/\"\n",
    "# folder = \"../input/train_images/3303545110/304087230/\"\n",
    "# folder = \"../input/train_images/642715533/3541751675/\"\n",
    "\n",
    "# files = os.listdir(folder)\n",
    "# files.sort(key=lambda x:int(x[:-4]))\n",
    "# files"
   ]
  },
  {
   "cell_type": "markdown",
   "id": "ef1bf707",
   "metadata": {
    "papermill": {
     "duration": 0.041661,
     "end_time": "2023-08-12T17:53:44.042540",
     "exception": false,
     "start_time": "2023-08-12T17:53:44.000879",
     "status": "completed"
    },
    "tags": []
   },
   "source": [
    "Done ! "
   ]
  }
 ],
 "metadata": {
  "kernelspec": {
   "display_name": "Python 3 (ipykernel)",
   "language": "python",
   "name": "python3"
  },
  "language_info": {
   "codemirror_mode": {
    "name": "ipython",
    "version": 3
   },
   "file_extension": ".py",
   "mimetype": "text/x-python",
   "name": "python",
   "nbconvert_exporter": "python",
   "pygments_lexer": "ipython3",
   "version": "3.10.12"
  },
  "papermill": {
   "default_parameters": {},
   "duration": 6677.910014,
   "end_time": "2023-08-12T17:53:47.148086",
   "environment_variables": {},
   "exception": null,
   "input_path": "__notebook__.ipynb",
   "output_path": "__notebook__.ipynb",
   "parameters": {},
   "start_time": "2023-08-12T16:02:29.238072",
   "version": "2.4.0"
  }
 },
 "nbformat": 4,
 "nbformat_minor": 5
}
